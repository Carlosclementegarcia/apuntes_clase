{
 "cells": [
  {
   "cell_type": "markdown",
   "id": "c6df612d",
   "metadata": {},
   "source": [
    "## Clases"
   ]
  },
  {
   "cell_type": "code",
   "execution_count": 1,
   "id": "5b7b33be",
   "metadata": {},
   "outputs": [],
   "source": [
    "class Extractor:\n",
    "    \n",
    "    VAR=90\n",
    "    \n",
    "    \n",
    "    def __init__(self):\n",
    "        self.url='https://wwww.......'    # atributo\n",
    "        \n",
    "    \n",
    "    def extraer(self):\n",
    "        print(Extractor().leer_archivo('hola'))\n",
    "        return Extractor().VAR    # metodo\n",
    "    \n",
    "    \n",
    "    @staticmethod\n",
    "    def leer_archivo(path):  # metodo estatico, no tiene self en sus tripas, sus acciones\n",
    "        return path\n",
    "    \n",
    "    \n",
    "    @classmethod      # metodo ded clase, se refiere al molde no a la instancia\n",
    "    def f(cls):\n",
    "        return 'hola '"
   ]
  },
  {
   "cell_type": "code",
   "execution_count": 2,
   "id": "00731198",
   "metadata": {},
   "outputs": [
    {
     "name": "stdout",
     "output_type": "stream",
     "text": [
      "hola\n"
     ]
    },
    {
     "data": {
      "text/plain": [
       "90"
      ]
     },
     "execution_count": 2,
     "metadata": {},
     "output_type": "execute_result"
    }
   ],
   "source": [
    "Extractor().extraer()"
   ]
  },
  {
   "cell_type": "code",
   "execution_count": 3,
   "id": "e7a63667",
   "metadata": {},
   "outputs": [],
   "source": [
    "# herencia\n",
    "\n",
    "\n",
    "class Madre:\n",
    "    \n",
    "    def __init__(self):\n",
    "        \n",
    "        self.color_pelo='morena'\n",
    "        self.color_piel='blanca'\n",
    "    \n",
    "    \n",
    "    def caminar(self, metros):\n",
    "        return metros\n",
    "    \n",
    "    def hablar(self, palabras):\n",
    "        return palabras"
   ]
  },
  {
   "cell_type": "code",
   "execution_count": 4,
   "id": "aeb4647c",
   "metadata": {},
   "outputs": [],
   "source": [
    "class Hija(Madre):   # en los parentesis esta la herencia \n",
    "    \n",
    "    def __init__(self):  # asi solo hereda los metodos\n",
    "        pass\n",
    "    \n",
    "    "
   ]
  },
  {
   "cell_type": "code",
   "execution_count": 5,
   "id": "dfb29a43",
   "metadata": {},
   "outputs": [],
   "source": [
    "class Hija(Madre):   # en los parentesis esta la herencia \n",
    "    \n",
    "    def __init__(self, color_pelo):      # asi hereda los atributos\n",
    "        super().__init__()   # inicia el metodo constructor de la madre\n",
    "        self.color_pelo=color_pelo\n",
    "        self.estatura=170"
   ]
  },
  {
   "cell_type": "code",
   "execution_count": 6,
   "id": "f57786f2",
   "metadata": {},
   "outputs": [],
   "source": [
    "hija1 = Hija('rubia')\n",
    "\n",
    "hija2 = Hija('pelirroja')"
   ]
  },
  {
   "cell_type": "code",
   "execution_count": 7,
   "id": "4a6daa0b",
   "metadata": {},
   "outputs": [
    {
     "data": {
      "text/plain": [
       "90"
      ]
     },
     "execution_count": 7,
     "metadata": {},
     "output_type": "execute_result"
    }
   ],
   "source": [
    "hija1.caminar(90)"
   ]
  },
  {
   "cell_type": "code",
   "execution_count": 8,
   "id": "89d26c51",
   "metadata": {},
   "outputs": [
    {
     "data": {
      "text/plain": [
       "90"
      ]
     },
     "execution_count": 8,
     "metadata": {},
     "output_type": "execute_result"
    }
   ],
   "source": [
    "hija2.caminar(90)"
   ]
  },
  {
   "cell_type": "code",
   "execution_count": 9,
   "id": "2cf4a88f",
   "metadata": {},
   "outputs": [
    {
     "data": {
      "text/plain": [
       "'rubia'"
      ]
     },
     "execution_count": 9,
     "metadata": {},
     "output_type": "execute_result"
    }
   ],
   "source": [
    "hija1.color_pelo"
   ]
  },
  {
   "cell_type": "code",
   "execution_count": 10,
   "id": "d3fd3733",
   "metadata": {},
   "outputs": [
    {
     "data": {
      "text/plain": [
       "'pelirroja'"
      ]
     },
     "execution_count": 10,
     "metadata": {},
     "output_type": "execute_result"
    }
   ],
   "source": [
    "hija2.color_pelo"
   ]
  },
  {
   "cell_type": "code",
   "execution_count": 11,
   "id": "094c6d3a",
   "metadata": {},
   "outputs": [
    {
     "data": {
      "text/plain": [
       "'blanca'"
      ]
     },
     "execution_count": 11,
     "metadata": {},
     "output_type": "execute_result"
    }
   ],
   "source": [
    "hija1.color_piel"
   ]
  },
  {
   "cell_type": "code",
   "execution_count": 12,
   "id": "19858956",
   "metadata": {},
   "outputs": [
    {
     "data": {
      "text/plain": [
       "170"
      ]
     },
     "execution_count": 12,
     "metadata": {},
     "output_type": "execute_result"
    }
   ],
   "source": [
    "hija2.estatura"
   ]
  },
  {
   "cell_type": "code",
   "execution_count": 13,
   "id": "36293dbe",
   "metadata": {},
   "outputs": [
    {
     "data": {
      "text/plain": [
       "['__class__',\n",
       " '__delattr__',\n",
       " '__dict__',\n",
       " '__dir__',\n",
       " '__doc__',\n",
       " '__eq__',\n",
       " '__format__',\n",
       " '__ge__',\n",
       " '__getattribute__',\n",
       " '__gt__',\n",
       " '__hash__',\n",
       " '__init__',\n",
       " '__init_subclass__',\n",
       " '__le__',\n",
       " '__lt__',\n",
       " '__module__',\n",
       " '__ne__',\n",
       " '__new__',\n",
       " '__reduce__',\n",
       " '__reduce_ex__',\n",
       " '__repr__',\n",
       " '__setattr__',\n",
       " '__sizeof__',\n",
       " '__str__',\n",
       " '__subclasshook__',\n",
       " '__weakref__',\n",
       " 'caminar',\n",
       " 'color_pelo',\n",
       " 'color_piel',\n",
       " 'estatura',\n",
       " 'hablar']"
      ]
     },
     "execution_count": 13,
     "metadata": {},
     "output_type": "execute_result"
    }
   ],
   "source": [
    "dir(hija1)"
   ]
  },
  {
   "cell_type": "markdown",
   "id": "acbf4eb5",
   "metadata": {},
   "source": [
    "## map, reduce, filter"
   ]
  },
  {
   "cell_type": "code",
   "execution_count": 14,
   "id": "f1915afb",
   "metadata": {},
   "outputs": [
    {
     "data": {
      "text/plain": [
       "[2, 3, 4, 5, 6, 7, 8, 9, 10, 11, 12, 13, 14, 15, 16, 17, 18, 19]"
      ]
     },
     "execution_count": 14,
     "metadata": {},
     "output_type": "execute_result"
    }
   ],
   "source": [
    "lst = [i for i in range(2, 20)]\n",
    "\n",
    "lst"
   ]
  },
  {
   "cell_type": "code",
   "execution_count": 15,
   "id": "7faf5f64",
   "metadata": {},
   "outputs": [
    {
     "data": {
      "text/plain": [
       "<map at 0x105b14910>"
      ]
     },
     "execution_count": 15,
     "metadata": {},
     "output_type": "execute_result"
    }
   ],
   "source": [
    "# map, aplicar una funcion matematica\n",
    "\n",
    "# funcion, iterable\n",
    "\n",
    "\n",
    "def dividir(numero):   # esta funcion es solo para un elemento de la lista\n",
    "    return numero//2\n",
    "\n",
    "\n",
    "map(dividir, lst)"
   ]
  },
  {
   "cell_type": "code",
   "execution_count": 16,
   "id": "f116c3ff",
   "metadata": {},
   "outputs": [
    {
     "data": {
      "text/plain": [
       "[1, 1, 2, 2, 3, 3, 4, 4, 5, 5, 6, 6, 7, 7, 8, 8, 9, 9]"
      ]
     },
     "execution_count": 16,
     "metadata": {},
     "output_type": "execute_result"
    }
   ],
   "source": [
    "list(map(dividir, lst))   # resulta una lista de igual tamaño"
   ]
  },
  {
   "cell_type": "code",
   "execution_count": 17,
   "id": "6854ad92",
   "metadata": {},
   "outputs": [
    {
     "data": {
      "text/plain": [
       "<filter at 0x1059f3220>"
      ]
     },
     "execution_count": 17,
     "metadata": {},
     "output_type": "execute_result"
    }
   ],
   "source": [
    "# filter\n",
    "\n",
    "# funcion booleana, iterable\n",
    "\n",
    "def par(numero):     # esta funcion es solo para un elemento de la lista, devuelve True o False\n",
    "    return numero%2==0\n",
    "\n",
    "\n",
    "filter(par, lst)"
   ]
  },
  {
   "cell_type": "code",
   "execution_count": 18,
   "id": "7cfa7383",
   "metadata": {},
   "outputs": [
    {
     "data": {
      "text/plain": [
       "[2, 4, 6, 8, 10, 12, 14, 16, 18]"
      ]
     },
     "execution_count": 18,
     "metadata": {},
     "output_type": "execute_result"
    }
   ],
   "source": [
    "list(filter(par, lst))  # resulta una lista de menor tamaño en general"
   ]
  },
  {
   "cell_type": "code",
   "execution_count": 19,
   "id": "7207078f",
   "metadata": {},
   "outputs": [],
   "source": [
    "# reduce\n",
    "\n",
    "from functools import reduce"
   ]
  },
  {
   "cell_type": "code",
   "execution_count": 20,
   "id": "13c558f4",
   "metadata": {},
   "outputs": [],
   "source": [
    "def prod(a, b): # esta funcion recibe dos elemento, los dos primeros de la lista\n",
    "    \n",
    "    return a*b  # el resultado se convertira el nuevo a y b sera el siguiente elemento de la lista"
   ]
  },
  {
   "cell_type": "code",
   "execution_count": 21,
   "id": "e674f165",
   "metadata": {},
   "outputs": [
    {
     "data": {
      "text/plain": [
       "121645100408832000"
      ]
     },
     "execution_count": 21,
     "metadata": {},
     "output_type": "execute_result"
    }
   ],
   "source": [
    "reduce(prod, lst)   # productorio, # resulta es un elemento"
   ]
  },
  {
   "cell_type": "markdown",
   "id": "c0af182b",
   "metadata": {},
   "source": [
    "## funciones"
   ]
  },
  {
   "cell_type": "code",
   "execution_count": 24,
   "id": "e9a4f4bb",
   "metadata": {},
   "outputs": [],
   "source": [
    "def funcion(p1, p2, p3=90):  # nombre y argumentos\n",
    "    \n",
    "    # acciones\n",
    "    \n",
    "    pt = p1 * p2\n",
    "    \n",
    "    pt += p3   # pt = pt+p3\n",
    "    \n",
    "    return pt  # lo que escupe"
   ]
  },
  {
   "cell_type": "code",
   "execution_count": 25,
   "id": "8ee3c91e",
   "metadata": {},
   "outputs": [
    {
     "data": {
      "text/plain": [
       "96"
      ]
     },
     "execution_count": 25,
     "metadata": {},
     "output_type": "execute_result"
    }
   ],
   "source": [
    "funcion(2, 3)"
   ]
  },
  {
   "cell_type": "code",
   "execution_count": 26,
   "id": "b7773982",
   "metadata": {},
   "outputs": [
    {
     "data": {
      "text/plain": [
       "7"
      ]
     },
     "execution_count": 26,
     "metadata": {},
     "output_type": "execute_result"
    }
   ],
   "source": [
    "funcion(2, 3, 1)"
   ]
  },
  {
   "cell_type": "code",
   "execution_count": 27,
   "id": "99dd7c81",
   "metadata": {},
   "outputs": [
    {
     "data": {
      "text/plain": [
       "5"
      ]
     },
     "execution_count": 27,
     "metadata": {},
     "output_type": "execute_result"
    }
   ],
   "source": [
    "funcion(p3=2, p2=3, p1=1)"
   ]
  },
  {
   "cell_type": "code",
   "execution_count": 28,
   "id": "8bd688eb",
   "metadata": {},
   "outputs": [
    {
     "data": {
      "text/plain": [
       "[1, 1, 2, 2, 3, 3, 4, 4, 5, 5, 6, 6, 7, 7, 8, 8, 9, 9]"
      ]
     },
     "execution_count": 28,
     "metadata": {},
     "output_type": "execute_result"
    }
   ],
   "source": [
    "# lambda \n",
    "\n",
    "\n",
    "list(map(lambda numero: numero//2, lst))"
   ]
  },
  {
   "cell_type": "code",
   "execution_count": 29,
   "id": "a886dcc7",
   "metadata": {},
   "outputs": [
    {
     "data": {
      "text/plain": [
       "[2, 4, 6, 8, 10, 12, 14, 16, 18]"
      ]
     },
     "execution_count": 29,
     "metadata": {},
     "output_type": "execute_result"
    }
   ],
   "source": [
    "list(filter(lambda numero: numero%2==0, lst))"
   ]
  },
  {
   "cell_type": "code",
   "execution_count": 30,
   "id": "0272c150",
   "metadata": {},
   "outputs": [
    {
     "data": {
      "text/plain": [
       "121645100408832000"
      ]
     },
     "execution_count": 30,
     "metadata": {},
     "output_type": "execute_result"
    }
   ],
   "source": [
    "reduce(lambda a,b: a*b, lst)"
   ]
  },
  {
   "cell_type": "markdown",
   "id": "21cb3693",
   "metadata": {},
   "source": [
    "## format strings"
   ]
  },
  {
   "cell_type": "code",
   "execution_count": 40,
   "id": "45b79434",
   "metadata": {},
   "outputs": [
    {
     "data": {
      "text/plain": [
       "'El precio de venta el 900.55, Pepe'"
      ]
     },
     "execution_count": 40,
     "metadata": {},
     "output_type": "execute_result"
    }
   ],
   "source": [
    "# antiguo, python2.7\n",
    "\n",
    "\n",
    "variable=900.54543545345354345\n",
    "\n",
    "nombre='Pepe'\n",
    "\n",
    "\n",
    "'El precio de venta el {:.2f}, {}'.format(variable, nombre)"
   ]
  },
  {
   "cell_type": "code",
   "execution_count": 42,
   "id": "2be8a09b",
   "metadata": {},
   "outputs": [
    {
     "data": {
      "text/plain": [
       "'El precio de venta el 900.55, Pepe'"
      ]
     },
     "execution_count": 42,
     "metadata": {},
     "output_type": "execute_result"
    }
   ],
   "source": [
    "# python3\n",
    "\n",
    "f'El precio de venta el {round(variable, 2)}, {nombre}'"
   ]
  },
  {
   "cell_type": "markdown",
   "id": "1c133ce1",
   "metadata": {},
   "source": [
    "## Flatten/Unflatten"
   ]
  },
  {
   "cell_type": "code",
   "execution_count": 43,
   "id": "802391e0",
   "metadata": {},
   "outputs": [
    {
     "data": {
      "text/plain": [
       "[[1, 2, 3, 4], [1, 2, 3, 4], [1, 2, 3, 4], [1, 2, 3, 4]]"
      ]
     },
     "execution_count": 43,
     "metadata": {},
     "output_type": "execute_result"
    }
   ],
   "source": [
    " lst = [\n",
    "     \n",
    "     [1,2,3,4],\n",
    "     [1,2,3,4],\n",
    "     [1,2,3,4],\n",
    "     [1,2,3,4],\n",
    " ]\n",
    "    \n",
    "lst"
   ]
  },
  {
   "cell_type": "code",
   "execution_count": 46,
   "id": "dfd85369",
   "metadata": {},
   "outputs": [
    {
     "data": {
      "text/plain": [
       "[1, 2, 3, 4, 1, 2, 3, 4, 1, 2, 3, 4, 1, 2, 3, 4]"
      ]
     },
     "execution_count": 46,
     "metadata": {},
     "output_type": "execute_result"
    }
   ],
   "source": [
    "flat=[]\n",
    "\n",
    "for lista_dentro_de_la_lista in lst:\n",
    "    \n",
    "    for numero in lista_dentro_de_la_lista:\n",
    "    \n",
    "        flat.append(numero)\n",
    "\n",
    "    \n",
    "flat"
   ]
  },
  {
   "cell_type": "code",
   "execution_count": 47,
   "id": "cee046fa",
   "metadata": {},
   "outputs": [
    {
     "data": {
      "text/plain": [
       "[1, 2, 3, 4, 1, 2, 3, 4, 1, 2, 3, 4, 1, 2, 3, 4]"
      ]
     },
     "execution_count": 47,
     "metadata": {},
     "output_type": "execute_result"
    }
   ],
   "source": [
    "flat=[numero for lista_dentro in lst for numero in lista_dentro]\n",
    "\n",
    "flat"
   ]
  },
  {
   "cell_type": "code",
   "execution_count": 48,
   "id": "9cc2b5ae",
   "metadata": {},
   "outputs": [
    {
     "data": {
      "text/plain": [
       "[1, 2, 3, 4, 1, 2, 3, 4, 1, 2, 3, 4, 1, 2, 3, 4]"
      ]
     },
     "execution_count": 48,
     "metadata": {},
     "output_type": "execute_result"
    }
   ],
   "source": [
    "## unflatten\n",
    "\n",
    "flat"
   ]
  },
  {
   "cell_type": "code",
   "execution_count": 50,
   "id": "4b77ab2d",
   "metadata": {},
   "outputs": [
    {
     "name": "stdout",
     "output_type": "stream",
     "text": [
      "0\n",
      "4\n",
      "8\n",
      "12\n"
     ]
    },
    {
     "data": {
      "text/plain": [
       "[[1, 2, 3, 4], [1, 2, 3, 4], [1, 2, 3, 4], [1, 2, 3, 4]]"
      ]
     },
     "execution_count": 50,
     "metadata": {},
     "output_type": "execute_result"
    }
   ],
   "source": [
    "unflat = []\n",
    "\n",
    "for i in range(0, len(flat), 4):  # desde 0 a hasta la longitud de 4 en 4\n",
    "    print(i)\n",
    "    elemento = flat[i : i+4]\n",
    "    \n",
    "    unflat.append(elemento)\n",
    "    \n",
    "unflat"
   ]
  },
  {
   "cell_type": "code",
   "execution_count": 51,
   "id": "708679c1",
   "metadata": {},
   "outputs": [
    {
     "data": {
      "text/plain": [
       "[[1, 2, 3, 4], [1, 2, 3, 4], [1, 2, 3, 4], [1, 2, 3, 4]]"
      ]
     },
     "execution_count": 51,
     "metadata": {},
     "output_type": "execute_result"
    }
   ],
   "source": [
    "unflat = [flat[i:i+4] for i in range(0, len(flat), 4)]\n",
    "\n",
    "unflat"
   ]
  },
  {
   "cell_type": "markdown",
   "id": "6a954456",
   "metadata": {},
   "source": [
    "## json"
   ]
  },
  {
   "cell_type": "code",
   "execution_count": 75,
   "id": "8f47b0fe",
   "metadata": {},
   "outputs": [],
   "source": [
    "json_data = [{'hola': 4, 'adios': [{'hola': 4, 'adios': 5},{'hola': 4, 'adios': 5},{'hola': 4, 'adios': 5},]},\n",
    "        {'hola': 4, 'adios': 5},\n",
    "        {'hola': 4, 'adios': 5},\n",
    "        {'hola': 4, 'adios': 5},\n",
    "        {'hola': 4, 'adios': 5},\n",
    "       \n",
    "       ]"
   ]
  },
  {
   "cell_type": "code",
   "execution_count": 76,
   "id": "c7a59617",
   "metadata": {},
   "outputs": [
    {
     "data": {
      "text/plain": [
       "[{'hola': 4,\n",
       "  'adios': [{'hola': 4, 'adios': 5},\n",
       "   {'hola': 4, 'adios': 5},\n",
       "   {'hola': 4, 'adios': 5}]},\n",
       " {'hola': 4, 'adios': 5},\n",
       " {'hola': 4, 'adios': 5},\n",
       " {'hola': 4, 'adios': 5},\n",
       " {'hola': 4, 'adios': 5}]"
      ]
     },
     "execution_count": 76,
     "metadata": {},
     "output_type": "execute_result"
    }
   ],
   "source": [
    "json_data"
   ]
  },
  {
   "cell_type": "code",
   "execution_count": 77,
   "id": "b2fcbb9f",
   "metadata": {},
   "outputs": [
    {
     "data": {
      "text/plain": [
       "4"
      ]
     },
     "execution_count": 77,
     "metadata": {},
     "output_type": "execute_result"
    }
   ],
   "source": [
    "json_data[0]['adios'][-1]['hola']   # navegar el json"
   ]
  },
  {
   "cell_type": "code",
   "execution_count": 78,
   "id": "470dfc79",
   "metadata": {},
   "outputs": [],
   "source": [
    "json_str = str(json_data).replace(\"'\", '\"')"
   ]
  },
  {
   "cell_type": "code",
   "execution_count": 79,
   "id": "59d3e54b",
   "metadata": {},
   "outputs": [
    {
     "data": {
      "text/plain": [
       "'[{\"hola\": 4, \"adios\": [{\"hola\": 4, \"adios\": 5}, {\"hola\": 4, \"adios\": 5}, {\"hola\": 4, \"adios\": 5}]}, {\"hola\": 4, \"adios\": 5}, {\"hola\": 4, \"adios\": 5}, {\"hola\": 4, \"adios\": 5}, {\"hola\": 4, \"adios\": 5}]'"
      ]
     },
     "execution_count": 79,
     "metadata": {},
     "output_type": "execute_result"
    }
   ],
   "source": [
    "json_str"
   ]
  },
  {
   "cell_type": "code",
   "execution_count": 80,
   "id": "39c0d8a1",
   "metadata": {},
   "outputs": [],
   "source": [
    "import json"
   ]
  },
  {
   "cell_type": "code",
   "execution_count": 81,
   "id": "1c8436c9",
   "metadata": {},
   "outputs": [
    {
     "data": {
      "text/plain": [
       "[{'hola': 4,\n",
       "  'adios': [{'hola': 4, 'adios': 5},\n",
       "   {'hola': 4, 'adios': 5},\n",
       "   {'hola': 4, 'adios': 5}]},\n",
       " {'hola': 4, 'adios': 5},\n",
       " {'hola': 4, 'adios': 5},\n",
       " {'hola': 4, 'adios': 5},\n",
       " {'hola': 4, 'adios': 5}]"
      ]
     },
     "execution_count": 81,
     "metadata": {},
     "output_type": "execute_result"
    }
   ],
   "source": [
    "json.loads(json_str)"
   ]
  },
  {
   "cell_type": "code",
   "execution_count": 82,
   "id": "48e9d3be",
   "metadata": {},
   "outputs": [
    {
     "data": {
      "text/plain": [
       "list"
      ]
     },
     "execution_count": 82,
     "metadata": {},
     "output_type": "execute_result"
    }
   ],
   "source": [
    "type(json.loads(json_str))"
   ]
  },
  {
   "cell_type": "code",
   "execution_count": 83,
   "id": "b76b9bbb",
   "metadata": {},
   "outputs": [
    {
     "ename": "JSONDecodeError",
     "evalue": "Expecting value: line 1 column 1 (char 0)",
     "output_type": "error",
     "traceback": [
      "\u001b[0;31m---------------------------------------------------------------------------\u001b[0m",
      "\u001b[0;31mJSONDecodeError\u001b[0m                           Traceback (most recent call last)",
      "Cell \u001b[0;32mIn[83], line 1\u001b[0m\n\u001b[0;32m----> 1\u001b[0m \u001b[43mjson\u001b[49m\u001b[38;5;241;43m.\u001b[39;49m\u001b[43mloads\u001b[49m\u001b[43m(\u001b[49m\u001b[38;5;28;43mstr\u001b[39;49m\u001b[43m(\u001b[49m\u001b[43mjson\u001b[49m\u001b[43m)\u001b[49m\u001b[43m)\u001b[49m\n",
      "File \u001b[0;32m/opt/homebrew/Caskroom/miniconda/base/envs/clase/lib/python3.9/json/__init__.py:346\u001b[0m, in \u001b[0;36mloads\u001b[0;34m(s, cls, object_hook, parse_float, parse_int, parse_constant, object_pairs_hook, **kw)\u001b[0m\n\u001b[1;32m    341\u001b[0m     s \u001b[38;5;241m=\u001b[39m s\u001b[38;5;241m.\u001b[39mdecode(detect_encoding(s), \u001b[38;5;124m'\u001b[39m\u001b[38;5;124msurrogatepass\u001b[39m\u001b[38;5;124m'\u001b[39m)\n\u001b[1;32m    343\u001b[0m \u001b[38;5;28;01mif\u001b[39;00m (\u001b[38;5;28mcls\u001b[39m \u001b[38;5;129;01mis\u001b[39;00m \u001b[38;5;28;01mNone\u001b[39;00m \u001b[38;5;129;01mand\u001b[39;00m object_hook \u001b[38;5;129;01mis\u001b[39;00m \u001b[38;5;28;01mNone\u001b[39;00m \u001b[38;5;129;01mand\u001b[39;00m\n\u001b[1;32m    344\u001b[0m         parse_int \u001b[38;5;129;01mis\u001b[39;00m \u001b[38;5;28;01mNone\u001b[39;00m \u001b[38;5;129;01mand\u001b[39;00m parse_float \u001b[38;5;129;01mis\u001b[39;00m \u001b[38;5;28;01mNone\u001b[39;00m \u001b[38;5;129;01mand\u001b[39;00m\n\u001b[1;32m    345\u001b[0m         parse_constant \u001b[38;5;129;01mis\u001b[39;00m \u001b[38;5;28;01mNone\u001b[39;00m \u001b[38;5;129;01mand\u001b[39;00m object_pairs_hook \u001b[38;5;129;01mis\u001b[39;00m \u001b[38;5;28;01mNone\u001b[39;00m \u001b[38;5;129;01mand\u001b[39;00m \u001b[38;5;129;01mnot\u001b[39;00m kw):\n\u001b[0;32m--> 346\u001b[0m     \u001b[38;5;28;01mreturn\u001b[39;00m \u001b[43m_default_decoder\u001b[49m\u001b[38;5;241;43m.\u001b[39;49m\u001b[43mdecode\u001b[49m\u001b[43m(\u001b[49m\u001b[43ms\u001b[49m\u001b[43m)\u001b[49m\n\u001b[1;32m    347\u001b[0m \u001b[38;5;28;01mif\u001b[39;00m \u001b[38;5;28mcls\u001b[39m \u001b[38;5;129;01mis\u001b[39;00m \u001b[38;5;28;01mNone\u001b[39;00m:\n\u001b[1;32m    348\u001b[0m     \u001b[38;5;28mcls\u001b[39m \u001b[38;5;241m=\u001b[39m JSONDecoder\n",
      "File \u001b[0;32m/opt/homebrew/Caskroom/miniconda/base/envs/clase/lib/python3.9/json/decoder.py:337\u001b[0m, in \u001b[0;36mJSONDecoder.decode\u001b[0;34m(self, s, _w)\u001b[0m\n\u001b[1;32m    332\u001b[0m \u001b[38;5;28;01mdef\u001b[39;00m \u001b[38;5;21mdecode\u001b[39m(\u001b[38;5;28mself\u001b[39m, s, _w\u001b[38;5;241m=\u001b[39mWHITESPACE\u001b[38;5;241m.\u001b[39mmatch):\n\u001b[1;32m    333\u001b[0m     \u001b[38;5;124;03m\"\"\"Return the Python representation of ``s`` (a ``str`` instance\u001b[39;00m\n\u001b[1;32m    334\u001b[0m \u001b[38;5;124;03m    containing a JSON document).\u001b[39;00m\n\u001b[1;32m    335\u001b[0m \n\u001b[1;32m    336\u001b[0m \u001b[38;5;124;03m    \"\"\"\u001b[39;00m\n\u001b[0;32m--> 337\u001b[0m     obj, end \u001b[38;5;241m=\u001b[39m \u001b[38;5;28;43mself\u001b[39;49m\u001b[38;5;241;43m.\u001b[39;49m\u001b[43mraw_decode\u001b[49m\u001b[43m(\u001b[49m\u001b[43ms\u001b[49m\u001b[43m,\u001b[49m\u001b[43m \u001b[49m\u001b[43midx\u001b[49m\u001b[38;5;241;43m=\u001b[39;49m\u001b[43m_w\u001b[49m\u001b[43m(\u001b[49m\u001b[43ms\u001b[49m\u001b[43m,\u001b[49m\u001b[43m \u001b[49m\u001b[38;5;241;43m0\u001b[39;49m\u001b[43m)\u001b[49m\u001b[38;5;241;43m.\u001b[39;49m\u001b[43mend\u001b[49m\u001b[43m(\u001b[49m\u001b[43m)\u001b[49m\u001b[43m)\u001b[49m\n\u001b[1;32m    338\u001b[0m     end \u001b[38;5;241m=\u001b[39m _w(s, end)\u001b[38;5;241m.\u001b[39mend()\n\u001b[1;32m    339\u001b[0m     \u001b[38;5;28;01mif\u001b[39;00m end \u001b[38;5;241m!=\u001b[39m \u001b[38;5;28mlen\u001b[39m(s):\n",
      "File \u001b[0;32m/opt/homebrew/Caskroom/miniconda/base/envs/clase/lib/python3.9/json/decoder.py:355\u001b[0m, in \u001b[0;36mJSONDecoder.raw_decode\u001b[0;34m(self, s, idx)\u001b[0m\n\u001b[1;32m    353\u001b[0m     obj, end \u001b[38;5;241m=\u001b[39m \u001b[38;5;28mself\u001b[39m\u001b[38;5;241m.\u001b[39mscan_once(s, idx)\n\u001b[1;32m    354\u001b[0m \u001b[38;5;28;01mexcept\u001b[39;00m \u001b[38;5;167;01mStopIteration\u001b[39;00m \u001b[38;5;28;01mas\u001b[39;00m err:\n\u001b[0;32m--> 355\u001b[0m     \u001b[38;5;28;01mraise\u001b[39;00m JSONDecodeError(\u001b[38;5;124m\"\u001b[39m\u001b[38;5;124mExpecting value\u001b[39m\u001b[38;5;124m\"\u001b[39m, s, err\u001b[38;5;241m.\u001b[39mvalue) \u001b[38;5;28;01mfrom\u001b[39;00m \u001b[38;5;28mNone\u001b[39m\n\u001b[1;32m    356\u001b[0m \u001b[38;5;28;01mreturn\u001b[39;00m obj, end\n",
      "\u001b[0;31mJSONDecodeError\u001b[0m: Expecting value: line 1 column 1 (char 0)"
     ]
    }
   ],
   "source": [
    "# este error es por la comilla simple, la doble es la que funciona\n",
    "\n",
    "json.loads(str(json))"
   ]
  },
  {
   "cell_type": "code",
   "execution_count": null,
   "id": "5c5ea370",
   "metadata": {},
   "outputs": [],
   "source": []
  }
 ],
 "metadata": {
  "kernelspec": {
   "display_name": "clase",
   "language": "python",
   "name": "clase"
  },
  "language_info": {
   "codemirror_mode": {
    "name": "ipython",
    "version": 3
   },
   "file_extension": ".py",
   "mimetype": "text/x-python",
   "name": "python",
   "nbconvert_exporter": "python",
   "pygments_lexer": "ipython3",
   "version": "3.9.12"
  }
 },
 "nbformat": 4,
 "nbformat_minor": 5
}
