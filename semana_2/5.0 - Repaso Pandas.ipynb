{
 "cells": [
  {
   "cell_type": "markdown",
   "id": "8ec81102",
   "metadata": {},
   "source": [
    "# 5.0 - Repaso Pandas"
   ]
  },
  {
   "cell_type": "code",
   "execution_count": 46,
   "id": "3f0f2940",
   "metadata": {},
   "outputs": [],
   "source": [
    "import pandas as pd\n",
    "import numpy as np"
   ]
  },
  {
   "cell_type": "code",
   "execution_count": 4,
   "id": "933508fd",
   "metadata": {},
   "outputs": [
    {
     "data": {
      "text/html": [
       "<div>\n",
       "<style scoped>\n",
       "    .dataframe tbody tr th:only-of-type {\n",
       "        vertical-align: middle;\n",
       "    }\n",
       "\n",
       "    .dataframe tbody tr th {\n",
       "        vertical-align: top;\n",
       "    }\n",
       "\n",
       "    .dataframe thead th {\n",
       "        text-align: right;\n",
       "    }\n",
       "</style>\n",
       "<table border=\"1\" class=\"dataframe\">\n",
       "  <thead>\n",
       "    <tr style=\"text-align: right;\">\n",
       "      <th></th>\n",
       "      <th>barrels08</th>\n",
       "      <th>barrelsA08</th>\n",
       "      <th>charge120</th>\n",
       "      <th>charge240</th>\n",
       "      <th>city08</th>\n",
       "      <th>city08U</th>\n",
       "      <th>cityA08</th>\n",
       "      <th>cityA08U</th>\n",
       "      <th>cityCD</th>\n",
       "      <th>cityE</th>\n",
       "      <th>...</th>\n",
       "      <th>mfrCode</th>\n",
       "      <th>c240Dscr</th>\n",
       "      <th>charge240b</th>\n",
       "      <th>c240bDscr</th>\n",
       "      <th>createdOn</th>\n",
       "      <th>modifiedOn</th>\n",
       "      <th>startStop</th>\n",
       "      <th>phevCity</th>\n",
       "      <th>phevHwy</th>\n",
       "      <th>phevComb</th>\n",
       "    </tr>\n",
       "  </thead>\n",
       "  <tbody>\n",
       "    <tr>\n",
       "      <th>0</th>\n",
       "      <td>15.695714</td>\n",
       "      <td>0.0</td>\n",
       "      <td>0.0</td>\n",
       "      <td>0.0</td>\n",
       "      <td>19</td>\n",
       "      <td>0.0</td>\n",
       "      <td>0</td>\n",
       "      <td>0.0</td>\n",
       "      <td>0.0</td>\n",
       "      <td>0.0</td>\n",
       "      <td>...</td>\n",
       "      <td>NaN</td>\n",
       "      <td>NaN</td>\n",
       "      <td>0.0</td>\n",
       "      <td>NaN</td>\n",
       "      <td>Tue Jan 01 00:00:00 EST 2013</td>\n",
       "      <td>Tue Jan 01 00:00:00 EST 2013</td>\n",
       "      <td>NaN</td>\n",
       "      <td>0</td>\n",
       "      <td>0</td>\n",
       "      <td>0</td>\n",
       "    </tr>\n",
       "    <tr>\n",
       "      <th>1</th>\n",
       "      <td>29.964545</td>\n",
       "      <td>0.0</td>\n",
       "      <td>0.0</td>\n",
       "      <td>0.0</td>\n",
       "      <td>9</td>\n",
       "      <td>0.0</td>\n",
       "      <td>0</td>\n",
       "      <td>0.0</td>\n",
       "      <td>0.0</td>\n",
       "      <td>0.0</td>\n",
       "      <td>...</td>\n",
       "      <td>NaN</td>\n",
       "      <td>NaN</td>\n",
       "      <td>0.0</td>\n",
       "      <td>NaN</td>\n",
       "      <td>Tue Jan 01 00:00:00 EST 2013</td>\n",
       "      <td>Tue Jan 01 00:00:00 EST 2013</td>\n",
       "      <td>NaN</td>\n",
       "      <td>0</td>\n",
       "      <td>0</td>\n",
       "      <td>0</td>\n",
       "    </tr>\n",
       "    <tr>\n",
       "      <th>2</th>\n",
       "      <td>12.207778</td>\n",
       "      <td>0.0</td>\n",
       "      <td>0.0</td>\n",
       "      <td>0.0</td>\n",
       "      <td>23</td>\n",
       "      <td>0.0</td>\n",
       "      <td>0</td>\n",
       "      <td>0.0</td>\n",
       "      <td>0.0</td>\n",
       "      <td>0.0</td>\n",
       "      <td>...</td>\n",
       "      <td>NaN</td>\n",
       "      <td>NaN</td>\n",
       "      <td>0.0</td>\n",
       "      <td>NaN</td>\n",
       "      <td>Tue Jan 01 00:00:00 EST 2013</td>\n",
       "      <td>Tue Jan 01 00:00:00 EST 2013</td>\n",
       "      <td>NaN</td>\n",
       "      <td>0</td>\n",
       "      <td>0</td>\n",
       "      <td>0</td>\n",
       "    </tr>\n",
       "    <tr>\n",
       "      <th>3</th>\n",
       "      <td>29.964545</td>\n",
       "      <td>0.0</td>\n",
       "      <td>0.0</td>\n",
       "      <td>0.0</td>\n",
       "      <td>10</td>\n",
       "      <td>0.0</td>\n",
       "      <td>0</td>\n",
       "      <td>0.0</td>\n",
       "      <td>0.0</td>\n",
       "      <td>0.0</td>\n",
       "      <td>...</td>\n",
       "      <td>NaN</td>\n",
       "      <td>NaN</td>\n",
       "      <td>0.0</td>\n",
       "      <td>NaN</td>\n",
       "      <td>Tue Jan 01 00:00:00 EST 2013</td>\n",
       "      <td>Tue Jan 01 00:00:00 EST 2013</td>\n",
       "      <td>NaN</td>\n",
       "      <td>0</td>\n",
       "      <td>0</td>\n",
       "      <td>0</td>\n",
       "    </tr>\n",
       "    <tr>\n",
       "      <th>4</th>\n",
       "      <td>17.347895</td>\n",
       "      <td>0.0</td>\n",
       "      <td>0.0</td>\n",
       "      <td>0.0</td>\n",
       "      <td>17</td>\n",
       "      <td>0.0</td>\n",
       "      <td>0</td>\n",
       "      <td>0.0</td>\n",
       "      <td>0.0</td>\n",
       "      <td>0.0</td>\n",
       "      <td>...</td>\n",
       "      <td>NaN</td>\n",
       "      <td>NaN</td>\n",
       "      <td>0.0</td>\n",
       "      <td>NaN</td>\n",
       "      <td>Tue Jan 01 00:00:00 EST 2013</td>\n",
       "      <td>Tue Jan 01 00:00:00 EST 2013</td>\n",
       "      <td>NaN</td>\n",
       "      <td>0</td>\n",
       "      <td>0</td>\n",
       "      <td>0</td>\n",
       "    </tr>\n",
       "  </tbody>\n",
       "</table>\n",
       "<p>5 rows × 83 columns</p>\n",
       "</div>"
      ],
      "text/plain": [
       "   barrels08  barrelsA08  charge120  charge240  city08  city08U  cityA08  \\\n",
       "0  15.695714         0.0        0.0        0.0      19      0.0        0   \n",
       "1  29.964545         0.0        0.0        0.0       9      0.0        0   \n",
       "2  12.207778         0.0        0.0        0.0      23      0.0        0   \n",
       "3  29.964545         0.0        0.0        0.0      10      0.0        0   \n",
       "4  17.347895         0.0        0.0        0.0      17      0.0        0   \n",
       "\n",
       "   cityA08U  cityCD  cityE  ...  mfrCode  c240Dscr  charge240b  c240bDscr  \\\n",
       "0       0.0     0.0    0.0  ...      NaN       NaN         0.0        NaN   \n",
       "1       0.0     0.0    0.0  ...      NaN       NaN         0.0        NaN   \n",
       "2       0.0     0.0    0.0  ...      NaN       NaN         0.0        NaN   \n",
       "3       0.0     0.0    0.0  ...      NaN       NaN         0.0        NaN   \n",
       "4       0.0     0.0    0.0  ...      NaN       NaN         0.0        NaN   \n",
       "\n",
       "                      createdOn                    modifiedOn  startStop  \\\n",
       "0  Tue Jan 01 00:00:00 EST 2013  Tue Jan 01 00:00:00 EST 2013        NaN   \n",
       "1  Tue Jan 01 00:00:00 EST 2013  Tue Jan 01 00:00:00 EST 2013        NaN   \n",
       "2  Tue Jan 01 00:00:00 EST 2013  Tue Jan 01 00:00:00 EST 2013        NaN   \n",
       "3  Tue Jan 01 00:00:00 EST 2013  Tue Jan 01 00:00:00 EST 2013        NaN   \n",
       "4  Tue Jan 01 00:00:00 EST 2013  Tue Jan 01 00:00:00 EST 2013        NaN   \n",
       "\n",
       "   phevCity  phevHwy  phevComb  \n",
       "0         0        0         0  \n",
       "1         0        0         0  \n",
       "2         0        0         0  \n",
       "3         0        0         0  \n",
       "4         0        0         0  \n",
       "\n",
       "[5 rows x 83 columns]"
      ]
     },
     "execution_count": 4,
     "metadata": {},
     "output_type": "execute_result"
    }
   ],
   "source": [
    "df=pd.read_csv('../data/vehicles_messy.csv', low_memory=False)\n",
    "\n",
    "df.head()"
   ]
  },
  {
   "cell_type": "markdown",
   "id": "d590e4e7",
   "metadata": {},
   "source": [
    "### 1 get numeric VS select dtypes"
   ]
  },
  {
   "cell_type": "code",
   "execution_count": 6,
   "id": "4e648ee4",
   "metadata": {},
   "outputs": [
    {
     "data": {
      "text/plain": [
       "(37843, 60)"
      ]
     },
     "execution_count": 6,
     "metadata": {},
     "output_type": "execute_result"
    }
   ],
   "source": [
    "df._get_numeric_data().shape"
   ]
  },
  {
   "cell_type": "code",
   "execution_count": 7,
   "id": "ae678ef9",
   "metadata": {},
   "outputs": [
    {
     "data": {
      "text/plain": [
       "(37843, 27)"
      ]
     },
     "execution_count": 7,
     "metadata": {},
     "output_type": "execute_result"
    }
   ],
   "source": [
    "df.select_dtypes('integer').shape"
   ]
  },
  {
   "cell_type": "code",
   "execution_count": 8,
   "id": "1afd31f4",
   "metadata": {},
   "outputs": [
    {
     "data": {
      "text/plain": [
       "(37843, 32)"
      ]
     },
     "execution_count": 8,
     "metadata": {},
     "output_type": "execute_result"
    }
   ],
   "source": [
    "df.select_dtypes('float').shape"
   ]
  },
  {
   "cell_type": "code",
   "execution_count": 9,
   "id": "7bc24d49",
   "metadata": {},
   "outputs": [
    {
     "data": {
      "text/plain": [
       "(37843, 59)"
      ]
     },
     "execution_count": 9,
     "metadata": {},
     "output_type": "execute_result"
    }
   ],
   "source": [
    "df.select_dtypes(['integer', 'float']).shape"
   ]
  },
  {
   "cell_type": "code",
   "execution_count": 10,
   "id": "638e095b",
   "metadata": {},
   "outputs": [
    {
     "data": {
      "text/plain": [
       "(37843, 60)"
      ]
     },
     "execution_count": 10,
     "metadata": {},
     "output_type": "execute_result"
    }
   ],
   "source": [
    "df.select_dtypes(['integer', 'float', 'bool']).shape"
   ]
  },
  {
   "cell_type": "code",
   "execution_count": 11,
   "id": "99e053d9",
   "metadata": {},
   "outputs": [
    {
     "data": {
      "text/plain": [
       "(37843, 60)"
      ]
     },
     "execution_count": 11,
     "metadata": {},
     "output_type": "execute_result"
    }
   ],
   "source": [
    "df.select_dtypes(include=['integer', 'float', 'bool']).shape"
   ]
  },
  {
   "cell_type": "code",
   "execution_count": 12,
   "id": "f734132b",
   "metadata": {},
   "outputs": [
    {
     "data": {
      "text/plain": [
       "(37843, 60)"
      ]
     },
     "execution_count": 12,
     "metadata": {},
     "output_type": "execute_result"
    }
   ],
   "source": [
    "df.select_dtypes(exclude='object').shape"
   ]
  },
  {
   "cell_type": "markdown",
   "id": "2c8381a8",
   "metadata": {},
   "source": [
    "## 2 metapply"
   ]
  },
  {
   "cell_type": "code",
   "execution_count": 15,
   "id": "3db2d385",
   "metadata": {},
   "outputs": [
    {
     "data": {
      "text/plain": [
       "0    24.0\n",
       "1    32.0\n",
       "2    24.0\n",
       "3    28.0\n",
       "4    24.0\n",
       "Name: cylinders, dtype: float64"
      ]
     },
     "execution_count": 15,
     "metadata": {},
     "output_type": "execute_result"
    }
   ],
   "source": [
    "df.cylinders.apply(lambda x: x+20).head()   # aplica un +20 a la columna"
   ]
  },
  {
   "cell_type": "code",
   "execution_count": 17,
   "id": "f8497c8c",
   "metadata": {},
   "outputs": [
    {
     "data": {
      "text/html": [
       "<div>\n",
       "<style scoped>\n",
       "    .dataframe tbody tr th:only-of-type {\n",
       "        vertical-align: middle;\n",
       "    }\n",
       "\n",
       "    .dataframe tbody tr th {\n",
       "        vertical-align: top;\n",
       "    }\n",
       "\n",
       "    .dataframe thead th {\n",
       "        text-align: right;\n",
       "    }\n",
       "</style>\n",
       "<table border=\"1\" class=\"dataframe\">\n",
       "  <thead>\n",
       "    <tr style=\"text-align: right;\">\n",
       "      <th></th>\n",
       "      <th>barrels08</th>\n",
       "      <th>barrelsA08</th>\n",
       "      <th>charge120</th>\n",
       "      <th>charge240</th>\n",
       "      <th>city08</th>\n",
       "      <th>city08U</th>\n",
       "      <th>cityA08</th>\n",
       "      <th>cityA08U</th>\n",
       "      <th>cityCD</th>\n",
       "      <th>cityE</th>\n",
       "      <th>...</th>\n",
       "      <th>UCity</th>\n",
       "      <th>UCityA</th>\n",
       "      <th>UHighway</th>\n",
       "      <th>UHighwayA</th>\n",
       "      <th>year</th>\n",
       "      <th>youSaveSpend</th>\n",
       "      <th>charge240b</th>\n",
       "      <th>phevCity</th>\n",
       "      <th>phevHwy</th>\n",
       "      <th>phevComb</th>\n",
       "    </tr>\n",
       "  </thead>\n",
       "  <tbody>\n",
       "    <tr>\n",
       "      <th>0</th>\n",
       "      <td>35.695714</td>\n",
       "      <td>20.0</td>\n",
       "      <td>20.0</td>\n",
       "      <td>20.0</td>\n",
       "      <td>39</td>\n",
       "      <td>20.0</td>\n",
       "      <td>20</td>\n",
       "      <td>20.0</td>\n",
       "      <td>20.0</td>\n",
       "      <td>20.0</td>\n",
       "      <td>...</td>\n",
       "      <td>43.3333</td>\n",
       "      <td>20.0</td>\n",
       "      <td>55.0000</td>\n",
       "      <td>20.0</td>\n",
       "      <td>2005</td>\n",
       "      <td>-1230</td>\n",
       "      <td>20.0</td>\n",
       "      <td>20</td>\n",
       "      <td>20</td>\n",
       "      <td>20</td>\n",
       "    </tr>\n",
       "    <tr>\n",
       "      <th>1</th>\n",
       "      <td>49.964545</td>\n",
       "      <td>20.0</td>\n",
       "      <td>20.0</td>\n",
       "      <td>20.0</td>\n",
       "      <td>29</td>\n",
       "      <td>20.0</td>\n",
       "      <td>20</td>\n",
       "      <td>20.0</td>\n",
       "      <td>20.0</td>\n",
       "      <td>20.0</td>\n",
       "      <td>...</td>\n",
       "      <td>31.0000</td>\n",
       "      <td>20.0</td>\n",
       "      <td>39.0000</td>\n",
       "      <td>20.0</td>\n",
       "      <td>2005</td>\n",
       "      <td>-8480</td>\n",
       "      <td>20.0</td>\n",
       "      <td>20</td>\n",
       "      <td>20</td>\n",
       "      <td>20</td>\n",
       "    </tr>\n",
       "    <tr>\n",
       "      <th>2</th>\n",
       "      <td>32.207778</td>\n",
       "      <td>20.0</td>\n",
       "      <td>20.0</td>\n",
       "      <td>20.0</td>\n",
       "      <td>43</td>\n",
       "      <td>20.0</td>\n",
       "      <td>20</td>\n",
       "      <td>20.0</td>\n",
       "      <td>20.0</td>\n",
       "      <td>20.0</td>\n",
       "      <td>...</td>\n",
       "      <td>49.0000</td>\n",
       "      <td>20.0</td>\n",
       "      <td>67.0000</td>\n",
       "      <td>20.0</td>\n",
       "      <td>2005</td>\n",
       "      <td>520</td>\n",
       "      <td>20.0</td>\n",
       "      <td>20</td>\n",
       "      <td>20</td>\n",
       "      <td>20</td>\n",
       "    </tr>\n",
       "    <tr>\n",
       "      <th>3</th>\n",
       "      <td>49.964545</td>\n",
       "      <td>20.0</td>\n",
       "      <td>20.0</td>\n",
       "      <td>20.0</td>\n",
       "      <td>30</td>\n",
       "      <td>20.0</td>\n",
       "      <td>20</td>\n",
       "      <td>20.0</td>\n",
       "      <td>20.0</td>\n",
       "      <td>20.0</td>\n",
       "      <td>...</td>\n",
       "      <td>32.2222</td>\n",
       "      <td>20.0</td>\n",
       "      <td>36.6667</td>\n",
       "      <td>20.0</td>\n",
       "      <td>2005</td>\n",
       "      <td>-8480</td>\n",
       "      <td>20.0</td>\n",
       "      <td>20</td>\n",
       "      <td>20</td>\n",
       "      <td>20</td>\n",
       "    </tr>\n",
       "    <tr>\n",
       "      <th>4</th>\n",
       "      <td>37.347895</td>\n",
       "      <td>20.0</td>\n",
       "      <td>20.0</td>\n",
       "      <td>20.0</td>\n",
       "      <td>37</td>\n",
       "      <td>20.0</td>\n",
       "      <td>20</td>\n",
       "      <td>20.0</td>\n",
       "      <td>20.0</td>\n",
       "      <td>20.0</td>\n",
       "      <td>...</td>\n",
       "      <td>41.0000</td>\n",
       "      <td>20.0</td>\n",
       "      <td>52.0000</td>\n",
       "      <td>20.0</td>\n",
       "      <td>2013</td>\n",
       "      <td>-3980</td>\n",
       "      <td>20.0</td>\n",
       "      <td>20</td>\n",
       "      <td>20</td>\n",
       "      <td>20</td>\n",
       "    </tr>\n",
       "  </tbody>\n",
       "</table>\n",
       "<p>5 rows × 60 columns</p>\n",
       "</div>"
      ],
      "text/plain": [
       "   barrels08  barrelsA08  charge120  charge240  city08  city08U  cityA08  \\\n",
       "0  35.695714        20.0       20.0       20.0      39     20.0       20   \n",
       "1  49.964545        20.0       20.0       20.0      29     20.0       20   \n",
       "2  32.207778        20.0       20.0       20.0      43     20.0       20   \n",
       "3  49.964545        20.0       20.0       20.0      30     20.0       20   \n",
       "4  37.347895        20.0       20.0       20.0      37     20.0       20   \n",
       "\n",
       "   cityA08U  cityCD  cityE  ...    UCity  UCityA  UHighway  UHighwayA  year  \\\n",
       "0      20.0    20.0   20.0  ...  43.3333    20.0   55.0000       20.0  2005   \n",
       "1      20.0    20.0   20.0  ...  31.0000    20.0   39.0000       20.0  2005   \n",
       "2      20.0    20.0   20.0  ...  49.0000    20.0   67.0000       20.0  2005   \n",
       "3      20.0    20.0   20.0  ...  32.2222    20.0   36.6667       20.0  2005   \n",
       "4      20.0    20.0   20.0  ...  41.0000    20.0   52.0000       20.0  2013   \n",
       "\n",
       "   youSaveSpend  charge240b  phevCity  phevHwy  phevComb  \n",
       "0         -1230        20.0        20       20        20  \n",
       "1         -8480        20.0        20       20        20  \n",
       "2           520        20.0        20       20        20  \n",
       "3         -8480        20.0        20       20        20  \n",
       "4         -3980        20.0        20       20        20  \n",
       "\n",
       "[5 rows x 60 columns]"
      ]
     },
     "execution_count": 17,
     "metadata": {},
     "output_type": "execute_result"
    }
   ],
   "source": [
    "df._get_numeric_data().apply(lambda x: x+20).head() # aplica un +20 a la parte numerica"
   ]
  },
  {
   "cell_type": "code",
   "execution_count": 25,
   "id": "ef52a864",
   "metadata": {},
   "outputs": [
    {
     "data": {
      "text/html": [
       "<div>\n",
       "<style scoped>\n",
       "    .dataframe tbody tr th:only-of-type {\n",
       "        vertical-align: middle;\n",
       "    }\n",
       "\n",
       "    .dataframe tbody tr th {\n",
       "        vertical-align: top;\n",
       "    }\n",
       "\n",
       "    .dataframe thead th {\n",
       "        text-align: right;\n",
       "    }\n",
       "</style>\n",
       "<table border=\"1\" class=\"dataframe\">\n",
       "  <thead>\n",
       "    <tr style=\"text-align: right;\">\n",
       "      <th></th>\n",
       "      <th>barrels08</th>\n",
       "      <th>barrelsA08</th>\n",
       "      <th>charge120</th>\n",
       "      <th>charge240</th>\n",
       "      <th>city08</th>\n",
       "      <th>city08U</th>\n",
       "      <th>cityA08</th>\n",
       "      <th>cityA08U</th>\n",
       "      <th>cityCD</th>\n",
       "      <th>cityE</th>\n",
       "      <th>...</th>\n",
       "      <th>mfrCode</th>\n",
       "      <th>c240Dscr</th>\n",
       "      <th>charge240b</th>\n",
       "      <th>c240bDscr</th>\n",
       "      <th>createdOn</th>\n",
       "      <th>modifiedOn</th>\n",
       "      <th>startStop</th>\n",
       "      <th>phevCity</th>\n",
       "      <th>phevHwy</th>\n",
       "      <th>phevComb</th>\n",
       "    </tr>\n",
       "  </thead>\n",
       "  <tbody>\n",
       "    <tr>\n",
       "      <th>0</th>\n",
       "      <td>31.391429</td>\n",
       "      <td>0.0</td>\n",
       "      <td>0.0</td>\n",
       "      <td>0.0</td>\n",
       "      <td>38</td>\n",
       "      <td>0.0</td>\n",
       "      <td>0</td>\n",
       "      <td>0.0</td>\n",
       "      <td>0.0</td>\n",
       "      <td>0.0</td>\n",
       "      <td>...</td>\n",
       "      <td>NaN</td>\n",
       "      <td>NaN</td>\n",
       "      <td>0.0</td>\n",
       "      <td>NaN</td>\n",
       "      <td>Tue Jan 01 00:00:00 EST 2013Tue Jan 01 00:00:0...</td>\n",
       "      <td>Tue Jan 01 00:00:00 EST 2013Tue Jan 01 00:00:0...</td>\n",
       "      <td>NaN</td>\n",
       "      <td>0</td>\n",
       "      <td>0</td>\n",
       "      <td>0</td>\n",
       "    </tr>\n",
       "    <tr>\n",
       "      <th>1</th>\n",
       "      <td>59.929091</td>\n",
       "      <td>0.0</td>\n",
       "      <td>0.0</td>\n",
       "      <td>0.0</td>\n",
       "      <td>18</td>\n",
       "      <td>0.0</td>\n",
       "      <td>0</td>\n",
       "      <td>0.0</td>\n",
       "      <td>0.0</td>\n",
       "      <td>0.0</td>\n",
       "      <td>...</td>\n",
       "      <td>NaN</td>\n",
       "      <td>NaN</td>\n",
       "      <td>0.0</td>\n",
       "      <td>NaN</td>\n",
       "      <td>Tue Jan 01 00:00:00 EST 2013Tue Jan 01 00:00:0...</td>\n",
       "      <td>Tue Jan 01 00:00:00 EST 2013Tue Jan 01 00:00:0...</td>\n",
       "      <td>NaN</td>\n",
       "      <td>0</td>\n",
       "      <td>0</td>\n",
       "      <td>0</td>\n",
       "    </tr>\n",
       "    <tr>\n",
       "      <th>2</th>\n",
       "      <td>24.415556</td>\n",
       "      <td>0.0</td>\n",
       "      <td>0.0</td>\n",
       "      <td>0.0</td>\n",
       "      <td>46</td>\n",
       "      <td>0.0</td>\n",
       "      <td>0</td>\n",
       "      <td>0.0</td>\n",
       "      <td>0.0</td>\n",
       "      <td>0.0</td>\n",
       "      <td>...</td>\n",
       "      <td>NaN</td>\n",
       "      <td>NaN</td>\n",
       "      <td>0.0</td>\n",
       "      <td>NaN</td>\n",
       "      <td>Tue Jan 01 00:00:00 EST 2013Tue Jan 01 00:00:0...</td>\n",
       "      <td>Tue Jan 01 00:00:00 EST 2013Tue Jan 01 00:00:0...</td>\n",
       "      <td>NaN</td>\n",
       "      <td>0</td>\n",
       "      <td>0</td>\n",
       "      <td>0</td>\n",
       "    </tr>\n",
       "    <tr>\n",
       "      <th>3</th>\n",
       "      <td>59.929091</td>\n",
       "      <td>0.0</td>\n",
       "      <td>0.0</td>\n",
       "      <td>0.0</td>\n",
       "      <td>20</td>\n",
       "      <td>0.0</td>\n",
       "      <td>0</td>\n",
       "      <td>0.0</td>\n",
       "      <td>0.0</td>\n",
       "      <td>0.0</td>\n",
       "      <td>...</td>\n",
       "      <td>NaN</td>\n",
       "      <td>NaN</td>\n",
       "      <td>0.0</td>\n",
       "      <td>NaN</td>\n",
       "      <td>Tue Jan 01 00:00:00 EST 2013Tue Jan 01 00:00:0...</td>\n",
       "      <td>Tue Jan 01 00:00:00 EST 2013Tue Jan 01 00:00:0...</td>\n",
       "      <td>NaN</td>\n",
       "      <td>0</td>\n",
       "      <td>0</td>\n",
       "      <td>0</td>\n",
       "    </tr>\n",
       "    <tr>\n",
       "      <th>4</th>\n",
       "      <td>34.695789</td>\n",
       "      <td>0.0</td>\n",
       "      <td>0.0</td>\n",
       "      <td>0.0</td>\n",
       "      <td>34</td>\n",
       "      <td>0.0</td>\n",
       "      <td>0</td>\n",
       "      <td>0.0</td>\n",
       "      <td>0.0</td>\n",
       "      <td>0.0</td>\n",
       "      <td>...</td>\n",
       "      <td>NaN</td>\n",
       "      <td>NaN</td>\n",
       "      <td>0.0</td>\n",
       "      <td>NaN</td>\n",
       "      <td>Tue Jan 01 00:00:00 EST 2013Tue Jan 01 00:00:0...</td>\n",
       "      <td>Tue Jan 01 00:00:00 EST 2013Tue Jan 01 00:00:0...</td>\n",
       "      <td>NaN</td>\n",
       "      <td>0</td>\n",
       "      <td>0</td>\n",
       "      <td>0</td>\n",
       "    </tr>\n",
       "  </tbody>\n",
       "</table>\n",
       "<p>5 rows × 83 columns</p>\n",
       "</div>"
      ],
      "text/plain": [
       "   barrels08  barrelsA08  charge120  charge240  city08  city08U  cityA08  \\\n",
       "0  31.391429         0.0        0.0        0.0      38      0.0        0   \n",
       "1  59.929091         0.0        0.0        0.0      18      0.0        0   \n",
       "2  24.415556         0.0        0.0        0.0      46      0.0        0   \n",
       "3  59.929091         0.0        0.0        0.0      20      0.0        0   \n",
       "4  34.695789         0.0        0.0        0.0      34      0.0        0   \n",
       "\n",
       "   cityA08U  cityCD  cityE  ...  mfrCode  c240Dscr  charge240b  c240bDscr  \\\n",
       "0       0.0     0.0    0.0  ...      NaN       NaN         0.0        NaN   \n",
       "1       0.0     0.0    0.0  ...      NaN       NaN         0.0        NaN   \n",
       "2       0.0     0.0    0.0  ...      NaN       NaN         0.0        NaN   \n",
       "3       0.0     0.0    0.0  ...      NaN       NaN         0.0        NaN   \n",
       "4       0.0     0.0    0.0  ...      NaN       NaN         0.0        NaN   \n",
       "\n",
       "                                           createdOn  \\\n",
       "0  Tue Jan 01 00:00:00 EST 2013Tue Jan 01 00:00:0...   \n",
       "1  Tue Jan 01 00:00:00 EST 2013Tue Jan 01 00:00:0...   \n",
       "2  Tue Jan 01 00:00:00 EST 2013Tue Jan 01 00:00:0...   \n",
       "3  Tue Jan 01 00:00:00 EST 2013Tue Jan 01 00:00:0...   \n",
       "4  Tue Jan 01 00:00:00 EST 2013Tue Jan 01 00:00:0...   \n",
       "\n",
       "                                          modifiedOn  startStop  phevCity  \\\n",
       "0  Tue Jan 01 00:00:00 EST 2013Tue Jan 01 00:00:0...        NaN         0   \n",
       "1  Tue Jan 01 00:00:00 EST 2013Tue Jan 01 00:00:0...        NaN         0   \n",
       "2  Tue Jan 01 00:00:00 EST 2013Tue Jan 01 00:00:0...        NaN         0   \n",
       "3  Tue Jan 01 00:00:00 EST 2013Tue Jan 01 00:00:0...        NaN         0   \n",
       "4  Tue Jan 01 00:00:00 EST 2013Tue Jan 01 00:00:0...        NaN         0   \n",
       "\n",
       "   phevHwy  phevComb  \n",
       "0        0         0  \n",
       "1        0         0  \n",
       "2        0         0  \n",
       "3        0         0  \n",
       "4        0         0  \n",
       "\n",
       "[5 rows x 83 columns]"
      ]
     },
     "execution_count": 25,
     "metadata": {},
     "output_type": "execute_result"
    }
   ],
   "source": [
    "df.apply(lambda x: 2*x).head()  # multiplica por 2 todo el dataframe"
   ]
  },
  {
   "cell_type": "code",
   "execution_count": 27,
   "id": "1abddbf5",
   "metadata": {},
   "outputs": [
    {
     "data": {
      "text/plain": [
       "0    24.0\n",
       "1    32.0\n",
       "2    24.0\n",
       "3    28.0\n",
       "4    24.0\n",
       "Name: cylinders, dtype: float64"
      ]
     },
     "execution_count": 27,
     "metadata": {},
     "output_type": "execute_result"
    }
   ],
   "source": [
    "df.cylinders.head() + 20   # suma 20 a una columna"
   ]
  },
  {
   "cell_type": "code",
   "execution_count": 26,
   "id": "926993dd",
   "metadata": {},
   "outputs": [
    {
     "data": {
      "text/html": [
       "<div>\n",
       "<style scoped>\n",
       "    .dataframe tbody tr th:only-of-type {\n",
       "        vertical-align: middle;\n",
       "    }\n",
       "\n",
       "    .dataframe tbody tr th {\n",
       "        vertical-align: top;\n",
       "    }\n",
       "\n",
       "    .dataframe thead th {\n",
       "        text-align: right;\n",
       "    }\n",
       "</style>\n",
       "<table border=\"1\" class=\"dataframe\">\n",
       "  <thead>\n",
       "    <tr style=\"text-align: right;\">\n",
       "      <th></th>\n",
       "      <th>barrels08</th>\n",
       "      <th>barrelsA08</th>\n",
       "      <th>charge120</th>\n",
       "      <th>charge240</th>\n",
       "      <th>city08</th>\n",
       "      <th>city08U</th>\n",
       "      <th>cityA08</th>\n",
       "      <th>cityA08U</th>\n",
       "      <th>cityCD</th>\n",
       "      <th>cityE</th>\n",
       "      <th>...</th>\n",
       "      <th>mfrCode</th>\n",
       "      <th>c240Dscr</th>\n",
       "      <th>charge240b</th>\n",
       "      <th>c240bDscr</th>\n",
       "      <th>createdOn</th>\n",
       "      <th>modifiedOn</th>\n",
       "      <th>startStop</th>\n",
       "      <th>phevCity</th>\n",
       "      <th>phevHwy</th>\n",
       "      <th>phevComb</th>\n",
       "    </tr>\n",
       "  </thead>\n",
       "  <tbody>\n",
       "    <tr>\n",
       "      <th>0</th>\n",
       "      <td>&lt;class 'float'&gt;</td>\n",
       "      <td>&lt;class 'float'&gt;</td>\n",
       "      <td>&lt;class 'float'&gt;</td>\n",
       "      <td>&lt;class 'float'&gt;</td>\n",
       "      <td>&lt;class 'int'&gt;</td>\n",
       "      <td>&lt;class 'float'&gt;</td>\n",
       "      <td>&lt;class 'int'&gt;</td>\n",
       "      <td>&lt;class 'float'&gt;</td>\n",
       "      <td>&lt;class 'float'&gt;</td>\n",
       "      <td>&lt;class 'float'&gt;</td>\n",
       "      <td>...</td>\n",
       "      <td>&lt;class 'float'&gt;</td>\n",
       "      <td>&lt;class 'float'&gt;</td>\n",
       "      <td>&lt;class 'float'&gt;</td>\n",
       "      <td>&lt;class 'float'&gt;</td>\n",
       "      <td>&lt;class 'str'&gt;</td>\n",
       "      <td>&lt;class 'str'&gt;</td>\n",
       "      <td>&lt;class 'float'&gt;</td>\n",
       "      <td>&lt;class 'int'&gt;</td>\n",
       "      <td>&lt;class 'int'&gt;</td>\n",
       "      <td>&lt;class 'int'&gt;</td>\n",
       "    </tr>\n",
       "    <tr>\n",
       "      <th>1</th>\n",
       "      <td>&lt;class 'float'&gt;</td>\n",
       "      <td>&lt;class 'float'&gt;</td>\n",
       "      <td>&lt;class 'float'&gt;</td>\n",
       "      <td>&lt;class 'float'&gt;</td>\n",
       "      <td>&lt;class 'int'&gt;</td>\n",
       "      <td>&lt;class 'float'&gt;</td>\n",
       "      <td>&lt;class 'int'&gt;</td>\n",
       "      <td>&lt;class 'float'&gt;</td>\n",
       "      <td>&lt;class 'float'&gt;</td>\n",
       "      <td>&lt;class 'float'&gt;</td>\n",
       "      <td>...</td>\n",
       "      <td>&lt;class 'float'&gt;</td>\n",
       "      <td>&lt;class 'float'&gt;</td>\n",
       "      <td>&lt;class 'float'&gt;</td>\n",
       "      <td>&lt;class 'float'&gt;</td>\n",
       "      <td>&lt;class 'str'&gt;</td>\n",
       "      <td>&lt;class 'str'&gt;</td>\n",
       "      <td>&lt;class 'float'&gt;</td>\n",
       "      <td>&lt;class 'int'&gt;</td>\n",
       "      <td>&lt;class 'int'&gt;</td>\n",
       "      <td>&lt;class 'int'&gt;</td>\n",
       "    </tr>\n",
       "    <tr>\n",
       "      <th>2</th>\n",
       "      <td>&lt;class 'float'&gt;</td>\n",
       "      <td>&lt;class 'float'&gt;</td>\n",
       "      <td>&lt;class 'float'&gt;</td>\n",
       "      <td>&lt;class 'float'&gt;</td>\n",
       "      <td>&lt;class 'int'&gt;</td>\n",
       "      <td>&lt;class 'float'&gt;</td>\n",
       "      <td>&lt;class 'int'&gt;</td>\n",
       "      <td>&lt;class 'float'&gt;</td>\n",
       "      <td>&lt;class 'float'&gt;</td>\n",
       "      <td>&lt;class 'float'&gt;</td>\n",
       "      <td>...</td>\n",
       "      <td>&lt;class 'float'&gt;</td>\n",
       "      <td>&lt;class 'float'&gt;</td>\n",
       "      <td>&lt;class 'float'&gt;</td>\n",
       "      <td>&lt;class 'float'&gt;</td>\n",
       "      <td>&lt;class 'str'&gt;</td>\n",
       "      <td>&lt;class 'str'&gt;</td>\n",
       "      <td>&lt;class 'float'&gt;</td>\n",
       "      <td>&lt;class 'int'&gt;</td>\n",
       "      <td>&lt;class 'int'&gt;</td>\n",
       "      <td>&lt;class 'int'&gt;</td>\n",
       "    </tr>\n",
       "    <tr>\n",
       "      <th>3</th>\n",
       "      <td>&lt;class 'float'&gt;</td>\n",
       "      <td>&lt;class 'float'&gt;</td>\n",
       "      <td>&lt;class 'float'&gt;</td>\n",
       "      <td>&lt;class 'float'&gt;</td>\n",
       "      <td>&lt;class 'int'&gt;</td>\n",
       "      <td>&lt;class 'float'&gt;</td>\n",
       "      <td>&lt;class 'int'&gt;</td>\n",
       "      <td>&lt;class 'float'&gt;</td>\n",
       "      <td>&lt;class 'float'&gt;</td>\n",
       "      <td>&lt;class 'float'&gt;</td>\n",
       "      <td>...</td>\n",
       "      <td>&lt;class 'float'&gt;</td>\n",
       "      <td>&lt;class 'float'&gt;</td>\n",
       "      <td>&lt;class 'float'&gt;</td>\n",
       "      <td>&lt;class 'float'&gt;</td>\n",
       "      <td>&lt;class 'str'&gt;</td>\n",
       "      <td>&lt;class 'str'&gt;</td>\n",
       "      <td>&lt;class 'float'&gt;</td>\n",
       "      <td>&lt;class 'int'&gt;</td>\n",
       "      <td>&lt;class 'int'&gt;</td>\n",
       "      <td>&lt;class 'int'&gt;</td>\n",
       "    </tr>\n",
       "    <tr>\n",
       "      <th>4</th>\n",
       "      <td>&lt;class 'float'&gt;</td>\n",
       "      <td>&lt;class 'float'&gt;</td>\n",
       "      <td>&lt;class 'float'&gt;</td>\n",
       "      <td>&lt;class 'float'&gt;</td>\n",
       "      <td>&lt;class 'int'&gt;</td>\n",
       "      <td>&lt;class 'float'&gt;</td>\n",
       "      <td>&lt;class 'int'&gt;</td>\n",
       "      <td>&lt;class 'float'&gt;</td>\n",
       "      <td>&lt;class 'float'&gt;</td>\n",
       "      <td>&lt;class 'float'&gt;</td>\n",
       "      <td>...</td>\n",
       "      <td>&lt;class 'float'&gt;</td>\n",
       "      <td>&lt;class 'float'&gt;</td>\n",
       "      <td>&lt;class 'float'&gt;</td>\n",
       "      <td>&lt;class 'float'&gt;</td>\n",
       "      <td>&lt;class 'str'&gt;</td>\n",
       "      <td>&lt;class 'str'&gt;</td>\n",
       "      <td>&lt;class 'float'&gt;</td>\n",
       "      <td>&lt;class 'int'&gt;</td>\n",
       "      <td>&lt;class 'int'&gt;</td>\n",
       "      <td>&lt;class 'int'&gt;</td>\n",
       "    </tr>\n",
       "  </tbody>\n",
       "</table>\n",
       "<p>5 rows × 83 columns</p>\n",
       "</div>"
      ],
      "text/plain": [
       "         barrels08       barrelsA08        charge120        charge240  \\\n",
       "0  <class 'float'>  <class 'float'>  <class 'float'>  <class 'float'>   \n",
       "1  <class 'float'>  <class 'float'>  <class 'float'>  <class 'float'>   \n",
       "2  <class 'float'>  <class 'float'>  <class 'float'>  <class 'float'>   \n",
       "3  <class 'float'>  <class 'float'>  <class 'float'>  <class 'float'>   \n",
       "4  <class 'float'>  <class 'float'>  <class 'float'>  <class 'float'>   \n",
       "\n",
       "          city08          city08U        cityA08         cityA08U  \\\n",
       "0  <class 'int'>  <class 'float'>  <class 'int'>  <class 'float'>   \n",
       "1  <class 'int'>  <class 'float'>  <class 'int'>  <class 'float'>   \n",
       "2  <class 'int'>  <class 'float'>  <class 'int'>  <class 'float'>   \n",
       "3  <class 'int'>  <class 'float'>  <class 'int'>  <class 'float'>   \n",
       "4  <class 'int'>  <class 'float'>  <class 'int'>  <class 'float'>   \n",
       "\n",
       "            cityCD            cityE  ...          mfrCode         c240Dscr  \\\n",
       "0  <class 'float'>  <class 'float'>  ...  <class 'float'>  <class 'float'>   \n",
       "1  <class 'float'>  <class 'float'>  ...  <class 'float'>  <class 'float'>   \n",
       "2  <class 'float'>  <class 'float'>  ...  <class 'float'>  <class 'float'>   \n",
       "3  <class 'float'>  <class 'float'>  ...  <class 'float'>  <class 'float'>   \n",
       "4  <class 'float'>  <class 'float'>  ...  <class 'float'>  <class 'float'>   \n",
       "\n",
       "        charge240b        c240bDscr      createdOn     modifiedOn  \\\n",
       "0  <class 'float'>  <class 'float'>  <class 'str'>  <class 'str'>   \n",
       "1  <class 'float'>  <class 'float'>  <class 'str'>  <class 'str'>   \n",
       "2  <class 'float'>  <class 'float'>  <class 'str'>  <class 'str'>   \n",
       "3  <class 'float'>  <class 'float'>  <class 'str'>  <class 'str'>   \n",
       "4  <class 'float'>  <class 'float'>  <class 'str'>  <class 'str'>   \n",
       "\n",
       "         startStop       phevCity        phevHwy       phevComb  \n",
       "0  <class 'float'>  <class 'int'>  <class 'int'>  <class 'int'>  \n",
       "1  <class 'float'>  <class 'int'>  <class 'int'>  <class 'int'>  \n",
       "2  <class 'float'>  <class 'int'>  <class 'int'>  <class 'int'>  \n",
       "3  <class 'float'>  <class 'int'>  <class 'int'>  <class 'int'>  \n",
       "4  <class 'float'>  <class 'int'>  <class 'int'>  <class 'int'>  \n",
       "\n",
       "[5 rows x 83 columns]"
      ]
     },
     "execution_count": 26,
     "metadata": {},
     "output_type": "execute_result"
    }
   ],
   "source": [
    "# apply a un df, la funcion recibe una columna, de ahi el doble apply\n",
    "\n",
    "df.apply(lambda x: x.apply(lambda y: type(y))).head()   "
   ]
  },
  {
   "cell_type": "code",
   "execution_count": 28,
   "id": "acb10b68",
   "metadata": {},
   "outputs": [],
   "source": [
    "def funcion_a_la_serie(elemento):\n",
    "    return elemento*2"
   ]
  },
  {
   "cell_type": "code",
   "execution_count": 29,
   "id": "af212bcd",
   "metadata": {},
   "outputs": [],
   "source": [
    "def funcion_al_df(serie):\n",
    "    \n",
    "    return serie.apply(funcion_a_la_serie)"
   ]
  },
  {
   "cell_type": "code",
   "execution_count": 32,
   "id": "54b56cd6",
   "metadata": {},
   "outputs": [
    {
     "data": {
      "text/html": [
       "<div>\n",
       "<style scoped>\n",
       "    .dataframe tbody tr th:only-of-type {\n",
       "        vertical-align: middle;\n",
       "    }\n",
       "\n",
       "    .dataframe tbody tr th {\n",
       "        vertical-align: top;\n",
       "    }\n",
       "\n",
       "    .dataframe thead th {\n",
       "        text-align: right;\n",
       "    }\n",
       "</style>\n",
       "<table border=\"1\" class=\"dataframe\">\n",
       "  <thead>\n",
       "    <tr style=\"text-align: right;\">\n",
       "      <th></th>\n",
       "      <th>barrels08</th>\n",
       "      <th>barrelsA08</th>\n",
       "      <th>charge120</th>\n",
       "      <th>charge240</th>\n",
       "      <th>city08</th>\n",
       "      <th>city08U</th>\n",
       "      <th>cityA08</th>\n",
       "      <th>cityA08U</th>\n",
       "      <th>cityCD</th>\n",
       "      <th>cityE</th>\n",
       "      <th>...</th>\n",
       "      <th>mfrCode</th>\n",
       "      <th>c240Dscr</th>\n",
       "      <th>charge240b</th>\n",
       "      <th>c240bDscr</th>\n",
       "      <th>createdOn</th>\n",
       "      <th>modifiedOn</th>\n",
       "      <th>startStop</th>\n",
       "      <th>phevCity</th>\n",
       "      <th>phevHwy</th>\n",
       "      <th>phevComb</th>\n",
       "    </tr>\n",
       "  </thead>\n",
       "  <tbody>\n",
       "    <tr>\n",
       "      <th>0</th>\n",
       "      <td>31.391429</td>\n",
       "      <td>0.0</td>\n",
       "      <td>0.0</td>\n",
       "      <td>0.0</td>\n",
       "      <td>38</td>\n",
       "      <td>0.0</td>\n",
       "      <td>0</td>\n",
       "      <td>0.0</td>\n",
       "      <td>0.0</td>\n",
       "      <td>0.0</td>\n",
       "      <td>...</td>\n",
       "      <td>NaN</td>\n",
       "      <td>NaN</td>\n",
       "      <td>0.0</td>\n",
       "      <td>NaN</td>\n",
       "      <td>Tue Jan 01 00:00:00 EST 2013Tue Jan 01 00:00:0...</td>\n",
       "      <td>Tue Jan 01 00:00:00 EST 2013Tue Jan 01 00:00:0...</td>\n",
       "      <td>NaN</td>\n",
       "      <td>0</td>\n",
       "      <td>0</td>\n",
       "      <td>0</td>\n",
       "    </tr>\n",
       "    <tr>\n",
       "      <th>1</th>\n",
       "      <td>59.929091</td>\n",
       "      <td>0.0</td>\n",
       "      <td>0.0</td>\n",
       "      <td>0.0</td>\n",
       "      <td>18</td>\n",
       "      <td>0.0</td>\n",
       "      <td>0</td>\n",
       "      <td>0.0</td>\n",
       "      <td>0.0</td>\n",
       "      <td>0.0</td>\n",
       "      <td>...</td>\n",
       "      <td>NaN</td>\n",
       "      <td>NaN</td>\n",
       "      <td>0.0</td>\n",
       "      <td>NaN</td>\n",
       "      <td>Tue Jan 01 00:00:00 EST 2013Tue Jan 01 00:00:0...</td>\n",
       "      <td>Tue Jan 01 00:00:00 EST 2013Tue Jan 01 00:00:0...</td>\n",
       "      <td>NaN</td>\n",
       "      <td>0</td>\n",
       "      <td>0</td>\n",
       "      <td>0</td>\n",
       "    </tr>\n",
       "    <tr>\n",
       "      <th>2</th>\n",
       "      <td>24.415556</td>\n",
       "      <td>0.0</td>\n",
       "      <td>0.0</td>\n",
       "      <td>0.0</td>\n",
       "      <td>46</td>\n",
       "      <td>0.0</td>\n",
       "      <td>0</td>\n",
       "      <td>0.0</td>\n",
       "      <td>0.0</td>\n",
       "      <td>0.0</td>\n",
       "      <td>...</td>\n",
       "      <td>NaN</td>\n",
       "      <td>NaN</td>\n",
       "      <td>0.0</td>\n",
       "      <td>NaN</td>\n",
       "      <td>Tue Jan 01 00:00:00 EST 2013Tue Jan 01 00:00:0...</td>\n",
       "      <td>Tue Jan 01 00:00:00 EST 2013Tue Jan 01 00:00:0...</td>\n",
       "      <td>NaN</td>\n",
       "      <td>0</td>\n",
       "      <td>0</td>\n",
       "      <td>0</td>\n",
       "    </tr>\n",
       "    <tr>\n",
       "      <th>3</th>\n",
       "      <td>59.929091</td>\n",
       "      <td>0.0</td>\n",
       "      <td>0.0</td>\n",
       "      <td>0.0</td>\n",
       "      <td>20</td>\n",
       "      <td>0.0</td>\n",
       "      <td>0</td>\n",
       "      <td>0.0</td>\n",
       "      <td>0.0</td>\n",
       "      <td>0.0</td>\n",
       "      <td>...</td>\n",
       "      <td>NaN</td>\n",
       "      <td>NaN</td>\n",
       "      <td>0.0</td>\n",
       "      <td>NaN</td>\n",
       "      <td>Tue Jan 01 00:00:00 EST 2013Tue Jan 01 00:00:0...</td>\n",
       "      <td>Tue Jan 01 00:00:00 EST 2013Tue Jan 01 00:00:0...</td>\n",
       "      <td>NaN</td>\n",
       "      <td>0</td>\n",
       "      <td>0</td>\n",
       "      <td>0</td>\n",
       "    </tr>\n",
       "    <tr>\n",
       "      <th>4</th>\n",
       "      <td>34.695789</td>\n",
       "      <td>0.0</td>\n",
       "      <td>0.0</td>\n",
       "      <td>0.0</td>\n",
       "      <td>34</td>\n",
       "      <td>0.0</td>\n",
       "      <td>0</td>\n",
       "      <td>0.0</td>\n",
       "      <td>0.0</td>\n",
       "      <td>0.0</td>\n",
       "      <td>...</td>\n",
       "      <td>NaN</td>\n",
       "      <td>NaN</td>\n",
       "      <td>0.0</td>\n",
       "      <td>NaN</td>\n",
       "      <td>Tue Jan 01 00:00:00 EST 2013Tue Jan 01 00:00:0...</td>\n",
       "      <td>Tue Jan 01 00:00:00 EST 2013Tue Jan 01 00:00:0...</td>\n",
       "      <td>NaN</td>\n",
       "      <td>0</td>\n",
       "      <td>0</td>\n",
       "      <td>0</td>\n",
       "    </tr>\n",
       "  </tbody>\n",
       "</table>\n",
       "<p>5 rows × 83 columns</p>\n",
       "</div>"
      ],
      "text/plain": [
       "   barrels08  barrelsA08  charge120  charge240  city08  city08U  cityA08  \\\n",
       "0  31.391429         0.0        0.0        0.0      38      0.0        0   \n",
       "1  59.929091         0.0        0.0        0.0      18      0.0        0   \n",
       "2  24.415556         0.0        0.0        0.0      46      0.0        0   \n",
       "3  59.929091         0.0        0.0        0.0      20      0.0        0   \n",
       "4  34.695789         0.0        0.0        0.0      34      0.0        0   \n",
       "\n",
       "   cityA08U  cityCD  cityE  ...  mfrCode  c240Dscr  charge240b  c240bDscr  \\\n",
       "0       0.0     0.0    0.0  ...      NaN       NaN         0.0        NaN   \n",
       "1       0.0     0.0    0.0  ...      NaN       NaN         0.0        NaN   \n",
       "2       0.0     0.0    0.0  ...      NaN       NaN         0.0        NaN   \n",
       "3       0.0     0.0    0.0  ...      NaN       NaN         0.0        NaN   \n",
       "4       0.0     0.0    0.0  ...      NaN       NaN         0.0        NaN   \n",
       "\n",
       "                                           createdOn  \\\n",
       "0  Tue Jan 01 00:00:00 EST 2013Tue Jan 01 00:00:0...   \n",
       "1  Tue Jan 01 00:00:00 EST 2013Tue Jan 01 00:00:0...   \n",
       "2  Tue Jan 01 00:00:00 EST 2013Tue Jan 01 00:00:0...   \n",
       "3  Tue Jan 01 00:00:00 EST 2013Tue Jan 01 00:00:0...   \n",
       "4  Tue Jan 01 00:00:00 EST 2013Tue Jan 01 00:00:0...   \n",
       "\n",
       "                                          modifiedOn  startStop  phevCity  \\\n",
       "0  Tue Jan 01 00:00:00 EST 2013Tue Jan 01 00:00:0...        NaN         0   \n",
       "1  Tue Jan 01 00:00:00 EST 2013Tue Jan 01 00:00:0...        NaN         0   \n",
       "2  Tue Jan 01 00:00:00 EST 2013Tue Jan 01 00:00:0...        NaN         0   \n",
       "3  Tue Jan 01 00:00:00 EST 2013Tue Jan 01 00:00:0...        NaN         0   \n",
       "4  Tue Jan 01 00:00:00 EST 2013Tue Jan 01 00:00:0...        NaN         0   \n",
       "\n",
       "   phevHwy  phevComb  \n",
       "0        0         0  \n",
       "1        0         0  \n",
       "2        0         0  \n",
       "3        0         0  \n",
       "4        0         0  \n",
       "\n",
       "[5 rows x 83 columns]"
      ]
     },
     "execution_count": 32,
     "metadata": {},
     "output_type": "execute_result"
    }
   ],
   "source": [
    "df.apply(funcion_al_df).head()"
   ]
  },
  {
   "cell_type": "markdown",
   "id": "eeb66312",
   "metadata": {},
   "source": [
    "### 3 dtype (object)"
   ]
  },
  {
   "cell_type": "code",
   "execution_count": 36,
   "id": "e5b9cd2d",
   "metadata": {},
   "outputs": [
    {
     "name": "stdout",
     "output_type": "stream",
     "text": [
      "<class 'pandas.core.frame.DataFrame'>\n",
      "RangeIndex: 37843 entries, 0 to 37842\n",
      "Data columns (total 83 columns):\n",
      " #   Column           Non-Null Count  Dtype  \n",
      "---  ------           --------------  -----  \n",
      " 0   barrels08        37843 non-null  float64\n",
      " 1   barrelsA08       37843 non-null  float64\n",
      " 2   charge120        37843 non-null  float64\n",
      " 3   charge240        37843 non-null  float64\n",
      " 4   city08           37843 non-null  int64  \n",
      " 5   city08U          37843 non-null  float64\n",
      " 6   cityA08          37843 non-null  int64  \n",
      " 7   cityA08U         37843 non-null  float64\n",
      " 8   cityCD           37843 non-null  float64\n",
      " 9   cityE            37843 non-null  float64\n",
      " 10  cityUF           37843 non-null  float64\n",
      " 11  co2              37843 non-null  int64  \n",
      " 12  co2A             37843 non-null  int64  \n",
      " 13  co2TailpipeAGpm  37843 non-null  float64\n",
      " 14  co2TailpipeGpm   37843 non-null  float64\n",
      " 15  comb08           37843 non-null  int64  \n",
      " 16  comb08U          37843 non-null  float64\n",
      " 17  combA08          37843 non-null  int64  \n",
      " 18  combA08U         37843 non-null  float64\n",
      " 19  combE            37843 non-null  float64\n",
      " 20  combinedCD       37843 non-null  float64\n",
      " 21  combinedUF       37843 non-null  float64\n",
      " 22  cylinders        37720 non-null  float64\n",
      " 23  displ            37723 non-null  float64\n",
      " 24  drive            36654 non-null  object \n",
      " 25  engId            37843 non-null  int64  \n",
      " 26  eng_dscr         22440 non-null  object \n",
      " 27  feScore          37843 non-null  int64  \n",
      " 28  fuelCost08       37843 non-null  int64  \n",
      " 29  fuelCostA08      37843 non-null  int64  \n",
      " 30  fuelType         37843 non-null  object \n",
      " 31  fuelType1        37843 non-null  object \n",
      " 32  ghgScore         37843 non-null  int64  \n",
      " 33  ghgScoreA        37843 non-null  int64  \n",
      " 34  highway08        37843 non-null  int64  \n",
      " 35  highway08U       37843 non-null  float64\n",
      " 36  highwayA08       37843 non-null  int64  \n",
      " 37  highwayA08U      37843 non-null  float64\n",
      " 38  highwayCD        37843 non-null  float64\n",
      " 39  highwayE         37843 non-null  float64\n",
      " 40  highwayUF        37843 non-null  float64\n",
      " 41  hlv              37843 non-null  int64  \n",
      " 42  hpv              37843 non-null  int64  \n",
      " 43  id               37843 non-null  int64  \n",
      " 44  lv2              37843 non-null  int64  \n",
      " 45  lv4              37843 non-null  int64  \n",
      " 46  make             37843 non-null  object \n",
      " 47  model            37843 non-null  object \n",
      " 48  mpgData          37843 non-null  object \n",
      " 49  phevBlended      37843 non-null  bool   \n",
      " 50  pv2              37843 non-null  int64  \n",
      " 51  pv4              37843 non-null  int64  \n",
      " 52  range            37843 non-null  int64  \n",
      " 53  rangeCity        37843 non-null  float64\n",
      " 54  rangeCityA       37843 non-null  float64\n",
      " 55  rangeHwy         37843 non-null  float64\n",
      " 56  rangeHwyA        37843 non-null  float64\n",
      " 57  trany            37832 non-null  object \n",
      " 58  UCity            37843 non-null  float64\n",
      " 59  UCityA           37843 non-null  float64\n",
      " 60  UHighway         37843 non-null  float64\n",
      " 61  UHighwayA        37843 non-null  float64\n",
      " 62  VClass           37843 non-null  object \n",
      " 63  year             37843 non-null  int64  \n",
      " 64  youSaveSpend     37843 non-null  int64  \n",
      " 65  guzzler          2281 non-null   object \n",
      " 66  trans_dscr       15047 non-null  object \n",
      " 67  tCharger         5186 non-null   object \n",
      " 68  sCharger         666 non-null    object \n",
      " 69  atvType          3072 non-null   object \n",
      " 70  fuelType2        1408 non-null   object \n",
      " 71  rangeA           1403 non-null   object \n",
      " 72  evMotor          562 non-null    object \n",
      " 73  mfrCode          7025 non-null   object \n",
      " 74  c240Dscr         37 non-null     object \n",
      " 75  charge240b       37843 non-null  float64\n",
      " 76  c240bDscr        36 non-null     object \n",
      " 77  createdOn        37843 non-null  object \n",
      " 78  modifiedOn       37843 non-null  object \n",
      " 79  startStop        6138 non-null   object \n",
      " 80  phevCity         37843 non-null  int64  \n",
      " 81  phevHwy          37843 non-null  int64  \n",
      " 82  phevComb         37843 non-null  int64  \n",
      "dtypes: bool(1), float64(32), int64(27), object(23)\n",
      "memory usage: 23.7+ MB\n"
     ]
    }
   ],
   "source": [
    "df.info()"
   ]
  },
  {
   "cell_type": "code",
   "execution_count": 34,
   "id": "af39c9a0",
   "metadata": {},
   "outputs": [
    {
     "data": {
      "text/plain": [
       "0         (FFS)\n",
       "1     (GUZZLER)\n",
       "2         (FFS)\n",
       "3           NaN\n",
       "4    (FFS,TRBO)\n",
       "Name: eng_dscr, dtype: object"
      ]
     },
     "execution_count": 34,
     "metadata": {},
     "output_type": "execute_result"
    }
   ],
   "source": [
    "df.eng_dscr.head()"
   ]
  },
  {
   "cell_type": "code",
   "execution_count": 42,
   "id": "212ebf7d",
   "metadata": {},
   "outputs": [
    {
     "name": "stdout",
     "output_type": "stream",
     "text": [
      "['', 'FFS)']\n",
      "['', 'GUZZLER)']\n",
      "['', 'FFS)']\n"
     ]
    },
    {
     "ename": "AttributeError",
     "evalue": "'float' object has no attribute 'split'",
     "output_type": "error",
     "traceback": [
      "\u001b[0;31m---------------------------------------------------------------------------\u001b[0m",
      "\u001b[0;31mAttributeError\u001b[0m                            Traceback (most recent call last)",
      "Cell \u001b[0;32mIn[42], line 2\u001b[0m\n\u001b[1;32m      1\u001b[0m \u001b[38;5;28;01mfor\u001b[39;00m e \u001b[38;5;129;01min\u001b[39;00m df\u001b[38;5;241m.\u001b[39meng_dscr\u001b[38;5;241m.\u001b[39mhead():\n\u001b[0;32m----> 2\u001b[0m     \u001b[38;5;28mprint\u001b[39m(\u001b[43me\u001b[49m\u001b[38;5;241;43m.\u001b[39;49m\u001b[43msplit\u001b[49m(\u001b[38;5;124m'\u001b[39m\u001b[38;5;124m(\u001b[39m\u001b[38;5;124m'\u001b[39m))\n",
      "\u001b[0;31mAttributeError\u001b[0m: 'float' object has no attribute 'split'"
     ]
    }
   ],
   "source": [
    "for e in df.eng_dscr.head():\n",
    "    print(e.split('('))"
   ]
  },
  {
   "cell_type": "code",
   "execution_count": 43,
   "id": "88ced22a",
   "metadata": {},
   "outputs": [
    {
     "name": "stdout",
     "output_type": "stream",
     "text": [
      "['', 'FFS)']\n",
      "['', 'GUZZLER)']\n",
      "['', 'FFS)']\n",
      "['hola']\n",
      "['', 'FFS,TRBO)']\n"
     ]
    }
   ],
   "source": [
    "for e in df.eng_dscr.head().fillna('hola'):  # relleno pero con strings\n",
    "    print(e.split('('))"
   ]
  },
  {
   "cell_type": "code",
   "execution_count": 39,
   "id": "0e30e5d3",
   "metadata": {},
   "outputs": [],
   "source": [
    "# tipo de dato object es string"
   ]
  },
  {
   "cell_type": "markdown",
   "id": "fd33b2fb",
   "metadata": {},
   "source": [
    "### 4 Nulos"
   ]
  },
  {
   "cell_type": "code",
   "execution_count": 44,
   "id": "8f4c0751",
   "metadata": {},
   "outputs": [
    {
     "data": {
      "text/plain": [
       "cylinders       123\n",
       "displ           120\n",
       "drive          1189\n",
       "eng_dscr      15403\n",
       "trany            11\n",
       "guzzler       35562\n",
       "trans_dscr    22796\n",
       "tCharger      32657\n",
       "sCharger      37177\n",
       "atvType       34771\n",
       "fuelType2     36435\n",
       "rangeA        36440\n",
       "evMotor       37281\n",
       "mfrCode       30818\n",
       "c240Dscr      37806\n",
       "c240bDscr     37807\n",
       "startStop     31705\n",
       "dtype: int64"
      ]
     },
     "execution_count": 44,
     "metadata": {},
     "output_type": "execute_result"
    }
   ],
   "source": [
    "nan_cols = df.isna().sum()\n",
    "\n",
    "nan_cols[nan_cols>0]"
   ]
  },
  {
   "cell_type": "code",
   "execution_count": 61,
   "id": "3060056b",
   "metadata": {},
   "outputs": [
    {
     "data": {
      "text/html": [
       "<div>\n",
       "<style scoped>\n",
       "    .dataframe tbody tr th:only-of-type {\n",
       "        vertical-align: middle;\n",
       "    }\n",
       "\n",
       "    .dataframe tbody tr th {\n",
       "        vertical-align: top;\n",
       "    }\n",
       "\n",
       "    .dataframe thead th {\n",
       "        text-align: right;\n",
       "    }\n",
       "</style>\n",
       "<table border=\"1\" class=\"dataframe\">\n",
       "  <thead>\n",
       "    <tr style=\"text-align: right;\">\n",
       "      <th></th>\n",
       "      <th>barrels08</th>\n",
       "      <th>barrelsA08</th>\n",
       "      <th>charge120</th>\n",
       "      <th>charge240</th>\n",
       "      <th>city08</th>\n",
       "      <th>city08U</th>\n",
       "      <th>cityA08</th>\n",
       "      <th>cityA08U</th>\n",
       "      <th>cityCD</th>\n",
       "      <th>cityE</th>\n",
       "      <th>...</th>\n",
       "      <th>mfrCode</th>\n",
       "      <th>c240Dscr</th>\n",
       "      <th>charge240b</th>\n",
       "      <th>c240bDscr</th>\n",
       "      <th>createdOn</th>\n",
       "      <th>modifiedOn</th>\n",
       "      <th>startStop</th>\n",
       "      <th>phevCity</th>\n",
       "      <th>phevHwy</th>\n",
       "      <th>phevComb</th>\n",
       "    </tr>\n",
       "  </thead>\n",
       "  <tbody>\n",
       "    <tr>\n",
       "      <th>7138</th>\n",
       "      <td>0.240</td>\n",
       "      <td>0.0</td>\n",
       "      <td>0.0</td>\n",
       "      <td>0.0</td>\n",
       "      <td>81</td>\n",
       "      <td>0.0</td>\n",
       "      <td>0</td>\n",
       "      <td>0.0</td>\n",
       "      <td>0.0</td>\n",
       "      <td>41.0</td>\n",
       "      <td>...</td>\n",
       "      <td>NaN</td>\n",
       "      <td>NaN</td>\n",
       "      <td>0.0</td>\n",
       "      <td>NaN</td>\n",
       "      <td>Tue Jan 01 00:00:00 EST 2013</td>\n",
       "      <td>Thu Jul 07 00:00:00 EDT 2016</td>\n",
       "      <td>N</td>\n",
       "      <td>0</td>\n",
       "      <td>0</td>\n",
       "      <td>0</td>\n",
       "    </tr>\n",
       "    <tr>\n",
       "      <th>7139</th>\n",
       "      <td>0.282</td>\n",
       "      <td>0.0</td>\n",
       "      <td>0.0</td>\n",
       "      <td>0.0</td>\n",
       "      <td>81</td>\n",
       "      <td>0.0</td>\n",
       "      <td>0</td>\n",
       "      <td>0.0</td>\n",
       "      <td>0.0</td>\n",
       "      <td>41.0</td>\n",
       "      <td>...</td>\n",
       "      <td>NaN</td>\n",
       "      <td>NaN</td>\n",
       "      <td>0.0</td>\n",
       "      <td>NaN</td>\n",
       "      <td>Tue Jan 01 00:00:00 EST 2013</td>\n",
       "      <td>Thu Jul 07 00:00:00 EDT 2016</td>\n",
       "      <td>N</td>\n",
       "      <td>0</td>\n",
       "      <td>0</td>\n",
       "      <td>0</td>\n",
       "    </tr>\n",
       "    <tr>\n",
       "      <th>8143</th>\n",
       "      <td>0.282</td>\n",
       "      <td>0.0</td>\n",
       "      <td>0.0</td>\n",
       "      <td>0.0</td>\n",
       "      <td>81</td>\n",
       "      <td>0.0</td>\n",
       "      <td>0</td>\n",
       "      <td>0.0</td>\n",
       "      <td>0.0</td>\n",
       "      <td>41.0</td>\n",
       "      <td>...</td>\n",
       "      <td>NaN</td>\n",
       "      <td>NaN</td>\n",
       "      <td>0.0</td>\n",
       "      <td>NaN</td>\n",
       "      <td>Tue Jan 01 00:00:00 EST 2013</td>\n",
       "      <td>Thu Jul 07 00:00:00 EDT 2016</td>\n",
       "      <td>N</td>\n",
       "      <td>0</td>\n",
       "      <td>0</td>\n",
       "      <td>0</td>\n",
       "    </tr>\n",
       "    <tr>\n",
       "      <th>8144</th>\n",
       "      <td>0.312</td>\n",
       "      <td>0.0</td>\n",
       "      <td>0.0</td>\n",
       "      <td>0.0</td>\n",
       "      <td>74</td>\n",
       "      <td>0.0</td>\n",
       "      <td>0</td>\n",
       "      <td>0.0</td>\n",
       "      <td>0.0</td>\n",
       "      <td>46.0</td>\n",
       "      <td>...</td>\n",
       "      <td>NaN</td>\n",
       "      <td>NaN</td>\n",
       "      <td>0.0</td>\n",
       "      <td>NaN</td>\n",
       "      <td>Tue Jan 01 00:00:00 EST 2013</td>\n",
       "      <td>Thu Jul 07 00:00:00 EDT 2016</td>\n",
       "      <td>N</td>\n",
       "      <td>0</td>\n",
       "      <td>0</td>\n",
       "      <td>0</td>\n",
       "    </tr>\n",
       "    <tr>\n",
       "      <th>8146</th>\n",
       "      <td>0.522</td>\n",
       "      <td>0.0</td>\n",
       "      <td>0.0</td>\n",
       "      <td>0.0</td>\n",
       "      <td>45</td>\n",
       "      <td>0.0</td>\n",
       "      <td>0</td>\n",
       "      <td>0.0</td>\n",
       "      <td>0.0</td>\n",
       "      <td>75.0</td>\n",
       "      <td>...</td>\n",
       "      <td>NaN</td>\n",
       "      <td>NaN</td>\n",
       "      <td>0.0</td>\n",
       "      <td>NaN</td>\n",
       "      <td>Tue Jan 01 00:00:00 EST 2013</td>\n",
       "      <td>Thu Jul 07 00:00:00 EDT 2016</td>\n",
       "      <td>N</td>\n",
       "      <td>0</td>\n",
       "      <td>0</td>\n",
       "      <td>0</td>\n",
       "    </tr>\n",
       "  </tbody>\n",
       "</table>\n",
       "<p>5 rows × 83 columns</p>\n",
       "</div>"
      ],
      "text/plain": [
       "      barrels08  barrelsA08  charge120  charge240  city08  city08U  cityA08  \\\n",
       "7138      0.240         0.0        0.0        0.0      81      0.0        0   \n",
       "7139      0.282         0.0        0.0        0.0      81      0.0        0   \n",
       "8143      0.282         0.0        0.0        0.0      81      0.0        0   \n",
       "8144      0.312         0.0        0.0        0.0      74      0.0        0   \n",
       "8146      0.522         0.0        0.0        0.0      45      0.0        0   \n",
       "\n",
       "      cityA08U  cityCD  cityE  ...  mfrCode  c240Dscr  charge240b  c240bDscr  \\\n",
       "7138       0.0     0.0   41.0  ...      NaN       NaN         0.0        NaN   \n",
       "7139       0.0     0.0   41.0  ...      NaN       NaN         0.0        NaN   \n",
       "8143       0.0     0.0   41.0  ...      NaN       NaN         0.0        NaN   \n",
       "8144       0.0     0.0   46.0  ...      NaN       NaN         0.0        NaN   \n",
       "8146       0.0     0.0   75.0  ...      NaN       NaN         0.0        NaN   \n",
       "\n",
       "                         createdOn                    modifiedOn  startStop  \\\n",
       "7138  Tue Jan 01 00:00:00 EST 2013  Thu Jul 07 00:00:00 EDT 2016          N   \n",
       "7139  Tue Jan 01 00:00:00 EST 2013  Thu Jul 07 00:00:00 EDT 2016          N   \n",
       "8143  Tue Jan 01 00:00:00 EST 2013  Thu Jul 07 00:00:00 EDT 2016          N   \n",
       "8144  Tue Jan 01 00:00:00 EST 2013  Thu Jul 07 00:00:00 EDT 2016          N   \n",
       "8146  Tue Jan 01 00:00:00 EST 2013  Thu Jul 07 00:00:00 EDT 2016          N   \n",
       "\n",
       "      phevCity  phevHwy  phevComb  \n",
       "7138         0        0         0  \n",
       "7139         0        0         0  \n",
       "8143         0        0         0  \n",
       "8144         0        0         0  \n",
       "8146         0        0         0  \n",
       "\n",
       "[5 rows x 83 columns]"
      ]
     },
     "execution_count": 61,
     "metadata": {},
     "output_type": "execute_result"
    }
   ],
   "source": [
    "df[df.trany.isna()].head() # dataframe donde trany sea nulo"
   ]
  },
  {
   "cell_type": "code",
   "execution_count": 62,
   "id": "ef6dfdb0",
   "metadata": {},
   "outputs": [
    {
     "data": {
      "text/plain": [
       "7138    NaN\n",
       "7139    NaN\n",
       "8143    NaN\n",
       "8144    NaN\n",
       "8146    NaN\n",
       "Name: trany, dtype: object"
      ]
     },
     "execution_count": 62,
     "metadata": {},
     "output_type": "execute_result"
    }
   ],
   "source": [
    "df[df.trany.isna()].trany.head()"
   ]
  },
  {
   "cell_type": "code",
   "execution_count": 63,
   "id": "570ff207",
   "metadata": {},
   "outputs": [
    {
     "data": {
      "text/plain": [
       "[nan, nan, nan, nan, nan]"
      ]
     },
     "execution_count": 63,
     "metadata": {},
     "output_type": "execute_result"
    }
   ],
   "source": [
    "df[df.trany.isna()].trany.to_list()[:5]"
   ]
  },
  {
   "cell_type": "code",
   "execution_count": 64,
   "id": "556f8fa3",
   "metadata": {},
   "outputs": [
    {
     "data": {
      "text/plain": [
       "float"
      ]
     },
     "execution_count": 64,
     "metadata": {},
     "output_type": "execute_result"
    }
   ],
   "source": [
    "type(df[df.trany.isna()].trany.to_list()[0])"
   ]
  },
  {
   "cell_type": "code",
   "execution_count": 66,
   "id": "d90aaf97",
   "metadata": {},
   "outputs": [
    {
     "data": {
      "text/plain": [
       "str"
      ]
     },
     "execution_count": 66,
     "metadata": {},
     "output_type": "execute_result"
    }
   ],
   "source": [
    "type(df.trany[0])"
   ]
  },
  {
   "cell_type": "code",
   "execution_count": 68,
   "id": "f523eeb0",
   "metadata": {},
   "outputs": [
    {
     "data": {
      "text/plain": [
       "float"
      ]
     },
     "execution_count": 68,
     "metadata": {},
     "output_type": "execute_result"
    }
   ],
   "source": [
    "type(np.nan)"
   ]
  },
  {
   "cell_type": "code",
   "execution_count": 69,
   "id": "d471dacf",
   "metadata": {},
   "outputs": [],
   "source": [
    "None   # null"
   ]
  },
  {
   "cell_type": "markdown",
   "id": "d387227c",
   "metadata": {},
   "source": [
    "### 5 get dummies"
   ]
  },
  {
   "cell_type": "code",
   "execution_count": 72,
   "id": "7c8597de",
   "metadata": {},
   "outputs": [
    {
     "data": {
      "text/plain": [
       "array(['Regular', 'Premium', 'Diesel', 'CNG', 'Gasoline or natural gas',\n",
       "       'Gasoline or E85', 'Electricity', 'Gasoline or propane',\n",
       "       'Premium or E85', 'Midgrade', 'Premium Gas or Electricity',\n",
       "       'Regular Gas and Electricity', 'Premium and Electricity',\n",
       "       'Regular Gas or Electricity'], dtype=object)"
      ]
     },
     "execution_count": 72,
     "metadata": {},
     "output_type": "execute_result"
    }
   ],
   "source": [
    "df.fuelType.unique()"
   ]
  },
  {
   "cell_type": "code",
   "execution_count": 73,
   "id": "7c081bf0",
   "metadata": {},
   "outputs": [
    {
     "data": {
      "text/plain": [
       "14"
      ]
     },
     "execution_count": 73,
     "metadata": {},
     "output_type": "execute_result"
    }
   ],
   "source": [
    "len(df.fuelType.unique())"
   ]
  },
  {
   "cell_type": "code",
   "execution_count": 74,
   "id": "faefeb10",
   "metadata": {},
   "outputs": [
    {
     "data": {
      "text/plain": [
       "'Regular'"
      ]
     },
     "execution_count": 74,
     "metadata": {},
     "output_type": "execute_result"
    }
   ],
   "source": [
    "df.fuelType[0]"
   ]
  },
  {
   "cell_type": "code",
   "execution_count": 77,
   "id": "a5f49a3a",
   "metadata": {},
   "outputs": [
    {
     "data": {
      "text/html": [
       "<div>\n",
       "<style scoped>\n",
       "    .dataframe tbody tr th:only-of-type {\n",
       "        vertical-align: middle;\n",
       "    }\n",
       "\n",
       "    .dataframe tbody tr th {\n",
       "        vertical-align: top;\n",
       "    }\n",
       "\n",
       "    .dataframe thead th {\n",
       "        text-align: right;\n",
       "    }\n",
       "</style>\n",
       "<table border=\"1\" class=\"dataframe\">\n",
       "  <thead>\n",
       "    <tr style=\"text-align: right;\">\n",
       "      <th></th>\n",
       "      <th>CNG</th>\n",
       "      <th>Diesel</th>\n",
       "      <th>Electricity</th>\n",
       "      <th>Gasoline or E85</th>\n",
       "      <th>Gasoline or natural gas</th>\n",
       "      <th>Gasoline or propane</th>\n",
       "      <th>Midgrade</th>\n",
       "      <th>Premium</th>\n",
       "      <th>Premium Gas or Electricity</th>\n",
       "      <th>Premium and Electricity</th>\n",
       "      <th>Premium or E85</th>\n",
       "      <th>Regular</th>\n",
       "      <th>Regular Gas and Electricity</th>\n",
       "      <th>Regular Gas or Electricity</th>\n",
       "    </tr>\n",
       "  </thead>\n",
       "  <tbody>\n",
       "    <tr>\n",
       "      <th>0</th>\n",
       "      <td>0</td>\n",
       "      <td>0</td>\n",
       "      <td>0</td>\n",
       "      <td>0</td>\n",
       "      <td>0</td>\n",
       "      <td>0</td>\n",
       "      <td>0</td>\n",
       "      <td>0</td>\n",
       "      <td>0</td>\n",
       "      <td>0</td>\n",
       "      <td>0</td>\n",
       "      <td>1</td>\n",
       "      <td>0</td>\n",
       "      <td>0</td>\n",
       "    </tr>\n",
       "    <tr>\n",
       "      <th>1</th>\n",
       "      <td>0</td>\n",
       "      <td>0</td>\n",
       "      <td>0</td>\n",
       "      <td>0</td>\n",
       "      <td>0</td>\n",
       "      <td>0</td>\n",
       "      <td>0</td>\n",
       "      <td>0</td>\n",
       "      <td>0</td>\n",
       "      <td>0</td>\n",
       "      <td>0</td>\n",
       "      <td>1</td>\n",
       "      <td>0</td>\n",
       "      <td>0</td>\n",
       "    </tr>\n",
       "    <tr>\n",
       "      <th>2</th>\n",
       "      <td>0</td>\n",
       "      <td>0</td>\n",
       "      <td>0</td>\n",
       "      <td>0</td>\n",
       "      <td>0</td>\n",
       "      <td>0</td>\n",
       "      <td>0</td>\n",
       "      <td>0</td>\n",
       "      <td>0</td>\n",
       "      <td>0</td>\n",
       "      <td>0</td>\n",
       "      <td>1</td>\n",
       "      <td>0</td>\n",
       "      <td>0</td>\n",
       "    </tr>\n",
       "    <tr>\n",
       "      <th>3</th>\n",
       "      <td>0</td>\n",
       "      <td>0</td>\n",
       "      <td>0</td>\n",
       "      <td>0</td>\n",
       "      <td>0</td>\n",
       "      <td>0</td>\n",
       "      <td>0</td>\n",
       "      <td>0</td>\n",
       "      <td>0</td>\n",
       "      <td>0</td>\n",
       "      <td>0</td>\n",
       "      <td>1</td>\n",
       "      <td>0</td>\n",
       "      <td>0</td>\n",
       "    </tr>\n",
       "    <tr>\n",
       "      <th>4</th>\n",
       "      <td>0</td>\n",
       "      <td>0</td>\n",
       "      <td>0</td>\n",
       "      <td>0</td>\n",
       "      <td>0</td>\n",
       "      <td>0</td>\n",
       "      <td>0</td>\n",
       "      <td>1</td>\n",
       "      <td>0</td>\n",
       "      <td>0</td>\n",
       "      <td>0</td>\n",
       "      <td>0</td>\n",
       "      <td>0</td>\n",
       "      <td>0</td>\n",
       "    </tr>\n",
       "  </tbody>\n",
       "</table>\n",
       "</div>"
      ],
      "text/plain": [
       "   CNG  Diesel  Electricity  Gasoline or E85  Gasoline or natural gas  \\\n",
       "0    0       0            0                0                        0   \n",
       "1    0       0            0                0                        0   \n",
       "2    0       0            0                0                        0   \n",
       "3    0       0            0                0                        0   \n",
       "4    0       0            0                0                        0   \n",
       "\n",
       "   Gasoline or propane  Midgrade  Premium  Premium Gas or Electricity  \\\n",
       "0                    0         0        0                           0   \n",
       "1                    0         0        0                           0   \n",
       "2                    0         0        0                           0   \n",
       "3                    0         0        0                           0   \n",
       "4                    0         0        1                           0   \n",
       "\n",
       "   Premium and Electricity  Premium or E85  Regular  \\\n",
       "0                        0               0        1   \n",
       "1                        0               0        1   \n",
       "2                        0               0        1   \n",
       "3                        0               0        1   \n",
       "4                        0               0        0   \n",
       "\n",
       "   Regular Gas and Electricity  Regular Gas or Electricity  \n",
       "0                            0                           0  \n",
       "1                            0                           0  \n",
       "2                            0                           0  \n",
       "3                            0                           0  \n",
       "4                            0                           0  "
      ]
     },
     "execution_count": 77,
     "metadata": {},
     "output_type": "execute_result"
    }
   ],
   "source": [
    "pd.get_dummies(df.fuelType).head()"
   ]
  },
  {
   "cell_type": "markdown",
   "id": "6b77fc2e",
   "metadata": {},
   "source": [
    "### 6 groupby vs aggregate"
   ]
  },
  {
   "cell_type": "code",
   "execution_count": 87,
   "id": "abd05da9",
   "metadata": {},
   "outputs": [
    {
     "data": {
      "text/plain": [
       "0.11978875648009275"
      ]
     },
     "execution_count": 87,
     "metadata": {},
     "output_type": "execute_result"
    }
   ],
   "source": [
    "df[df.fuelType=='CNG'].barrels08.mean()"
   ]
  },
  {
   "cell_type": "code",
   "execution_count": 80,
   "id": "b984daca",
   "metadata": {},
   "outputs": [
    {
     "name": "stderr",
     "output_type": "stream",
     "text": [
      "/var/folders/95/ms6dwls51ls1jq0t456d3r200000gn/T/ipykernel_47322/1819404471.py:1: FutureWarning: The default value of numeric_only in DataFrameGroupBy.mean is deprecated. In a future version, numeric_only will default to False. Either specify numeric_only or select only columns which should be valid for the function.\n",
      "  df.groupby('fuelType').mean()\n"
     ]
    },
    {
     "data": {
      "text/html": [
       "<div>\n",
       "<style scoped>\n",
       "    .dataframe tbody tr th:only-of-type {\n",
       "        vertical-align: middle;\n",
       "    }\n",
       "\n",
       "    .dataframe tbody tr th {\n",
       "        vertical-align: top;\n",
       "    }\n",
       "\n",
       "    .dataframe thead th {\n",
       "        text-align: right;\n",
       "    }\n",
       "</style>\n",
       "<table border=\"1\" class=\"dataframe\">\n",
       "  <thead>\n",
       "    <tr style=\"text-align: right;\">\n",
       "      <th></th>\n",
       "      <th>barrels08</th>\n",
       "      <th>barrelsA08</th>\n",
       "      <th>charge120</th>\n",
       "      <th>charge240</th>\n",
       "      <th>city08</th>\n",
       "      <th>city08U</th>\n",
       "      <th>cityA08</th>\n",
       "      <th>cityA08U</th>\n",
       "      <th>cityCD</th>\n",
       "      <th>cityE</th>\n",
       "      <th>...</th>\n",
       "      <th>UCity</th>\n",
       "      <th>UCityA</th>\n",
       "      <th>UHighway</th>\n",
       "      <th>UHighwayA</th>\n",
       "      <th>year</th>\n",
       "      <th>youSaveSpend</th>\n",
       "      <th>charge240b</th>\n",
       "      <th>phevCity</th>\n",
       "      <th>phevHwy</th>\n",
       "      <th>phevComb</th>\n",
       "    </tr>\n",
       "    <tr>\n",
       "      <th>fuelType</th>\n",
       "      <th></th>\n",
       "      <th></th>\n",
       "      <th></th>\n",
       "      <th></th>\n",
       "      <th></th>\n",
       "      <th></th>\n",
       "      <th></th>\n",
       "      <th></th>\n",
       "      <th></th>\n",
       "      <th></th>\n",
       "      <th></th>\n",
       "      <th></th>\n",
       "      <th></th>\n",
       "      <th></th>\n",
       "      <th></th>\n",
       "      <th></th>\n",
       "      <th></th>\n",
       "      <th></th>\n",
       "      <th></th>\n",
       "      <th></th>\n",
       "      <th></th>\n",
       "    </tr>\n",
       "  </thead>\n",
       "  <tbody>\n",
       "    <tr>\n",
       "      <th>CNG</th>\n",
       "      <td>0.119789</td>\n",
       "      <td>0.000000</td>\n",
       "      <td>0.0</td>\n",
       "      <td>0.000000</td>\n",
       "      <td>15.966667</td>\n",
       "      <td>2.170410</td>\n",
       "      <td>0.000000</td>\n",
       "      <td>0.000000</td>\n",
       "      <td>0.00000</td>\n",
       "      <td>0.000000</td>\n",
       "      <td>...</td>\n",
       "      <td>18.721790</td>\n",
       "      <td>0.000000</td>\n",
       "      <td>28.645022</td>\n",
       "      <td>0.000000</td>\n",
       "      <td>2003.200000</td>\n",
       "      <td>-3020.833333</td>\n",
       "      <td>0.000</td>\n",
       "      <td>0.000000</td>\n",
       "      <td>0.000000</td>\n",
       "      <td>0.000000</td>\n",
       "    </tr>\n",
       "    <tr>\n",
       "      <th>Diesel</th>\n",
       "      <td>17.294469</td>\n",
       "      <td>0.000000</td>\n",
       "      <td>0.0</td>\n",
       "      <td>0.000000</td>\n",
       "      <td>21.589464</td>\n",
       "      <td>3.494237</td>\n",
       "      <td>0.000000</td>\n",
       "      <td>0.000000</td>\n",
       "      <td>0.00000</td>\n",
       "      <td>0.000000</td>\n",
       "      <td>...</td>\n",
       "      <td>27.516907</td>\n",
       "      <td>0.000000</td>\n",
       "      <td>39.223629</td>\n",
       "      <td>0.000000</td>\n",
       "      <td>1993.090827</td>\n",
       "      <td>-1429.836512</td>\n",
       "      <td>0.000</td>\n",
       "      <td>0.000000</td>\n",
       "      <td>0.000000</td>\n",
       "      <td>0.000000</td>\n",
       "    </tr>\n",
       "    <tr>\n",
       "      <th>Electricity</th>\n",
       "      <td>0.243900</td>\n",
       "      <td>0.000000</td>\n",
       "      <td>0.0</td>\n",
       "      <td>6.037500</td>\n",
       "      <td>96.083333</td>\n",
       "      <td>80.918716</td>\n",
       "      <td>0.000000</td>\n",
       "      <td>0.000000</td>\n",
       "      <td>0.00000</td>\n",
       "      <td>39.061038</td>\n",
       "      <td>...</td>\n",
       "      <td>134.431747</td>\n",
       "      <td>0.000000</td>\n",
       "      <td>121.135368</td>\n",
       "      <td>0.000000</td>\n",
       "      <td>2011.816667</td>\n",
       "      <td>2793.750000</td>\n",
       "      <td>1.375</td>\n",
       "      <td>0.000000</td>\n",
       "      <td>0.000000</td>\n",
       "      <td>0.000000</td>\n",
       "    </tr>\n",
       "    <tr>\n",
       "      <th>Gasoline or E85</th>\n",
       "      <td>19.532409</td>\n",
       "      <td>6.034583</td>\n",
       "      <td>0.0</td>\n",
       "      <td>0.000000</td>\n",
       "      <td>15.368771</td>\n",
       "      <td>7.865230</td>\n",
       "      <td>11.180233</td>\n",
       "      <td>5.635158</td>\n",
       "      <td>0.00000</td>\n",
       "      <td>0.000000</td>\n",
       "      <td>...</td>\n",
       "      <td>19.039393</td>\n",
       "      <td>13.551031</td>\n",
       "      <td>30.069278</td>\n",
       "      <td>21.456762</td>\n",
       "      <td>2010.477575</td>\n",
       "      <td>-3130.398671</td>\n",
       "      <td>0.000</td>\n",
       "      <td>0.000000</td>\n",
       "      <td>0.000000</td>\n",
       "      <td>0.000000</td>\n",
       "    </tr>\n",
       "    <tr>\n",
       "      <th>Gasoline or natural gas</th>\n",
       "      <td>23.725940</td>\n",
       "      <td>0.137911</td>\n",
       "      <td>0.0</td>\n",
       "      <td>0.000000</td>\n",
       "      <td>13.700000</td>\n",
       "      <td>1.689110</td>\n",
       "      <td>13.000000</td>\n",
       "      <td>1.566710</td>\n",
       "      <td>0.00000</td>\n",
       "      <td>0.000000</td>\n",
       "      <td>...</td>\n",
       "      <td>11.801805</td>\n",
       "      <td>10.956520</td>\n",
       "      <td>18.186395</td>\n",
       "      <td>17.403075</td>\n",
       "      <td>2004.000000</td>\n",
       "      <td>-5300.000000</td>\n",
       "      <td>0.000</td>\n",
       "      <td>0.000000</td>\n",
       "      <td>0.000000</td>\n",
       "      <td>0.000000</td>\n",
       "    </tr>\n",
       "    <tr>\n",
       "      <th>Gasoline or propane</th>\n",
       "      <td>24.720750</td>\n",
       "      <td>8.157273</td>\n",
       "      <td>0.0</td>\n",
       "      <td>0.000000</td>\n",
       "      <td>12.000000</td>\n",
       "      <td>0.000000</td>\n",
       "      <td>10.500000</td>\n",
       "      <td>0.000000</td>\n",
       "      <td>0.00000</td>\n",
       "      <td>0.000000</td>\n",
       "      <td>...</td>\n",
       "      <td>0.000000</td>\n",
       "      <td>0.000000</td>\n",
       "      <td>0.000000</td>\n",
       "      <td>0.000000</td>\n",
       "      <td>2002.500000</td>\n",
       "      <td>-5750.000000</td>\n",
       "      <td>0.000</td>\n",
       "      <td>0.000000</td>\n",
       "      <td>0.000000</td>\n",
       "      <td>0.000000</td>\n",
       "    </tr>\n",
       "    <tr>\n",
       "      <th>Midgrade</th>\n",
       "      <td>19.163168</td>\n",
       "      <td>0.000000</td>\n",
       "      <td>0.0</td>\n",
       "      <td>0.000000</td>\n",
       "      <td>14.851351</td>\n",
       "      <td>13.705797</td>\n",
       "      <td>0.000000</td>\n",
       "      <td>0.000000</td>\n",
       "      <td>0.00000</td>\n",
       "      <td>0.000000</td>\n",
       "      <td>...</td>\n",
       "      <td>18.230384</td>\n",
       "      <td>0.000000</td>\n",
       "      <td>30.868426</td>\n",
       "      <td>0.000000</td>\n",
       "      <td>2014.148649</td>\n",
       "      <td>-4010.135135</td>\n",
       "      <td>0.000</td>\n",
       "      <td>0.000000</td>\n",
       "      <td>0.000000</td>\n",
       "      <td>0.000000</td>\n",
       "    </tr>\n",
       "    <tr>\n",
       "      <th>Premium</th>\n",
       "      <td>17.854309</td>\n",
       "      <td>0.000000</td>\n",
       "      <td>0.0</td>\n",
       "      <td>0.000000</td>\n",
       "      <td>16.789184</td>\n",
       "      <td>5.827317</td>\n",
       "      <td>0.000000</td>\n",
       "      <td>0.000000</td>\n",
       "      <td>0.00000</td>\n",
       "      <td>0.000000</td>\n",
       "      <td>...</td>\n",
       "      <td>21.004060</td>\n",
       "      <td>0.000000</td>\n",
       "      <td>33.180812</td>\n",
       "      <td>0.000000</td>\n",
       "      <td>2005.484006</td>\n",
       "      <td>-4241.678329</td>\n",
       "      <td>0.000</td>\n",
       "      <td>0.000000</td>\n",
       "      <td>0.000000</td>\n",
       "      <td>0.000000</td>\n",
       "    </tr>\n",
       "    <tr>\n",
       "      <th>Premium Gas or Electricity</th>\n",
       "      <td>4.755412</td>\n",
       "      <td>0.264353</td>\n",
       "      <td>0.0</td>\n",
       "      <td>4.117647</td>\n",
       "      <td>30.705882</td>\n",
       "      <td>28.658712</td>\n",
       "      <td>86.882353</td>\n",
       "      <td>81.787794</td>\n",
       "      <td>0.00000</td>\n",
       "      <td>43.041176</td>\n",
       "      <td>...</td>\n",
       "      <td>41.529888</td>\n",
       "      <td>126.257547</td>\n",
       "      <td>46.362918</td>\n",
       "      <td>116.476888</td>\n",
       "      <td>2014.470588</td>\n",
       "      <td>1470.588235</td>\n",
       "      <td>0.000</td>\n",
       "      <td>55.411765</td>\n",
       "      <td>53.411765</td>\n",
       "      <td>54.411765</td>\n",
       "    </tr>\n",
       "    <tr>\n",
       "      <th>Premium and Electricity</th>\n",
       "      <td>8.135294</td>\n",
       "      <td>6.729094</td>\n",
       "      <td>0.0</td>\n",
       "      <td>2.620000</td>\n",
       "      <td>24.900000</td>\n",
       "      <td>24.723665</td>\n",
       "      <td>56.250000</td>\n",
       "      <td>56.462045</td>\n",
       "      <td>0.69894</td>\n",
       "      <td>50.600000</td>\n",
       "      <td>...</td>\n",
       "      <td>32.269820</td>\n",
       "      <td>80.071560</td>\n",
       "      <td>42.042015</td>\n",
       "      <td>89.763235</td>\n",
       "      <td>2015.700000</td>\n",
       "      <td>-425.000000</td>\n",
       "      <td>0.000</td>\n",
       "      <td>30.400000</td>\n",
       "      <td>35.450000</td>\n",
       "      <td>32.250000</td>\n",
       "    </tr>\n",
       "    <tr>\n",
       "      <th>Premium or E85</th>\n",
       "      <td>17.021126</td>\n",
       "      <td>5.377062</td>\n",
       "      <td>0.0</td>\n",
       "      <td>0.000000</td>\n",
       "      <td>17.305785</td>\n",
       "      <td>14.664688</td>\n",
       "      <td>12.438017</td>\n",
       "      <td>10.545898</td>\n",
       "      <td>0.00000</td>\n",
       "      <td>0.000000</td>\n",
       "      <td>...</td>\n",
       "      <td>21.616098</td>\n",
       "      <td>15.518285</td>\n",
       "      <td>34.526878</td>\n",
       "      <td>25.027011</td>\n",
       "      <td>2012.917355</td>\n",
       "      <td>-3706.611570</td>\n",
       "      <td>0.000</td>\n",
       "      <td>0.000000</td>\n",
       "      <td>0.000000</td>\n",
       "      <td>0.000000</td>\n",
       "    </tr>\n",
       "    <tr>\n",
       "      <th>Regular</th>\n",
       "      <td>17.458975</td>\n",
       "      <td>0.000000</td>\n",
       "      <td>0.0</td>\n",
       "      <td>0.000000</td>\n",
       "      <td>17.980380</td>\n",
       "      <td>2.670081</td>\n",
       "      <td>0.000000</td>\n",
       "      <td>0.000000</td>\n",
       "      <td>0.00000</td>\n",
       "      <td>0.000000</td>\n",
       "      <td>...</td>\n",
       "      <td>22.633103</td>\n",
       "      <td>0.000000</td>\n",
       "      <td>33.305234</td>\n",
       "      <td>0.000000</td>\n",
       "      <td>1997.504387</td>\n",
       "      <td>-2080.724597</td>\n",
       "      <td>0.000</td>\n",
       "      <td>0.000000</td>\n",
       "      <td>0.000000</td>\n",
       "      <td>0.000000</td>\n",
       "    </tr>\n",
       "    <tr>\n",
       "      <th>Regular Gas and Electricity</th>\n",
       "      <td>4.669536</td>\n",
       "      <td>3.547867</td>\n",
       "      <td>0.0</td>\n",
       "      <td>2.160625</td>\n",
       "      <td>43.125000</td>\n",
       "      <td>43.200425</td>\n",
       "      <td>96.625000</td>\n",
       "      <td>96.443125</td>\n",
       "      <td>0.08750</td>\n",
       "      <td>31.500000</td>\n",
       "      <td>...</td>\n",
       "      <td>59.505631</td>\n",
       "      <td>137.733031</td>\n",
       "      <td>58.046856</td>\n",
       "      <td>129.478369</td>\n",
       "      <td>2014.625000</td>\n",
       "      <td>3031.250000</td>\n",
       "      <td>0.000</td>\n",
       "      <td>56.812500</td>\n",
       "      <td>51.250000</td>\n",
       "      <td>54.437500</td>\n",
       "    </tr>\n",
       "    <tr>\n",
       "      <th>Regular Gas or Electricity</th>\n",
       "      <td>2.006844</td>\n",
       "      <td>0.186000</td>\n",
       "      <td>0.0</td>\n",
       "      <td>4.500000</td>\n",
       "      <td>43.000000</td>\n",
       "      <td>42.600000</td>\n",
       "      <td>113.000000</td>\n",
       "      <td>113.000000</td>\n",
       "      <td>0.00000</td>\n",
       "      <td>29.000000</td>\n",
       "      <td>...</td>\n",
       "      <td>58.700000</td>\n",
       "      <td>162.100000</td>\n",
       "      <td>61.100000</td>\n",
       "      <td>141.100000</td>\n",
       "      <td>2016.500000</td>\n",
       "      <td>3500.000000</td>\n",
       "      <td>0.000</td>\n",
       "      <td>82.000000</td>\n",
       "      <td>72.000000</td>\n",
       "      <td>77.000000</td>\n",
       "    </tr>\n",
       "  </tbody>\n",
       "</table>\n",
       "<p>14 rows × 60 columns</p>\n",
       "</div>"
      ],
      "text/plain": [
       "                             barrels08  barrelsA08  charge120  charge240  \\\n",
       "fuelType                                                                   \n",
       "CNG                           0.119789    0.000000        0.0   0.000000   \n",
       "Diesel                       17.294469    0.000000        0.0   0.000000   \n",
       "Electricity                   0.243900    0.000000        0.0   6.037500   \n",
       "Gasoline or E85              19.532409    6.034583        0.0   0.000000   \n",
       "Gasoline or natural gas      23.725940    0.137911        0.0   0.000000   \n",
       "Gasoline or propane          24.720750    8.157273        0.0   0.000000   \n",
       "Midgrade                     19.163168    0.000000        0.0   0.000000   \n",
       "Premium                      17.854309    0.000000        0.0   0.000000   \n",
       "Premium Gas or Electricity    4.755412    0.264353        0.0   4.117647   \n",
       "Premium and Electricity       8.135294    6.729094        0.0   2.620000   \n",
       "Premium or E85               17.021126    5.377062        0.0   0.000000   \n",
       "Regular                      17.458975    0.000000        0.0   0.000000   \n",
       "Regular Gas and Electricity   4.669536    3.547867        0.0   2.160625   \n",
       "Regular Gas or Electricity    2.006844    0.186000        0.0   4.500000   \n",
       "\n",
       "                                city08    city08U     cityA08    cityA08U  \\\n",
       "fuelType                                                                    \n",
       "CNG                          15.966667   2.170410    0.000000    0.000000   \n",
       "Diesel                       21.589464   3.494237    0.000000    0.000000   \n",
       "Electricity                  96.083333  80.918716    0.000000    0.000000   \n",
       "Gasoline or E85              15.368771   7.865230   11.180233    5.635158   \n",
       "Gasoline or natural gas      13.700000   1.689110   13.000000    1.566710   \n",
       "Gasoline or propane          12.000000   0.000000   10.500000    0.000000   \n",
       "Midgrade                     14.851351  13.705797    0.000000    0.000000   \n",
       "Premium                      16.789184   5.827317    0.000000    0.000000   \n",
       "Premium Gas or Electricity   30.705882  28.658712   86.882353   81.787794   \n",
       "Premium and Electricity      24.900000  24.723665   56.250000   56.462045   \n",
       "Premium or E85               17.305785  14.664688   12.438017   10.545898   \n",
       "Regular                      17.980380   2.670081    0.000000    0.000000   \n",
       "Regular Gas and Electricity  43.125000  43.200425   96.625000   96.443125   \n",
       "Regular Gas or Electricity   43.000000  42.600000  113.000000  113.000000   \n",
       "\n",
       "                              cityCD      cityE  ...       UCity      UCityA  \\\n",
       "fuelType                                         ...                           \n",
       "CNG                          0.00000   0.000000  ...   18.721790    0.000000   \n",
       "Diesel                       0.00000   0.000000  ...   27.516907    0.000000   \n",
       "Electricity                  0.00000  39.061038  ...  134.431747    0.000000   \n",
       "Gasoline or E85              0.00000   0.000000  ...   19.039393   13.551031   \n",
       "Gasoline or natural gas      0.00000   0.000000  ...   11.801805   10.956520   \n",
       "Gasoline or propane          0.00000   0.000000  ...    0.000000    0.000000   \n",
       "Midgrade                     0.00000   0.000000  ...   18.230384    0.000000   \n",
       "Premium                      0.00000   0.000000  ...   21.004060    0.000000   \n",
       "Premium Gas or Electricity   0.00000  43.041176  ...   41.529888  126.257547   \n",
       "Premium and Electricity      0.69894  50.600000  ...   32.269820   80.071560   \n",
       "Premium or E85               0.00000   0.000000  ...   21.616098   15.518285   \n",
       "Regular                      0.00000   0.000000  ...   22.633103    0.000000   \n",
       "Regular Gas and Electricity  0.08750  31.500000  ...   59.505631  137.733031   \n",
       "Regular Gas or Electricity   0.00000  29.000000  ...   58.700000  162.100000   \n",
       "\n",
       "                               UHighway   UHighwayA         year  \\\n",
       "fuelType                                                           \n",
       "CNG                           28.645022    0.000000  2003.200000   \n",
       "Diesel                        39.223629    0.000000  1993.090827   \n",
       "Electricity                  121.135368    0.000000  2011.816667   \n",
       "Gasoline or E85               30.069278   21.456762  2010.477575   \n",
       "Gasoline or natural gas       18.186395   17.403075  2004.000000   \n",
       "Gasoline or propane            0.000000    0.000000  2002.500000   \n",
       "Midgrade                      30.868426    0.000000  2014.148649   \n",
       "Premium                       33.180812    0.000000  2005.484006   \n",
       "Premium Gas or Electricity    46.362918  116.476888  2014.470588   \n",
       "Premium and Electricity       42.042015   89.763235  2015.700000   \n",
       "Premium or E85                34.526878   25.027011  2012.917355   \n",
       "Regular                       33.305234    0.000000  1997.504387   \n",
       "Regular Gas and Electricity   58.046856  129.478369  2014.625000   \n",
       "Regular Gas or Electricity    61.100000  141.100000  2016.500000   \n",
       "\n",
       "                             youSaveSpend  charge240b   phevCity    phevHwy  \\\n",
       "fuelType                                                                      \n",
       "CNG                          -3020.833333       0.000   0.000000   0.000000   \n",
       "Diesel                       -1429.836512       0.000   0.000000   0.000000   \n",
       "Electricity                   2793.750000       1.375   0.000000   0.000000   \n",
       "Gasoline or E85              -3130.398671       0.000   0.000000   0.000000   \n",
       "Gasoline or natural gas      -5300.000000       0.000   0.000000   0.000000   \n",
       "Gasoline or propane          -5750.000000       0.000   0.000000   0.000000   \n",
       "Midgrade                     -4010.135135       0.000   0.000000   0.000000   \n",
       "Premium                      -4241.678329       0.000   0.000000   0.000000   \n",
       "Premium Gas or Electricity    1470.588235       0.000  55.411765  53.411765   \n",
       "Premium and Electricity       -425.000000       0.000  30.400000  35.450000   \n",
       "Premium or E85               -3706.611570       0.000   0.000000   0.000000   \n",
       "Regular                      -2080.724597       0.000   0.000000   0.000000   \n",
       "Regular Gas and Electricity   3031.250000       0.000  56.812500  51.250000   \n",
       "Regular Gas or Electricity    3500.000000       0.000  82.000000  72.000000   \n",
       "\n",
       "                              phevComb  \n",
       "fuelType                                \n",
       "CNG                           0.000000  \n",
       "Diesel                        0.000000  \n",
       "Electricity                   0.000000  \n",
       "Gasoline or E85               0.000000  \n",
       "Gasoline or natural gas       0.000000  \n",
       "Gasoline or propane           0.000000  \n",
       "Midgrade                      0.000000  \n",
       "Premium                       0.000000  \n",
       "Premium Gas or Electricity   54.411765  \n",
       "Premium and Electricity      32.250000  \n",
       "Premium or E85                0.000000  \n",
       "Regular                       0.000000  \n",
       "Regular Gas and Electricity  54.437500  \n",
       "Regular Gas or Electricity   77.000000  \n",
       "\n",
       "[14 rows x 60 columns]"
      ]
     },
     "execution_count": 80,
     "metadata": {},
     "output_type": "execute_result"
    }
   ],
   "source": [
    "df.groupby('fuelType').mean()"
   ]
  },
  {
   "cell_type": "code",
   "execution_count": 84,
   "id": "c6c8840d",
   "metadata": {},
   "outputs": [
    {
     "name": "stderr",
     "output_type": "stream",
     "text": [
      "/var/folders/95/ms6dwls51ls1jq0t456d3r200000gn/T/ipykernel_47322/4203260843.py:1: FutureWarning: ['drive', 'eng_dscr', 'trany', 'guzzler', 'trans_dscr', 'tCharger', 'sCharger', 'atvType', 'fuelType2', 'rangeA', 'evMotor', 'mfrCode', 'c240Dscr', 'c240bDscr', 'startStop'] did not aggregate successfully. If any error is raised this will raise in a future version of pandas. Drop these columns/ops to avoid this warning.\n",
      "  df.aggregate(['sum','min'])\n"
     ]
    },
    {
     "data": {
      "text/html": [
       "<div>\n",
       "<style scoped>\n",
       "    .dataframe tbody tr th:only-of-type {\n",
       "        vertical-align: middle;\n",
       "    }\n",
       "\n",
       "    .dataframe tbody tr th {\n",
       "        vertical-align: top;\n",
       "    }\n",
       "\n",
       "    .dataframe thead th {\n",
       "        text-align: right;\n",
       "    }\n",
       "</style>\n",
       "<table border=\"1\" class=\"dataframe\">\n",
       "  <thead>\n",
       "    <tr style=\"text-align: right;\">\n",
       "      <th></th>\n",
       "      <th>barrels08</th>\n",
       "      <th>barrelsA08</th>\n",
       "      <th>charge120</th>\n",
       "      <th>charge240</th>\n",
       "      <th>city08</th>\n",
       "      <th>city08U</th>\n",
       "      <th>cityA08</th>\n",
       "      <th>cityA08U</th>\n",
       "      <th>cityCD</th>\n",
       "      <th>cityE</th>\n",
       "      <th>...</th>\n",
       "      <th>UHighwayA</th>\n",
       "      <th>VClass</th>\n",
       "      <th>year</th>\n",
       "      <th>youSaveSpend</th>\n",
       "      <th>charge240b</th>\n",
       "      <th>createdOn</th>\n",
       "      <th>modifiedOn</th>\n",
       "      <th>phevCity</th>\n",
       "      <th>phevHwy</th>\n",
       "      <th>phevComb</th>\n",
       "    </tr>\n",
       "  </thead>\n",
       "  <tbody>\n",
       "    <tr>\n",
       "      <th>sum</th>\n",
       "      <td>663482.629216</td>\n",
       "      <td>8180.492733</td>\n",
       "      <td>0.0</td>\n",
       "      <td>890.47</td>\n",
       "      <td>678956</td>\n",
       "      <td>152989.2948</td>\n",
       "      <td>19684</td>\n",
       "      <td>12380.8414</td>\n",
       "      <td>15.3788</td>\n",
       "      <td>6993.0246</td>\n",
       "      <td>...</td>\n",
       "      <td>35339.4972</td>\n",
       "      <td>Two SeatersTwo SeatersSubcompact CarsVansCompa...</td>\n",
       "      <td>75688437</td>\n",
       "      <td>-100624500</td>\n",
       "      <td>165.0</td>\n",
       "      <td>Tue Jan 01 00:00:00 EST 2013Tue Jan 01 00:00:0...</td>\n",
       "      <td>Tue Jan 01 00:00:00 EST 2013Tue Jan 01 00:00:0...</td>\n",
       "      <td>2623</td>\n",
       "      <td>2581</td>\n",
       "      <td>2595</td>\n",
       "    </tr>\n",
       "    <tr>\n",
       "      <th>min</th>\n",
       "      <td>0.060000</td>\n",
       "      <td>0.000000</td>\n",
       "      <td>0.0</td>\n",
       "      <td>0.00</td>\n",
       "      <td>6</td>\n",
       "      <td>0.0000</td>\n",
       "      <td>0</td>\n",
       "      <td>0.0000</td>\n",
       "      <td>0.0000</td>\n",
       "      <td>0.0000</td>\n",
       "      <td>...</td>\n",
       "      <td>0.0000</td>\n",
       "      <td>Compact Cars</td>\n",
       "      <td>1984</td>\n",
       "      <td>-22250</td>\n",
       "      <td>0.0</td>\n",
       "      <td>Fri Apr 11 00:00:00 EDT 2014</td>\n",
       "      <td>Fri Apr 01 00:00:00 EDT 2016</td>\n",
       "      <td>0</td>\n",
       "      <td>0</td>\n",
       "      <td>0</td>\n",
       "    </tr>\n",
       "  </tbody>\n",
       "</table>\n",
       "<p>2 rows × 68 columns</p>\n",
       "</div>"
      ],
      "text/plain": [
       "         barrels08   barrelsA08  charge120  charge240  city08      city08U  \\\n",
       "sum  663482.629216  8180.492733        0.0     890.47  678956  152989.2948   \n",
       "min       0.060000     0.000000        0.0       0.00       6       0.0000   \n",
       "\n",
       "     cityA08    cityA08U   cityCD      cityE  ...   UHighwayA  \\\n",
       "sum    19684  12380.8414  15.3788  6993.0246  ...  35339.4972   \n",
       "min        0      0.0000   0.0000     0.0000  ...      0.0000   \n",
       "\n",
       "                                                VClass      year  \\\n",
       "sum  Two SeatersTwo SeatersSubcompact CarsVansCompa...  75688437   \n",
       "min                                       Compact Cars      1984   \n",
       "\n",
       "     youSaveSpend  charge240b  \\\n",
       "sum    -100624500       165.0   \n",
       "min        -22250         0.0   \n",
       "\n",
       "                                             createdOn  \\\n",
       "sum  Tue Jan 01 00:00:00 EST 2013Tue Jan 01 00:00:0...   \n",
       "min                       Fri Apr 11 00:00:00 EDT 2014   \n",
       "\n",
       "                                            modifiedOn  phevCity  phevHwy  \\\n",
       "sum  Tue Jan 01 00:00:00 EST 2013Tue Jan 01 00:00:0...      2623     2581   \n",
       "min                       Fri Apr 01 00:00:00 EDT 2016         0        0   \n",
       "\n",
       "     phevComb  \n",
       "sum      2595  \n",
       "min         0  \n",
       "\n",
       "[2 rows x 68 columns]"
      ]
     },
     "execution_count": 84,
     "metadata": {},
     "output_type": "execute_result"
    }
   ],
   "source": [
    "df.aggregate(['sum','min'])"
   ]
  },
  {
   "cell_type": "code",
   "execution_count": 83,
   "id": "406b3071",
   "metadata": {},
   "outputs": [
    {
     "data": {
      "text/plain": [
       "(37843, 83)"
      ]
     },
     "execution_count": 83,
     "metadata": {},
     "output_type": "execute_result"
    }
   ],
   "source": [
    "df.shape"
   ]
  },
  {
   "cell_type": "code",
   "execution_count": 92,
   "id": "52701fc9",
   "metadata": {},
   "outputs": [
    {
     "data": {
      "text/html": [
       "<div>\n",
       "<style scoped>\n",
       "    .dataframe tbody tr th:only-of-type {\n",
       "        vertical-align: middle;\n",
       "    }\n",
       "\n",
       "    .dataframe tbody tr th {\n",
       "        vertical-align: top;\n",
       "    }\n",
       "\n",
       "    .dataframe thead th {\n",
       "        text-align: right;\n",
       "    }\n",
       "</style>\n",
       "<table border=\"1\" class=\"dataframe\">\n",
       "  <thead>\n",
       "    <tr style=\"text-align: right;\">\n",
       "      <th></th>\n",
       "      <th>barrels08</th>\n",
       "      <th>barrelsA08</th>\n",
       "      <th>charge120</th>\n",
       "    </tr>\n",
       "    <tr>\n",
       "      <th>fuelType</th>\n",
       "      <th></th>\n",
       "      <th></th>\n",
       "      <th></th>\n",
       "    </tr>\n",
       "  </thead>\n",
       "  <tbody>\n",
       "    <tr>\n",
       "      <th>CNG</th>\n",
       "      <td>7.187325</td>\n",
       "      <td>0.000000</td>\n",
       "      <td>5.0</td>\n",
       "    </tr>\n",
       "    <tr>\n",
       "      <th>Diesel</th>\n",
       "      <td>19041.210066</td>\n",
       "      <td>0.000000</td>\n",
       "      <td>5.0</td>\n",
       "    </tr>\n",
       "    <tr>\n",
       "      <th>Electricity</th>\n",
       "      <td>29.268000</td>\n",
       "      <td>0.000000</td>\n",
       "      <td>5.0</td>\n",
       "    </tr>\n",
       "    <tr>\n",
       "      <th>Gasoline or E85</th>\n",
       "      <td>23517.020087</td>\n",
       "      <td>6.034583</td>\n",
       "      <td>5.0</td>\n",
       "    </tr>\n",
       "    <tr>\n",
       "      <th>Gasoline or natural gas</th>\n",
       "      <td>474.518809</td>\n",
       "      <td>0.137911</td>\n",
       "      <td>5.0</td>\n",
       "    </tr>\n",
       "    <tr>\n",
       "      <th>Gasoline or propane</th>\n",
       "      <td>197.766000</td>\n",
       "      <td>8.157273</td>\n",
       "      <td>5.0</td>\n",
       "    </tr>\n",
       "    <tr>\n",
       "      <th>Midgrade</th>\n",
       "      <td>1418.074404</td>\n",
       "      <td>0.000000</td>\n",
       "      <td>5.0</td>\n",
       "    </tr>\n",
       "    <tr>\n",
       "      <th>Premium</th>\n",
       "      <td>178614.503159</td>\n",
       "      <td>0.000000</td>\n",
       "      <td>5.0</td>\n",
       "    </tr>\n",
       "    <tr>\n",
       "      <th>Premium Gas or Electricity</th>\n",
       "      <td>80.842002</td>\n",
       "      <td>0.264353</td>\n",
       "      <td>5.0</td>\n",
       "    </tr>\n",
       "    <tr>\n",
       "      <th>Premium and Electricity</th>\n",
       "      <td>162.705886</td>\n",
       "      <td>6.729094</td>\n",
       "      <td>5.0</td>\n",
       "    </tr>\n",
       "    <tr>\n",
       "      <th>Premium or E85</th>\n",
       "      <td>2059.556220</td>\n",
       "      <td>5.377062</td>\n",
       "      <td>5.0</td>\n",
       "    </tr>\n",
       "    <tr>\n",
       "      <th>Regular</th>\n",
       "      <td>437801.250996</td>\n",
       "      <td>0.000000</td>\n",
       "      <td>5.0</td>\n",
       "    </tr>\n",
       "    <tr>\n",
       "      <th>Regular Gas and Electricity</th>\n",
       "      <td>74.712573</td>\n",
       "      <td>3.547867</td>\n",
       "      <td>5.0</td>\n",
       "    </tr>\n",
       "    <tr>\n",
       "      <th>Regular Gas or Electricity</th>\n",
       "      <td>4.013688</td>\n",
       "      <td>0.186000</td>\n",
       "      <td>5.0</td>\n",
       "    </tr>\n",
       "  </tbody>\n",
       "</table>\n",
       "</div>"
      ],
      "text/plain": [
       "                                 barrels08  barrelsA08  charge120\n",
       "fuelType                                                         \n",
       "CNG                               7.187325    0.000000        5.0\n",
       "Diesel                        19041.210066    0.000000        5.0\n",
       "Electricity                      29.268000    0.000000        5.0\n",
       "Gasoline or E85               23517.020087    6.034583        5.0\n",
       "Gasoline or natural gas         474.518809    0.137911        5.0\n",
       "Gasoline or propane             197.766000    8.157273        5.0\n",
       "Midgrade                       1418.074404    0.000000        5.0\n",
       "Premium                      178614.503159    0.000000        5.0\n",
       "Premium Gas or Electricity       80.842002    0.264353        5.0\n",
       "Premium and Electricity         162.705886    6.729094        5.0\n",
       "Premium or E85                 2059.556220    5.377062        5.0\n",
       "Regular                      437801.250996    0.000000        5.0\n",
       "Regular Gas and Electricity      74.712573    3.547867        5.0\n",
       "Regular Gas or Electricity        4.013688    0.186000        5.0"
      ]
     },
     "execution_count": 92,
     "metadata": {},
     "output_type": "execute_result"
    }
   ],
   "source": [
    "df.groupby('fuelType').agg({'barrels08': sum,\n",
    "                            'barrelsA08': 'mean',\n",
    "                            'charge120': lambda x: sum(x)+5\n",
    "                           })"
   ]
  },
  {
   "cell_type": "markdown",
   "id": "87ae2b8a",
   "metadata": {},
   "source": [
    "### 7 Multifiltro"
   ]
  },
  {
   "cell_type": "code",
   "execution_count": 93,
   "id": "9d248fcb",
   "metadata": {},
   "outputs": [
    {
     "data": {
      "text/plain": [
       "array(['Regular', 'Premium', 'Diesel', 'CNG', 'Gasoline or natural gas',\n",
       "       'Gasoline or E85', 'Electricity', 'Gasoline or propane',\n",
       "       'Premium or E85', 'Midgrade', 'Premium Gas or Electricity',\n",
       "       'Regular Gas and Electricity', 'Premium and Electricity',\n",
       "       'Regular Gas or Electricity'], dtype=object)"
      ]
     },
     "execution_count": 93,
     "metadata": {},
     "output_type": "execute_result"
    }
   ],
   "source": [
    "df.fuelType.unique()"
   ]
  },
  {
   "cell_type": "code",
   "execution_count": 97,
   "id": "8ee72113",
   "metadata": {},
   "outputs": [
    {
     "data": {
      "text/plain": [
       "(26177, 83)"
      ]
     },
     "execution_count": 97,
     "metadata": {},
     "output_type": "execute_result"
    }
   ],
   "source": [
    "df[(df.fuelType=='Regular') | (df.fuelType=='Diesel')].shape"
   ]
  },
  {
   "cell_type": "code",
   "execution_count": 100,
   "id": "e8e3066a",
   "metadata": {},
   "outputs": [
    {
     "data": {
      "text/plain": [
       "(26177, 83)"
      ]
     },
     "execution_count": 100,
     "metadata": {},
     "output_type": "execute_result"
    }
   ],
   "source": [
    "filtro=['Regular', 'Diesel']\n",
    "\n",
    "df[df.fuelType.isin(filtro)].shape"
   ]
  },
  {
   "cell_type": "code",
   "execution_count": 105,
   "id": "528ca43f",
   "metadata": {},
   "outputs": [
    {
     "data": {
      "text/plain": [
       "(25223, 83)"
      ]
     },
     "execution_count": 105,
     "metadata": {},
     "output_type": "execute_result"
    }
   ],
   "source": [
    "df[(df.fuelType=='Regular') | (df.fuelType=='Diesel') & (df.displ<2)].shape"
   ]
  },
  {
   "cell_type": "code",
   "execution_count": 106,
   "id": "ece34c87",
   "metadata": {},
   "outputs": [
    {
     "data": {
      "text/plain": [
       "(2679, 83)"
      ]
     },
     "execution_count": 106,
     "metadata": {},
     "output_type": "execute_result"
    }
   ],
   "source": [
    "filtro_combustible=['Regular', 'Diesel']\n",
    "\n",
    "df[(df.fuelType.isin(filtro_combustible)) & (df.displ.isin([1.0, 2.0]))].shape"
   ]
  },
  {
   "cell_type": "markdown",
   "id": "aab07029",
   "metadata": {},
   "source": [
    "### 8 Drop duplicates"
   ]
  },
  {
   "cell_type": "code",
   "execution_count": 109,
   "id": "63496006",
   "metadata": {},
   "outputs": [
    {
     "data": {
      "text/plain": [
       "False"
      ]
     },
     "execution_count": 109,
     "metadata": {},
     "output_type": "execute_result"
    }
   ],
   "source": [
    "df.duplicated().any()   # no hay"
   ]
  },
  {
   "cell_type": "code",
   "execution_count": 110,
   "id": "3ebd600d",
   "metadata": {},
   "outputs": [
    {
     "data": {
      "text/plain": [
       "Index(['barrels08', 'barrelsA08', 'charge120', 'charge240', 'city08',\n",
       "       'city08U', 'cityA08', 'cityA08U', 'cityCD', 'cityE', 'cityUF', 'co2',\n",
       "       'co2A', 'co2TailpipeAGpm', 'co2TailpipeGpm', 'comb08', 'comb08U',\n",
       "       'combA08', 'combA08U', 'combE', 'combinedCD', 'combinedUF', 'cylinders',\n",
       "       'displ', 'drive', 'engId', 'eng_dscr', 'feScore', 'fuelCost08',\n",
       "       'fuelCostA08', 'fuelType', 'fuelType1', 'ghgScore', 'ghgScoreA',\n",
       "       'highway08', 'highway08U', 'highwayA08', 'highwayA08U', 'highwayCD',\n",
       "       'highwayE', 'highwayUF', 'hlv', 'hpv', 'id', 'lv2', 'lv4', 'make',\n",
       "       'model', 'mpgData', 'phevBlended', 'pv2', 'pv4', 'range', 'rangeCity',\n",
       "       'rangeCityA', 'rangeHwy', 'rangeHwyA', 'trany', 'UCity', 'UCityA',\n",
       "       'UHighway', 'UHighwayA', 'VClass', 'year', 'youSaveSpend', 'guzzler',\n",
       "       'trans_dscr', 'tCharger', 'sCharger', 'atvType', 'fuelType2', 'rangeA',\n",
       "       'evMotor', 'mfrCode', 'c240Dscr', 'charge240b', 'c240bDscr',\n",
       "       'createdOn', 'modifiedOn', 'startStop', 'phevCity', 'phevHwy',\n",
       "       'phevComb'],\n",
       "      dtype='object')"
      ]
     },
     "execution_count": 110,
     "metadata": {},
     "output_type": "execute_result"
    }
   ],
   "source": [
    "df.columns"
   ]
  },
  {
   "cell_type": "code",
   "execution_count": 112,
   "id": "9b369397",
   "metadata": {},
   "outputs": [],
   "source": [
    "muestra = df[['fuelCostA08', 'fuelType', 'fuelType1', 'ghgScore', 'ghgScoreA']]"
   ]
  },
  {
   "cell_type": "code",
   "execution_count": 113,
   "id": "a814090b",
   "metadata": {},
   "outputs": [
    {
     "data": {
      "text/plain": [
       "True"
      ]
     },
     "execution_count": 113,
     "metadata": {},
     "output_type": "execute_result"
    }
   ],
   "source": [
    "muestra.duplicated().any() "
   ]
  },
  {
   "cell_type": "code",
   "execution_count": 114,
   "id": "3cfeae08",
   "metadata": {},
   "outputs": [
    {
     "data": {
      "text/html": [
       "<div>\n",
       "<style scoped>\n",
       "    .dataframe tbody tr th:only-of-type {\n",
       "        vertical-align: middle;\n",
       "    }\n",
       "\n",
       "    .dataframe tbody tr th {\n",
       "        vertical-align: top;\n",
       "    }\n",
       "\n",
       "    .dataframe thead th {\n",
       "        text-align: right;\n",
       "    }\n",
       "</style>\n",
       "<table border=\"1\" class=\"dataframe\">\n",
       "  <thead>\n",
       "    <tr style=\"text-align: right;\">\n",
       "      <th></th>\n",
       "      <th>fuelCostA08</th>\n",
       "      <th>fuelType</th>\n",
       "      <th>fuelType1</th>\n",
       "      <th>ghgScore</th>\n",
       "      <th>ghgScoreA</th>\n",
       "    </tr>\n",
       "  </thead>\n",
       "  <tbody>\n",
       "    <tr>\n",
       "      <th>0</th>\n",
       "      <td>0</td>\n",
       "      <td>Regular</td>\n",
       "      <td>Regular Gasoline</td>\n",
       "      <td>-1</td>\n",
       "      <td>-1</td>\n",
       "    </tr>\n",
       "    <tr>\n",
       "      <th>1</th>\n",
       "      <td>0</td>\n",
       "      <td>Regular</td>\n",
       "      <td>Regular Gasoline</td>\n",
       "      <td>-1</td>\n",
       "      <td>-1</td>\n",
       "    </tr>\n",
       "    <tr>\n",
       "      <th>2</th>\n",
       "      <td>0</td>\n",
       "      <td>Regular</td>\n",
       "      <td>Regular Gasoline</td>\n",
       "      <td>-1</td>\n",
       "      <td>-1</td>\n",
       "    </tr>\n",
       "    <tr>\n",
       "      <th>3</th>\n",
       "      <td>0</td>\n",
       "      <td>Regular</td>\n",
       "      <td>Regular Gasoline</td>\n",
       "      <td>-1</td>\n",
       "      <td>-1</td>\n",
       "    </tr>\n",
       "    <tr>\n",
       "      <th>4</th>\n",
       "      <td>0</td>\n",
       "      <td>Premium</td>\n",
       "      <td>Premium Gasoline</td>\n",
       "      <td>-1</td>\n",
       "      <td>-1</td>\n",
       "    </tr>\n",
       "  </tbody>\n",
       "</table>\n",
       "</div>"
      ],
      "text/plain": [
       "   fuelCostA08 fuelType         fuelType1  ghgScore  ghgScoreA\n",
       "0            0  Regular  Regular Gasoline        -1         -1\n",
       "1            0  Regular  Regular Gasoline        -1         -1\n",
       "2            0  Regular  Regular Gasoline        -1         -1\n",
       "3            0  Regular  Regular Gasoline        -1         -1\n",
       "4            0  Premium  Premium Gasoline        -1         -1"
      ]
     },
     "execution_count": 114,
     "metadata": {},
     "output_type": "execute_result"
    }
   ],
   "source": [
    "muestra.head()"
   ]
  },
  {
   "cell_type": "code",
   "execution_count": 115,
   "id": "721eb558",
   "metadata": {},
   "outputs": [
    {
     "data": {
      "text/plain": [
       "(37843, 5)"
      ]
     },
     "execution_count": 115,
     "metadata": {},
     "output_type": "execute_result"
    }
   ],
   "source": [
    "muestra.shape"
   ]
  },
  {
   "cell_type": "code",
   "execution_count": 117,
   "id": "45a6ba3b",
   "metadata": {},
   "outputs": [
    {
     "name": "stderr",
     "output_type": "stream",
     "text": [
      "/var/folders/95/ms6dwls51ls1jq0t456d3r200000gn/T/ipykernel_47322/2738024278.py:1: SettingWithCopyWarning: \n",
      "A value is trying to be set on a copy of a slice from a DataFrame\n",
      "\n",
      "See the caveats in the documentation: https://pandas.pydata.org/pandas-docs/stable/user_guide/indexing.html#returning-a-view-versus-a-copy\n",
      "  muestra.drop_duplicates(inplace=True)\n"
     ]
    }
   ],
   "source": [
    "muestra.drop_duplicates(inplace=True)"
   ]
  },
  {
   "cell_type": "code",
   "execution_count": 118,
   "id": "a007b209",
   "metadata": {},
   "outputs": [
    {
     "data": {
      "text/plain": [
       "(160, 5)"
      ]
     },
     "execution_count": 118,
     "metadata": {},
     "output_type": "execute_result"
    }
   ],
   "source": [
    "muestra.shape"
   ]
  },
  {
   "cell_type": "markdown",
   "id": "4770f4de",
   "metadata": {},
   "source": [
    "### 9 transformacion de strings"
   ]
  },
  {
   "cell_type": "code",
   "execution_count": 123,
   "id": "c5d3812c",
   "metadata": {},
   "outputs": [
    {
     "data": {
      "text/plain": [
       "0     Womanual 5-spd\n",
       "1     Womanual 5-spd\n",
       "2     Womanual 5-spd\n",
       "3    Automatic 3-spd\n",
       "4     Womanual 5-spd\n",
       "Name: trany, dtype: object"
      ]
     },
     "execution_count": 123,
     "metadata": {},
     "output_type": "execute_result"
    }
   ],
   "source": [
    "df.trany.str.replace('Man', 'Woman').head()"
   ]
  },
  {
   "cell_type": "code",
   "execution_count": 148,
   "id": "82502a96",
   "metadata": {},
   "outputs": [],
   "source": [
    "def limpiar(x):\n",
    "    \n",
    "    try:\n",
    "        x = x.replace('Man', 'Woman')\n",
    "\n",
    "        return x \n",
    "    \n",
    "    except AttributeError:  # el objeto float no tiene replace\n",
    "        return 'hola'"
   ]
  },
  {
   "cell_type": "code",
   "execution_count": 142,
   "id": "ba996374",
   "metadata": {},
   "outputs": [],
   "source": [
    "def limpiar(x):\n",
    "    \n",
    "    if type(x)!=float:\n",
    "        x = x.replace('Man', 'Woman')\n",
    "\n",
    "        return x \n",
    "    \n",
    "    else:\n",
    "        \n",
    "        return 'hola'"
   ]
  },
  {
   "cell_type": "code",
   "execution_count": 143,
   "id": "77bd32f4",
   "metadata": {},
   "outputs": [
    {
     "data": {
      "text/plain": [
       "'hola'"
      ]
     },
     "execution_count": 143,
     "metadata": {},
     "output_type": "execute_result"
    }
   ],
   "source": [
    "x = []\n",
    "\n",
    "var = x if x else 'hola'\n",
    "\n",
    "var"
   ]
  },
  {
   "cell_type": "code",
   "execution_count": 144,
   "id": "dee45d89",
   "metadata": {},
   "outputs": [
    {
     "data": {
      "text/plain": [
       "'WoWomanual 5-spd'"
      ]
     },
     "execution_count": 144,
     "metadata": {},
     "output_type": "execute_result"
    }
   ],
   "source": [
    "limpiar('WoManual 5-spd')"
   ]
  },
  {
   "cell_type": "code",
   "execution_count": 150,
   "id": "b20b3b0b",
   "metadata": {},
   "outputs": [
    {
     "data": {
      "text/plain": [
       "0     Womanual 5-spd\n",
       "1     Womanual 5-spd\n",
       "2     Womanual 5-spd\n",
       "3    Automatic 3-spd\n",
       "4     Womanual 5-spd\n",
       "Name: trany, dtype: object"
      ]
     },
     "execution_count": 150,
     "metadata": {},
     "output_type": "execute_result"
    }
   ],
   "source": [
    "df.trany.apply(limpiar).head()"
   ]
  },
  {
   "cell_type": "code",
   "execution_count": 125,
   "id": "dcb0845b",
   "metadata": {},
   "outputs": [
    {
     "data": {
      "text/plain": [
       "0        [, ual 5-spd]\n",
       "1        [, ual 5-spd]\n",
       "2        [, ual 5-spd]\n",
       "3    [Automatic 3-spd]\n",
       "4        [, ual 5-spd]\n",
       "Name: trany, dtype: object"
      ]
     },
     "execution_count": 125,
     "metadata": {},
     "output_type": "execute_result"
    }
   ],
   "source": [
    "df.trany.str.split('Man').head()"
   ]
  },
  {
   "cell_type": "code",
   "execution_count": 126,
   "id": "0dd6c8ae",
   "metadata": {},
   "outputs": [
    {
     "data": {
      "text/plain": [
       "0          ual 5-spd\n",
       "1          ual 5-spd\n",
       "2          ual 5-spd\n",
       "3    Automatic 3-spd\n",
       "4          ual 5-spd\n",
       "Name: trany, dtype: object"
      ]
     },
     "execution_count": 126,
     "metadata": {},
     "output_type": "execute_result"
    }
   ],
   "source": [
    "df.trany.str.lstrip('Man').head()"
   ]
  },
  {
   "cell_type": "code",
   "execution_count": 151,
   "id": "f1898e0d",
   "metadata": {},
   "outputs": [
    {
     "data": {
      "text/plain": [
       "'odsngodfnoifeo'"
      ]
     },
     "execution_count": 151,
     "metadata": {},
     "output_type": "execute_result"
    }
   ],
   "source": [
    "'    odsngodfnoifeo'.lstrip()"
   ]
  },
  {
   "cell_type": "code",
   "execution_count": 153,
   "id": "b945af54",
   "metadata": {},
   "outputs": [
    {
     "data": {
      "text/plain": [
       "'odsngodfnoifeo'"
      ]
     },
     "execution_count": 153,
     "metadata": {},
     "output_type": "execute_result"
    }
   ],
   "source": [
    "'a    odsngodfnoifeo'.lstrip('a     ')"
   ]
  },
  {
   "cell_type": "code",
   "execution_count": 154,
   "id": "c1aa61d7",
   "metadata": {},
   "outputs": [
    {
     "data": {
      "text/plain": [
       "'odsngodfnoifeo'"
      ]
     },
     "execution_count": 154,
     "metadata": {},
     "output_type": "execute_result"
    }
   ],
   "source": [
    "'odsngodfnoifeo   '.rstrip()"
   ]
  },
  {
   "cell_type": "code",
   "execution_count": 155,
   "id": "a57b3f28",
   "metadata": {},
   "outputs": [
    {
     "data": {
      "text/plain": [
       "'odsngodfnoifeo'"
      ]
     },
     "execution_count": 155,
     "metadata": {},
     "output_type": "execute_result"
    }
   ],
   "source": [
    "'       odsngodfnoifeo      '.strip()"
   ]
  },
  {
   "cell_type": "code",
   "execution_count": 158,
   "id": "89588bb3",
   "metadata": {},
   "outputs": [
    {
     "data": {
      "text/plain": [
       "'a       odsngodfnoifeo'"
      ]
     },
     "execution_count": 158,
     "metadata": {},
     "output_type": "execute_result"
    }
   ],
   "source": [
    "'a       odsngodfnoifeo      '.strip()"
   ]
  },
  {
   "cell_type": "code",
   "execution_count": 160,
   "id": "a415d0f6",
   "metadata": {},
   "outputs": [
    {
     "data": {
      "text/plain": [
       "'odsngodfnoifeo'"
      ]
     },
     "execution_count": 160,
     "metadata": {},
     "output_type": "execute_result"
    }
   ],
   "source": [
    "'a       odsngodfnoifeo  a    '.strip('a     ')"
   ]
  },
  {
   "cell_type": "code",
   "execution_count": null,
   "id": "9aedfd93",
   "metadata": {},
   "outputs": [],
   "source": []
  }
 ],
 "metadata": {
  "kernelspec": {
   "display_name": "clase",
   "language": "python",
   "name": "clase"
  },
  "language_info": {
   "codemirror_mode": {
    "name": "ipython",
    "version": 3
   },
   "file_extension": ".py",
   "mimetype": "text/x-python",
   "name": "python",
   "nbconvert_exporter": "python",
   "pygments_lexer": "ipython3",
   "version": "3.9.12"
  }
 },
 "nbformat": 4,
 "nbformat_minor": 5
}
