{
 "cells": [
  {
   "cell_type": "markdown",
   "metadata": {},
   "source": [
    "# 1.2 - Intro Pandas (Panel Data)\n",
    "\n",
    "**[Documentación](https://pandas.pydata.org/docs/reference/index.html#api)**\n",
    "\n",
    "**[Código fuente](https://github.com/pandas-dev/pandas)**\n",
    "\n",
    "\n",
    "![pandas](images/pandas.png)\n",
    "\n",
    "\n",
    "Pandas es una librería de python especializada en el manejo y análisis de estructuras de datos.\n",
    "\n",
    "\n",
    "Las principales características de esta librería son:\n",
    "\n",
    "+ Define nuevas estructuras de datos basadas en los arrays de la librería NumPy pero con nuevas funcionalidades.\n",
    "+ Permite leer y escribir fácilmente ficheros en formato CSV, Excel y bases de datos SQL.\n",
    "+ Permite acceder a los datos mediante índices o nombres para filas y columnas.\n",
    "+ Ofrece métodos para reordenar, dividir y combinar conjuntos de datos.\n",
    "+ Permite trabajar con series temporales.\n",
    "+ Realiza todas estas operaciones de manera muy eficiente.\n",
    "\n",
    "\n",
    "**Tipos de datos de Pandas**\n",
    "Pandas dispone de dos estructuras de datos diferentes:\n",
    "\n",
    "+ Series: Estructura de una dimensión.\n",
    "+ DataFrame: Estructura de dos dimensiones (tablas).\n",
    "\n",
    "Estas estructuras se construyen a partir de arrays de la librería NumPy, añadiendo nuevas funcionalidades."
   ]
  },
  {
   "cell_type": "code",
   "execution_count": 1,
   "metadata": {},
   "outputs": [
    {
     "name": "stdout",
     "output_type": "stream",
     "text": [
      "Requirement already satisfied: pandas in /opt/homebrew/Caskroom/miniconda/base/envs/clase/lib/python3.9/site-packages (1.5.2)\n",
      "Requirement already satisfied: python-dateutil>=2.8.1 in /opt/homebrew/Caskroom/miniconda/base/envs/clase/lib/python3.9/site-packages (from pandas) (2.8.2)\n",
      "Requirement already satisfied: pytz>=2020.1 in /opt/homebrew/Caskroom/miniconda/base/envs/clase/lib/python3.9/site-packages (from pandas) (2022.7)\n",
      "Requirement already satisfied: numpy>=1.20.3 in /opt/homebrew/Caskroom/miniconda/base/envs/clase/lib/python3.9/site-packages (from pandas) (1.23.5)\n",
      "Requirement already satisfied: six>=1.5 in /opt/homebrew/Caskroom/miniconda/base/envs/clase/lib/python3.9/site-packages (from python-dateutil>=2.8.1->pandas) (1.16.0)\n",
      "\u001b[33mWARNING: Error parsing requirements for pyarrow: [Errno 21] Is a directory: '/opt/homebrew/Caskroom/miniconda/base/envs/clase/lib/python3.9/site-packages/pyarrow-10.0.1.dist-info/METADATA'\u001b[0m\u001b[33m\n",
      "\u001b[0mNote: you may need to restart the kernel to use updated packages.\n"
     ]
    }
   ],
   "source": [
    "%pip install pandas"
   ]
  },
  {
   "cell_type": "code",
   "execution_count": 2,
   "metadata": {},
   "outputs": [],
   "source": [
    "import pandas as pd"
   ]
  },
  {
   "cell_type": "code",
   "execution_count": 3,
   "metadata": {},
   "outputs": [],
   "source": [
    "import numpy as np"
   ]
  },
  {
   "cell_type": "code",
   "execution_count": 4,
   "metadata": {},
   "outputs": [],
   "source": [
    "import warnings\n",
    "\n",
    "warnings.filterwarnings('ignore')"
   ]
  },
  {
   "cell_type": "markdown",
   "metadata": {},
   "source": [
    "### Serie\n",
    "\n",
    "Son estructuras similares a los arrays de una dimensión. Son homogéneas, es decir, sus elementos tienen que ser del mismo tipo, y su tamaño es inmutable, es decir, no se puede cambiar, aunque si su contenido.\n",
    "\n",
    "Dispone de un índice que asocia un nombre a cada elemento del la serie, a través de la cuál se accede al elemento."
   ]
  },
  {
   "cell_type": "code",
   "execution_count": 5,
   "metadata": {},
   "outputs": [
    {
     "data": {
      "text/plain": [
       "[11.559999999999999,\n",
       " 19.360000000000003,\n",
       " 29.160000000000004,\n",
       " 40.96000000000001,\n",
       " 54.760000000000005,\n",
       " 70.56,\n",
       " 88.36000000000001,\n",
       " 108.16000000000001,\n",
       " 129.96,\n",
       " 153.76000000000002]"
      ]
     },
     "execution_count": 5,
     "metadata": {},
     "output_type": "execute_result"
    }
   ],
   "source": [
    "lst = [(3.4 + i)**2 for i in range(10)]\n",
    "\n",
    "lst"
   ]
  },
  {
   "cell_type": "code",
   "execution_count": 6,
   "metadata": {},
   "outputs": [],
   "source": [
    "lst.append('hola')"
   ]
  },
  {
   "cell_type": "code",
   "execution_count": 7,
   "metadata": {},
   "outputs": [
    {
     "data": {
      "text/plain": [
       "0      11.56\n",
       "1      19.36\n",
       "2      29.16\n",
       "3      40.96\n",
       "4      54.76\n",
       "5      70.56\n",
       "6      88.36\n",
       "7     108.16\n",
       "8     129.96\n",
       "9     153.76\n",
       "10      hola\n",
       "dtype: object"
      ]
     },
     "execution_count": 7,
     "metadata": {},
     "output_type": "execute_result"
    }
   ],
   "source": [
    "serie = pd.Series(lst)\n",
    "\n",
    "serie"
   ]
  },
  {
   "cell_type": "code",
   "execution_count": 8,
   "metadata": {},
   "outputs": [
    {
     "data": {
      "text/plain": [
       "0      11.56\n",
       "1      19.36\n",
       "2       hola\n",
       "3      40.96\n",
       "4      54.76\n",
       "5      70.56\n",
       "6      88.36\n",
       "7     108.16\n",
       "8     129.96\n",
       "9     153.76\n",
       "10      hola\n",
       "dtype: object"
      ]
     },
     "execution_count": 8,
     "metadata": {},
     "output_type": "execute_result"
    }
   ],
   "source": [
    "serie[2]='hola'\n",
    "\n",
    "serie"
   ]
  },
  {
   "cell_type": "code",
   "execution_count": 9,
   "metadata": {},
   "outputs": [
    {
     "data": {
      "text/plain": [
       "float"
      ]
     },
     "execution_count": 9,
     "metadata": {},
     "output_type": "execute_result"
    }
   ],
   "source": [
    "type(serie[0])"
   ]
  },
  {
   "cell_type": "code",
   "execution_count": 10,
   "metadata": {},
   "outputs": [
    {
     "data": {
      "text/plain": [
       "str"
      ]
     },
     "execution_count": 10,
     "metadata": {},
     "output_type": "execute_result"
    }
   ],
   "source": [
    "type(serie[2])"
   ]
  },
  {
   "cell_type": "code",
   "execution_count": 11,
   "metadata": {},
   "outputs": [],
   "source": [
    "#help(serie)"
   ]
  },
  {
   "cell_type": "code",
   "execution_count": 12,
   "metadata": {},
   "outputs": [
    {
     "data": {
      "text/plain": [
       "0    11.56\n",
       "1    19.36\n",
       "2     hola\n",
       "3    40.96\n",
       "4    54.76\n",
       "dtype: object"
      ]
     },
     "execution_count": 12,
     "metadata": {},
     "output_type": "execute_result"
    }
   ],
   "source": [
    "serie.head()    # la cabeza, 5 primeros por defecto"
   ]
  },
  {
   "cell_type": "code",
   "execution_count": 13,
   "metadata": {},
   "outputs": [
    {
     "data": {
      "text/plain": [
       "0     11.56\n",
       "1     19.36\n",
       "2      hola\n",
       "3     40.96\n",
       "4     54.76\n",
       "5     70.56\n",
       "6     88.36\n",
       "7    108.16\n",
       "8    129.96\n",
       "9    153.76\n",
       "dtype: object"
      ]
     },
     "execution_count": 13,
     "metadata": {},
     "output_type": "execute_result"
    }
   ],
   "source": [
    "serie.head(10) "
   ]
  },
  {
   "cell_type": "code",
   "execution_count": 14,
   "metadata": {},
   "outputs": [
    {
     "data": {
      "text/plain": [
       "6      88.36\n",
       "7     108.16\n",
       "8     129.96\n",
       "9     153.76\n",
       "10      hola\n",
       "dtype: object"
      ]
     },
     "execution_count": 14,
     "metadata": {},
     "output_type": "execute_result"
    }
   ],
   "source": [
    "serie.tail() "
   ]
  },
  {
   "cell_type": "code",
   "execution_count": 15,
   "metadata": {},
   "outputs": [
    {
     "data": {
      "text/plain": [
       "RangeIndex(start=0, stop=11, step=1)"
      ]
     },
     "execution_count": 15,
     "metadata": {},
     "output_type": "execute_result"
    }
   ],
   "source": [
    "serie.index"
   ]
  },
  {
   "cell_type": "code",
   "execution_count": 16,
   "metadata": {},
   "outputs": [
    {
     "data": {
      "text/plain": [
       "(11,)"
      ]
     },
     "execution_count": 16,
     "metadata": {},
     "output_type": "execute_result"
    }
   ],
   "source": [
    "serie.shape"
   ]
  },
  {
   "cell_type": "code",
   "execution_count": 17,
   "metadata": {},
   "outputs": [
    {
     "data": {
      "text/plain": [
       "q     11.56\n",
       "t     19.36\n",
       "y      hola\n",
       "o     40.96\n",
       "p     54.76\n",
       "a     70.56\n",
       "s     88.36\n",
       "d    108.16\n",
       "f    129.96\n",
       "g    153.76\n",
       "v      hola\n",
       "dtype: object"
      ]
     },
     "execution_count": 17,
     "metadata": {},
     "output_type": "execute_result"
    }
   ],
   "source": [
    "serie.index = ['q', 't', 'y', 'o', 'p', 'a', 's', 'd', 'f', 'g', 'v']\n",
    "\n",
    "serie"
   ]
  },
  {
   "cell_type": "code",
   "execution_count": 18,
   "metadata": {},
   "outputs": [
    {
     "data": {
      "text/plain": [
       "11.559999999999999"
      ]
     },
     "execution_count": 18,
     "metadata": {},
     "output_type": "execute_result"
    }
   ],
   "source": [
    "serie[0]"
   ]
  },
  {
   "cell_type": "code",
   "execution_count": 19,
   "metadata": {},
   "outputs": [
    {
     "data": {
      "text/plain": [
       "11.559999999999999"
      ]
     },
     "execution_count": 19,
     "metadata": {},
     "output_type": "execute_result"
    }
   ],
   "source": [
    "serie['q']"
   ]
  },
  {
   "cell_type": "code",
   "execution_count": 20,
   "metadata": {},
   "outputs": [
    {
     "data": {
      "text/plain": [
       "{'q': 11.559999999999999,\n",
       " 't': 19.360000000000003,\n",
       " 'y': 'hola',\n",
       " 'o': 40.96000000000001,\n",
       " 'p': 54.760000000000005,\n",
       " 'a': 70.56,\n",
       " 's': 88.36000000000001,\n",
       " 'd': 108.16000000000001,\n",
       " 'f': 129.96,\n",
       " 'g': 153.76000000000002,\n",
       " 'v': 'hola'}"
      ]
     },
     "execution_count": 20,
     "metadata": {},
     "output_type": "execute_result"
    }
   ],
   "source": [
    "serie.to_dict()"
   ]
  },
  {
   "cell_type": "code",
   "execution_count": 21,
   "metadata": {},
   "outputs": [
    {
     "data": {
      "text/html": [
       "<div>\n",
       "<style scoped>\n",
       "    .dataframe tbody tr th:only-of-type {\n",
       "        vertical-align: middle;\n",
       "    }\n",
       "\n",
       "    .dataframe tbody tr th {\n",
       "        vertical-align: top;\n",
       "    }\n",
       "\n",
       "    .dataframe thead th {\n",
       "        text-align: right;\n",
       "    }\n",
       "</style>\n",
       "<table border=\"1\" class=\"dataframe\">\n",
       "  <thead>\n",
       "    <tr style=\"text-align: right;\">\n",
       "      <th></th>\n",
       "      <th>0</th>\n",
       "    </tr>\n",
       "  </thead>\n",
       "  <tbody>\n",
       "    <tr>\n",
       "      <th>q</th>\n",
       "      <td>11.56</td>\n",
       "    </tr>\n",
       "    <tr>\n",
       "      <th>t</th>\n",
       "      <td>19.36</td>\n",
       "    </tr>\n",
       "    <tr>\n",
       "      <th>y</th>\n",
       "      <td>hola</td>\n",
       "    </tr>\n",
       "    <tr>\n",
       "      <th>o</th>\n",
       "      <td>40.96</td>\n",
       "    </tr>\n",
       "    <tr>\n",
       "      <th>p</th>\n",
       "      <td>54.76</td>\n",
       "    </tr>\n",
       "    <tr>\n",
       "      <th>a</th>\n",
       "      <td>70.56</td>\n",
       "    </tr>\n",
       "    <tr>\n",
       "      <th>s</th>\n",
       "      <td>88.36</td>\n",
       "    </tr>\n",
       "    <tr>\n",
       "      <th>d</th>\n",
       "      <td>108.16</td>\n",
       "    </tr>\n",
       "    <tr>\n",
       "      <th>f</th>\n",
       "      <td>129.96</td>\n",
       "    </tr>\n",
       "    <tr>\n",
       "      <th>g</th>\n",
       "      <td>153.76</td>\n",
       "    </tr>\n",
       "    <tr>\n",
       "      <th>v</th>\n",
       "      <td>hola</td>\n",
       "    </tr>\n",
       "  </tbody>\n",
       "</table>\n",
       "</div>"
      ],
      "text/plain": [
       "        0\n",
       "q   11.56\n",
       "t   19.36\n",
       "y    hola\n",
       "o   40.96\n",
       "p   54.76\n",
       "a   70.56\n",
       "s   88.36\n",
       "d  108.16\n",
       "f  129.96\n",
       "g  153.76\n",
       "v    hola"
      ]
     },
     "execution_count": 21,
     "metadata": {},
     "output_type": "execute_result"
    }
   ],
   "source": [
    "serie.to_frame()"
   ]
  },
  {
   "cell_type": "code",
   "execution_count": 22,
   "metadata": {},
   "outputs": [
    {
     "data": {
      "text/plain": [
       "(11, 1)"
      ]
     },
     "execution_count": 22,
     "metadata": {},
     "output_type": "execute_result"
    }
   ],
   "source": [
    "serie.to_frame().shape"
   ]
  },
  {
   "cell_type": "markdown",
   "metadata": {},
   "source": [
    "### DataFrame\n",
    "\n",
    "Un objeto del tipo DataFrame define un conjunto de datos estructurado en forma de tabla donde cada columna es un objeto de tipo Series, es decir, todos los datos de una misma columna son del mismo tipo, y las filas son registros que pueden contender datos de distintos tipos.\n",
    "\n",
    "Un DataFrame contiene dos índices, uno para las filas y otro para las columnas, y se puede acceder a sus elementos mediante los nombres de las filas y las columnas."
   ]
  },
  {
   "cell_type": "code",
   "execution_count": 23,
   "metadata": {},
   "outputs": [
    {
     "data": {
      "text/plain": [
       "array([[0.35933884, 0.63854683, 0.59038904, 0.62835423, 0.6552042 ],\n",
       "       [0.13043818, 0.31811479, 0.02432246, 0.59842842, 0.35008353],\n",
       "       [0.27860645, 0.73718369, 0.10505254, 0.92342884, 0.97071581],\n",
       "       [0.7752517 , 0.27969096, 0.43244209, 0.90127785, 0.99318389],\n",
       "       [0.46071881, 0.92056973, 0.54019119, 0.00414845, 0.74703018],\n",
       "       [0.95935814, 0.87222316, 0.10033472, 0.23299002, 0.63385998],\n",
       "       [0.23347625, 0.55031907, 0.09222117, 0.66250078, 0.35227427],\n",
       "       [0.15568885, 0.83083693, 0.81115762, 0.56001674, 0.92826593],\n",
       "       [0.80666256, 0.19305189, 0.39513005, 0.15598495, 0.05682995],\n",
       "       [0.17033105, 0.29363353, 0.18875597, 0.44625741, 0.124136  ]])"
      ]
     },
     "execution_count": 23,
     "metadata": {},
     "output_type": "execute_result"
    }
   ],
   "source": [
    "columnas=['col1', 'col2', 'col 3', 'col4', 'col5']\n",
    "\n",
    "array=np.random.random((10, 5))\n",
    "\n",
    "array"
   ]
  },
  {
   "cell_type": "code",
   "execution_count": 24,
   "metadata": {},
   "outputs": [
    {
     "data": {
      "text/html": [
       "<div>\n",
       "<style scoped>\n",
       "    .dataframe tbody tr th:only-of-type {\n",
       "        vertical-align: middle;\n",
       "    }\n",
       "\n",
       "    .dataframe tbody tr th {\n",
       "        vertical-align: top;\n",
       "    }\n",
       "\n",
       "    .dataframe thead th {\n",
       "        text-align: right;\n",
       "    }\n",
       "</style>\n",
       "<table border=\"1\" class=\"dataframe\">\n",
       "  <thead>\n",
       "    <tr style=\"text-align: right;\">\n",
       "      <th></th>\n",
       "      <th>col1</th>\n",
       "      <th>col2</th>\n",
       "      <th>col 3</th>\n",
       "      <th>col4</th>\n",
       "      <th>col5</th>\n",
       "    </tr>\n",
       "  </thead>\n",
       "  <tbody>\n",
       "    <tr>\n",
       "      <th>0</th>\n",
       "      <td>0.359339</td>\n",
       "      <td>0.638547</td>\n",
       "      <td>0.590389</td>\n",
       "      <td>0.628354</td>\n",
       "      <td>0.655204</td>\n",
       "    </tr>\n",
       "    <tr>\n",
       "      <th>1</th>\n",
       "      <td>0.130438</td>\n",
       "      <td>0.318115</td>\n",
       "      <td>0.024322</td>\n",
       "      <td>0.598428</td>\n",
       "      <td>0.350084</td>\n",
       "    </tr>\n",
       "    <tr>\n",
       "      <th>2</th>\n",
       "      <td>0.278606</td>\n",
       "      <td>0.737184</td>\n",
       "      <td>0.105053</td>\n",
       "      <td>0.923429</td>\n",
       "      <td>0.970716</td>\n",
       "    </tr>\n",
       "    <tr>\n",
       "      <th>3</th>\n",
       "      <td>0.775252</td>\n",
       "      <td>0.279691</td>\n",
       "      <td>0.432442</td>\n",
       "      <td>0.901278</td>\n",
       "      <td>0.993184</td>\n",
       "    </tr>\n",
       "    <tr>\n",
       "      <th>4</th>\n",
       "      <td>0.460719</td>\n",
       "      <td>0.920570</td>\n",
       "      <td>0.540191</td>\n",
       "      <td>0.004148</td>\n",
       "      <td>0.747030</td>\n",
       "    </tr>\n",
       "    <tr>\n",
       "      <th>5</th>\n",
       "      <td>0.959358</td>\n",
       "      <td>0.872223</td>\n",
       "      <td>0.100335</td>\n",
       "      <td>0.232990</td>\n",
       "      <td>0.633860</td>\n",
       "    </tr>\n",
       "    <tr>\n",
       "      <th>6</th>\n",
       "      <td>0.233476</td>\n",
       "      <td>0.550319</td>\n",
       "      <td>0.092221</td>\n",
       "      <td>0.662501</td>\n",
       "      <td>0.352274</td>\n",
       "    </tr>\n",
       "    <tr>\n",
       "      <th>7</th>\n",
       "      <td>0.155689</td>\n",
       "      <td>0.830837</td>\n",
       "      <td>0.811158</td>\n",
       "      <td>0.560017</td>\n",
       "      <td>0.928266</td>\n",
       "    </tr>\n",
       "    <tr>\n",
       "      <th>8</th>\n",
       "      <td>0.806663</td>\n",
       "      <td>0.193052</td>\n",
       "      <td>0.395130</td>\n",
       "      <td>0.155985</td>\n",
       "      <td>0.056830</td>\n",
       "    </tr>\n",
       "    <tr>\n",
       "      <th>9</th>\n",
       "      <td>0.170331</td>\n",
       "      <td>0.293634</td>\n",
       "      <td>0.188756</td>\n",
       "      <td>0.446257</td>\n",
       "      <td>0.124136</td>\n",
       "    </tr>\n",
       "  </tbody>\n",
       "</table>\n",
       "</div>"
      ],
      "text/plain": [
       "       col1      col2     col 3      col4      col5\n",
       "0  0.359339  0.638547  0.590389  0.628354  0.655204\n",
       "1  0.130438  0.318115  0.024322  0.598428  0.350084\n",
       "2  0.278606  0.737184  0.105053  0.923429  0.970716\n",
       "3  0.775252  0.279691  0.432442  0.901278  0.993184\n",
       "4  0.460719  0.920570  0.540191  0.004148  0.747030\n",
       "5  0.959358  0.872223  0.100335  0.232990  0.633860\n",
       "6  0.233476  0.550319  0.092221  0.662501  0.352274\n",
       "7  0.155689  0.830837  0.811158  0.560017  0.928266\n",
       "8  0.806663  0.193052  0.395130  0.155985  0.056830\n",
       "9  0.170331  0.293634  0.188756  0.446257  0.124136"
      ]
     },
     "metadata": {},
     "output_type": "display_data"
    }
   ],
   "source": [
    "df = pd.DataFrame(array, columns=columnas)\n",
    "\n",
    "display(df)"
   ]
  },
  {
   "cell_type": "code",
   "execution_count": 25,
   "metadata": {},
   "outputs": [
    {
     "data": {
      "text/plain": [
       "0    0.590389\n",
       "1    0.024322\n",
       "2    0.105053\n",
       "3    0.432442\n",
       "4    0.540191\n",
       "5    0.100335\n",
       "6    0.092221\n",
       "7    0.811158\n",
       "8    0.395130\n",
       "9    0.188756\n",
       "Name: col 3, dtype: float64"
      ]
     },
     "execution_count": 25,
     "metadata": {},
     "output_type": "execute_result"
    }
   ],
   "source": [
    "df['col 3']"
   ]
  },
  {
   "cell_type": "code",
   "execution_count": 26,
   "metadata": {},
   "outputs": [
    {
     "ename": "SyntaxError",
     "evalue": "invalid syntax (3887910251.py, line 1)",
     "output_type": "error",
     "traceback": [
      "\u001b[0;36m  Cell \u001b[0;32mIn[26], line 1\u001b[0;36m\u001b[0m\n\u001b[0;31m    df.col 3\u001b[0m\n\u001b[0m           ^\u001b[0m\n\u001b[0;31mSyntaxError\u001b[0m\u001b[0;31m:\u001b[0m invalid syntax\n"
     ]
    }
   ],
   "source": [
    "df.col 3"
   ]
  },
  {
   "cell_type": "code",
   "execution_count": 27,
   "metadata": {},
   "outputs": [
    {
     "data": {
      "text/html": [
       "<div>\n",
       "<style scoped>\n",
       "    .dataframe tbody tr th:only-of-type {\n",
       "        vertical-align: middle;\n",
       "    }\n",
       "\n",
       "    .dataframe tbody tr th {\n",
       "        vertical-align: top;\n",
       "    }\n",
       "\n",
       "    .dataframe thead th {\n",
       "        text-align: right;\n",
       "    }\n",
       "</style>\n",
       "<table border=\"1\" class=\"dataframe\">\n",
       "  <thead>\n",
       "    <tr style=\"text-align: right;\">\n",
       "      <th></th>\n",
       "      <th>col1</th>\n",
       "      <th>col2</th>\n",
       "      <th>col_3</th>\n",
       "      <th>col4</th>\n",
       "      <th>col5</th>\n",
       "    </tr>\n",
       "  </thead>\n",
       "  <tbody>\n",
       "    <tr>\n",
       "      <th>0</th>\n",
       "      <td>0.359339</td>\n",
       "      <td>0.638547</td>\n",
       "      <td>0.590389</td>\n",
       "      <td>0.628354</td>\n",
       "      <td>0.655204</td>\n",
       "    </tr>\n",
       "    <tr>\n",
       "      <th>1</th>\n",
       "      <td>0.130438</td>\n",
       "      <td>0.318115</td>\n",
       "      <td>0.024322</td>\n",
       "      <td>0.598428</td>\n",
       "      <td>0.350084</td>\n",
       "    </tr>\n",
       "    <tr>\n",
       "      <th>2</th>\n",
       "      <td>0.278606</td>\n",
       "      <td>0.737184</td>\n",
       "      <td>0.105053</td>\n",
       "      <td>0.923429</td>\n",
       "      <td>0.970716</td>\n",
       "    </tr>\n",
       "    <tr>\n",
       "      <th>3</th>\n",
       "      <td>0.775252</td>\n",
       "      <td>0.279691</td>\n",
       "      <td>0.432442</td>\n",
       "      <td>0.901278</td>\n",
       "      <td>0.993184</td>\n",
       "    </tr>\n",
       "    <tr>\n",
       "      <th>4</th>\n",
       "      <td>0.460719</td>\n",
       "      <td>0.920570</td>\n",
       "      <td>0.540191</td>\n",
       "      <td>0.004148</td>\n",
       "      <td>0.747030</td>\n",
       "    </tr>\n",
       "    <tr>\n",
       "      <th>5</th>\n",
       "      <td>0.959358</td>\n",
       "      <td>0.872223</td>\n",
       "      <td>0.100335</td>\n",
       "      <td>0.232990</td>\n",
       "      <td>0.633860</td>\n",
       "    </tr>\n",
       "    <tr>\n",
       "      <th>6</th>\n",
       "      <td>0.233476</td>\n",
       "      <td>0.550319</td>\n",
       "      <td>0.092221</td>\n",
       "      <td>0.662501</td>\n",
       "      <td>0.352274</td>\n",
       "    </tr>\n",
       "    <tr>\n",
       "      <th>7</th>\n",
       "      <td>0.155689</td>\n",
       "      <td>0.830837</td>\n",
       "      <td>0.811158</td>\n",
       "      <td>0.560017</td>\n",
       "      <td>0.928266</td>\n",
       "    </tr>\n",
       "    <tr>\n",
       "      <th>8</th>\n",
       "      <td>0.806663</td>\n",
       "      <td>0.193052</td>\n",
       "      <td>0.395130</td>\n",
       "      <td>0.155985</td>\n",
       "      <td>0.056830</td>\n",
       "    </tr>\n",
       "    <tr>\n",
       "      <th>9</th>\n",
       "      <td>0.170331</td>\n",
       "      <td>0.293634</td>\n",
       "      <td>0.188756</td>\n",
       "      <td>0.446257</td>\n",
       "      <td>0.124136</td>\n",
       "    </tr>\n",
       "  </tbody>\n",
       "</table>\n",
       "</div>"
      ],
      "text/plain": [
       "       col1      col2     col_3      col4      col5\n",
       "0  0.359339  0.638547  0.590389  0.628354  0.655204\n",
       "1  0.130438  0.318115  0.024322  0.598428  0.350084\n",
       "2  0.278606  0.737184  0.105053  0.923429  0.970716\n",
       "3  0.775252  0.279691  0.432442  0.901278  0.993184\n",
       "4  0.460719  0.920570  0.540191  0.004148  0.747030\n",
       "5  0.959358  0.872223  0.100335  0.232990  0.633860\n",
       "6  0.233476  0.550319  0.092221  0.662501  0.352274\n",
       "7  0.155689  0.830837  0.811158  0.560017  0.928266\n",
       "8  0.806663  0.193052  0.395130  0.155985  0.056830\n",
       "9  0.170331  0.293634  0.188756  0.446257  0.124136"
      ]
     },
     "execution_count": 27,
     "metadata": {},
     "output_type": "execute_result"
    }
   ],
   "source": [
    "df.columns = [c.replace(' ', '_') for c in df.columns]\n",
    "\n",
    "df"
   ]
  },
  {
   "cell_type": "code",
   "execution_count": 28,
   "metadata": {},
   "outputs": [
    {
     "data": {
      "text/plain": [
       "0    0.590389\n",
       "1    0.024322\n",
       "2    0.105053\n",
       "3    0.432442\n",
       "4    0.540191\n",
       "5    0.100335\n",
       "6    0.092221\n",
       "7    0.811158\n",
       "8    0.395130\n",
       "9    0.188756\n",
       "Name: col_3, dtype: float64"
      ]
     },
     "execution_count": 28,
     "metadata": {},
     "output_type": "execute_result"
    }
   ],
   "source": [
    "df.col_3"
   ]
  },
  {
   "cell_type": "code",
   "execution_count": 29,
   "metadata": {},
   "outputs": [
    {
     "data": {
      "text/plain": [
       "0    0.359339\n",
       "1    0.130438\n",
       "2    0.278606\n",
       "3    0.775252\n",
       "4    0.460719\n",
       "5    0.959358\n",
       "6    0.233476\n",
       "7    0.155689\n",
       "8    0.806663\n",
       "9    0.170331\n",
       "Name: col1, dtype: float64"
      ]
     },
     "execution_count": 29,
     "metadata": {},
     "output_type": "execute_result"
    }
   ],
   "source": [
    "df.col1"
   ]
  },
  {
   "cell_type": "code",
   "execution_count": 30,
   "metadata": {},
   "outputs": [
    {
     "data": {
      "text/html": [
       "<div>\n",
       "<style scoped>\n",
       "    .dataframe tbody tr th:only-of-type {\n",
       "        vertical-align: middle;\n",
       "    }\n",
       "\n",
       "    .dataframe tbody tr th {\n",
       "        vertical-align: top;\n",
       "    }\n",
       "\n",
       "    .dataframe thead th {\n",
       "        text-align: right;\n",
       "    }\n",
       "</style>\n",
       "<table border=\"1\" class=\"dataframe\">\n",
       "  <thead>\n",
       "    <tr style=\"text-align: right;\">\n",
       "      <th></th>\n",
       "      <th>col1</th>\n",
       "      <th>col4</th>\n",
       "    </tr>\n",
       "  </thead>\n",
       "  <tbody>\n",
       "    <tr>\n",
       "      <th>0</th>\n",
       "      <td>0.359339</td>\n",
       "      <td>0.628354</td>\n",
       "    </tr>\n",
       "    <tr>\n",
       "      <th>1</th>\n",
       "      <td>0.130438</td>\n",
       "      <td>0.598428</td>\n",
       "    </tr>\n",
       "    <tr>\n",
       "      <th>2</th>\n",
       "      <td>0.278606</td>\n",
       "      <td>0.923429</td>\n",
       "    </tr>\n",
       "    <tr>\n",
       "      <th>3</th>\n",
       "      <td>0.775252</td>\n",
       "      <td>0.901278</td>\n",
       "    </tr>\n",
       "    <tr>\n",
       "      <th>4</th>\n",
       "      <td>0.460719</td>\n",
       "      <td>0.004148</td>\n",
       "    </tr>\n",
       "    <tr>\n",
       "      <th>5</th>\n",
       "      <td>0.959358</td>\n",
       "      <td>0.232990</td>\n",
       "    </tr>\n",
       "    <tr>\n",
       "      <th>6</th>\n",
       "      <td>0.233476</td>\n",
       "      <td>0.662501</td>\n",
       "    </tr>\n",
       "    <tr>\n",
       "      <th>7</th>\n",
       "      <td>0.155689</td>\n",
       "      <td>0.560017</td>\n",
       "    </tr>\n",
       "    <tr>\n",
       "      <th>8</th>\n",
       "      <td>0.806663</td>\n",
       "      <td>0.155985</td>\n",
       "    </tr>\n",
       "    <tr>\n",
       "      <th>9</th>\n",
       "      <td>0.170331</td>\n",
       "      <td>0.446257</td>\n",
       "    </tr>\n",
       "  </tbody>\n",
       "</table>\n",
       "</div>"
      ],
      "text/plain": [
       "       col1      col4\n",
       "0  0.359339  0.628354\n",
       "1  0.130438  0.598428\n",
       "2  0.278606  0.923429\n",
       "3  0.775252  0.901278\n",
       "4  0.460719  0.004148\n",
       "5  0.959358  0.232990\n",
       "6  0.233476  0.662501\n",
       "7  0.155689  0.560017\n",
       "8  0.806663  0.155985\n",
       "9  0.170331  0.446257"
      ]
     },
     "execution_count": 30,
     "metadata": {},
     "output_type": "execute_result"
    }
   ],
   "source": [
    "select_cols = ['col1', 'col4']\n",
    "\n",
    "df[select_cols]"
   ]
  },
  {
   "cell_type": "code",
   "execution_count": 31,
   "metadata": {},
   "outputs": [
    {
     "data": {
      "text/html": [
       "<div>\n",
       "<style scoped>\n",
       "    .dataframe tbody tr th:only-of-type {\n",
       "        vertical-align: middle;\n",
       "    }\n",
       "\n",
       "    .dataframe tbody tr th {\n",
       "        vertical-align: top;\n",
       "    }\n",
       "\n",
       "    .dataframe thead th {\n",
       "        text-align: right;\n",
       "    }\n",
       "</style>\n",
       "<table border=\"1\" class=\"dataframe\">\n",
       "  <thead>\n",
       "    <tr style=\"text-align: right;\">\n",
       "      <th></th>\n",
       "      <th>col1</th>\n",
       "      <th>col4</th>\n",
       "    </tr>\n",
       "  </thead>\n",
       "  <tbody>\n",
       "    <tr>\n",
       "      <th>0</th>\n",
       "      <td>0.359339</td>\n",
       "      <td>0.628354</td>\n",
       "    </tr>\n",
       "    <tr>\n",
       "      <th>1</th>\n",
       "      <td>0.130438</td>\n",
       "      <td>0.598428</td>\n",
       "    </tr>\n",
       "    <tr>\n",
       "      <th>2</th>\n",
       "      <td>0.278606</td>\n",
       "      <td>0.923429</td>\n",
       "    </tr>\n",
       "    <tr>\n",
       "      <th>3</th>\n",
       "      <td>0.775252</td>\n",
       "      <td>0.901278</td>\n",
       "    </tr>\n",
       "    <tr>\n",
       "      <th>4</th>\n",
       "      <td>0.460719</td>\n",
       "      <td>0.004148</td>\n",
       "    </tr>\n",
       "    <tr>\n",
       "      <th>5</th>\n",
       "      <td>0.959358</td>\n",
       "      <td>0.232990</td>\n",
       "    </tr>\n",
       "    <tr>\n",
       "      <th>6</th>\n",
       "      <td>0.233476</td>\n",
       "      <td>0.662501</td>\n",
       "    </tr>\n",
       "    <tr>\n",
       "      <th>7</th>\n",
       "      <td>0.155689</td>\n",
       "      <td>0.560017</td>\n",
       "    </tr>\n",
       "    <tr>\n",
       "      <th>8</th>\n",
       "      <td>0.806663</td>\n",
       "      <td>0.155985</td>\n",
       "    </tr>\n",
       "    <tr>\n",
       "      <th>9</th>\n",
       "      <td>0.170331</td>\n",
       "      <td>0.446257</td>\n",
       "    </tr>\n",
       "  </tbody>\n",
       "</table>\n",
       "</div>"
      ],
      "text/plain": [
       "       col1      col4\n",
       "0  0.359339  0.628354\n",
       "1  0.130438  0.598428\n",
       "2  0.278606  0.923429\n",
       "3  0.775252  0.901278\n",
       "4  0.460719  0.004148\n",
       "5  0.959358  0.232990\n",
       "6  0.233476  0.662501\n",
       "7  0.155689  0.560017\n",
       "8  0.806663  0.155985\n",
       "9  0.170331  0.446257"
      ]
     },
     "execution_count": 31,
     "metadata": {},
     "output_type": "execute_result"
    }
   ],
   "source": [
    "df[['col1', 'col4']]"
   ]
  },
  {
   "cell_type": "code",
   "execution_count": 32,
   "metadata": {},
   "outputs": [],
   "source": [
    "df.rename(columns={'col_3': 'nuevo_col'},\n",
    "          inplace=True)"
   ]
  },
  {
   "cell_type": "code",
   "execution_count": 33,
   "metadata": {},
   "outputs": [
    {
     "data": {
      "text/html": [
       "<div>\n",
       "<style scoped>\n",
       "    .dataframe tbody tr th:only-of-type {\n",
       "        vertical-align: middle;\n",
       "    }\n",
       "\n",
       "    .dataframe tbody tr th {\n",
       "        vertical-align: top;\n",
       "    }\n",
       "\n",
       "    .dataframe thead th {\n",
       "        text-align: right;\n",
       "    }\n",
       "</style>\n",
       "<table border=\"1\" class=\"dataframe\">\n",
       "  <thead>\n",
       "    <tr style=\"text-align: right;\">\n",
       "      <th></th>\n",
       "      <th>col1</th>\n",
       "      <th>col2</th>\n",
       "      <th>nuevo_col</th>\n",
       "      <th>col4</th>\n",
       "      <th>col5</th>\n",
       "    </tr>\n",
       "  </thead>\n",
       "  <tbody>\n",
       "    <tr>\n",
       "      <th>0</th>\n",
       "      <td>0.359339</td>\n",
       "      <td>0.638547</td>\n",
       "      <td>0.590389</td>\n",
       "      <td>0.628354</td>\n",
       "      <td>0.655204</td>\n",
       "    </tr>\n",
       "    <tr>\n",
       "      <th>1</th>\n",
       "      <td>0.130438</td>\n",
       "      <td>0.318115</td>\n",
       "      <td>0.024322</td>\n",
       "      <td>0.598428</td>\n",
       "      <td>0.350084</td>\n",
       "    </tr>\n",
       "    <tr>\n",
       "      <th>2</th>\n",
       "      <td>0.278606</td>\n",
       "      <td>0.737184</td>\n",
       "      <td>0.105053</td>\n",
       "      <td>0.923429</td>\n",
       "      <td>0.970716</td>\n",
       "    </tr>\n",
       "    <tr>\n",
       "      <th>3</th>\n",
       "      <td>0.775252</td>\n",
       "      <td>0.279691</td>\n",
       "      <td>0.432442</td>\n",
       "      <td>0.901278</td>\n",
       "      <td>0.993184</td>\n",
       "    </tr>\n",
       "    <tr>\n",
       "      <th>4</th>\n",
       "      <td>0.460719</td>\n",
       "      <td>0.920570</td>\n",
       "      <td>0.540191</td>\n",
       "      <td>0.004148</td>\n",
       "      <td>0.747030</td>\n",
       "    </tr>\n",
       "    <tr>\n",
       "      <th>5</th>\n",
       "      <td>0.959358</td>\n",
       "      <td>0.872223</td>\n",
       "      <td>0.100335</td>\n",
       "      <td>0.232990</td>\n",
       "      <td>0.633860</td>\n",
       "    </tr>\n",
       "    <tr>\n",
       "      <th>6</th>\n",
       "      <td>0.233476</td>\n",
       "      <td>0.550319</td>\n",
       "      <td>0.092221</td>\n",
       "      <td>0.662501</td>\n",
       "      <td>0.352274</td>\n",
       "    </tr>\n",
       "    <tr>\n",
       "      <th>7</th>\n",
       "      <td>0.155689</td>\n",
       "      <td>0.830837</td>\n",
       "      <td>0.811158</td>\n",
       "      <td>0.560017</td>\n",
       "      <td>0.928266</td>\n",
       "    </tr>\n",
       "    <tr>\n",
       "      <th>8</th>\n",
       "      <td>0.806663</td>\n",
       "      <td>0.193052</td>\n",
       "      <td>0.395130</td>\n",
       "      <td>0.155985</td>\n",
       "      <td>0.056830</td>\n",
       "    </tr>\n",
       "    <tr>\n",
       "      <th>9</th>\n",
       "      <td>0.170331</td>\n",
       "      <td>0.293634</td>\n",
       "      <td>0.188756</td>\n",
       "      <td>0.446257</td>\n",
       "      <td>0.124136</td>\n",
       "    </tr>\n",
       "  </tbody>\n",
       "</table>\n",
       "</div>"
      ],
      "text/plain": [
       "       col1      col2  nuevo_col      col4      col5\n",
       "0  0.359339  0.638547   0.590389  0.628354  0.655204\n",
       "1  0.130438  0.318115   0.024322  0.598428  0.350084\n",
       "2  0.278606  0.737184   0.105053  0.923429  0.970716\n",
       "3  0.775252  0.279691   0.432442  0.901278  0.993184\n",
       "4  0.460719  0.920570   0.540191  0.004148  0.747030\n",
       "5  0.959358  0.872223   0.100335  0.232990  0.633860\n",
       "6  0.233476  0.550319   0.092221  0.662501  0.352274\n",
       "7  0.155689  0.830837   0.811158  0.560017  0.928266\n",
       "8  0.806663  0.193052   0.395130  0.155985  0.056830\n",
       "9  0.170331  0.293634   0.188756  0.446257  0.124136"
      ]
     },
     "execution_count": 33,
     "metadata": {},
     "output_type": "execute_result"
    }
   ],
   "source": [
    "df"
   ]
  },
  {
   "cell_type": "code",
   "execution_count": 34,
   "metadata": {},
   "outputs": [
    {
     "data": {
      "text/html": [
       "<div>\n",
       "<style scoped>\n",
       "    .dataframe tbody tr th:only-of-type {\n",
       "        vertical-align: middle;\n",
       "    }\n",
       "\n",
       "    .dataframe tbody tr th {\n",
       "        vertical-align: top;\n",
       "    }\n",
       "\n",
       "    .dataframe thead th {\n",
       "        text-align: right;\n",
       "    }\n",
       "</style>\n",
       "<table border=\"1\" class=\"dataframe\">\n",
       "  <thead>\n",
       "    <tr style=\"text-align: right;\">\n",
       "      <th></th>\n",
       "      <th>col1</th>\n",
       "      <th>col2</th>\n",
       "      <th>nuevo_col</th>\n",
       "      <th>col4</th>\n",
       "      <th>col5</th>\n",
       "      <th>ceros</th>\n",
       "    </tr>\n",
       "  </thead>\n",
       "  <tbody>\n",
       "    <tr>\n",
       "      <th>0</th>\n",
       "      <td>0.359339</td>\n",
       "      <td>0.638547</td>\n",
       "      <td>0.590389</td>\n",
       "      <td>0.628354</td>\n",
       "      <td>0.655204</td>\n",
       "      <td>0.0</td>\n",
       "    </tr>\n",
       "    <tr>\n",
       "      <th>1</th>\n",
       "      <td>0.130438</td>\n",
       "      <td>0.318115</td>\n",
       "      <td>0.024322</td>\n",
       "      <td>0.598428</td>\n",
       "      <td>0.350084</td>\n",
       "      <td>0.0</td>\n",
       "    </tr>\n",
       "    <tr>\n",
       "      <th>2</th>\n",
       "      <td>0.278606</td>\n",
       "      <td>0.737184</td>\n",
       "      <td>0.105053</td>\n",
       "      <td>0.923429</td>\n",
       "      <td>0.970716</td>\n",
       "      <td>0.0</td>\n",
       "    </tr>\n",
       "    <tr>\n",
       "      <th>3</th>\n",
       "      <td>0.775252</td>\n",
       "      <td>0.279691</td>\n",
       "      <td>0.432442</td>\n",
       "      <td>0.901278</td>\n",
       "      <td>0.993184</td>\n",
       "      <td>0.0</td>\n",
       "    </tr>\n",
       "    <tr>\n",
       "      <th>4</th>\n",
       "      <td>0.460719</td>\n",
       "      <td>0.920570</td>\n",
       "      <td>0.540191</td>\n",
       "      <td>0.004148</td>\n",
       "      <td>0.747030</td>\n",
       "      <td>0.0</td>\n",
       "    </tr>\n",
       "    <tr>\n",
       "      <th>5</th>\n",
       "      <td>0.959358</td>\n",
       "      <td>0.872223</td>\n",
       "      <td>0.100335</td>\n",
       "      <td>0.232990</td>\n",
       "      <td>0.633860</td>\n",
       "      <td>0.0</td>\n",
       "    </tr>\n",
       "    <tr>\n",
       "      <th>6</th>\n",
       "      <td>0.233476</td>\n",
       "      <td>0.550319</td>\n",
       "      <td>0.092221</td>\n",
       "      <td>0.662501</td>\n",
       "      <td>0.352274</td>\n",
       "      <td>0.0</td>\n",
       "    </tr>\n",
       "    <tr>\n",
       "      <th>7</th>\n",
       "      <td>0.155689</td>\n",
       "      <td>0.830837</td>\n",
       "      <td>0.811158</td>\n",
       "      <td>0.560017</td>\n",
       "      <td>0.928266</td>\n",
       "      <td>0.0</td>\n",
       "    </tr>\n",
       "    <tr>\n",
       "      <th>8</th>\n",
       "      <td>0.806663</td>\n",
       "      <td>0.193052</td>\n",
       "      <td>0.395130</td>\n",
       "      <td>0.155985</td>\n",
       "      <td>0.056830</td>\n",
       "      <td>0.0</td>\n",
       "    </tr>\n",
       "    <tr>\n",
       "      <th>9</th>\n",
       "      <td>0.170331</td>\n",
       "      <td>0.293634</td>\n",
       "      <td>0.188756</td>\n",
       "      <td>0.446257</td>\n",
       "      <td>0.124136</td>\n",
       "      <td>0.0</td>\n",
       "    </tr>\n",
       "  </tbody>\n",
       "</table>\n",
       "</div>"
      ],
      "text/plain": [
       "       col1      col2  nuevo_col      col4      col5  ceros\n",
       "0  0.359339  0.638547   0.590389  0.628354  0.655204    0.0\n",
       "1  0.130438  0.318115   0.024322  0.598428  0.350084    0.0\n",
       "2  0.278606  0.737184   0.105053  0.923429  0.970716    0.0\n",
       "3  0.775252  0.279691   0.432442  0.901278  0.993184    0.0\n",
       "4  0.460719  0.920570   0.540191  0.004148  0.747030    0.0\n",
       "5  0.959358  0.872223   0.100335  0.232990  0.633860    0.0\n",
       "6  0.233476  0.550319   0.092221  0.662501  0.352274    0.0\n",
       "7  0.155689  0.830837   0.811158  0.560017  0.928266    0.0\n",
       "8  0.806663  0.193052   0.395130  0.155985  0.056830    0.0\n",
       "9  0.170331  0.293634   0.188756  0.446257  0.124136    0.0"
      ]
     },
     "execution_count": 34,
     "metadata": {},
     "output_type": "execute_result"
    }
   ],
   "source": [
    "df['ceros'] = 0.\n",
    "\n",
    "df"
   ]
  },
  {
   "cell_type": "code",
   "execution_count": 35,
   "metadata": {},
   "outputs": [],
   "source": [
    "df.insert(0, 'nuevo_cero', [i for i in range(10)])  # inserta en la primera posicion"
   ]
  },
  {
   "cell_type": "code",
   "execution_count": 36,
   "metadata": {},
   "outputs": [
    {
     "data": {
      "text/html": [
       "<div>\n",
       "<style scoped>\n",
       "    .dataframe tbody tr th:only-of-type {\n",
       "        vertical-align: middle;\n",
       "    }\n",
       "\n",
       "    .dataframe tbody tr th {\n",
       "        vertical-align: top;\n",
       "    }\n",
       "\n",
       "    .dataframe thead th {\n",
       "        text-align: right;\n",
       "    }\n",
       "</style>\n",
       "<table border=\"1\" class=\"dataframe\">\n",
       "  <thead>\n",
       "    <tr style=\"text-align: right;\">\n",
       "      <th></th>\n",
       "      <th>nuevo_cero</th>\n",
       "      <th>col1</th>\n",
       "      <th>col2</th>\n",
       "      <th>nuevo_col</th>\n",
       "      <th>col4</th>\n",
       "      <th>col5</th>\n",
       "      <th>ceros</th>\n",
       "    </tr>\n",
       "  </thead>\n",
       "  <tbody>\n",
       "    <tr>\n",
       "      <th>0</th>\n",
       "      <td>0</td>\n",
       "      <td>0.359339</td>\n",
       "      <td>0.638547</td>\n",
       "      <td>0.590389</td>\n",
       "      <td>0.628354</td>\n",
       "      <td>0.655204</td>\n",
       "      <td>0.0</td>\n",
       "    </tr>\n",
       "    <tr>\n",
       "      <th>1</th>\n",
       "      <td>1</td>\n",
       "      <td>0.130438</td>\n",
       "      <td>0.318115</td>\n",
       "      <td>0.024322</td>\n",
       "      <td>0.598428</td>\n",
       "      <td>0.350084</td>\n",
       "      <td>0.0</td>\n",
       "    </tr>\n",
       "    <tr>\n",
       "      <th>2</th>\n",
       "      <td>2</td>\n",
       "      <td>0.278606</td>\n",
       "      <td>0.737184</td>\n",
       "      <td>0.105053</td>\n",
       "      <td>0.923429</td>\n",
       "      <td>0.970716</td>\n",
       "      <td>0.0</td>\n",
       "    </tr>\n",
       "    <tr>\n",
       "      <th>3</th>\n",
       "      <td>3</td>\n",
       "      <td>0.775252</td>\n",
       "      <td>0.279691</td>\n",
       "      <td>0.432442</td>\n",
       "      <td>0.901278</td>\n",
       "      <td>0.993184</td>\n",
       "      <td>0.0</td>\n",
       "    </tr>\n",
       "    <tr>\n",
       "      <th>4</th>\n",
       "      <td>4</td>\n",
       "      <td>0.460719</td>\n",
       "      <td>0.920570</td>\n",
       "      <td>0.540191</td>\n",
       "      <td>0.004148</td>\n",
       "      <td>0.747030</td>\n",
       "      <td>0.0</td>\n",
       "    </tr>\n",
       "    <tr>\n",
       "      <th>5</th>\n",
       "      <td>5</td>\n",
       "      <td>0.959358</td>\n",
       "      <td>0.872223</td>\n",
       "      <td>0.100335</td>\n",
       "      <td>0.232990</td>\n",
       "      <td>0.633860</td>\n",
       "      <td>0.0</td>\n",
       "    </tr>\n",
       "    <tr>\n",
       "      <th>6</th>\n",
       "      <td>6</td>\n",
       "      <td>0.233476</td>\n",
       "      <td>0.550319</td>\n",
       "      <td>0.092221</td>\n",
       "      <td>0.662501</td>\n",
       "      <td>0.352274</td>\n",
       "      <td>0.0</td>\n",
       "    </tr>\n",
       "    <tr>\n",
       "      <th>7</th>\n",
       "      <td>7</td>\n",
       "      <td>0.155689</td>\n",
       "      <td>0.830837</td>\n",
       "      <td>0.811158</td>\n",
       "      <td>0.560017</td>\n",
       "      <td>0.928266</td>\n",
       "      <td>0.0</td>\n",
       "    </tr>\n",
       "    <tr>\n",
       "      <th>8</th>\n",
       "      <td>8</td>\n",
       "      <td>0.806663</td>\n",
       "      <td>0.193052</td>\n",
       "      <td>0.395130</td>\n",
       "      <td>0.155985</td>\n",
       "      <td>0.056830</td>\n",
       "      <td>0.0</td>\n",
       "    </tr>\n",
       "    <tr>\n",
       "      <th>9</th>\n",
       "      <td>9</td>\n",
       "      <td>0.170331</td>\n",
       "      <td>0.293634</td>\n",
       "      <td>0.188756</td>\n",
       "      <td>0.446257</td>\n",
       "      <td>0.124136</td>\n",
       "      <td>0.0</td>\n",
       "    </tr>\n",
       "  </tbody>\n",
       "</table>\n",
       "</div>"
      ],
      "text/plain": [
       "   nuevo_cero      col1      col2  nuevo_col      col4      col5  ceros\n",
       "0           0  0.359339  0.638547   0.590389  0.628354  0.655204    0.0\n",
       "1           1  0.130438  0.318115   0.024322  0.598428  0.350084    0.0\n",
       "2           2  0.278606  0.737184   0.105053  0.923429  0.970716    0.0\n",
       "3           3  0.775252  0.279691   0.432442  0.901278  0.993184    0.0\n",
       "4           4  0.460719  0.920570   0.540191  0.004148  0.747030    0.0\n",
       "5           5  0.959358  0.872223   0.100335  0.232990  0.633860    0.0\n",
       "6           6  0.233476  0.550319   0.092221  0.662501  0.352274    0.0\n",
       "7           7  0.155689  0.830837   0.811158  0.560017  0.928266    0.0\n",
       "8           8  0.806663  0.193052   0.395130  0.155985  0.056830    0.0\n",
       "9           9  0.170331  0.293634   0.188756  0.446257  0.124136    0.0"
      ]
     },
     "execution_count": 36,
     "metadata": {},
     "output_type": "execute_result"
    }
   ],
   "source": [
    "df"
   ]
  },
  {
   "cell_type": "code",
   "execution_count": 37,
   "metadata": {},
   "outputs": [
    {
     "data": {
      "text/html": [
       "<div>\n",
       "<style scoped>\n",
       "    .dataframe tbody tr th:only-of-type {\n",
       "        vertical-align: middle;\n",
       "    }\n",
       "\n",
       "    .dataframe tbody tr th {\n",
       "        vertical-align: top;\n",
       "    }\n",
       "\n",
       "    .dataframe thead th {\n",
       "        text-align: right;\n",
       "    }\n",
       "</style>\n",
       "<table border=\"1\" class=\"dataframe\">\n",
       "  <thead>\n",
       "    <tr style=\"text-align: right;\">\n",
       "      <th></th>\n",
       "      <th>nuevo_cero</th>\n",
       "      <th>col1</th>\n",
       "      <th>col2</th>\n",
       "      <th>nuevo_col</th>\n",
       "      <th>col4</th>\n",
       "      <th>col5</th>\n",
       "      <th>ceros</th>\n",
       "      <th>nulos</th>\n",
       "    </tr>\n",
       "  </thead>\n",
       "  <tbody>\n",
       "    <tr>\n",
       "      <th>0</th>\n",
       "      <td>0</td>\n",
       "      <td>0.359339</td>\n",
       "      <td>0.638547</td>\n",
       "      <td>0.590389</td>\n",
       "      <td>0.628354</td>\n",
       "      <td>0.655204</td>\n",
       "      <td>0.0</td>\n",
       "      <td>NaN</td>\n",
       "    </tr>\n",
       "    <tr>\n",
       "      <th>1</th>\n",
       "      <td>1</td>\n",
       "      <td>0.130438</td>\n",
       "      <td>0.318115</td>\n",
       "      <td>0.024322</td>\n",
       "      <td>0.598428</td>\n",
       "      <td>0.350084</td>\n",
       "      <td>0.0</td>\n",
       "      <td>NaN</td>\n",
       "    </tr>\n",
       "    <tr>\n",
       "      <th>2</th>\n",
       "      <td>2</td>\n",
       "      <td>0.278606</td>\n",
       "      <td>0.737184</td>\n",
       "      <td>0.105053</td>\n",
       "      <td>0.923429</td>\n",
       "      <td>0.970716</td>\n",
       "      <td>0.0</td>\n",
       "      <td>NaN</td>\n",
       "    </tr>\n",
       "    <tr>\n",
       "      <th>3</th>\n",
       "      <td>3</td>\n",
       "      <td>0.775252</td>\n",
       "      <td>0.279691</td>\n",
       "      <td>0.432442</td>\n",
       "      <td>0.901278</td>\n",
       "      <td>0.993184</td>\n",
       "      <td>0.0</td>\n",
       "      <td>NaN</td>\n",
       "    </tr>\n",
       "    <tr>\n",
       "      <th>4</th>\n",
       "      <td>4</td>\n",
       "      <td>0.460719</td>\n",
       "      <td>0.920570</td>\n",
       "      <td>0.540191</td>\n",
       "      <td>0.004148</td>\n",
       "      <td>0.747030</td>\n",
       "      <td>0.0</td>\n",
       "      <td>NaN</td>\n",
       "    </tr>\n",
       "    <tr>\n",
       "      <th>5</th>\n",
       "      <td>5</td>\n",
       "      <td>0.959358</td>\n",
       "      <td>0.872223</td>\n",
       "      <td>0.100335</td>\n",
       "      <td>0.232990</td>\n",
       "      <td>0.633860</td>\n",
       "      <td>0.0</td>\n",
       "      <td>NaN</td>\n",
       "    </tr>\n",
       "    <tr>\n",
       "      <th>6</th>\n",
       "      <td>6</td>\n",
       "      <td>0.233476</td>\n",
       "      <td>0.550319</td>\n",
       "      <td>0.092221</td>\n",
       "      <td>0.662501</td>\n",
       "      <td>0.352274</td>\n",
       "      <td>0.0</td>\n",
       "      <td>NaN</td>\n",
       "    </tr>\n",
       "    <tr>\n",
       "      <th>7</th>\n",
       "      <td>7</td>\n",
       "      <td>0.155689</td>\n",
       "      <td>0.830837</td>\n",
       "      <td>0.811158</td>\n",
       "      <td>0.560017</td>\n",
       "      <td>0.928266</td>\n",
       "      <td>0.0</td>\n",
       "      <td>NaN</td>\n",
       "    </tr>\n",
       "    <tr>\n",
       "      <th>8</th>\n",
       "      <td>8</td>\n",
       "      <td>0.806663</td>\n",
       "      <td>0.193052</td>\n",
       "      <td>0.395130</td>\n",
       "      <td>0.155985</td>\n",
       "      <td>0.056830</td>\n",
       "      <td>0.0</td>\n",
       "      <td>NaN</td>\n",
       "    </tr>\n",
       "    <tr>\n",
       "      <th>9</th>\n",
       "      <td>9</td>\n",
       "      <td>0.170331</td>\n",
       "      <td>0.293634</td>\n",
       "      <td>0.188756</td>\n",
       "      <td>0.446257</td>\n",
       "      <td>0.124136</td>\n",
       "      <td>0.0</td>\n",
       "      <td>NaN</td>\n",
       "    </tr>\n",
       "  </tbody>\n",
       "</table>\n",
       "</div>"
      ],
      "text/plain": [
       "   nuevo_cero      col1      col2  nuevo_col      col4      col5  ceros  nulos\n",
       "0           0  0.359339  0.638547   0.590389  0.628354  0.655204    0.0    NaN\n",
       "1           1  0.130438  0.318115   0.024322  0.598428  0.350084    0.0    NaN\n",
       "2           2  0.278606  0.737184   0.105053  0.923429  0.970716    0.0    NaN\n",
       "3           3  0.775252  0.279691   0.432442  0.901278  0.993184    0.0    NaN\n",
       "4           4  0.460719  0.920570   0.540191  0.004148  0.747030    0.0    NaN\n",
       "5           5  0.959358  0.872223   0.100335  0.232990  0.633860    0.0    NaN\n",
       "6           6  0.233476  0.550319   0.092221  0.662501  0.352274    0.0    NaN\n",
       "7           7  0.155689  0.830837   0.811158  0.560017  0.928266    0.0    NaN\n",
       "8           8  0.806663  0.193052   0.395130  0.155985  0.056830    0.0    NaN\n",
       "9           9  0.170331  0.293634   0.188756  0.446257  0.124136    0.0    NaN"
      ]
     },
     "execution_count": 37,
     "metadata": {},
     "output_type": "execute_result"
    }
   ],
   "source": [
    "df['nulos'] = np.nan\n",
    "\n",
    "df"
   ]
  },
  {
   "cell_type": "code",
   "execution_count": 38,
   "metadata": {},
   "outputs": [
    {
     "data": {
      "text/plain": [
       "(10, 8)"
      ]
     },
     "execution_count": 38,
     "metadata": {},
     "output_type": "execute_result"
    }
   ],
   "source": [
    "df.shape"
   ]
  },
  {
   "cell_type": "code",
   "execution_count": 39,
   "metadata": {},
   "outputs": [
    {
     "data": {
      "text/plain": [
       "10"
      ]
     },
     "execution_count": 39,
     "metadata": {},
     "output_type": "execute_result"
    }
   ],
   "source": [
    "len(df)"
   ]
  },
  {
   "cell_type": "code",
   "execution_count": 40,
   "metadata": {},
   "outputs": [
    {
     "data": {
      "text/plain": [
       "10"
      ]
     },
     "execution_count": 40,
     "metadata": {},
     "output_type": "execute_result"
    }
   ],
   "source": [
    "df.shape[0]"
   ]
  },
  {
   "cell_type": "code",
   "execution_count": 41,
   "metadata": {},
   "outputs": [
    {
     "data": {
      "text/html": [
       "<div>\n",
       "<style scoped>\n",
       "    .dataframe tbody tr th:only-of-type {\n",
       "        vertical-align: middle;\n",
       "    }\n",
       "\n",
       "    .dataframe tbody tr th {\n",
       "        vertical-align: top;\n",
       "    }\n",
       "\n",
       "    .dataframe thead th {\n",
       "        text-align: right;\n",
       "    }\n",
       "</style>\n",
       "<table border=\"1\" class=\"dataframe\">\n",
       "  <thead>\n",
       "    <tr style=\"text-align: right;\">\n",
       "      <th></th>\n",
       "      <th>nuevo_cero</th>\n",
       "      <th>col1</th>\n",
       "      <th>col2</th>\n",
       "      <th>nuevo_col</th>\n",
       "      <th>col4</th>\n",
       "      <th>col5</th>\n",
       "      <th>ceros</th>\n",
       "      <th>nulos</th>\n",
       "      <th>col10</th>\n",
       "    </tr>\n",
       "  </thead>\n",
       "  <tbody>\n",
       "    <tr>\n",
       "      <th>0</th>\n",
       "      <td>0</td>\n",
       "      <td>0.359339</td>\n",
       "      <td>0.638547</td>\n",
       "      <td>0.590389</td>\n",
       "      <td>0.628354</td>\n",
       "      <td>0.655204</td>\n",
       "      <td>0.0</td>\n",
       "      <td>NaN</td>\n",
       "      <td>0.353603</td>\n",
       "    </tr>\n",
       "    <tr>\n",
       "      <th>1</th>\n",
       "      <td>1</td>\n",
       "      <td>0.130438</td>\n",
       "      <td>0.318115</td>\n",
       "      <td>0.024322</td>\n",
       "      <td>0.598428</td>\n",
       "      <td>0.350084</td>\n",
       "      <td>0.0</td>\n",
       "      <td>NaN</td>\n",
       "      <td>0.245377</td>\n",
       "    </tr>\n",
       "    <tr>\n",
       "      <th>2</th>\n",
       "      <td>2</td>\n",
       "      <td>0.278606</td>\n",
       "      <td>0.737184</td>\n",
       "      <td>0.105053</td>\n",
       "      <td>0.923429</td>\n",
       "      <td>0.970716</td>\n",
       "      <td>0.0</td>\n",
       "      <td>NaN</td>\n",
       "      <td>0.348995</td>\n",
       "    </tr>\n",
       "    <tr>\n",
       "      <th>3</th>\n",
       "      <td>3</td>\n",
       "      <td>0.775252</td>\n",
       "      <td>0.279691</td>\n",
       "      <td>0.432442</td>\n",
       "      <td>0.901278</td>\n",
       "      <td>0.993184</td>\n",
       "      <td>0.0</td>\n",
       "      <td>NaN</td>\n",
       "      <td>2.498176</td>\n",
       "    </tr>\n",
       "    <tr>\n",
       "      <th>4</th>\n",
       "      <td>4</td>\n",
       "      <td>0.460719</td>\n",
       "      <td>0.920570</td>\n",
       "      <td>0.540191</td>\n",
       "      <td>0.004148</td>\n",
       "      <td>0.747030</td>\n",
       "      <td>0.0</td>\n",
       "      <td>NaN</td>\n",
       "      <td>0.002076</td>\n",
       "    </tr>\n",
       "    <tr>\n",
       "      <th>5</th>\n",
       "      <td>5</td>\n",
       "      <td>0.959358</td>\n",
       "      <td>0.872223</td>\n",
       "      <td>0.100335</td>\n",
       "      <td>0.232990</td>\n",
       "      <td>0.633860</td>\n",
       "      <td>0.0</td>\n",
       "      <td>NaN</td>\n",
       "      <td>0.256266</td>\n",
       "    </tr>\n",
       "    <tr>\n",
       "      <th>6</th>\n",
       "      <td>6</td>\n",
       "      <td>0.233476</td>\n",
       "      <td>0.550319</td>\n",
       "      <td>0.092221</td>\n",
       "      <td>0.662501</td>\n",
       "      <td>0.352274</td>\n",
       "      <td>0.0</td>\n",
       "      <td>NaN</td>\n",
       "      <td>0.281070</td>\n",
       "    </tr>\n",
       "    <tr>\n",
       "      <th>7</th>\n",
       "      <td>7</td>\n",
       "      <td>0.155689</td>\n",
       "      <td>0.830837</td>\n",
       "      <td>0.811158</td>\n",
       "      <td>0.560017</td>\n",
       "      <td>0.928266</td>\n",
       "      <td>0.0</td>\n",
       "      <td>NaN</td>\n",
       "      <td>0.104940</td>\n",
       "    </tr>\n",
       "    <tr>\n",
       "      <th>8</th>\n",
       "      <td>8</td>\n",
       "      <td>0.806663</td>\n",
       "      <td>0.193052</td>\n",
       "      <td>0.395130</td>\n",
       "      <td>0.155985</td>\n",
       "      <td>0.056830</td>\n",
       "      <td>0.0</td>\n",
       "      <td>NaN</td>\n",
       "      <td>0.651779</td>\n",
       "    </tr>\n",
       "    <tr>\n",
       "      <th>9</th>\n",
       "      <td>9</td>\n",
       "      <td>0.170331</td>\n",
       "      <td>0.293634</td>\n",
       "      <td>0.188756</td>\n",
       "      <td>0.446257</td>\n",
       "      <td>0.124136</td>\n",
       "      <td>0.0</td>\n",
       "      <td>NaN</td>\n",
       "      <td>0.258865</td>\n",
       "    </tr>\n",
       "  </tbody>\n",
       "</table>\n",
       "</div>"
      ],
      "text/plain": [
       "   nuevo_cero      col1      col2  nuevo_col      col4      col5  ceros  \\\n",
       "0           0  0.359339  0.638547   0.590389  0.628354  0.655204    0.0   \n",
       "1           1  0.130438  0.318115   0.024322  0.598428  0.350084    0.0   \n",
       "2           2  0.278606  0.737184   0.105053  0.923429  0.970716    0.0   \n",
       "3           3  0.775252  0.279691   0.432442  0.901278  0.993184    0.0   \n",
       "4           4  0.460719  0.920570   0.540191  0.004148  0.747030    0.0   \n",
       "5           5  0.959358  0.872223   0.100335  0.232990  0.633860    0.0   \n",
       "6           6  0.233476  0.550319   0.092221  0.662501  0.352274    0.0   \n",
       "7           7  0.155689  0.830837   0.811158  0.560017  0.928266    0.0   \n",
       "8           8  0.806663  0.193052   0.395130  0.155985  0.056830    0.0   \n",
       "9           9  0.170331  0.293634   0.188756  0.446257  0.124136    0.0   \n",
       "\n",
       "   nulos     col10  \n",
       "0    NaN  0.353603  \n",
       "1    NaN  0.245377  \n",
       "2    NaN  0.348995  \n",
       "3    NaN  2.498176  \n",
       "4    NaN  0.002076  \n",
       "5    NaN  0.256266  \n",
       "6    NaN  0.281070  \n",
       "7    NaN  0.104940  \n",
       "8    NaN  0.651779  \n",
       "9    NaN  0.258865  "
      ]
     },
     "execution_count": 41,
     "metadata": {},
     "output_type": "execute_result"
    }
   ],
   "source": [
    "df['col10'] = df.col1 * df.col4 / df.col2\n",
    "\n",
    "df"
   ]
  },
  {
   "cell_type": "code",
   "execution_count": 42,
   "metadata": {},
   "outputs": [
    {
     "data": {
      "text/html": [
       "<div>\n",
       "<style scoped>\n",
       "    .dataframe tbody tr th:only-of-type {\n",
       "        vertical-align: middle;\n",
       "    }\n",
       "\n",
       "    .dataframe tbody tr th {\n",
       "        vertical-align: top;\n",
       "    }\n",
       "\n",
       "    .dataframe thead th {\n",
       "        text-align: right;\n",
       "    }\n",
       "</style>\n",
       "<table border=\"1\" class=\"dataframe\">\n",
       "  <thead>\n",
       "    <tr style=\"text-align: right;\">\n",
       "      <th></th>\n",
       "      <th>count</th>\n",
       "      <th>mean</th>\n",
       "      <th>std</th>\n",
       "      <th>min</th>\n",
       "      <th>25%</th>\n",
       "      <th>50%</th>\n",
       "      <th>75%</th>\n",
       "      <th>max</th>\n",
       "    </tr>\n",
       "  </thead>\n",
       "  <tbody>\n",
       "    <tr>\n",
       "      <th>nuevo_cero</th>\n",
       "      <td>10.0</td>\n",
       "      <td>4.500000</td>\n",
       "      <td>3.027650</td>\n",
       "      <td>0.000000</td>\n",
       "      <td>2.250000</td>\n",
       "      <td>4.500000</td>\n",
       "      <td>6.750000</td>\n",
       "      <td>9.000000</td>\n",
       "    </tr>\n",
       "    <tr>\n",
       "      <th>col1</th>\n",
       "      <td>10.0</td>\n",
       "      <td>0.432987</td>\n",
       "      <td>0.305704</td>\n",
       "      <td>0.130438</td>\n",
       "      <td>0.186117</td>\n",
       "      <td>0.318973</td>\n",
       "      <td>0.696618</td>\n",
       "      <td>0.959358</td>\n",
       "    </tr>\n",
       "    <tr>\n",
       "      <th>col2</th>\n",
       "      <td>10.0</td>\n",
       "      <td>0.563417</td>\n",
       "      <td>0.275090</td>\n",
       "      <td>0.193052</td>\n",
       "      <td>0.299754</td>\n",
       "      <td>0.594433</td>\n",
       "      <td>0.807424</td>\n",
       "      <td>0.920570</td>\n",
       "    </tr>\n",
       "    <tr>\n",
       "      <th>nuevo_col</th>\n",
       "      <td>10.0</td>\n",
       "      <td>0.328000</td>\n",
       "      <td>0.264883</td>\n",
       "      <td>0.024322</td>\n",
       "      <td>0.101514</td>\n",
       "      <td>0.291943</td>\n",
       "      <td>0.513254</td>\n",
       "      <td>0.811158</td>\n",
       "    </tr>\n",
       "    <tr>\n",
       "      <th>col4</th>\n",
       "      <td>10.0</td>\n",
       "      <td>0.511339</td>\n",
       "      <td>0.304339</td>\n",
       "      <td>0.004148</td>\n",
       "      <td>0.286307</td>\n",
       "      <td>0.579223</td>\n",
       "      <td>0.653964</td>\n",
       "      <td>0.923429</td>\n",
       "    </tr>\n",
       "    <tr>\n",
       "      <th>col5</th>\n",
       "      <td>10.0</td>\n",
       "      <td>0.581158</td>\n",
       "      <td>0.344376</td>\n",
       "      <td>0.056830</td>\n",
       "      <td>0.350631</td>\n",
       "      <td>0.644532</td>\n",
       "      <td>0.882957</td>\n",
       "      <td>0.993184</td>\n",
       "    </tr>\n",
       "    <tr>\n",
       "      <th>ceros</th>\n",
       "      <td>10.0</td>\n",
       "      <td>0.000000</td>\n",
       "      <td>0.000000</td>\n",
       "      <td>0.000000</td>\n",
       "      <td>0.000000</td>\n",
       "      <td>0.000000</td>\n",
       "      <td>0.000000</td>\n",
       "      <td>0.000000</td>\n",
       "    </tr>\n",
       "    <tr>\n",
       "      <th>nulos</th>\n",
       "      <td>0.0</td>\n",
       "      <td>NaN</td>\n",
       "      <td>NaN</td>\n",
       "      <td>NaN</td>\n",
       "      <td>NaN</td>\n",
       "      <td>NaN</td>\n",
       "      <td>NaN</td>\n",
       "      <td>NaN</td>\n",
       "    </tr>\n",
       "    <tr>\n",
       "      <th>col10</th>\n",
       "      <td>10.0</td>\n",
       "      <td>0.500115</td>\n",
       "      <td>0.722211</td>\n",
       "      <td>0.002076</td>\n",
       "      <td>0.248099</td>\n",
       "      <td>0.269968</td>\n",
       "      <td>0.352451</td>\n",
       "      <td>2.498176</td>\n",
       "    </tr>\n",
       "  </tbody>\n",
       "</table>\n",
       "</div>"
      ],
      "text/plain": [
       "            count      mean       std       min       25%       50%       75%  \\\n",
       "nuevo_cero   10.0  4.500000  3.027650  0.000000  2.250000  4.500000  6.750000   \n",
       "col1         10.0  0.432987  0.305704  0.130438  0.186117  0.318973  0.696618   \n",
       "col2         10.0  0.563417  0.275090  0.193052  0.299754  0.594433  0.807424   \n",
       "nuevo_col    10.0  0.328000  0.264883  0.024322  0.101514  0.291943  0.513254   \n",
       "col4         10.0  0.511339  0.304339  0.004148  0.286307  0.579223  0.653964   \n",
       "col5         10.0  0.581158  0.344376  0.056830  0.350631  0.644532  0.882957   \n",
       "ceros        10.0  0.000000  0.000000  0.000000  0.000000  0.000000  0.000000   \n",
       "nulos         0.0       NaN       NaN       NaN       NaN       NaN       NaN   \n",
       "col10        10.0  0.500115  0.722211  0.002076  0.248099  0.269968  0.352451   \n",
       "\n",
       "                 max  \n",
       "nuevo_cero  9.000000  \n",
       "col1        0.959358  \n",
       "col2        0.920570  \n",
       "nuevo_col   0.811158  \n",
       "col4        0.923429  \n",
       "col5        0.993184  \n",
       "ceros       0.000000  \n",
       "nulos            NaN  \n",
       "col10       2.498176  "
      ]
     },
     "execution_count": 42,
     "metadata": {},
     "output_type": "execute_result"
    }
   ],
   "source": [
    "df.describe().T"
   ]
  },
  {
   "cell_type": "code",
   "execution_count": 43,
   "metadata": {},
   "outputs": [
    {
     "name": "stdout",
     "output_type": "stream",
     "text": [
      "<class 'pandas.core.frame.DataFrame'>\n",
      "RangeIndex: 10 entries, 0 to 9\n",
      "Data columns (total 9 columns):\n",
      " #   Column      Non-Null Count  Dtype  \n",
      "---  ------      --------------  -----  \n",
      " 0   nuevo_cero  10 non-null     int64  \n",
      " 1   col1        10 non-null     float64\n",
      " 2   col2        10 non-null     float64\n",
      " 3   nuevo_col   10 non-null     float64\n",
      " 4   col4        10 non-null     float64\n",
      " 5   col5        10 non-null     float64\n",
      " 6   ceros       10 non-null     float64\n",
      " 7   nulos       0 non-null      float64\n",
      " 8   col10       10 non-null     float64\n",
      "dtypes: float64(8), int64(1)\n",
      "memory usage: 848.0 bytes\n"
     ]
    }
   ],
   "source": [
    "df.info()"
   ]
  },
  {
   "cell_type": "code",
   "execution_count": 44,
   "metadata": {},
   "outputs": [],
   "source": [
    "df.fillna('hola', inplace=True)"
   ]
  },
  {
   "cell_type": "code",
   "execution_count": 45,
   "metadata": {},
   "outputs": [],
   "source": [
    "df.col1 = df.col1.fillna(0)"
   ]
  },
  {
   "cell_type": "code",
   "execution_count": 46,
   "metadata": {},
   "outputs": [],
   "source": [
    "# introducir datos desde una lista de listas\n",
    "\n",
    "lst_lst=[[687261, 'hola', 4728364], \n",
    "         [83546, 'adios', 58943], \n",
    "         [321, 'oo^oo']]\n",
    "\n",
    "\n",
    "columnas=['num', 'palabra', 'otro_num']"
   ]
  },
  {
   "cell_type": "code",
   "execution_count": 47,
   "metadata": {},
   "outputs": [
    {
     "data": {
      "text/html": [
       "<div>\n",
       "<style scoped>\n",
       "    .dataframe tbody tr th:only-of-type {\n",
       "        vertical-align: middle;\n",
       "    }\n",
       "\n",
       "    .dataframe tbody tr th {\n",
       "        vertical-align: top;\n",
       "    }\n",
       "\n",
       "    .dataframe thead th {\n",
       "        text-align: right;\n",
       "    }\n",
       "</style>\n",
       "<table border=\"1\" class=\"dataframe\">\n",
       "  <thead>\n",
       "    <tr style=\"text-align: right;\">\n",
       "      <th></th>\n",
       "      <th>num</th>\n",
       "      <th>palabra</th>\n",
       "      <th>otro_num</th>\n",
       "    </tr>\n",
       "  </thead>\n",
       "  <tbody>\n",
       "    <tr>\n",
       "      <th>0</th>\n",
       "      <td>687261</td>\n",
       "      <td>hola</td>\n",
       "      <td>4728364.0</td>\n",
       "    </tr>\n",
       "    <tr>\n",
       "      <th>1</th>\n",
       "      <td>83546</td>\n",
       "      <td>adios</td>\n",
       "      <td>58943.0</td>\n",
       "    </tr>\n",
       "    <tr>\n",
       "      <th>2</th>\n",
       "      <td>321</td>\n",
       "      <td>oo^oo</td>\n",
       "      <td>NaN</td>\n",
       "    </tr>\n",
       "  </tbody>\n",
       "</table>\n",
       "</div>"
      ],
      "text/plain": [
       "      num palabra   otro_num\n",
       "0  687261    hola  4728364.0\n",
       "1   83546   adios    58943.0\n",
       "2     321   oo^oo        NaN"
      ]
     },
     "execution_count": 47,
     "metadata": {},
     "output_type": "execute_result"
    }
   ],
   "source": [
    "df_lst = pd.DataFrame(lst_lst, columns=columnas)\n",
    "\n",
    "df_lst"
   ]
  },
  {
   "cell_type": "code",
   "execution_count": 48,
   "metadata": {},
   "outputs": [
    {
     "data": {
      "text/plain": [
       "0    687261\n",
       "1     83546\n",
       "2       321\n",
       "Name: num, dtype: int64"
      ]
     },
     "execution_count": 48,
     "metadata": {},
     "output_type": "execute_result"
    }
   ],
   "source": [
    "df_lst['num']"
   ]
  },
  {
   "cell_type": "code",
   "execution_count": 49,
   "metadata": {},
   "outputs": [],
   "source": [
    "df_lst.otro_num.fillna(0, inplace=True)"
   ]
  },
  {
   "cell_type": "code",
   "execution_count": 50,
   "metadata": {},
   "outputs": [
    {
     "data": {
      "text/html": [
       "<div>\n",
       "<style scoped>\n",
       "    .dataframe tbody tr th:only-of-type {\n",
       "        vertical-align: middle;\n",
       "    }\n",
       "\n",
       "    .dataframe tbody tr th {\n",
       "        vertical-align: top;\n",
       "    }\n",
       "\n",
       "    .dataframe thead th {\n",
       "        text-align: right;\n",
       "    }\n",
       "</style>\n",
       "<table border=\"1\" class=\"dataframe\">\n",
       "  <thead>\n",
       "    <tr style=\"text-align: right;\">\n",
       "      <th></th>\n",
       "      <th>num</th>\n",
       "      <th>palabra</th>\n",
       "      <th>otro_num</th>\n",
       "    </tr>\n",
       "  </thead>\n",
       "  <tbody>\n",
       "    <tr>\n",
       "      <th>0</th>\n",
       "      <td>687261</td>\n",
       "      <td>hola</td>\n",
       "      <td>4728364.0</td>\n",
       "    </tr>\n",
       "    <tr>\n",
       "      <th>1</th>\n",
       "      <td>83546</td>\n",
       "      <td>adios</td>\n",
       "      <td>58943.0</td>\n",
       "    </tr>\n",
       "    <tr>\n",
       "      <th>2</th>\n",
       "      <td>321</td>\n",
       "      <td>oo^oo</td>\n",
       "      <td>0.0</td>\n",
       "    </tr>\n",
       "  </tbody>\n",
       "</table>\n",
       "</div>"
      ],
      "text/plain": [
       "      num palabra   otro_num\n",
       "0  687261    hola  4728364.0\n",
       "1   83546   adios    58943.0\n",
       "2     321   oo^oo        0.0"
      ]
     },
     "execution_count": 50,
     "metadata": {},
     "output_type": "execute_result"
    }
   ],
   "source": [
    "df_lst"
   ]
  },
  {
   "cell_type": "code",
   "execution_count": 51,
   "metadata": {},
   "outputs": [
    {
     "data": {
      "text/plain": [
       "{'casa': [687261, 'hola', 4728364],\n",
       " 'oficina': [83546, 'adios', 58943],\n",
       " 'numero': [321, 'oo^oo', 0]}"
      ]
     },
     "execution_count": 51,
     "metadata": {},
     "output_type": "execute_result"
    }
   ],
   "source": [
    "# con dictio\n",
    "\n",
    "dictio={'casa': lst_lst[0],\n",
    "        'oficina': lst_lst[1],\n",
    "        'numero': lst_lst[2]+[0]}\n",
    "\n",
    "dictio"
   ]
  },
  {
   "cell_type": "code",
   "execution_count": 52,
   "metadata": {},
   "outputs": [
    {
     "data": {
      "text/html": [
       "<div>\n",
       "<style scoped>\n",
       "    .dataframe tbody tr th:only-of-type {\n",
       "        vertical-align: middle;\n",
       "    }\n",
       "\n",
       "    .dataframe tbody tr th {\n",
       "        vertical-align: top;\n",
       "    }\n",
       "\n",
       "    .dataframe thead th {\n",
       "        text-align: right;\n",
       "    }\n",
       "</style>\n",
       "<table border=\"1\" class=\"dataframe\">\n",
       "  <thead>\n",
       "    <tr style=\"text-align: right;\">\n",
       "      <th></th>\n",
       "      <th>casa</th>\n",
       "      <th>oficina</th>\n",
       "      <th>numero</th>\n",
       "    </tr>\n",
       "  </thead>\n",
       "  <tbody>\n",
       "    <tr>\n",
       "      <th>0</th>\n",
       "      <td>687261</td>\n",
       "      <td>83546</td>\n",
       "      <td>321</td>\n",
       "    </tr>\n",
       "    <tr>\n",
       "      <th>1</th>\n",
       "      <td>hola</td>\n",
       "      <td>adios</td>\n",
       "      <td>oo^oo</td>\n",
       "    </tr>\n",
       "    <tr>\n",
       "      <th>2</th>\n",
       "      <td>4728364</td>\n",
       "      <td>58943</td>\n",
       "      <td>0</td>\n",
       "    </tr>\n",
       "  </tbody>\n",
       "</table>\n",
       "</div>"
      ],
      "text/plain": [
       "      casa oficina numero\n",
       "0   687261   83546    321\n",
       "1     hola   adios  oo^oo\n",
       "2  4728364   58943      0"
      ]
     },
     "execution_count": 52,
     "metadata": {},
     "output_type": "execute_result"
    }
   ],
   "source": [
    "df_dictio = pd.DataFrame(dictio)\n",
    "\n",
    "df_dictio"
   ]
  },
  {
   "cell_type": "code",
   "execution_count": 53,
   "metadata": {},
   "outputs": [],
   "source": [
    "df.drop('nulos',   # nombre de columna\n",
    "        axis=1,    # por columnas\n",
    "        inplace=True    # sobreescribe el df\n",
    "       )"
   ]
  },
  {
   "cell_type": "code",
   "execution_count": 54,
   "metadata": {},
   "outputs": [],
   "source": [
    "df.drop(columns=['col1', 'col2'], inplace=True)"
   ]
  },
  {
   "cell_type": "code",
   "execution_count": 55,
   "metadata": {},
   "outputs": [],
   "source": [
    "df.drop(0, axis=0, inplace=True)"
   ]
  },
  {
   "cell_type": "code",
   "execution_count": 56,
   "metadata": {},
   "outputs": [],
   "source": [
    "df.drop(1, inplace=True)"
   ]
  },
  {
   "cell_type": "code",
   "execution_count": 57,
   "metadata": {},
   "outputs": [],
   "source": [
    "df.drop(index=[5, 6, 7], inplace=True)"
   ]
  },
  {
   "cell_type": "code",
   "execution_count": 58,
   "metadata": {},
   "outputs": [
    {
     "data": {
      "text/html": [
       "<div>\n",
       "<style scoped>\n",
       "    .dataframe tbody tr th:only-of-type {\n",
       "        vertical-align: middle;\n",
       "    }\n",
       "\n",
       "    .dataframe tbody tr th {\n",
       "        vertical-align: top;\n",
       "    }\n",
       "\n",
       "    .dataframe thead th {\n",
       "        text-align: right;\n",
       "    }\n",
       "</style>\n",
       "<table border=\"1\" class=\"dataframe\">\n",
       "  <thead>\n",
       "    <tr style=\"text-align: right;\">\n",
       "      <th></th>\n",
       "      <th>nuevo_cero</th>\n",
       "      <th>nuevo_col</th>\n",
       "      <th>col4</th>\n",
       "      <th>col5</th>\n",
       "      <th>ceros</th>\n",
       "      <th>col10</th>\n",
       "    </tr>\n",
       "  </thead>\n",
       "  <tbody>\n",
       "    <tr>\n",
       "      <th>2</th>\n",
       "      <td>2</td>\n",
       "      <td>0.105053</td>\n",
       "      <td>0.923429</td>\n",
       "      <td>0.970716</td>\n",
       "      <td>0.0</td>\n",
       "      <td>0.348995</td>\n",
       "    </tr>\n",
       "    <tr>\n",
       "      <th>3</th>\n",
       "      <td>3</td>\n",
       "      <td>0.432442</td>\n",
       "      <td>0.901278</td>\n",
       "      <td>0.993184</td>\n",
       "      <td>0.0</td>\n",
       "      <td>2.498176</td>\n",
       "    </tr>\n",
       "    <tr>\n",
       "      <th>4</th>\n",
       "      <td>4</td>\n",
       "      <td>0.540191</td>\n",
       "      <td>0.004148</td>\n",
       "      <td>0.747030</td>\n",
       "      <td>0.0</td>\n",
       "      <td>0.002076</td>\n",
       "    </tr>\n",
       "    <tr>\n",
       "      <th>8</th>\n",
       "      <td>8</td>\n",
       "      <td>0.395130</td>\n",
       "      <td>0.155985</td>\n",
       "      <td>0.056830</td>\n",
       "      <td>0.0</td>\n",
       "      <td>0.651779</td>\n",
       "    </tr>\n",
       "    <tr>\n",
       "      <th>9</th>\n",
       "      <td>9</td>\n",
       "      <td>0.188756</td>\n",
       "      <td>0.446257</td>\n",
       "      <td>0.124136</td>\n",
       "      <td>0.0</td>\n",
       "      <td>0.258865</td>\n",
       "    </tr>\n",
       "  </tbody>\n",
       "</table>\n",
       "</div>"
      ],
      "text/plain": [
       "   nuevo_cero  nuevo_col      col4      col5  ceros     col10\n",
       "2           2   0.105053  0.923429  0.970716    0.0  0.348995\n",
       "3           3   0.432442  0.901278  0.993184    0.0  2.498176\n",
       "4           4   0.540191  0.004148  0.747030    0.0  0.002076\n",
       "8           8   0.395130  0.155985  0.056830    0.0  0.651779\n",
       "9           9   0.188756  0.446257  0.124136    0.0  0.258865"
      ]
     },
     "execution_count": 58,
     "metadata": {},
     "output_type": "execute_result"
    }
   ],
   "source": [
    "df"
   ]
  },
  {
   "cell_type": "code",
   "execution_count": 59,
   "metadata": {},
   "outputs": [
    {
     "data": {
      "text/html": [
       "<div>\n",
       "<style scoped>\n",
       "    .dataframe tbody tr th:only-of-type {\n",
       "        vertical-align: middle;\n",
       "    }\n",
       "\n",
       "    .dataframe tbody tr th {\n",
       "        vertical-align: top;\n",
       "    }\n",
       "\n",
       "    .dataframe thead th {\n",
       "        text-align: right;\n",
       "    }\n",
       "</style>\n",
       "<table border=\"1\" class=\"dataframe\">\n",
       "  <thead>\n",
       "    <tr style=\"text-align: right;\">\n",
       "      <th></th>\n",
       "      <th>index</th>\n",
       "      <th>nuevo_cero</th>\n",
       "      <th>nuevo_col</th>\n",
       "      <th>col4</th>\n",
       "      <th>col5</th>\n",
       "      <th>ceros</th>\n",
       "      <th>col10</th>\n",
       "    </tr>\n",
       "  </thead>\n",
       "  <tbody>\n",
       "    <tr>\n",
       "      <th>0</th>\n",
       "      <td>2</td>\n",
       "      <td>2</td>\n",
       "      <td>0.105053</td>\n",
       "      <td>0.923429</td>\n",
       "      <td>0.970716</td>\n",
       "      <td>0.0</td>\n",
       "      <td>0.348995</td>\n",
       "    </tr>\n",
       "    <tr>\n",
       "      <th>1</th>\n",
       "      <td>3</td>\n",
       "      <td>3</td>\n",
       "      <td>0.432442</td>\n",
       "      <td>0.901278</td>\n",
       "      <td>0.993184</td>\n",
       "      <td>0.0</td>\n",
       "      <td>2.498176</td>\n",
       "    </tr>\n",
       "    <tr>\n",
       "      <th>2</th>\n",
       "      <td>4</td>\n",
       "      <td>4</td>\n",
       "      <td>0.540191</td>\n",
       "      <td>0.004148</td>\n",
       "      <td>0.747030</td>\n",
       "      <td>0.0</td>\n",
       "      <td>0.002076</td>\n",
       "    </tr>\n",
       "    <tr>\n",
       "      <th>3</th>\n",
       "      <td>8</td>\n",
       "      <td>8</td>\n",
       "      <td>0.395130</td>\n",
       "      <td>0.155985</td>\n",
       "      <td>0.056830</td>\n",
       "      <td>0.0</td>\n",
       "      <td>0.651779</td>\n",
       "    </tr>\n",
       "    <tr>\n",
       "      <th>4</th>\n",
       "      <td>9</td>\n",
       "      <td>9</td>\n",
       "      <td>0.188756</td>\n",
       "      <td>0.446257</td>\n",
       "      <td>0.124136</td>\n",
       "      <td>0.0</td>\n",
       "      <td>0.258865</td>\n",
       "    </tr>\n",
       "  </tbody>\n",
       "</table>\n",
       "</div>"
      ],
      "text/plain": [
       "   index  nuevo_cero  nuevo_col      col4      col5  ceros     col10\n",
       "0      2           2   0.105053  0.923429  0.970716    0.0  0.348995\n",
       "1      3           3   0.432442  0.901278  0.993184    0.0  2.498176\n",
       "2      4           4   0.540191  0.004148  0.747030    0.0  0.002076\n",
       "3      8           8   0.395130  0.155985  0.056830    0.0  0.651779\n",
       "4      9           9   0.188756  0.446257  0.124136    0.0  0.258865"
      ]
     },
     "execution_count": 59,
     "metadata": {},
     "output_type": "execute_result"
    }
   ],
   "source": [
    "df.reset_index()"
   ]
  },
  {
   "cell_type": "code",
   "execution_count": 60,
   "metadata": {},
   "outputs": [
    {
     "data": {
      "text/html": [
       "<div>\n",
       "<style scoped>\n",
       "    .dataframe tbody tr th:only-of-type {\n",
       "        vertical-align: middle;\n",
       "    }\n",
       "\n",
       "    .dataframe tbody tr th {\n",
       "        vertical-align: top;\n",
       "    }\n",
       "\n",
       "    .dataframe thead th {\n",
       "        text-align: right;\n",
       "    }\n",
       "</style>\n",
       "<table border=\"1\" class=\"dataframe\">\n",
       "  <thead>\n",
       "    <tr style=\"text-align: right;\">\n",
       "      <th></th>\n",
       "      <th>nuevo_cero</th>\n",
       "      <th>nuevo_col</th>\n",
       "      <th>col4</th>\n",
       "      <th>col5</th>\n",
       "      <th>ceros</th>\n",
       "      <th>col10</th>\n",
       "    </tr>\n",
       "  </thead>\n",
       "  <tbody>\n",
       "    <tr>\n",
       "      <th>0</th>\n",
       "      <td>2</td>\n",
       "      <td>0.105053</td>\n",
       "      <td>0.923429</td>\n",
       "      <td>0.970716</td>\n",
       "      <td>0.0</td>\n",
       "      <td>0.348995</td>\n",
       "    </tr>\n",
       "    <tr>\n",
       "      <th>1</th>\n",
       "      <td>3</td>\n",
       "      <td>0.432442</td>\n",
       "      <td>0.901278</td>\n",
       "      <td>0.993184</td>\n",
       "      <td>0.0</td>\n",
       "      <td>2.498176</td>\n",
       "    </tr>\n",
       "    <tr>\n",
       "      <th>2</th>\n",
       "      <td>4</td>\n",
       "      <td>0.540191</td>\n",
       "      <td>0.004148</td>\n",
       "      <td>0.747030</td>\n",
       "      <td>0.0</td>\n",
       "      <td>0.002076</td>\n",
       "    </tr>\n",
       "    <tr>\n",
       "      <th>3</th>\n",
       "      <td>8</td>\n",
       "      <td>0.395130</td>\n",
       "      <td>0.155985</td>\n",
       "      <td>0.056830</td>\n",
       "      <td>0.0</td>\n",
       "      <td>0.651779</td>\n",
       "    </tr>\n",
       "    <tr>\n",
       "      <th>4</th>\n",
       "      <td>9</td>\n",
       "      <td>0.188756</td>\n",
       "      <td>0.446257</td>\n",
       "      <td>0.124136</td>\n",
       "      <td>0.0</td>\n",
       "      <td>0.258865</td>\n",
       "    </tr>\n",
       "  </tbody>\n",
       "</table>\n",
       "</div>"
      ],
      "text/plain": [
       "   nuevo_cero  nuevo_col      col4      col5  ceros     col10\n",
       "0           2   0.105053  0.923429  0.970716    0.0  0.348995\n",
       "1           3   0.432442  0.901278  0.993184    0.0  2.498176\n",
       "2           4   0.540191  0.004148  0.747030    0.0  0.002076\n",
       "3           8   0.395130  0.155985  0.056830    0.0  0.651779\n",
       "4           9   0.188756  0.446257  0.124136    0.0  0.258865"
      ]
     },
     "execution_count": 60,
     "metadata": {},
     "output_type": "execute_result"
    }
   ],
   "source": [
    "df.reset_index(drop=True)"
   ]
  },
  {
   "cell_type": "code",
   "execution_count": 61,
   "metadata": {},
   "outputs": [
    {
     "data": {
      "text/html": [
       "<div>\n",
       "<style scoped>\n",
       "    .dataframe tbody tr th:only-of-type {\n",
       "        vertical-align: middle;\n",
       "    }\n",
       "\n",
       "    .dataframe tbody tr th {\n",
       "        vertical-align: top;\n",
       "    }\n",
       "\n",
       "    .dataframe thead th {\n",
       "        text-align: right;\n",
       "    }\n",
       "</style>\n",
       "<table border=\"1\" class=\"dataframe\">\n",
       "  <thead>\n",
       "    <tr style=\"text-align: right;\">\n",
       "      <th></th>\n",
       "      <th>nuevo_cero</th>\n",
       "      <th>nuevo_col</th>\n",
       "      <th>col4</th>\n",
       "      <th>col5</th>\n",
       "      <th>ceros</th>\n",
       "      <th>col10</th>\n",
       "    </tr>\n",
       "  </thead>\n",
       "  <tbody>\n",
       "    <tr>\n",
       "      <th>0</th>\n",
       "      <td>2</td>\n",
       "      <td>0.105053</td>\n",
       "      <td>0.923429</td>\n",
       "      <td>0.970716</td>\n",
       "      <td>0.0</td>\n",
       "      <td>0.348995</td>\n",
       "    </tr>\n",
       "    <tr>\n",
       "      <th>1</th>\n",
       "      <td>3</td>\n",
       "      <td>0.432442</td>\n",
       "      <td>0.901278</td>\n",
       "      <td>0.993184</td>\n",
       "      <td>0.0</td>\n",
       "      <td>2.498176</td>\n",
       "    </tr>\n",
       "    <tr>\n",
       "      <th>2</th>\n",
       "      <td>4</td>\n",
       "      <td>0.540191</td>\n",
       "      <td>0.004148</td>\n",
       "      <td>0.747030</td>\n",
       "      <td>0.0</td>\n",
       "      <td>0.002076</td>\n",
       "    </tr>\n",
       "    <tr>\n",
       "      <th>3</th>\n",
       "      <td>8</td>\n",
       "      <td>0.395130</td>\n",
       "      <td>0.155985</td>\n",
       "      <td>0.056830</td>\n",
       "      <td>0.0</td>\n",
       "      <td>0.651779</td>\n",
       "    </tr>\n",
       "    <tr>\n",
       "      <th>4</th>\n",
       "      <td>9</td>\n",
       "      <td>0.188756</td>\n",
       "      <td>0.446257</td>\n",
       "      <td>0.124136</td>\n",
       "      <td>0.0</td>\n",
       "      <td>0.258865</td>\n",
       "    </tr>\n",
       "  </tbody>\n",
       "</table>\n",
       "</div>"
      ],
      "text/plain": [
       "   nuevo_cero  nuevo_col      col4      col5  ceros     col10\n",
       "0           2   0.105053  0.923429  0.970716    0.0  0.348995\n",
       "1           3   0.432442  0.901278  0.993184    0.0  2.498176\n",
       "2           4   0.540191  0.004148  0.747030    0.0  0.002076\n",
       "3           8   0.395130  0.155985  0.056830    0.0  0.651779\n",
       "4           9   0.188756  0.446257  0.124136    0.0  0.258865"
      ]
     },
     "execution_count": 61,
     "metadata": {},
     "output_type": "execute_result"
    }
   ],
   "source": [
    "df.index = [i for i in range(len(df))]\n",
    "\n",
    "df"
   ]
  },
  {
   "cell_type": "markdown",
   "metadata": {},
   "source": [
    "### Operaciones\n"
   ]
  },
  {
   "cell_type": "code",
   "execution_count": 62,
   "metadata": {},
   "outputs": [
    {
     "data": {
      "text/html": [
       "<div>\n",
       "<style scoped>\n",
       "    .dataframe tbody tr th:only-of-type {\n",
       "        vertical-align: middle;\n",
       "    }\n",
       "\n",
       "    .dataframe tbody tr th {\n",
       "        vertical-align: top;\n",
       "    }\n",
       "\n",
       "    .dataframe thead th {\n",
       "        text-align: right;\n",
       "    }\n",
       "</style>\n",
       "<table border=\"1\" class=\"dataframe\">\n",
       "  <thead>\n",
       "    <tr style=\"text-align: right;\">\n",
       "      <th></th>\n",
       "      <th>nuevo_cero</th>\n",
       "      <th>nuevo_col</th>\n",
       "      <th>col4</th>\n",
       "      <th>col5</th>\n",
       "      <th>ceros</th>\n",
       "      <th>col10</th>\n",
       "    </tr>\n",
       "  </thead>\n",
       "  <tbody>\n",
       "    <tr>\n",
       "      <th>0</th>\n",
       "      <td>2</td>\n",
       "      <td>0.105053</td>\n",
       "      <td>0.923429</td>\n",
       "      <td>0.970716</td>\n",
       "      <td>0.0</td>\n",
       "      <td>0.348995</td>\n",
       "    </tr>\n",
       "    <tr>\n",
       "      <th>1</th>\n",
       "      <td>3</td>\n",
       "      <td>0.432442</td>\n",
       "      <td>0.901278</td>\n",
       "      <td>0.993184</td>\n",
       "      <td>0.0</td>\n",
       "      <td>2.498176</td>\n",
       "    </tr>\n",
       "    <tr>\n",
       "      <th>2</th>\n",
       "      <td>4</td>\n",
       "      <td>0.540191</td>\n",
       "      <td>0.004148</td>\n",
       "      <td>0.747030</td>\n",
       "      <td>0.0</td>\n",
       "      <td>0.002076</td>\n",
       "    </tr>\n",
       "    <tr>\n",
       "      <th>3</th>\n",
       "      <td>8</td>\n",
       "      <td>0.395130</td>\n",
       "      <td>0.155985</td>\n",
       "      <td>0.056830</td>\n",
       "      <td>0.0</td>\n",
       "      <td>0.651779</td>\n",
       "    </tr>\n",
       "    <tr>\n",
       "      <th>4</th>\n",
       "      <td>9</td>\n",
       "      <td>0.188756</td>\n",
       "      <td>0.446257</td>\n",
       "      <td>0.124136</td>\n",
       "      <td>0.0</td>\n",
       "      <td>0.258865</td>\n",
       "    </tr>\n",
       "  </tbody>\n",
       "</table>\n",
       "</div>"
      ],
      "text/plain": [
       "   nuevo_cero  nuevo_col      col4      col5  ceros     col10\n",
       "0           2   0.105053  0.923429  0.970716    0.0  0.348995\n",
       "1           3   0.432442  0.901278  0.993184    0.0  2.498176\n",
       "2           4   0.540191  0.004148  0.747030    0.0  0.002076\n",
       "3           8   0.395130  0.155985  0.056830    0.0  0.651779\n",
       "4           9   0.188756  0.446257  0.124136    0.0  0.258865"
      ]
     },
     "execution_count": 62,
     "metadata": {},
     "output_type": "execute_result"
    }
   ],
   "source": [
    "df"
   ]
  },
  {
   "cell_type": "code",
   "execution_count": 63,
   "metadata": {},
   "outputs": [
    {
     "data": {
      "text/html": [
       "<div>\n",
       "<style scoped>\n",
       "    .dataframe tbody tr th:only-of-type {\n",
       "        vertical-align: middle;\n",
       "    }\n",
       "\n",
       "    .dataframe tbody tr th {\n",
       "        vertical-align: top;\n",
       "    }\n",
       "\n",
       "    .dataframe thead th {\n",
       "        text-align: right;\n",
       "    }\n",
       "</style>\n",
       "<table border=\"1\" class=\"dataframe\">\n",
       "  <thead>\n",
       "    <tr style=\"text-align: right;\">\n",
       "      <th></th>\n",
       "      <th>0</th>\n",
       "      <th>1</th>\n",
       "      <th>2</th>\n",
       "      <th>3</th>\n",
       "      <th>4</th>\n",
       "    </tr>\n",
       "  </thead>\n",
       "  <tbody>\n",
       "    <tr>\n",
       "      <th>nuevo_cero</th>\n",
       "      <td>2.000000</td>\n",
       "      <td>3.000000</td>\n",
       "      <td>4.000000</td>\n",
       "      <td>8.000000</td>\n",
       "      <td>9.000000</td>\n",
       "    </tr>\n",
       "    <tr>\n",
       "      <th>nuevo_col</th>\n",
       "      <td>0.105053</td>\n",
       "      <td>0.432442</td>\n",
       "      <td>0.540191</td>\n",
       "      <td>0.395130</td>\n",
       "      <td>0.188756</td>\n",
       "    </tr>\n",
       "    <tr>\n",
       "      <th>col4</th>\n",
       "      <td>0.923429</td>\n",
       "      <td>0.901278</td>\n",
       "      <td>0.004148</td>\n",
       "      <td>0.155985</td>\n",
       "      <td>0.446257</td>\n",
       "    </tr>\n",
       "    <tr>\n",
       "      <th>col5</th>\n",
       "      <td>0.970716</td>\n",
       "      <td>0.993184</td>\n",
       "      <td>0.747030</td>\n",
       "      <td>0.056830</td>\n",
       "      <td>0.124136</td>\n",
       "    </tr>\n",
       "    <tr>\n",
       "      <th>ceros</th>\n",
       "      <td>0.000000</td>\n",
       "      <td>0.000000</td>\n",
       "      <td>0.000000</td>\n",
       "      <td>0.000000</td>\n",
       "      <td>0.000000</td>\n",
       "    </tr>\n",
       "    <tr>\n",
       "      <th>col10</th>\n",
       "      <td>0.348995</td>\n",
       "      <td>2.498176</td>\n",
       "      <td>0.002076</td>\n",
       "      <td>0.651779</td>\n",
       "      <td>0.258865</td>\n",
       "    </tr>\n",
       "  </tbody>\n",
       "</table>\n",
       "</div>"
      ],
      "text/plain": [
       "                   0         1         2         3         4\n",
       "nuevo_cero  2.000000  3.000000  4.000000  8.000000  9.000000\n",
       "nuevo_col   0.105053  0.432442  0.540191  0.395130  0.188756\n",
       "col4        0.923429  0.901278  0.004148  0.155985  0.446257\n",
       "col5        0.970716  0.993184  0.747030  0.056830  0.124136\n",
       "ceros       0.000000  0.000000  0.000000  0.000000  0.000000\n",
       "col10       0.348995  2.498176  0.002076  0.651779  0.258865"
      ]
     },
     "execution_count": 63,
     "metadata": {},
     "output_type": "execute_result"
    }
   ],
   "source": [
    "df.transpose()"
   ]
  },
  {
   "cell_type": "code",
   "execution_count": 64,
   "metadata": {},
   "outputs": [
    {
     "data": {
      "text/html": [
       "<div>\n",
       "<style scoped>\n",
       "    .dataframe tbody tr th:only-of-type {\n",
       "        vertical-align: middle;\n",
       "    }\n",
       "\n",
       "    .dataframe tbody tr th {\n",
       "        vertical-align: top;\n",
       "    }\n",
       "\n",
       "    .dataframe thead th {\n",
       "        text-align: right;\n",
       "    }\n",
       "</style>\n",
       "<table border=\"1\" class=\"dataframe\">\n",
       "  <thead>\n",
       "    <tr style=\"text-align: right;\">\n",
       "      <th></th>\n",
       "      <th>0</th>\n",
       "      <th>1</th>\n",
       "      <th>2</th>\n",
       "      <th>3</th>\n",
       "      <th>4</th>\n",
       "    </tr>\n",
       "  </thead>\n",
       "  <tbody>\n",
       "    <tr>\n",
       "      <th>nuevo_cero</th>\n",
       "      <td>2.000000</td>\n",
       "      <td>3.000000</td>\n",
       "      <td>4.000000</td>\n",
       "      <td>8.000000</td>\n",
       "      <td>9.000000</td>\n",
       "    </tr>\n",
       "    <tr>\n",
       "      <th>nuevo_col</th>\n",
       "      <td>0.105053</td>\n",
       "      <td>0.432442</td>\n",
       "      <td>0.540191</td>\n",
       "      <td>0.395130</td>\n",
       "      <td>0.188756</td>\n",
       "    </tr>\n",
       "    <tr>\n",
       "      <th>col4</th>\n",
       "      <td>0.923429</td>\n",
       "      <td>0.901278</td>\n",
       "      <td>0.004148</td>\n",
       "      <td>0.155985</td>\n",
       "      <td>0.446257</td>\n",
       "    </tr>\n",
       "    <tr>\n",
       "      <th>col5</th>\n",
       "      <td>0.970716</td>\n",
       "      <td>0.993184</td>\n",
       "      <td>0.747030</td>\n",
       "      <td>0.056830</td>\n",
       "      <td>0.124136</td>\n",
       "    </tr>\n",
       "    <tr>\n",
       "      <th>ceros</th>\n",
       "      <td>0.000000</td>\n",
       "      <td>0.000000</td>\n",
       "      <td>0.000000</td>\n",
       "      <td>0.000000</td>\n",
       "      <td>0.000000</td>\n",
       "    </tr>\n",
       "    <tr>\n",
       "      <th>col10</th>\n",
       "      <td>0.348995</td>\n",
       "      <td>2.498176</td>\n",
       "      <td>0.002076</td>\n",
       "      <td>0.651779</td>\n",
       "      <td>0.258865</td>\n",
       "    </tr>\n",
       "  </tbody>\n",
       "</table>\n",
       "</div>"
      ],
      "text/plain": [
       "                   0         1         2         3         4\n",
       "nuevo_cero  2.000000  3.000000  4.000000  8.000000  9.000000\n",
       "nuevo_col   0.105053  0.432442  0.540191  0.395130  0.188756\n",
       "col4        0.923429  0.901278  0.004148  0.155985  0.446257\n",
       "col5        0.970716  0.993184  0.747030  0.056830  0.124136\n",
       "ceros       0.000000  0.000000  0.000000  0.000000  0.000000\n",
       "col10       0.348995  2.498176  0.002076  0.651779  0.258865"
      ]
     },
     "execution_count": 64,
     "metadata": {},
     "output_type": "execute_result"
    }
   ],
   "source": [
    "df.T"
   ]
  },
  {
   "cell_type": "code",
   "execution_count": 65,
   "metadata": {},
   "outputs": [
    {
     "data": {
      "text/plain": [
       "Index(['nuevo_cero', 'nuevo_col', 'col4', 'col5', 'ceros', 'col10'], dtype='object')"
      ]
     },
     "execution_count": 65,
     "metadata": {},
     "output_type": "execute_result"
    }
   ],
   "source": [
    "df.T.index"
   ]
  },
  {
   "cell_type": "code",
   "execution_count": 66,
   "metadata": {},
   "outputs": [
    {
     "data": {
      "text/plain": [
       "Index(['nuevo_cero', 'nuevo_col', 'col4', 'col5', 'ceros', 'col10'], dtype='object')"
      ]
     },
     "execution_count": 66,
     "metadata": {},
     "output_type": "execute_result"
    }
   ],
   "source": [
    "df.columns"
   ]
  },
  {
   "cell_type": "code",
   "execution_count": 67,
   "metadata": {},
   "outputs": [
    {
     "data": {
      "text/plain": [
       "Int64Index([0, 1, 2, 3, 4], dtype='int64')"
      ]
     },
     "execution_count": 67,
     "metadata": {},
     "output_type": "execute_result"
    }
   ],
   "source": [
    "df.index"
   ]
  },
  {
   "cell_type": "code",
   "execution_count": 68,
   "metadata": {},
   "outputs": [
    {
     "data": {
      "text/plain": [
       "nuevo_cero    26.000000\n",
       "nuevo_col      1.661572\n",
       "col4           2.431097\n",
       "col5           2.891896\n",
       "ceros          0.000000\n",
       "col10          3.759891\n",
       "dtype: float64"
      ]
     },
     "execution_count": 68,
     "metadata": {},
     "output_type": "execute_result"
    }
   ],
   "source": [
    "df.sum()"
   ]
  },
  {
   "cell_type": "code",
   "execution_count": 69,
   "metadata": {},
   "outputs": [
    {
     "data": {
      "text/plain": [
       "nuevo_cero    26.000000\n",
       "nuevo_col      1.661572\n",
       "col4           2.431097\n",
       "col5           2.891896\n",
       "ceros          0.000000\n",
       "col10          3.759891\n",
       "dtype: float64"
      ]
     },
     "execution_count": 69,
     "metadata": {},
     "output_type": "execute_result"
    }
   ],
   "source": [
    "df.sum(axis=0)"
   ]
  },
  {
   "cell_type": "code",
   "execution_count": 70,
   "metadata": {},
   "outputs": [
    {
     "data": {
      "text/plain": [
       "0     4.348192\n",
       "1     7.825080\n",
       "2     5.293446\n",
       "3     9.259724\n",
       "4    10.018015\n",
       "dtype: float64"
      ]
     },
     "execution_count": 70,
     "metadata": {},
     "output_type": "execute_result"
    }
   ],
   "source": [
    "df.sum(axis=1)"
   ]
  },
  {
   "cell_type": "code",
   "execution_count": 71,
   "metadata": {},
   "outputs": [
    {
     "data": {
      "text/plain": [
       "0    2.243139\n",
       "1    4.392637\n",
       "2    0.753255\n",
       "3    0.864594\n",
       "4    0.829259\n",
       "dtype: float64"
      ]
     },
     "execution_count": 71,
     "metadata": {},
     "output_type": "execute_result"
    }
   ],
   "source": [
    "seleccion=['col4', 'col5', 'col10']\n",
    "\n",
    "df[seleccion].sum(axis=1)"
   ]
  },
  {
   "cell_type": "code",
   "execution_count": 72,
   "metadata": {},
   "outputs": [
    {
     "data": {
      "text/plain": [
       "nuevo_cero    3.114482\n",
       "nuevo_col     0.179890\n",
       "col4          0.420259\n",
       "col5          0.456285\n",
       "ceros         0.000000\n",
       "col10         1.003389\n",
       "dtype: float64"
      ]
     },
     "execution_count": 72,
     "metadata": {},
     "output_type": "execute_result"
    }
   ],
   "source": [
    "df.std()"
   ]
  },
  {
   "cell_type": "code",
   "execution_count": 73,
   "metadata": {},
   "outputs": [
    {
     "data": {
      "text/plain": [
       "nuevo_cero    9.700000\n",
       "nuevo_col     0.032360\n",
       "col4          0.176617\n",
       "col5          0.208196\n",
       "ceros         0.000000\n",
       "col10         1.006789\n",
       "dtype: float64"
      ]
     },
     "execution_count": 73,
     "metadata": {},
     "output_type": "execute_result"
    }
   ],
   "source": [
    "df.var()"
   ]
  },
  {
   "cell_type": "code",
   "execution_count": 74,
   "metadata": {},
   "outputs": [
    {
     "data": {
      "text/plain": [
       "nuevo_cero    5.200000\n",
       "nuevo_col     0.332314\n",
       "col4          0.486219\n",
       "col5          0.578379\n",
       "ceros         0.000000\n",
       "col10         0.751978\n",
       "dtype: float64"
      ]
     },
     "execution_count": 74,
     "metadata": {},
     "output_type": "execute_result"
    }
   ],
   "source": [
    "df.mean()"
   ]
  },
  {
   "cell_type": "code",
   "execution_count": 75,
   "metadata": {},
   "outputs": [
    {
     "data": {
      "text/plain": [
       "nuevo_cero    4.000000\n",
       "nuevo_col     0.395130\n",
       "col4          0.446257\n",
       "col5          0.747030\n",
       "ceros         0.000000\n",
       "col10         0.348995\n",
       "dtype: float64"
      ]
     },
     "execution_count": 75,
     "metadata": {},
     "output_type": "execute_result"
    }
   ],
   "source": [
    "df.median()"
   ]
  },
  {
   "cell_type": "markdown",
   "metadata": {},
   "source": [
    "### Importar archivos\n",
    "\n",
    "+ CSV\n",
    "+ XLSX\n",
    "+ XLS\n",
    "+ JSON"
   ]
  },
  {
   "cell_type": "code",
   "execution_count": 76,
   "metadata": {},
   "outputs": [],
   "source": [
    "pd.set_option('display.max_columns', None)  # ver todas las columnas\n",
    "\n",
    "pd.set_option('display.max_rows', None)     # ver todas las filas"
   ]
  },
  {
   "cell_type": "code",
   "execution_count": 77,
   "metadata": {},
   "outputs": [
    {
     "data": {
      "text/html": [
       "<div>\n",
       "<style scoped>\n",
       "    .dataframe tbody tr th:only-of-type {\n",
       "        vertical-align: middle;\n",
       "    }\n",
       "\n",
       "    .dataframe tbody tr th {\n",
       "        vertical-align: top;\n",
       "    }\n",
       "\n",
       "    .dataframe thead th {\n",
       "        text-align: right;\n",
       "    }\n",
       "</style>\n",
       "<table border=\"1\" class=\"dataframe\">\n",
       "  <thead>\n",
       "    <tr style=\"text-align: right;\">\n",
       "      <th></th>\n",
       "      <th>Make</th>\n",
       "      <th>Model</th>\n",
       "      <th>Year</th>\n",
       "      <th>Engine Displacement</th>\n",
       "      <th>Cylinders</th>\n",
       "      <th>Transmission</th>\n",
       "      <th>Drivetrain</th>\n",
       "      <th>Vehicle Class</th>\n",
       "      <th>Fuel Type</th>\n",
       "      <th>Fuel Barrels/Year</th>\n",
       "      <th>City MPG</th>\n",
       "      <th>Highway MPG</th>\n",
       "      <th>Combined MPG</th>\n",
       "      <th>CO2 Emission Grams/Mile</th>\n",
       "      <th>Fuel Cost/Year</th>\n",
       "    </tr>\n",
       "  </thead>\n",
       "  <tbody>\n",
       "    <tr>\n",
       "      <th>0</th>\n",
       "      <td>AM General</td>\n",
       "      <td>DJ Po Vehicle 2WD</td>\n",
       "      <td>1984</td>\n",
       "      <td>2.5</td>\n",
       "      <td>4.0</td>\n",
       "      <td>Automatic 3-spd</td>\n",
       "      <td>2-Wheel Drive</td>\n",
       "      <td>Special Purpose Vehicle 2WD</td>\n",
       "      <td>Regular</td>\n",
       "      <td>19.388824</td>\n",
       "      <td>18</td>\n",
       "      <td>17</td>\n",
       "      <td>17</td>\n",
       "      <td>522.764706</td>\n",
       "      <td>1950</td>\n",
       "    </tr>\n",
       "    <tr>\n",
       "      <th>1</th>\n",
       "      <td>AM General</td>\n",
       "      <td>FJ8c Post Office</td>\n",
       "      <td>1984</td>\n",
       "      <td>4.2</td>\n",
       "      <td>6.0</td>\n",
       "      <td>Automatic 3-spd</td>\n",
       "      <td>2-Wheel Drive</td>\n",
       "      <td>Special Purpose Vehicle 2WD</td>\n",
       "      <td>Regular</td>\n",
       "      <td>25.354615</td>\n",
       "      <td>13</td>\n",
       "      <td>13</td>\n",
       "      <td>13</td>\n",
       "      <td>683.615385</td>\n",
       "      <td>2550</td>\n",
       "    </tr>\n",
       "    <tr>\n",
       "      <th>2</th>\n",
       "      <td>AM General</td>\n",
       "      <td>Post Office DJ5 2WD</td>\n",
       "      <td>1985</td>\n",
       "      <td>2.5</td>\n",
       "      <td>4.0</td>\n",
       "      <td>Automatic 3-spd</td>\n",
       "      <td>Rear-Wheel Drive</td>\n",
       "      <td>Special Purpose Vehicle 2WD</td>\n",
       "      <td>Regular</td>\n",
       "      <td>20.600625</td>\n",
       "      <td>16</td>\n",
       "      <td>17</td>\n",
       "      <td>16</td>\n",
       "      <td>555.437500</td>\n",
       "      <td>2100</td>\n",
       "    </tr>\n",
       "    <tr>\n",
       "      <th>3</th>\n",
       "      <td>AM General</td>\n",
       "      <td>Post Office DJ8 2WD</td>\n",
       "      <td>1985</td>\n",
       "      <td>4.2</td>\n",
       "      <td>6.0</td>\n",
       "      <td>Automatic 3-spd</td>\n",
       "      <td>Rear-Wheel Drive</td>\n",
       "      <td>Special Purpose Vehicle 2WD</td>\n",
       "      <td>Regular</td>\n",
       "      <td>25.354615</td>\n",
       "      <td>13</td>\n",
       "      <td>13</td>\n",
       "      <td>13</td>\n",
       "      <td>683.615385</td>\n",
       "      <td>2550</td>\n",
       "    </tr>\n",
       "    <tr>\n",
       "      <th>4</th>\n",
       "      <td>ASC Incorporated</td>\n",
       "      <td>GNX</td>\n",
       "      <td>1987</td>\n",
       "      <td>3.8</td>\n",
       "      <td>6.0</td>\n",
       "      <td>Automatic 4-spd</td>\n",
       "      <td>Rear-Wheel Drive</td>\n",
       "      <td>Midsize Cars</td>\n",
       "      <td>Premium</td>\n",
       "      <td>20.600625</td>\n",
       "      <td>14</td>\n",
       "      <td>21</td>\n",
       "      <td>16</td>\n",
       "      <td>555.437500</td>\n",
       "      <td>2550</td>\n",
       "    </tr>\n",
       "  </tbody>\n",
       "</table>\n",
       "</div>"
      ],
      "text/plain": [
       "               Make                Model  Year  Engine Displacement  \\\n",
       "0        AM General    DJ Po Vehicle 2WD  1984                  2.5   \n",
       "1        AM General     FJ8c Post Office  1984                  4.2   \n",
       "2        AM General  Post Office DJ5 2WD  1985                  2.5   \n",
       "3        AM General  Post Office DJ8 2WD  1985                  4.2   \n",
       "4  ASC Incorporated                  GNX  1987                  3.8   \n",
       "\n",
       "   Cylinders     Transmission        Drivetrain                Vehicle Class  \\\n",
       "0        4.0  Automatic 3-spd     2-Wheel Drive  Special Purpose Vehicle 2WD   \n",
       "1        6.0  Automatic 3-spd     2-Wheel Drive  Special Purpose Vehicle 2WD   \n",
       "2        4.0  Automatic 3-spd  Rear-Wheel Drive  Special Purpose Vehicle 2WD   \n",
       "3        6.0  Automatic 3-spd  Rear-Wheel Drive  Special Purpose Vehicle 2WD   \n",
       "4        6.0  Automatic 4-spd  Rear-Wheel Drive                 Midsize Cars   \n",
       "\n",
       "  Fuel Type  Fuel Barrels/Year  City MPG  Highway MPG  Combined MPG  \\\n",
       "0   Regular          19.388824        18           17            17   \n",
       "1   Regular          25.354615        13           13            13   \n",
       "2   Regular          20.600625        16           17            16   \n",
       "3   Regular          25.354615        13           13            13   \n",
       "4   Premium          20.600625        14           21            16   \n",
       "\n",
       "   CO2 Emission Grams/Mile  Fuel Cost/Year  \n",
       "0               522.764706            1950  \n",
       "1               683.615385            2550  \n",
       "2               555.437500            2100  \n",
       "3               683.615385            2550  \n",
       "4               555.437500            2550  "
      ]
     },
     "execution_count": 77,
     "metadata": {},
     "output_type": "execute_result"
    }
   ],
   "source": [
    "df_csv = pd.read_csv('../data/vehicles.csv')\n",
    "\n",
    "df_csv.head()"
   ]
  },
  {
   "cell_type": "code",
   "execution_count": 78,
   "metadata": {},
   "outputs": [
    {
     "data": {
      "text/plain": [
       "(35952, 15)"
      ]
     },
     "execution_count": 78,
     "metadata": {},
     "output_type": "execute_result"
    }
   ],
   "source": [
    "df_csv.shape"
   ]
  },
  {
   "cell_type": "code",
   "execution_count": 80,
   "metadata": {},
   "outputs": [
    {
     "name": "stdout",
     "output_type": "stream",
     "text": [
      "<class 'pandas.core.frame.DataFrame'>\n",
      "RangeIndex: 35952 entries, 0 to 35951\n",
      "Data columns (total 15 columns):\n",
      " #   Column                   Non-Null Count  Dtype  \n",
      "---  ------                   --------------  -----  \n",
      " 0   Make                     35952 non-null  object \n",
      " 1   Model                    35952 non-null  object \n",
      " 2   Year                     35952 non-null  int64  \n",
      " 3   Engine Displacement      35952 non-null  float64\n",
      " 4   Cylinders                35952 non-null  float64\n",
      " 5   Transmission             35952 non-null  object \n",
      " 6   Drivetrain               35952 non-null  object \n",
      " 7   Vehicle Class            35952 non-null  object \n",
      " 8   Fuel Type                35952 non-null  object \n",
      " 9   Fuel Barrels/Year        35952 non-null  float64\n",
      " 10  City MPG                 35952 non-null  int64  \n",
      " 11  Highway MPG              35952 non-null  int64  \n",
      " 12  Combined MPG             35952 non-null  int64  \n",
      " 13  CO2 Emission Grams/Mile  35952 non-null  float64\n",
      " 14  Fuel Cost/Year           35952 non-null  int64  \n",
      "dtypes: float64(4), int64(5), object(6)\n",
      "memory usage: 16.8 MB\n"
     ]
    }
   ],
   "source": [
    "df_csv.info(memory_usage='deep')"
   ]
  },
  {
   "cell_type": "code",
   "execution_count": null,
   "metadata": {},
   "outputs": [],
   "source": [
    "%pip install openpyxl\n",
    "%pip install xlrd"
   ]
  },
  {
   "cell_type": "code",
   "execution_count": 81,
   "metadata": {},
   "outputs": [
    {
     "data": {
      "text/html": [
       "<div>\n",
       "<style scoped>\n",
       "    .dataframe tbody tr th:only-of-type {\n",
       "        vertical-align: middle;\n",
       "    }\n",
       "\n",
       "    .dataframe tbody tr th {\n",
       "        vertical-align: top;\n",
       "    }\n",
       "\n",
       "    .dataframe thead th {\n",
       "        text-align: right;\n",
       "    }\n",
       "</style>\n",
       "<table border=\"1\" class=\"dataframe\">\n",
       "  <thead>\n",
       "    <tr style=\"text-align: right;\">\n",
       "      <th></th>\n",
       "      <th>InvoiceNo</th>\n",
       "      <th>InvoiceDate</th>\n",
       "      <th>StockCode</th>\n",
       "      <th>Description</th>\n",
       "      <th>Quantity</th>\n",
       "      <th>UnitPrice</th>\n",
       "      <th>Revenue</th>\n",
       "      <th>CustomerID</th>\n",
       "      <th>Country</th>\n",
       "    </tr>\n",
       "  </thead>\n",
       "  <tbody>\n",
       "    <tr>\n",
       "      <th>0</th>\n",
       "      <td>536365</td>\n",
       "      <td>2010-12-01 08:26:00</td>\n",
       "      <td>85123A</td>\n",
       "      <td>CREAM HANGING HEART T-LIGHT HOLDER</td>\n",
       "      <td>6</td>\n",
       "      <td>2.55</td>\n",
       "      <td>15.3</td>\n",
       "      <td>17850</td>\n",
       "      <td>United Kingdom</td>\n",
       "    </tr>\n",
       "    <tr>\n",
       "      <th>1</th>\n",
       "      <td>536373</td>\n",
       "      <td>2010-12-01 09:02:00</td>\n",
       "      <td>85123A</td>\n",
       "      <td>CREAM HANGING HEART T-LIGHT HOLDER</td>\n",
       "      <td>6</td>\n",
       "      <td>2.55</td>\n",
       "      <td>15.3</td>\n",
       "      <td>17850</td>\n",
       "      <td>United Kingdom</td>\n",
       "    </tr>\n",
       "    <tr>\n",
       "      <th>2</th>\n",
       "      <td>536375</td>\n",
       "      <td>2010-12-01 09:32:00</td>\n",
       "      <td>85123A</td>\n",
       "      <td>CREAM HANGING HEART T-LIGHT HOLDER</td>\n",
       "      <td>6</td>\n",
       "      <td>2.55</td>\n",
       "      <td>15.3</td>\n",
       "      <td>17850</td>\n",
       "      <td>United Kingdom</td>\n",
       "    </tr>\n",
       "    <tr>\n",
       "      <th>3</th>\n",
       "      <td>536390</td>\n",
       "      <td>2010-12-01 10:19:00</td>\n",
       "      <td>85123A</td>\n",
       "      <td>CREAM HANGING HEART T-LIGHT HOLDER</td>\n",
       "      <td>64</td>\n",
       "      <td>2.55</td>\n",
       "      <td>163.2</td>\n",
       "      <td>17511</td>\n",
       "      <td>United Kingdom</td>\n",
       "    </tr>\n",
       "    <tr>\n",
       "      <th>4</th>\n",
       "      <td>536394</td>\n",
       "      <td>2010-12-01 10:39:00</td>\n",
       "      <td>85123A</td>\n",
       "      <td>CREAM HANGING HEART T-LIGHT HOLDER</td>\n",
       "      <td>32</td>\n",
       "      <td>2.55</td>\n",
       "      <td>81.6</td>\n",
       "      <td>13408</td>\n",
       "      <td>United Kingdom</td>\n",
       "    </tr>\n",
       "  </tbody>\n",
       "</table>\n",
       "</div>"
      ],
      "text/plain": [
       "   InvoiceNo         InvoiceDate StockCode  \\\n",
       "0     536365 2010-12-01 08:26:00    85123A   \n",
       "1     536373 2010-12-01 09:02:00    85123A   \n",
       "2     536375 2010-12-01 09:32:00    85123A   \n",
       "3     536390 2010-12-01 10:19:00    85123A   \n",
       "4     536394 2010-12-01 10:39:00    85123A   \n",
       "\n",
       "                          Description  Quantity  UnitPrice  Revenue  \\\n",
       "0  CREAM HANGING HEART T-LIGHT HOLDER         6       2.55     15.3   \n",
       "1  CREAM HANGING HEART T-LIGHT HOLDER         6       2.55     15.3   \n",
       "2  CREAM HANGING HEART T-LIGHT HOLDER         6       2.55     15.3   \n",
       "3  CREAM HANGING HEART T-LIGHT HOLDER        64       2.55    163.2   \n",
       "4  CREAM HANGING HEART T-LIGHT HOLDER        32       2.55     81.6   \n",
       "\n",
       "   CustomerID         Country  \n",
       "0       17850  United Kingdom  \n",
       "1       17850  United Kingdom  \n",
       "2       17850  United Kingdom  \n",
       "3       17511  United Kingdom  \n",
       "4       13408  United Kingdom  "
      ]
     },
     "execution_count": 81,
     "metadata": {},
     "output_type": "execute_result"
    }
   ],
   "source": [
    "# xlsx\n",
    "\n",
    "df_xlsx = pd.read_excel('../data/Online Retail.xlsx')\n",
    "\n",
    "df_xlsx.head()"
   ]
  },
  {
   "cell_type": "code",
   "execution_count": 82,
   "metadata": {},
   "outputs": [
    {
     "name": "stdout",
     "output_type": "stream",
     "text": [
      "<class 'pandas.core.frame.DataFrame'>\n",
      "RangeIndex: 396034 entries, 0 to 396033\n",
      "Data columns (total 9 columns):\n",
      " #   Column       Non-Null Count   Dtype         \n",
      "---  ------       --------------   -----         \n",
      " 0   InvoiceNo    396034 non-null  int64         \n",
      " 1   InvoiceDate  396034 non-null  datetime64[ns]\n",
      " 2   StockCode    396034 non-null  object        \n",
      " 3   Description  396034 non-null  object        \n",
      " 4   Quantity     396034 non-null  int64         \n",
      " 5   UnitPrice    396034 non-null  float64       \n",
      " 6   Revenue      396034 non-null  float64       \n",
      " 7   CustomerID   396034 non-null  int64         \n",
      " 8   Country      396034 non-null  object        \n",
      "dtypes: datetime64[ns](1), float64(2), int64(3), object(3)\n",
      "memory usage: 90.7 MB\n"
     ]
    }
   ],
   "source": [
    "df_xlsx.info(memory_usage='deep')"
   ]
  },
  {
   "cell_type": "code",
   "execution_count": 83,
   "metadata": {},
   "outputs": [
    {
     "data": {
      "text/html": [
       "<div>\n",
       "<style scoped>\n",
       "    .dataframe tbody tr th:only-of-type {\n",
       "        vertical-align: middle;\n",
       "    }\n",
       "\n",
       "    .dataframe tbody tr th {\n",
       "        vertical-align: top;\n",
       "    }\n",
       "\n",
       "    .dataframe thead th {\n",
       "        text-align: right;\n",
       "    }\n",
       "</style>\n",
       "<table border=\"1\" class=\"dataframe\">\n",
       "  <thead>\n",
       "    <tr style=\"text-align: right;\">\n",
       "      <th></th>\n",
       "      <th>Input 1</th>\n",
       "      <th>Input 2</th>\n",
       "      <th>Input 3</th>\n",
       "      <th>Input 4</th>\n",
       "      <th>Input 5</th>\n",
       "      <th>Input 6</th>\n",
       "      <th>Input 7</th>\n",
       "      <th>Input 8</th>\n",
       "      <th>Input 9</th>\n",
       "      <th>Input 10</th>\n",
       "      <th>Input 11</th>\n",
       "      <th>Input 12</th>\n",
       "      <th>output1</th>\n",
       "      <th>output2</th>\n",
       "      <th>class</th>\n",
       "    </tr>\n",
       "  </thead>\n",
       "  <tbody>\n",
       "    <tr>\n",
       "      <th>0</th>\n",
       "      <td>1.473</td>\n",
       "      <td>2.311</td>\n",
       "      <td>3.179</td>\n",
       "      <td>2.666</td>\n",
       "      <td>0.2795</td>\n",
       "      <td>0.2771</td>\n",
       "      <td>0.22340</td>\n",
       "      <td>0.1855</td>\n",
       "      <td>0.2539</td>\n",
       "      <td>1.138</td>\n",
       "      <td>1.111</td>\n",
       "      <td>4.712</td>\n",
       "      <td>1</td>\n",
       "      <td>1</td>\n",
       "      <td>one</td>\n",
       "    </tr>\n",
       "    <tr>\n",
       "      <th>1</th>\n",
       "      <td>1.460</td>\n",
       "      <td>2.377</td>\n",
       "      <td>3.214</td>\n",
       "      <td>2.920</td>\n",
       "      <td>0.2527</td>\n",
       "      <td>0.3064</td>\n",
       "      <td>0.02563</td>\n",
       "      <td>0.1965</td>\n",
       "      <td>0.3027</td>\n",
       "      <td>1.213</td>\n",
       "      <td>1.027</td>\n",
       "      <td>5.463</td>\n",
       "      <td>1</td>\n",
       "      <td>1</td>\n",
       "      <td>one</td>\n",
       "    </tr>\n",
       "    <tr>\n",
       "      <th>2</th>\n",
       "      <td>1.552</td>\n",
       "      <td>2.164</td>\n",
       "      <td>3.064</td>\n",
       "      <td>2.745</td>\n",
       "      <td>0.2820</td>\n",
       "      <td>0.2100</td>\n",
       "      <td>0.17210</td>\n",
       "      <td>0.1929</td>\n",
       "      <td>0.2100</td>\n",
       "      <td>1.221</td>\n",
       "      <td>1.058</td>\n",
       "      <td>5.332</td>\n",
       "      <td>1</td>\n",
       "      <td>1</td>\n",
       "      <td>one</td>\n",
       "    </tr>\n",
       "    <tr>\n",
       "      <th>3</th>\n",
       "      <td>1.605</td>\n",
       "      <td>2.228</td>\n",
       "      <td>3.149</td>\n",
       "      <td>2.834</td>\n",
       "      <td>0.2917</td>\n",
       "      <td>0.3613</td>\n",
       "      <td>0.20870</td>\n",
       "      <td>0.1294</td>\n",
       "      <td>0.2734</td>\n",
       "      <td>1.144</td>\n",
       "      <td>1.062</td>\n",
       "      <td>4.829</td>\n",
       "      <td>1</td>\n",
       "      <td>1</td>\n",
       "      <td>one</td>\n",
       "    </tr>\n",
       "    <tr>\n",
       "      <th>4</th>\n",
       "      <td>1.534</td>\n",
       "      <td>2.114</td>\n",
       "      <td>3.309</td>\n",
       "      <td>2.976</td>\n",
       "      <td>0.2100</td>\n",
       "      <td>0.2502</td>\n",
       "      <td>0.22580</td>\n",
       "      <td>0.1770</td>\n",
       "      <td>0.2039</td>\n",
       "      <td>1.254</td>\n",
       "      <td>1.112</td>\n",
       "      <td>5.734</td>\n",
       "      <td>1</td>\n",
       "      <td>1</td>\n",
       "      <td>one</td>\n",
       "    </tr>\n",
       "  </tbody>\n",
       "</table>\n",
       "</div>"
      ],
      "text/plain": [
       "   Input 1  Input 2  Input 3  Input 4  Input 5  Input 6  Input 7  Input 8  \\\n",
       "0    1.473    2.311    3.179    2.666   0.2795   0.2771  0.22340   0.1855   \n",
       "1    1.460    2.377    3.214    2.920   0.2527   0.3064  0.02563   0.1965   \n",
       "2    1.552    2.164    3.064    2.745   0.2820   0.2100  0.17210   0.1929   \n",
       "3    1.605    2.228    3.149    2.834   0.2917   0.3613  0.20870   0.1294   \n",
       "4    1.534    2.114    3.309    2.976   0.2100   0.2502  0.22580   0.1770   \n",
       "\n",
       "   Input 9  Input 10   Input 11   Input 12  output1  output2 class  \n",
       "0   0.2539      1.138      1.111     4.712        1        1   one  \n",
       "1   0.3027      1.213      1.027     5.463        1        1   one  \n",
       "2   0.2100      1.221      1.058     5.332        1        1   one  \n",
       "3   0.2734      1.144      1.062     4.829        1        1   one  \n",
       "4   0.2039      1.254      1.112     5.734        1        1   one  "
      ]
     },
     "execution_count": 83,
     "metadata": {},
     "output_type": "execute_result"
    }
   ],
   "source": [
    "# xls\n",
    "\n",
    "df_xls=pd.read_excel('../data/Sensor Data.xls')\n",
    "\n",
    "df_xls.head()"
   ]
  },
  {
   "cell_type": "code",
   "execution_count": 84,
   "metadata": {},
   "outputs": [
    {
     "data": {
      "text/html": [
       "<div>\n",
       "<style scoped>\n",
       "    .dataframe tbody tr th:only-of-type {\n",
       "        vertical-align: middle;\n",
       "    }\n",
       "\n",
       "    .dataframe tbody tr th {\n",
       "        vertical-align: top;\n",
       "    }\n",
       "\n",
       "    .dataframe thead th {\n",
       "        text-align: right;\n",
       "    }\n",
       "</style>\n",
       "<table border=\"1\" class=\"dataframe\">\n",
       "  <thead>\n",
       "    <tr style=\"text-align: right;\">\n",
       "      <th></th>\n",
       "      <th>Input 1</th>\n",
       "      <th>Input 2</th>\n",
       "      <th>Input 3</th>\n",
       "      <th>Input 4</th>\n",
       "      <th>Input 5</th>\n",
       "      <th>Input 6</th>\n",
       "      <th>Input 7</th>\n",
       "      <th>Input 8</th>\n",
       "      <th>Input 9</th>\n",
       "      <th>Input 10</th>\n",
       "      <th>Input 11</th>\n",
       "      <th>Input 12</th>\n",
       "      <th>output1</th>\n",
       "      <th>output2</th>\n",
       "      <th>class</th>\n",
       "    </tr>\n",
       "  </thead>\n",
       "  <tbody>\n",
       "    <tr>\n",
       "      <th>0</th>\n",
       "      <td>1.473</td>\n",
       "      <td>2.311</td>\n",
       "      <td>3.179</td>\n",
       "      <td>2.666</td>\n",
       "      <td>0.2795</td>\n",
       "      <td>0.2771</td>\n",
       "      <td>0.22340</td>\n",
       "      <td>0.1855</td>\n",
       "      <td>0.2539</td>\n",
       "      <td>1.138</td>\n",
       "      <td>1.111</td>\n",
       "      <td>4.712</td>\n",
       "      <td>1</td>\n",
       "      <td>1</td>\n",
       "      <td>one</td>\n",
       "    </tr>\n",
       "    <tr>\n",
       "      <th>1</th>\n",
       "      <td>1.460</td>\n",
       "      <td>2.377</td>\n",
       "      <td>3.214</td>\n",
       "      <td>2.920</td>\n",
       "      <td>0.2527</td>\n",
       "      <td>0.3064</td>\n",
       "      <td>0.02563</td>\n",
       "      <td>0.1965</td>\n",
       "      <td>0.3027</td>\n",
       "      <td>1.213</td>\n",
       "      <td>1.027</td>\n",
       "      <td>5.463</td>\n",
       "      <td>1</td>\n",
       "      <td>1</td>\n",
       "      <td>one</td>\n",
       "    </tr>\n",
       "    <tr>\n",
       "      <th>2</th>\n",
       "      <td>1.552</td>\n",
       "      <td>2.164</td>\n",
       "      <td>3.064</td>\n",
       "      <td>2.745</td>\n",
       "      <td>0.2820</td>\n",
       "      <td>0.2100</td>\n",
       "      <td>0.17210</td>\n",
       "      <td>0.1929</td>\n",
       "      <td>0.2100</td>\n",
       "      <td>1.221</td>\n",
       "      <td>1.058</td>\n",
       "      <td>5.332</td>\n",
       "      <td>1</td>\n",
       "      <td>1</td>\n",
       "      <td>one</td>\n",
       "    </tr>\n",
       "    <tr>\n",
       "      <th>3</th>\n",
       "      <td>1.605</td>\n",
       "      <td>2.228</td>\n",
       "      <td>3.149</td>\n",
       "      <td>2.834</td>\n",
       "      <td>0.2917</td>\n",
       "      <td>0.3613</td>\n",
       "      <td>0.20870</td>\n",
       "      <td>0.1294</td>\n",
       "      <td>0.2734</td>\n",
       "      <td>1.144</td>\n",
       "      <td>1.062</td>\n",
       "      <td>4.829</td>\n",
       "      <td>1</td>\n",
       "      <td>1</td>\n",
       "      <td>one</td>\n",
       "    </tr>\n",
       "    <tr>\n",
       "      <th>4</th>\n",
       "      <td>1.534</td>\n",
       "      <td>2.114</td>\n",
       "      <td>3.309</td>\n",
       "      <td>2.976</td>\n",
       "      <td>0.2100</td>\n",
       "      <td>0.2502</td>\n",
       "      <td>0.22580</td>\n",
       "      <td>0.1770</td>\n",
       "      <td>0.2039</td>\n",
       "      <td>1.254</td>\n",
       "      <td>1.112</td>\n",
       "      <td>5.734</td>\n",
       "      <td>1</td>\n",
       "      <td>1</td>\n",
       "      <td>one</td>\n",
       "    </tr>\n",
       "  </tbody>\n",
       "</table>\n",
       "</div>"
      ],
      "text/plain": [
       "   Input 1  Input 2  Input 3  Input 4  Input 5  Input 6  Input 7  Input 8  \\\n",
       "0    1.473    2.311    3.179    2.666   0.2795   0.2771  0.22340   0.1855   \n",
       "1    1.460    2.377    3.214    2.920   0.2527   0.3064  0.02563   0.1965   \n",
       "2    1.552    2.164    3.064    2.745   0.2820   0.2100  0.17210   0.1929   \n",
       "3    1.605    2.228    3.149    2.834   0.2917   0.3613  0.20870   0.1294   \n",
       "4    1.534    2.114    3.309    2.976   0.2100   0.2502  0.22580   0.1770   \n",
       "\n",
       "   Input 9  Input 10   Input 11   Input 12  output1  output2 class  \n",
       "0   0.2539      1.138      1.111     4.712        1        1   one  \n",
       "1   0.3027      1.213      1.027     5.463        1        1   one  \n",
       "2   0.2100      1.221      1.058     5.332        1        1   one  \n",
       "3   0.2734      1.144      1.062     4.829        1        1   one  \n",
       "4   0.2039      1.254      1.112     5.734        1        1   one  "
      ]
     },
     "execution_count": 84,
     "metadata": {},
     "output_type": "execute_result"
    }
   ],
   "source": [
    "df_xls=pd.read_excel('../data/Sensor Data.xls', 'Sheet1')\n",
    "\n",
    "df_xls.head()"
   ]
  },
  {
   "cell_type": "code",
   "execution_count": 85,
   "metadata": {},
   "outputs": [
    {
     "data": {
      "text/html": [
       "<div>\n",
       "<style scoped>\n",
       "    .dataframe tbody tr th:only-of-type {\n",
       "        vertical-align: middle;\n",
       "    }\n",
       "\n",
       "    .dataframe tbody tr th {\n",
       "        vertical-align: top;\n",
       "    }\n",
       "\n",
       "    .dataframe thead th {\n",
       "        text-align: right;\n",
       "    }\n",
       "</style>\n",
       "<table border=\"1\" class=\"dataframe\">\n",
       "  <thead>\n",
       "    <tr style=\"text-align: right;\">\n",
       "      <th></th>\n",
       "      <th>Sensor Data</th>\n",
       "    </tr>\n",
       "  </thead>\n",
       "  <tbody>\n",
       "    <tr>\n",
       "      <th>0</th>\n",
       "      <td>The data source as well as the exact nature of...</td>\n",
       "    </tr>\n",
       "    <tr>\n",
       "      <th>1</th>\n",
       "      <td>Each data instance contains 12 real-valued inp...</td>\n",
       "    </tr>\n",
       "    <tr>\n",
       "      <th>2</th>\n",
       "      <td>represents a sensor designed to detect the pre...</td>\n",
       "    </tr>\n",
       "    <tr>\n",
       "      <th>3</th>\n",
       "      <td>of substances. As an alternative, the sensor r...</td>\n",
       "    </tr>\n",
       "    <tr>\n",
       "      <th>4</th>\n",
       "      <td>NaN</td>\n",
       "    </tr>\n",
       "  </tbody>\n",
       "</table>\n",
       "</div>"
      ],
      "text/plain": [
       "                                                    Sensor Data\n",
       "0  The data source as well as the exact nature of...           \n",
       "1  Each data instance contains 12 real-valued inp...           \n",
       "2  represents a sensor designed to detect the pre...           \n",
       "3  of substances. As an alternative, the sensor r...           \n",
       "4                                                NaN           "
      ]
     },
     "execution_count": 85,
     "metadata": {},
     "output_type": "execute_result"
    }
   ],
   "source": [
    "df_xls=pd.read_excel('../data/Sensor Data.xls', 'Sheet2')\n",
    "\n",
    "df_xls.head()"
   ]
  },
  {
   "cell_type": "code",
   "execution_count": 86,
   "metadata": {},
   "outputs": [
    {
     "data": {
      "text/html": [
       "<div>\n",
       "<style scoped>\n",
       "    .dataframe tbody tr th:only-of-type {\n",
       "        vertical-align: middle;\n",
       "    }\n",
       "\n",
       "    .dataframe tbody tr th {\n",
       "        vertical-align: top;\n",
       "    }\n",
       "\n",
       "    .dataframe thead th {\n",
       "        text-align: right;\n",
       "    }\n",
       "</style>\n",
       "<table border=\"1\" class=\"dataframe\">\n",
       "  <thead>\n",
       "    <tr style=\"text-align: right;\">\n",
       "      <th></th>\n",
       "      <th>hola</th>\n",
       "      <th>amiguis</th>\n",
       "      <th>estamos</th>\n",
       "      <th>probando</th>\n",
       "      <th>pandas</th>\n",
       "    </tr>\n",
       "  </thead>\n",
       "  <tbody>\n",
       "  </tbody>\n",
       "</table>\n",
       "</div>"
      ],
      "text/plain": [
       "Empty DataFrame\n",
       "Columns: [hola, amiguis, estamos, probando, pandas]\n",
       "Index: []"
      ]
     },
     "execution_count": 86,
     "metadata": {},
     "output_type": "execute_result"
    }
   ],
   "source": [
    "df_xls=pd.read_excel('../data/Sensor Data.xls', 'Sheet3')\n",
    "\n",
    "df_xls.head()"
   ]
  },
  {
   "cell_type": "code",
   "execution_count": 87,
   "metadata": {},
   "outputs": [
    {
     "data": {
      "text/html": [
       "<div>\n",
       "<style scoped>\n",
       "    .dataframe tbody tr th:only-of-type {\n",
       "        vertical-align: middle;\n",
       "    }\n",
       "\n",
       "    .dataframe tbody tr th {\n",
       "        vertical-align: top;\n",
       "    }\n",
       "\n",
       "    .dataframe thead th {\n",
       "        text-align: right;\n",
       "    }\n",
       "</style>\n",
       "<table border=\"1\" class=\"dataframe\">\n",
       "  <thead>\n",
       "    <tr style=\"text-align: right;\">\n",
       "      <th></th>\n",
       "      <th>32</th>\n",
       "      <th>42</th>\n",
       "      <th>4q34q34</th>\n",
       "    </tr>\n",
       "  </thead>\n",
       "  <tbody>\n",
       "    <tr>\n",
       "      <th>0</th>\n",
       "      <td>23r</td>\n",
       "      <td>4</td>\n",
       "      <td>NaN</td>\n",
       "    </tr>\n",
       "    <tr>\n",
       "      <th>1</th>\n",
       "      <td>NaN</td>\n",
       "      <td>42</td>\n",
       "      <td>NaN</td>\n",
       "    </tr>\n",
       "  </tbody>\n",
       "</table>\n",
       "</div>"
      ],
      "text/plain": [
       "    32  42  4q34q34\n",
       "0  23r   4      NaN\n",
       "1  NaN  42      NaN"
      ]
     },
     "execution_count": 87,
     "metadata": {},
     "output_type": "execute_result"
    }
   ],
   "source": [
    "df_xls=pd.read_excel('../data/Sensor Data.xls', 'Hoja1')\n",
    "\n",
    "df_xls.head()"
   ]
  },
  {
   "cell_type": "code",
   "execution_count": 88,
   "metadata": {},
   "outputs": [
    {
     "data": {
      "text/html": [
       "<div>\n",
       "<style scoped>\n",
       "    .dataframe tbody tr th:only-of-type {\n",
       "        vertical-align: middle;\n",
       "    }\n",
       "\n",
       "    .dataframe tbody tr th {\n",
       "        vertical-align: top;\n",
       "    }\n",
       "\n",
       "    .dataframe thead th {\n",
       "        text-align: right;\n",
       "    }\n",
       "</style>\n",
       "<table border=\"1\" class=\"dataframe\">\n",
       "  <thead>\n",
       "    <tr style=\"text-align: right;\">\n",
       "      <th></th>\n",
       "      <th>Input 1</th>\n",
       "      <th>Input 2</th>\n",
       "      <th>Input 3</th>\n",
       "      <th>Input 4</th>\n",
       "      <th>Input 5</th>\n",
       "      <th>Input 6</th>\n",
       "      <th>Input 7</th>\n",
       "      <th>Input 8</th>\n",
       "      <th>Input 9</th>\n",
       "      <th>Input 10</th>\n",
       "      <th>Input 11</th>\n",
       "      <th>Input 12</th>\n",
       "      <th>output1</th>\n",
       "      <th>output2</th>\n",
       "      <th>class</th>\n",
       "    </tr>\n",
       "  </thead>\n",
       "  <tbody>\n",
       "    <tr>\n",
       "      <th>0</th>\n",
       "      <td>1.473</td>\n",
       "      <td>2.311</td>\n",
       "      <td>3.179</td>\n",
       "      <td>2.666</td>\n",
       "      <td>0.2795</td>\n",
       "      <td>0.2771</td>\n",
       "      <td>0.22340</td>\n",
       "      <td>0.1855</td>\n",
       "      <td>0.2539</td>\n",
       "      <td>1.138</td>\n",
       "      <td>1.111</td>\n",
       "      <td>4.712</td>\n",
       "      <td>1</td>\n",
       "      <td>1</td>\n",
       "      <td>one</td>\n",
       "    </tr>\n",
       "    <tr>\n",
       "      <th>1</th>\n",
       "      <td>1.460</td>\n",
       "      <td>2.377</td>\n",
       "      <td>3.214</td>\n",
       "      <td>2.920</td>\n",
       "      <td>0.2527</td>\n",
       "      <td>0.3064</td>\n",
       "      <td>0.02563</td>\n",
       "      <td>0.1965</td>\n",
       "      <td>0.3027</td>\n",
       "      <td>1.213</td>\n",
       "      <td>1.027</td>\n",
       "      <td>5.463</td>\n",
       "      <td>1</td>\n",
       "      <td>1</td>\n",
       "      <td>one</td>\n",
       "    </tr>\n",
       "    <tr>\n",
       "      <th>2</th>\n",
       "      <td>1.552</td>\n",
       "      <td>2.164</td>\n",
       "      <td>3.064</td>\n",
       "      <td>2.745</td>\n",
       "      <td>0.2820</td>\n",
       "      <td>0.2100</td>\n",
       "      <td>0.17210</td>\n",
       "      <td>0.1929</td>\n",
       "      <td>0.2100</td>\n",
       "      <td>1.221</td>\n",
       "      <td>1.058</td>\n",
       "      <td>5.332</td>\n",
       "      <td>1</td>\n",
       "      <td>1</td>\n",
       "      <td>one</td>\n",
       "    </tr>\n",
       "    <tr>\n",
       "      <th>3</th>\n",
       "      <td>1.605</td>\n",
       "      <td>2.228</td>\n",
       "      <td>3.149</td>\n",
       "      <td>2.834</td>\n",
       "      <td>0.2917</td>\n",
       "      <td>0.3613</td>\n",
       "      <td>0.20870</td>\n",
       "      <td>0.1294</td>\n",
       "      <td>0.2734</td>\n",
       "      <td>1.144</td>\n",
       "      <td>1.062</td>\n",
       "      <td>4.829</td>\n",
       "      <td>1</td>\n",
       "      <td>1</td>\n",
       "      <td>one</td>\n",
       "    </tr>\n",
       "    <tr>\n",
       "      <th>4</th>\n",
       "      <td>1.534</td>\n",
       "      <td>2.114</td>\n",
       "      <td>3.309</td>\n",
       "      <td>2.976</td>\n",
       "      <td>0.2100</td>\n",
       "      <td>0.2502</td>\n",
       "      <td>0.22580</td>\n",
       "      <td>0.1770</td>\n",
       "      <td>0.2039</td>\n",
       "      <td>1.254</td>\n",
       "      <td>1.112</td>\n",
       "      <td>5.734</td>\n",
       "      <td>1</td>\n",
       "      <td>1</td>\n",
       "      <td>one</td>\n",
       "    </tr>\n",
       "  </tbody>\n",
       "</table>\n",
       "</div>"
      ],
      "text/plain": [
       "   Input 1  Input 2  Input 3  Input 4  Input 5  Input 6  Input 7  Input 8  \\\n",
       "0    1.473    2.311    3.179    2.666   0.2795   0.2771  0.22340   0.1855   \n",
       "1    1.460    2.377    3.214    2.920   0.2527   0.3064  0.02563   0.1965   \n",
       "2    1.552    2.164    3.064    2.745   0.2820   0.2100  0.17210   0.1929   \n",
       "3    1.605    2.228    3.149    2.834   0.2917   0.3613  0.20870   0.1294   \n",
       "4    1.534    2.114    3.309    2.976   0.2100   0.2502  0.22580   0.1770   \n",
       "\n",
       "   Input 9  Input 10   Input 11   Input 12  output1  output2 class  \n",
       "0   0.2539      1.138      1.111     4.712        1        1   one  \n",
       "1   0.3027      1.213      1.027     5.463        1        1   one  \n",
       "2   0.2100      1.221      1.058     5.332        1        1   one  \n",
       "3   0.2734      1.144      1.062     4.829        1        1   one  \n",
       "4   0.2039      1.254      1.112     5.734        1        1   one  "
      ]
     },
     "execution_count": 88,
     "metadata": {},
     "output_type": "execute_result"
    }
   ],
   "source": [
    "df_xls=pd.read_excel('../data/Sensor Data.xls', 0)\n",
    "\n",
    "df_xls.head()"
   ]
  },
  {
   "cell_type": "code",
   "execution_count": 89,
   "metadata": {},
   "outputs": [
    {
     "data": {
      "text/html": [
       "<div>\n",
       "<style scoped>\n",
       "    .dataframe tbody tr th:only-of-type {\n",
       "        vertical-align: middle;\n",
       "    }\n",
       "\n",
       "    .dataframe tbody tr th {\n",
       "        vertical-align: top;\n",
       "    }\n",
       "\n",
       "    .dataframe thead th {\n",
       "        text-align: right;\n",
       "    }\n",
       "</style>\n",
       "<table border=\"1\" class=\"dataframe\">\n",
       "  <thead>\n",
       "    <tr style=\"text-align: right;\">\n",
       "      <th></th>\n",
       "      <th>Sensor Data</th>\n",
       "    </tr>\n",
       "  </thead>\n",
       "  <tbody>\n",
       "    <tr>\n",
       "      <th>0</th>\n",
       "      <td>The data source as well as the exact nature of...</td>\n",
       "    </tr>\n",
       "    <tr>\n",
       "      <th>1</th>\n",
       "      <td>Each data instance contains 12 real-valued inp...</td>\n",
       "    </tr>\n",
       "    <tr>\n",
       "      <th>2</th>\n",
       "      <td>represents a sensor designed to detect the pre...</td>\n",
       "    </tr>\n",
       "    <tr>\n",
       "      <th>3</th>\n",
       "      <td>of substances. As an alternative, the sensor r...</td>\n",
       "    </tr>\n",
       "    <tr>\n",
       "      <th>4</th>\n",
       "      <td>NaN</td>\n",
       "    </tr>\n",
       "  </tbody>\n",
       "</table>\n",
       "</div>"
      ],
      "text/plain": [
       "                                                    Sensor Data\n",
       "0  The data source as well as the exact nature of...           \n",
       "1  Each data instance contains 12 real-valued inp...           \n",
       "2  represents a sensor designed to detect the pre...           \n",
       "3  of substances. As an alternative, the sensor r...           \n",
       "4                                                NaN           "
      ]
     },
     "execution_count": 89,
     "metadata": {},
     "output_type": "execute_result"
    }
   ],
   "source": [
    "df_xls=pd.read_excel('../data/Sensor Data.xls', 1)\n",
    "\n",
    "df_xls.head()"
   ]
  },
  {
   "cell_type": "code",
   "execution_count": 90,
   "metadata": {},
   "outputs": [
    {
     "data": {
      "text/plain": [
       "['Sheet1', 'Sheet2', 'Sheet3', 'Hoja1']"
      ]
     },
     "execution_count": 90,
     "metadata": {},
     "output_type": "execute_result"
    }
   ],
   "source": [
    "xl = pd.ExcelFile('../data/Sensor Data.xls')\n",
    "\n",
    "xl.sheet_names  # see all sheet names"
   ]
  },
  {
   "cell_type": "code",
   "execution_count": 91,
   "metadata": {},
   "outputs": [],
   "source": [
    "dictio_df = {}\n",
    "\n",
    "\n",
    "for hoja in xl.sheet_names:\n",
    "    \n",
    "    dictio_df[hoja] = pd.read_excel('../data/Sensor Data.xls', hoja)"
   ]
  },
  {
   "cell_type": "code",
   "execution_count": 93,
   "metadata": {},
   "outputs": [
    {
     "data": {
      "text/html": [
       "<div>\n",
       "<style scoped>\n",
       "    .dataframe tbody tr th:only-of-type {\n",
       "        vertical-align: middle;\n",
       "    }\n",
       "\n",
       "    .dataframe tbody tr th {\n",
       "        vertical-align: top;\n",
       "    }\n",
       "\n",
       "    .dataframe thead th {\n",
       "        text-align: right;\n",
       "    }\n",
       "</style>\n",
       "<table border=\"1\" class=\"dataframe\">\n",
       "  <thead>\n",
       "    <tr style=\"text-align: right;\">\n",
       "      <th></th>\n",
       "      <th>32</th>\n",
       "      <th>42</th>\n",
       "      <th>4q34q34</th>\n",
       "    </tr>\n",
       "  </thead>\n",
       "  <tbody>\n",
       "    <tr>\n",
       "      <th>0</th>\n",
       "      <td>23r</td>\n",
       "      <td>4</td>\n",
       "      <td>NaN</td>\n",
       "    </tr>\n",
       "    <tr>\n",
       "      <th>1</th>\n",
       "      <td>NaN</td>\n",
       "      <td>42</td>\n",
       "      <td>NaN</td>\n",
       "    </tr>\n",
       "  </tbody>\n",
       "</table>\n",
       "</div>"
      ],
      "text/plain": [
       "    32  42  4q34q34\n",
       "0  23r   4      NaN\n",
       "1  NaN  42      NaN"
      ]
     },
     "execution_count": 93,
     "metadata": {},
     "output_type": "execute_result"
    }
   ],
   "source": [
    "dictio_df['Hoja1']"
   ]
  },
  {
   "cell_type": "code",
   "execution_count": 94,
   "metadata": {},
   "outputs": [
    {
     "data": {
      "text/plain": [
       "(2212, 15)"
      ]
     },
     "execution_count": 94,
     "metadata": {},
     "output_type": "execute_result"
    }
   ],
   "source": [
    "dictio_df['Sheet1'].shape"
   ]
  },
  {
   "cell_type": "code",
   "execution_count": 95,
   "metadata": {
    "scrolled": true
   },
   "outputs": [
    {
     "data": {
      "text/plain": [
       "dict_keys(['Sheet1', 'Sheet2', 'Sheet3', 'Hoja1'])"
      ]
     },
     "execution_count": 95,
     "metadata": {},
     "output_type": "execute_result"
    }
   ],
   "source": [
    "dictio_df.keys()"
   ]
  },
  {
   "cell_type": "code",
   "execution_count": 97,
   "metadata": {},
   "outputs": [
    {
     "data": {
      "text/html": [
       "<div>\n",
       "<style scoped>\n",
       "    .dataframe tbody tr th:only-of-type {\n",
       "        vertical-align: middle;\n",
       "    }\n",
       "\n",
       "    .dataframe tbody tr th {\n",
       "        vertical-align: top;\n",
       "    }\n",
       "\n",
       "    .dataframe thead th {\n",
       "        text-align: right;\n",
       "    }\n",
       "</style>\n",
       "<table border=\"1\" class=\"dataframe\">\n",
       "  <thead>\n",
       "    <tr style=\"text-align: right;\">\n",
       "      <th></th>\n",
       "      <th>name</th>\n",
       "      <th>totalOffices</th>\n",
       "      <th>lat</th>\n",
       "      <th>lng</th>\n",
       "      <th>principal</th>\n",
       "    </tr>\n",
       "  </thead>\n",
       "  <tbody>\n",
       "    <tr>\n",
       "      <th>0</th>\n",
       "      <td>Wetpaint</td>\n",
       "      <td>2</td>\n",
       "      <td>47.603122</td>\n",
       "      <td>-122.333253</td>\n",
       "      <td>{'type': 'Point', 'coordinates': [-122.333253,...</td>\n",
       "    </tr>\n",
       "    <tr>\n",
       "      <th>1</th>\n",
       "      <td>AdventNet</td>\n",
       "      <td>1</td>\n",
       "      <td>37.692934</td>\n",
       "      <td>-121.904945</td>\n",
       "      <td>{'type': 'Point', 'coordinates': [-121.904945,...</td>\n",
       "    </tr>\n",
       "    <tr>\n",
       "      <th>2</th>\n",
       "      <td>Zoho</td>\n",
       "      <td>1</td>\n",
       "      <td>37.692934</td>\n",
       "      <td>-121.904945</td>\n",
       "      <td>{'type': 'Point', 'coordinates': [-121.904945,...</td>\n",
       "    </tr>\n",
       "    <tr>\n",
       "      <th>3</th>\n",
       "      <td>Digg</td>\n",
       "      <td>1</td>\n",
       "      <td>37.764726</td>\n",
       "      <td>-122.394523</td>\n",
       "      <td>{'type': 'Point', 'coordinates': [-122.394523,...</td>\n",
       "    </tr>\n",
       "    <tr>\n",
       "      <th>4</th>\n",
       "      <td>Facebook</td>\n",
       "      <td>3</td>\n",
       "      <td>37.416050</td>\n",
       "      <td>-122.151801</td>\n",
       "      <td>{'type': 'Point', 'coordinates': [-122.151801,...</td>\n",
       "    </tr>\n",
       "  </tbody>\n",
       "</table>\n",
       "</div>"
      ],
      "text/plain": [
       "        name  totalOffices        lat         lng  \\\n",
       "0   Wetpaint             2  47.603122 -122.333253   \n",
       "1  AdventNet             1  37.692934 -121.904945   \n",
       "2       Zoho             1  37.692934 -121.904945   \n",
       "3       Digg             1  37.764726 -122.394523   \n",
       "4   Facebook             3  37.416050 -122.151801   \n",
       "\n",
       "                                           principal  \n",
       "0  {'type': 'Point', 'coordinates': [-122.333253,...  \n",
       "1  {'type': 'Point', 'coordinates': [-121.904945,...  \n",
       "2  {'type': 'Point', 'coordinates': [-121.904945,...  \n",
       "3  {'type': 'Point', 'coordinates': [-122.394523,...  \n",
       "4  {'type': 'Point', 'coordinates': [-122.151801,...  "
      ]
     },
     "execution_count": 97,
     "metadata": {},
     "output_type": "execute_result"
    }
   ],
   "source": [
    "# json\n",
    "\n",
    "df_json = pd.read_json('../data/oficinas.json')\n",
    "\n",
    "df_json.head()"
   ]
  },
  {
   "cell_type": "code",
   "execution_count": 98,
   "metadata": {},
   "outputs": [
    {
     "name": "stdout",
     "output_type": "stream",
     "text": [
      "<class 'pandas.core.frame.DataFrame'>\n",
      "Int64Index: 9618 entries, 0 to 13743\n",
      "Data columns (total 5 columns):\n",
      " #   Column        Non-Null Count  Dtype  \n",
      "---  ------        --------------  -----  \n",
      " 0   name          9618 non-null   object \n",
      " 1   totalOffices  9618 non-null   int64  \n",
      " 2   lat           9618 non-null   float64\n",
      " 3   lng           9618 non-null   float64\n",
      " 4   principal     9618 non-null   object \n",
      "dtypes: float64(2), int64(1), object(2)\n",
      "memory usage: 450.8+ KB\n"
     ]
    }
   ],
   "source": [
    "df_json.info()"
   ]
  },
  {
   "cell_type": "code",
   "execution_count": 102,
   "metadata": {},
   "outputs": [
    {
     "data": {
      "text/plain": [
       "dict"
      ]
     },
     "execution_count": 102,
     "metadata": {},
     "output_type": "execute_result"
    }
   ],
   "source": [
    "type(df_json['principal'][0])"
   ]
  },
  {
   "cell_type": "code",
   "execution_count": null,
   "metadata": {},
   "outputs": [],
   "source": []
  }
 ],
 "metadata": {
  "kernelspec": {
   "display_name": "clase",
   "language": "python",
   "name": "clase"
  },
  "language_info": {
   "codemirror_mode": {
    "name": "ipython",
    "version": 3
   },
   "file_extension": ".py",
   "mimetype": "text/x-python",
   "name": "python",
   "nbconvert_exporter": "python",
   "pygments_lexer": "ipython3",
   "version": "3.9.12"
  },
  "varInspector": {
   "cols": {
    "lenName": 16,
    "lenType": 16,
    "lenVar": 40
   },
   "kernels_config": {
    "python": {
     "delete_cmd_postfix": "",
     "delete_cmd_prefix": "del ",
     "library": "var_list.py",
     "varRefreshCmd": "print(var_dic_list())"
    },
    "r": {
     "delete_cmd_postfix": ") ",
     "delete_cmd_prefix": "rm(",
     "library": "var_list.r",
     "varRefreshCmd": "cat(var_dic_list()) "
    }
   },
   "types_to_exclude": [
    "module",
    "function",
    "builtin_function_or_method",
    "instance",
    "_Feature"
   ],
   "window_display": false
  }
 },
 "nbformat": 4,
 "nbformat_minor": 4
}
