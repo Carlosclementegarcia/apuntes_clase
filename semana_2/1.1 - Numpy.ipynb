{
 "cells": [
  {
   "cell_type": "markdown",
   "metadata": {},
   "source": [
    "# 1.1 - Numpy  (Numerical Python)\n",
    "\n",
    "**[Documentación](https://numpy.org/doc/stable/)**\n",
    "\n",
    "**[Código fuente](https://github.com/numpy/numpy)**\n",
    "\n",
    "\n",
    "![numpy](images/numpy.png)"
   ]
  },
  {
   "cell_type": "markdown",
   "metadata": {},
   "source": [
    "NumPy es el paquete fundamental para computación cientifíca en python. Es una librería de python nos permite manejar vectores, matrices, [tensores](https://es.wikipedia.org/wiki/C%C3%A1lculo_tensorial) (arrays multidimensionales) y además realizar todas las operaciones matemáticas y lógicas de los mismos, como la manipulación de la dimensión, ordenado, selección, I/O, operaciones estadísticas, transformadas de Fourier, simulación aleatoria y un largo etcétera. Constituye la herramienta de álgebra lineal."
   ]
  },
  {
   "cell_type": "markdown",
   "metadata": {},
   "source": [
    "## Recordatorio de álgebra\n",
    "\n",
    "+ Contenidos:\n",
    "\n",
    "    + Concepto de tensor\n",
    "    + Operaciones con vectores\n",
    "        + Concepto de espacio vectorial y base\n",
    "        + Suma de vectores\n",
    "        + Producto escalar\n",
    "        + Producto vectorial\n",
    "    + Operaciones con matrices\n",
    "        + Suma de matrices\n",
    "        + Producto matricial\n",
    "        + Matriz Identidad\n",
    "        + Matriz Traspuesta (Hermítica)\n",
    "        + Matriz Inversa \n",
    "        + Determinate"
   ]
  },
  {
   "cell_type": "markdown",
   "metadata": {},
   "source": [
    "### Tensor\n",
    "\n",
    "La palabra ['tensor'](https://es.wikipedia.org/wiki/C%C3%A1lculo_tensorial) se utiliza a menudo como abreviatura de campo tensorial, que es un valor tensorial definido en cada punto en una variedad. El primero en utilizar esta palabra fue William Rowan Hamilton en 1846, empleándola para lo que actualmente se conoce como módulo y fue Woldemar Voigt en 1899 quien la empleó en su acepción actual. La palabra tensor proviene del latín tensus, participio pasado de tendere 'estirar, extender'. El nombre se extendió porque la teoría de la elasticidad fue una de las primeras aplicaciones físicas donde se usaron tensores. Gregorio Ricci-Curbastro en 1890 desarrolló la notación actual con el nombre de geometría diferencial absoluta, y se popularizó con la publicación de Cálculo Diferencial Absoluto de Tullio Levi-Civita en 1900. Con la introducción de la teoría de la relatividad general por parte de Albert Einstein alrededor de 1915 se encontró su aplicación más pragmática. La Relatividad General es netamente tensorial. Einstein había aprendido del mismo Levi-Civita el uso de tensores con gran dificultad.\n",
    "\n",
    "Podemos pensar en un tensor como la generalización del ente algebraico. Con un ejemplo se verá más claro.\n",
    "\n",
    "Un **número**, cualquier número, $2$, $3.6$, $\\pi$, $\\phi$, $\\sqrt{2}$, es un **tensor de rango $0$**.\n",
    "\n",
    "Un **vector**, cualquier vector, sea como sea su longitud, $(1, 2, 3)$, $(0, 5, 2, 1, 5)$, $(9,2)$, es un **tensor de rango $1$**.\n",
    "\n",
    "Una **matriz**, cualquier matriz, sean cuales sean sus dimensiones, es un **tensor de rango $2$**.\n",
    "\n",
    "Un **cubo de Rubik** por ejemplo es un **tensor de rango $3$**.\n",
    "\n",
    "Pensar en dimensiones superiores es complicado por no decir imposible, pero se pueden interpretar a través del contenido. Una **bolsa llena de cubos de Rubik** es un **tensor de rango $4$**.\n",
    "\n",
    "Una **caja llena de bolsas que están llenas de cubos de Rubik es un tensor de rango $5$**.\n",
    "\n",
    "Y así sucesivamente."
   ]
  },
  {
   "cell_type": "markdown",
   "metadata": {},
   "source": [
    "### Operaciones con vectores\n",
    "\n",
    "**Espacio vectorial**\n",
    "\n",
    "La definición matemática de [espacio vectorial](https://es.wikipedia.org/wiki/Espacio_vectorial) implica los conceptos de conjunto, ley de composición(operación) interna y ley de composición externa, definida sobre un segundo conjunto. Resumiendo, un espacio vectorial es una estructura creada sobre un conjunto no vacío con ambas leyes de composición. A los elementos de un espacio vectorial se les llama vectores.\n",
    "\n",
    "Veamos un ejemplo:\n",
    "\n",
    "Un espacio vectorial es el espacio tridimensional ${\\Bbb R}^{3}$. Los elementos de ${\\Bbb R}^{3}$ son vectores, por lo que la ley de composición interna es la suma de vectores. Para la ley de composición externa se necesita otro conjunto, que en esta caso son los números reales ${\\Bbb R}$, y queda definida como el producto por escalares, multiplicar un vector por un número.\n",
    "\n",
    "\n",
    "\n",
    "**Base vectorial**\n",
    "\n",
    "Una [base](https://es.wikipedia.org/wiki/Base_(%C3%A1lgebra)) es un conjunto de vectores {$v_{1}, v_{2}, v_{3}, ... ,v_{n}$} que cumplen las siguientes propiedades:\n",
    "\n",
    "+ Todos los elementos de la base pertenecen al mismo espacio vectorial.\n",
    "+ Los elementos de la base forman un sistema linealmente independiente (ninguno es combinación lineal de los demás).\n",
    "+ Cualquier elemento del espacio vectorial se puede escribir como combinación lineal de los elementos de la base (es lo que se llama sistema generador del espacio vectorial).\n",
    "\n",
    "Ejemplo:\n",
    "\n",
    "En ${\\Bbb R}^{3}$, la base principal (llamada canónica) es {$(1,0,0), (0,1,0), (0,0,1)$}. Todos esos vectores pertenecen a ${\\Bbb R}^{3}$, son linealmente independientes(ninguno puede ser una suma de los otros) y cualquier otro vector en ${\\Bbb R}^{3}$ se puede representar como una suma de esos tres, una combinación lineal. No es única, otra base de ${\\Bbb R}^{3}$ podría ser {$(1,1,1), (1,1,0), (1,0,0)$}\n",
    "\n",
    "\n",
    "\n",
    "**Suma de vectores**\n",
    "\n",
    "Los vectores se suman por componentes, lo que implica que ambos tienen la misma longitud. Por ejemplo en ${\\Bbb R}^{3}$:\n",
    "\n",
    "$$\\vec{A}=A_{x}\\vec{i}+A_{y}\\vec{j}+A_{z}\\vec{k}$$\n",
    "\n",
    "$$\\vec{B}=B_{x}\\vec{i}+B_{y}\\vec{j}+B_{z}\\vec{k}$$\n",
    "\n",
    "$$\\vec{A}+\\vec{B}=(B_{x}+A_{x})\\vec{i}+(B_{y}+A_{y})\\vec{j}+(B_{z}+A_{z})\\vec{k}$$\n",
    "\n",
    "$$$$\n",
    "\n",
    "$$\\vec{A}=(1,8,9)$$\n",
    "\n",
    "$$\\vec{B}=(4,3,0)$$\n",
    "\n",
    "$$\\vec{A}+\\vec{B}=(5,11,9)$$\n",
    "\n",
    "\n",
    "\n",
    "**Producto escalar**\n",
    "\n",
    "Hay que diferenciar entre producto por escalares, un número por un vector resultando un vector, y el productor escalar donde se multiplican dos vectores resultando un número, un escalar.\n",
    "\n",
    "+ Producto por escalares:\n",
    "\n",
    "Se realiza elemento a elemento la multiplicación por el número:\n",
    "\n",
    "$$\\vec{A}=(1,8,9)$$\n",
    "\n",
    "$$2*\\vec{A}=(2,16,18)$$\n",
    "\n",
    "+ Productos escalar:\n",
    "\n",
    "Se realiza multiplicando elemento un vector fila por un vector columna y sumando los resultados. Hay que tener en cuenta, igual que en la suma, que ambos vectores tienen el mismo número de elementos. También se le llama producto punto (dot product) o producto interno (inner product).\n",
    "\n",
    "$$\\vec{A}\\cdot\\vec{B}=(1, 8, 9)\\cdot\\begin{pmatrix}4\\\\3\\\\0\\end{pmatrix} = 1·4+8·3+9·0 = 4+24+0 = 28$$\n",
    "\n",
    "\n",
    "\n",
    "**Producto vectorial**\n",
    "\n",
    "En este caso, se multiplican dos vectores resultando otro vector. La manera más fácil de hacerlo es a través de un determinante:\n",
    "\n",
    "\n",
    "$$\\vec{A}\\times \\vec{B} = \\begin{vmatrix}\n",
    "\\hat{\\imath}&\\hat{\\jmath}&\\hat{k}\\\\\n",
    "1 & 8 & 9 \\\\\n",
    "4 & 3 & 0\n",
    "\\end{vmatrix} = \\begin{vmatrix}\n",
    "8 & 9 \\\\\n",
    "3 & 0\n",
    "\\end{vmatrix}·\\hat{\\imath} - \n",
    "\\begin{vmatrix}\n",
    "1 & 9 \\\\\n",
    "4 & 0\n",
    "\\end{vmatrix}·\\hat{\\jmath} +\n",
    "\\begin{vmatrix}\n",
    "1 & 8 \\\\\n",
    "4 & 3\n",
    "\\end{vmatrix}·\\hat{k} = (8·0-9·3)·\\hat{\\imath}-(1·0-9·4)·\\hat{\\jmath}+(1·3-8·4)·\\hat{k}$$\n",
    "\n",
    "$$\\vec{A}\\times \\vec{B} = (-27, 36, -29)$$"
   ]
  },
  {
   "cell_type": "markdown",
   "metadata": {},
   "source": [
    "### Operaciones con matrices\n",
    "\n",
    "\n",
    "**Suma de matrices**\n",
    "\n",
    "Las matrices tienen definidas sus dimensiones sugún el número de filas($m$) y de columnas($n$), y se representan como $A_{mxn}$. Para sumar matrices las dimensiones tienen que ser las mismas, igual que ocurría con los vectores, y se realiza elemento a elemento (element wise):\n",
    "\n",
    "\n",
    "$$\\begin{pmatrix}\n",
    "5 & 7 & 1 \\\\\n",
    "4 & 0 & 2 \n",
    "\\end{pmatrix}+\\begin{pmatrix}\n",
    "0 & 0 & 3 \\\\\n",
    "2 & 2 & 7 \n",
    "\\end{pmatrix}=\\begin{pmatrix}\n",
    "5 & 7 & 4 \\\\\n",
    "6 & 2 & 9 \n",
    "\\end{pmatrix}$$\n",
    "\n",
    "\n",
    "\n",
    "**Producto matricial**\n",
    "\n",
    "Para multiplicar matrices tenemos que tener en cuenta las dimensiones, porque el producto matricial no es conmutativo e incluso a veces no se puede realizar. El número de columnas de la primera matriz tiene que ser igual que el número de filas de la segunda y el resultado tendrá el número de filas de la primera y el número de columnas de la segunda. Es decir:\n",
    "\n",
    "$$A_{rxn}\\cdot B_{nxq} = C_{rxq}$$\n",
    "\n",
    "\n",
    "$$\\begin{pmatrix}\n",
    "5 & 7 & 1 \\\\\n",
    "4 & 0 & 2 \n",
    "\\end{pmatrix}\\cdot\\begin{pmatrix}\n",
    "0 & 0 \\\\\n",
    "2 & 3 \\\\\n",
    "2 & 7 \n",
    "\\end{pmatrix}=\\begin{pmatrix}\n",
    "5·0+7·2+1·2 & 5·0+7·3+1·7 \\\\\n",
    "4·0+0·2+2·2 & 4·0+0·3+2·7\n",
    "\\end{pmatrix}=\\begin{pmatrix}\n",
    "18 & 28 \\\\\n",
    "4 & 14\n",
    "\\end{pmatrix}$$\n",
    "\n",
    "\n",
    "\n",
    "**Matriz Identidad**\n",
    "\n",
    "Elemento neutro de la multiplicación, solo $1_s$ en la diagonal:\n",
    "\n",
    "$$I = \\begin{pmatrix}\n",
    "1&0&\\cdots&0&0\\\\\n",
    "0&1&\\cdots&0&0\\\\\n",
    "\\vdots&\\vdots&\\ddots&\\vdots&\\vdots\\\\\n",
    "0&\\cdots&\\cdots&\\cdots&0\\\\\n",
    "0&0&\\cdots&1&0\\\\\n",
    "0&0&\\cdots&0&1\\\\\n",
    "\\end{pmatrix}$$\n",
    "\n",
    "\n",
    "\n",
    "**Matriz traspuesta  (hermítica)**\n",
    "\n",
    "La traspuesta $A^{T}$ de una matriz $A$ puede ser obtenida reflejando los elementos a lo largo de su diagonal.\n",
    "\n",
    "$$A=\\begin{pmatrix}\n",
    "5 & 7 & 9 \\\\\n",
    "4 & 0 & 7 \\\\\n",
    "1 & 2 & 2\n",
    "\\end{pmatrix}$$\n",
    "\n",
    "$$A^{T}=\\begin{pmatrix}\n",
    "5 & 4 & 1 \\\\\n",
    "7 & 0 & 2 \\\\\n",
    "9 & 7 & 2\n",
    "\\end{pmatrix}$$\n",
    "\n",
    "\n",
    "Se le dice hermítica si los elementos son números complejos, es la traspuesta conjugada (el conjugado de $x+iy$ es $x-iy$).\n",
    "\n",
    "\n",
    "**Matriz Inversa**\n",
    "\n",
    "¿Como se dividen las matrices? Se multiplica por la inversa. El cálculo de la matriz inversa es:\n",
    "\n",
    "$$A= \\begin{pmatrix}\n",
    "       a_{11} & a_{12} \\\\ \n",
    "       a_{21} & a_{22}\n",
    "    \\end{pmatrix}$$\n",
    "    \n",
    "    \n",
    "$$A^{-1}=\\begin{pmatrix}\n",
    "a_{11} & a_{12} \\\\ \n",
    "a_{21} & a_{22}\n",
    "\\end{pmatrix}^{-1}\n",
    "=\\frac{1}{\\lvert A\\rvert}\n",
    "\\begin{pmatrix}\n",
    "a_{22} & -a_{12} \\\\ \n",
    "-a_{21} &  a_{11}\n",
    "\\end{pmatrix}$$\n",
    "\n",
    "\n",
    "**Determinante**\n",
    "\n",
    "$$A=\\begin{pmatrix}\n",
    "    1 & 3 & 2 & -6 \\\\ \n",
    "    0 & -1 & -4 & 1 \\\\ \n",
    "    0 & -2 & -6 & 3 \\\\ \n",
    "    0 & -2 & -10 & 3\n",
    "  \\end{pmatrix}$$\n",
    "  \n",
    "\n",
    "$$$$\n",
    "\n",
    "\n",
    "$$det(A)=\\begin{vmatrix}\n",
    "    1 & 3 & 2 & -6 \\\\ \n",
    "    0 & -1 & -4 & 1 \\\\ \n",
    "    0 & -2 & -6 & 3 \\\\ \n",
    "    0 & -2 & -10 & 3\n",
    "  \\end{vmatrix}=\\begin{vmatrix}\n",
    "    1 & 0 & 0 \\\\ \n",
    "    -2 & 1 & 0 \\\\ \n",
    "    -2 & 0 & 1\n",
    "  \\end{vmatrix}\\cdot\n",
    "  \\begin{vmatrix}\n",
    "    1 & 4 & 1 \\\\ \n",
    "    2 & 6 & 3 \\\\ \n",
    "    2 & 10 & 3\n",
    "  \\end{vmatrix}=\\begin{vmatrix}\n",
    "    1 & 4 & 1 \\\\ \n",
    "    0 & -2 & 1 \\\\ \n",
    "    0 & 2 & 1\n",
    "  \\end{vmatrix}\n",
    "  =\n",
    "  \\begin{vmatrix}\n",
    "    -2 & 1 \\\\ \n",
    "    2 & 1\n",
    "  \\end{vmatrix}\n",
    "  =-4$$\n",
    "  \n",
    "  "
   ]
  },
  {
   "cell_type": "markdown",
   "metadata": {},
   "source": [
    "**Veamos algo de todo esto en python:**\n",
    "\n",
    "\n",
    "**Arrays**"
   ]
  },
  {
   "cell_type": "code",
   "execution_count": 1,
   "metadata": {},
   "outputs": [
    {
     "name": "stdout",
     "output_type": "stream",
     "text": [
      "Requirement already satisfied: numpy in /opt/homebrew/Caskroom/miniconda/base/envs/clase/lib/python3.9/site-packages (1.23.5)\n",
      "\u001b[33mWARNING: Error parsing requirements for pyarrow: [Errno 21] Is a directory: '/opt/homebrew/Caskroom/miniconda/base/envs/clase/lib/python3.9/site-packages/pyarrow-10.0.1.dist-info/METADATA'\u001b[0m\u001b[33m\n",
      "\u001b[0mNote: you may need to restart the kernel to use updated packages.\n"
     ]
    }
   ],
   "source": [
    "%pip install numpy"
   ]
  },
  {
   "cell_type": "code",
   "execution_count": 2,
   "metadata": {},
   "outputs": [],
   "source": [
    "import numpy as np"
   ]
  },
  {
   "cell_type": "code",
   "execution_count": 3,
   "metadata": {},
   "outputs": [
    {
     "data": {
      "text/plain": [
       "array([0.32494622])"
      ]
     },
     "execution_count": 3,
     "metadata": {},
     "output_type": "execute_result"
    }
   ],
   "source": [
    "# numero aleatorio\n",
    "\n",
    "np.random.random(1)"
   ]
  },
  {
   "cell_type": "code",
   "execution_count": 4,
   "metadata": {},
   "outputs": [
    {
     "data": {
      "text/plain": [
       "numpy.ndarray"
      ]
     },
     "execution_count": 4,
     "metadata": {},
     "output_type": "execute_result"
    }
   ],
   "source": [
    "type(np.random.random(1))"
   ]
  },
  {
   "cell_type": "code",
   "execution_count": 5,
   "metadata": {},
   "outputs": [
    {
     "data": {
      "text/plain": [
       "numpy.float64"
      ]
     },
     "execution_count": 5,
     "metadata": {},
     "output_type": "execute_result"
    }
   ],
   "source": [
    "type(np.random.random(1)[0])"
   ]
  },
  {
   "cell_type": "code",
   "execution_count": 6,
   "metadata": {},
   "outputs": [
    {
     "data": {
      "text/plain": [
       "array([0.59881097, 0.89122354, 0.91414188, 0.39283257, 0.32230589])"
      ]
     },
     "execution_count": 6,
     "metadata": {},
     "output_type": "execute_result"
    }
   ],
   "source": [
    "# vector\n",
    "\n",
    "vector=np.random.random(5) # nos alea uniformente distribuidos\n",
    "\n",
    "vector"
   ]
  },
  {
   "cell_type": "code",
   "execution_count": 7,
   "metadata": {},
   "outputs": [
    {
     "data": {
      "text/plain": [
       "numpy.ndarray"
      ]
     },
     "execution_count": 7,
     "metadata": {},
     "output_type": "execute_result"
    }
   ],
   "source": [
    "type(vector)"
   ]
  },
  {
   "cell_type": "code",
   "execution_count": 8,
   "metadata": {},
   "outputs": [
    {
     "data": {
      "text/plain": [
       "[1, 2, 3, 4, 1, 2, 3, 4]"
      ]
     },
     "execution_count": 8,
     "metadata": {},
     "output_type": "execute_result"
    }
   ],
   "source": [
    "2 * [1, 2, 3, 4]"
   ]
  },
  {
   "cell_type": "code",
   "execution_count": 9,
   "metadata": {},
   "outputs": [
    {
     "data": {
      "text/plain": [
       "array([1.19762193, 1.78244709, 1.82828377, 0.78566514, 0.64461177])"
      ]
     },
     "execution_count": 9,
     "metadata": {},
     "output_type": "execute_result"
    }
   ],
   "source": [
    "2 * vector"
   ]
  },
  {
   "cell_type": "code",
   "execution_count": 10,
   "metadata": {},
   "outputs": [
    {
     "data": {
      "text/plain": [
       "array([[0.34408505, 0.80128451, 0.66636761, 0.95011864],\n",
       "       [0.57136556, 0.3594123 , 0.60933257, 0.66157438],\n",
       "       [0.40008157, 0.15418789, 0.85280935, 0.73980336],\n",
       "       [0.41883929, 0.25168955, 0.99692579, 0.10554478],\n",
       "       [0.91610893, 0.59346241, 0.11225704, 0.72798686],\n",
       "       [0.17160036, 0.58775366, 0.13446078, 0.94017594],\n",
       "       [0.74059127, 0.68900467, 0.5485582 , 0.10700344],\n",
       "       [0.53680047, 0.34983769, 0.71594224, 0.50485326],\n",
       "       [0.77586621, 0.70384722, 0.09399116, 0.07529197],\n",
       "       [0.55751449, 0.34453479, 0.70146522, 0.6713267 ]])"
      ]
     },
     "execution_count": 10,
     "metadata": {},
     "output_type": "execute_result"
    }
   ],
   "source": [
    "# matriz\n",
    "\n",
    "matriz=np.random.random((10, 4))\n",
    "\n",
    "matriz"
   ]
  },
  {
   "cell_type": "code",
   "execution_count": 11,
   "metadata": {},
   "outputs": [
    {
     "data": {
      "text/plain": [
       "numpy.ndarray"
      ]
     },
     "execution_count": 11,
     "metadata": {},
     "output_type": "execute_result"
    }
   ],
   "source": [
    "type(matriz)"
   ]
  },
  {
   "cell_type": "code",
   "execution_count": 12,
   "metadata": {},
   "outputs": [
    {
     "data": {
      "text/plain": [
       "(10, 4)"
      ]
     },
     "execution_count": 12,
     "metadata": {},
     "output_type": "execute_result"
    }
   ],
   "source": [
    "matriz.shape"
   ]
  },
  {
   "cell_type": "code",
   "execution_count": 13,
   "metadata": {},
   "outputs": [
    {
     "data": {
      "text/plain": [
       "40"
      ]
     },
     "execution_count": 13,
     "metadata": {},
     "output_type": "execute_result"
    }
   ],
   "source": [
    "matriz.size"
   ]
  },
  {
   "cell_type": "code",
   "execution_count": 14,
   "metadata": {},
   "outputs": [
    {
     "data": {
      "text/plain": [
       "10"
      ]
     },
     "execution_count": 14,
     "metadata": {},
     "output_type": "execute_result"
    }
   ],
   "source": [
    "len(matriz)"
   ]
  },
  {
   "cell_type": "code",
   "execution_count": 15,
   "metadata": {},
   "outputs": [
    {
     "data": {
      "text/plain": [
       "array([0.34408505, 0.80128451, 0.66636761, 0.95011864])"
      ]
     },
     "execution_count": 15,
     "metadata": {},
     "output_type": "execute_result"
    }
   ],
   "source": [
    "matriz[0]   # 1a fila"
   ]
  },
  {
   "cell_type": "code",
   "execution_count": 16,
   "metadata": {},
   "outputs": [
    {
     "data": {
      "text/plain": [
       "0.9501186374677855"
      ]
     },
     "execution_count": 16,
     "metadata": {},
     "output_type": "execute_result"
    }
   ],
   "source": [
    "matriz[0][-1]"
   ]
  },
  {
   "cell_type": "markdown",
   "metadata": {},
   "source": [
    "**slicing**\n",
    "\n",
    "los `:` signican todo, es decir, todas las filas. Luego, separado por coma, el 0, primer elemento de cada fila, es decir, la primera columna"
   ]
  },
  {
   "cell_type": "code",
   "execution_count": 17,
   "metadata": {},
   "outputs": [
    {
     "data": {
      "text/plain": [
       "array([0.34408505, 0.57136556, 0.40008157, 0.41883929, 0.91610893,\n",
       "       0.17160036, 0.74059127, 0.53680047, 0.77586621, 0.55751449])"
      ]
     },
     "execution_count": 17,
     "metadata": {},
     "output_type": "execute_result"
    }
   ],
   "source": [
    "matriz[:, 0]    #1ª columna"
   ]
  },
  {
   "cell_type": "code",
   "execution_count": 18,
   "metadata": {},
   "outputs": [
    {
     "data": {
      "text/plain": [
       "0.34408505308334714"
      ]
     },
     "execution_count": 18,
     "metadata": {},
     "output_type": "execute_result"
    }
   ],
   "source": [
    "matriz[0, 0]"
   ]
  },
  {
   "cell_type": "code",
   "execution_count": 19,
   "metadata": {
    "scrolled": false
   },
   "outputs": [
    {
     "data": {
      "text/plain": [
       "0.34408505308334714"
      ]
     },
     "execution_count": 19,
     "metadata": {},
     "output_type": "execute_result"
    }
   ],
   "source": [
    "matriz[0][0]"
   ]
  },
  {
   "cell_type": "code",
   "execution_count": 20,
   "metadata": {},
   "outputs": [
    {
     "data": {
      "text/plain": [
       "list"
      ]
     },
     "execution_count": 20,
     "metadata": {},
     "output_type": "execute_result"
    }
   ],
   "source": [
    "lst=[1, 2, 3]\n",
    "\n",
    "type(lst)"
   ]
  },
  {
   "cell_type": "code",
   "execution_count": 21,
   "metadata": {},
   "outputs": [
    {
     "data": {
      "text/plain": [
       "numpy.ndarray"
      ]
     },
     "execution_count": 21,
     "metadata": {},
     "output_type": "execute_result"
    }
   ],
   "source": [
    "array=np.array(lst)\n",
    "\n",
    "type(array)"
   ]
  },
  {
   "cell_type": "code",
   "execution_count": 22,
   "metadata": {},
   "outputs": [
    {
     "data": {
      "text/plain": [
       "list"
      ]
     },
     "execution_count": 22,
     "metadata": {},
     "output_type": "execute_result"
    }
   ],
   "source": [
    "type(list(array))"
   ]
  },
  {
   "cell_type": "code",
   "execution_count": 23,
   "metadata": {},
   "outputs": [
    {
     "data": {
      "text/plain": [
       "(3,)"
      ]
     },
     "execution_count": 23,
     "metadata": {},
     "output_type": "execute_result"
    }
   ],
   "source": [
    "array.shape"
   ]
  },
  {
   "cell_type": "code",
   "execution_count": 24,
   "metadata": {},
   "outputs": [
    {
     "ename": "AttributeError",
     "evalue": "'list' object has no attribute 'shape'",
     "output_type": "error",
     "traceback": [
      "\u001b[0;31m---------------------------------------------------------------------------\u001b[0m",
      "\u001b[0;31mAttributeError\u001b[0m                            Traceback (most recent call last)",
      "Cell \u001b[0;32mIn[24], line 1\u001b[0m\n\u001b[0;32m----> 1\u001b[0m \u001b[43mlst\u001b[49m\u001b[38;5;241;43m.\u001b[39;49m\u001b[43mshape\u001b[49m\n",
      "\u001b[0;31mAttributeError\u001b[0m: 'list' object has no attribute 'shape'"
     ]
    }
   ],
   "source": [
    "lst.shape"
   ]
  },
  {
   "cell_type": "code",
   "execution_count": 25,
   "metadata": {},
   "outputs": [
    {
     "data": {
      "text/plain": [
       "array([[[0.42623807, 0.63228989],\n",
       "        [0.67029847, 0.23553809],\n",
       "        [0.96060611, 0.3668177 ]],\n",
       "\n",
       "       [[0.04394093, 0.58580372],\n",
       "        [0.23069882, 0.53333053],\n",
       "        [0.32896467, 0.02280469]],\n",
       "\n",
       "       [[0.94993661, 0.54441567],\n",
       "        [0.67401812, 0.27545636],\n",
       "        [0.82134984, 0.24904745]]])"
      ]
     },
     "execution_count": 25,
     "metadata": {},
     "output_type": "execute_result"
    }
   ],
   "source": [
    "# cubo, tensor rango 3\n",
    "\n",
    "cubo=np.random.random((3, 3, 2))\n",
    "\n",
    "cubo"
   ]
  },
  {
   "cell_type": "code",
   "execution_count": 26,
   "metadata": {},
   "outputs": [
    {
     "data": {
      "text/plain": [
       "array([[[[0.54121083, 0.3066345 , 0.26478979, 0.48161674, 0.54529541],\n",
       "         [0.93713938, 0.14433024, 0.53946114, 0.79643921, 0.38250675],\n",
       "         [0.57550426, 0.66746298, 0.54669526, 0.49793577, 0.14687616],\n",
       "         [0.94360269, 0.47211322, 0.2038589 , 0.46055436, 0.73789853]],\n",
       "\n",
       "        [[0.366953  , 0.86514861, 0.78955474, 0.82088197, 0.40451274],\n",
       "         [0.52261386, 0.48893859, 0.21890617, 0.38194145, 0.04592856],\n",
       "         [0.04122369, 0.39367418, 0.46088667, 0.35337927, 0.49283345],\n",
       "         [0.75535101, 0.92878047, 0.00563487, 0.29610837, 0.02204542]],\n",
       "\n",
       "        [[0.64931012, 0.92809919, 0.68176778, 0.10405548, 0.21260931],\n",
       "         [0.34848819, 0.77135809, 0.03855581, 0.35904293, 0.32414476],\n",
       "         [0.4918454 , 0.13263862, 0.62610073, 0.6318085 , 0.26283061],\n",
       "         [0.51899844, 0.8723194 , 0.76879922, 0.02312825, 0.09586578]]],\n",
       "\n",
       "\n",
       "       [[[0.14231032, 0.75515365, 0.59216009, 0.9812427 , 0.42030329],\n",
       "         [0.70165839, 0.47687693, 0.94261716, 0.39985795, 0.94780273],\n",
       "         [0.79225419, 0.12505383, 0.66269733, 0.84750838, 0.46836088],\n",
       "         [0.2395801 , 0.51934658, 0.5659822 , 0.01129444, 0.63712718]],\n",
       "\n",
       "        [[0.61574128, 0.72931187, 0.74125633, 0.90697562, 0.74063227],\n",
       "         [0.94066445, 0.18142364, 0.74615658, 0.06779035, 0.12478049],\n",
       "         [0.63113948, 0.02531908, 0.76896438, 0.56990607, 0.79296934],\n",
       "         [0.15753669, 0.77930115, 0.69925987, 0.94160128, 0.35166251]],\n",
       "\n",
       "        [[0.81701525, 0.11807774, 0.54452986, 0.32148382, 0.12829634],\n",
       "         [0.50851694, 0.41373118, 0.90569316, 0.62991332, 0.35921854],\n",
       "         [0.58408426, 0.39735688, 0.67324094, 0.91489013, 0.43711286],\n",
       "         [0.39481005, 0.29069997, 0.37328544, 0.70273998, 0.58560868]]]])"
      ]
     },
     "execution_count": 26,
     "metadata": {},
     "output_type": "execute_result"
    }
   ],
   "source": [
    "# tensor rango 4\n",
    "\n",
    "tensor=np.random.random((2, 3, 4, 5))\n",
    "\n",
    "tensor"
   ]
  },
  {
   "cell_type": "code",
   "execution_count": 27,
   "metadata": {},
   "outputs": [
    {
     "data": {
      "text/plain": [
       "(2, 3, 4, 5)"
      ]
     },
     "execution_count": 27,
     "metadata": {},
     "output_type": "execute_result"
    }
   ],
   "source": [
    "tensor.shape"
   ]
  },
  {
   "cell_type": "code",
   "execution_count": 28,
   "metadata": {},
   "outputs": [
    {
     "data": {
      "text/plain": [
       "0.9436026900193708"
      ]
     },
     "execution_count": 28,
     "metadata": {},
     "output_type": "execute_result"
    }
   ],
   "source": [
    "tensor[0][0][:, 0][-1]"
   ]
  },
  {
   "cell_type": "markdown",
   "metadata": {},
   "source": [
    "**Operaciones matemáticas**"
   ]
  },
  {
   "cell_type": "code",
   "execution_count": 29,
   "metadata": {},
   "outputs": [
    {
     "data": {
      "text/plain": [
       "array([[0.34408505, 0.80128451, 0.66636761, 0.95011864],\n",
       "       [0.57136556, 0.3594123 , 0.60933257, 0.66157438],\n",
       "       [0.40008157, 0.15418789, 0.85280935, 0.73980336],\n",
       "       [0.41883929, 0.25168955, 0.99692579, 0.10554478],\n",
       "       [0.91610893, 0.59346241, 0.11225704, 0.72798686],\n",
       "       [0.17160036, 0.58775366, 0.13446078, 0.94017594],\n",
       "       [0.74059127, 0.68900467, 0.5485582 , 0.10700344],\n",
       "       [0.53680047, 0.34983769, 0.71594224, 0.50485326],\n",
       "       [0.77586621, 0.70384722, 0.09399116, 0.07529197],\n",
       "       [0.55751449, 0.34453479, 0.70146522, 0.6713267 ]])"
      ]
     },
     "execution_count": 29,
     "metadata": {},
     "output_type": "execute_result"
    }
   ],
   "source": [
    "matriz"
   ]
  },
  {
   "cell_type": "code",
   "execution_count": 30,
   "metadata": {},
   "outputs": [
    {
     "data": {
      "text/plain": [
       "21.18365719436963"
      ]
     },
     "execution_count": 30,
     "metadata": {},
     "output_type": "execute_result"
    }
   ],
   "source": [
    "matriz.sum()"
   ]
  },
  {
   "cell_type": "code",
   "execution_count": 31,
   "metadata": {},
   "outputs": [
    {
     "data": {
      "text/plain": [
       "array([5.4328532 , 4.83501469, 5.43210997, 5.48367934])"
      ]
     },
     "execution_count": 31,
     "metadata": {},
     "output_type": "execute_result"
    }
   ],
   "source": [
    "matriz.sum(axis=0)    # suma por columnas"
   ]
  },
  {
   "cell_type": "code",
   "execution_count": 32,
   "metadata": {},
   "outputs": [
    {
     "data": {
      "text/plain": [
       "array([2.76185582, 2.20168482, 2.14688217, 1.77299942, 2.34981524,\n",
       "       1.83399074, 2.08515759, 2.10743365, 1.64899655, 2.2748412 ])"
      ]
     },
     "execution_count": 32,
     "metadata": {},
     "output_type": "execute_result"
    }
   ],
   "source": [
    "matriz.sum(axis=1)    # suma por filas"
   ]
  },
  {
   "cell_type": "code",
   "execution_count": 33,
   "metadata": {},
   "outputs": [
    {
     "ename": "AxisError",
     "evalue": "axis 2 is out of bounds for array of dimension 2",
     "output_type": "error",
     "traceback": [
      "\u001b[0;31m---------------------------------------------------------------------------\u001b[0m",
      "\u001b[0;31mAxisError\u001b[0m                                 Traceback (most recent call last)",
      "Cell \u001b[0;32mIn[33], line 1\u001b[0m\n\u001b[0;32m----> 1\u001b[0m \u001b[43mmatriz\u001b[49m\u001b[38;5;241;43m.\u001b[39;49m\u001b[43msum\u001b[49m\u001b[43m(\u001b[49m\u001b[43maxis\u001b[49m\u001b[38;5;241;43m=\u001b[39;49m\u001b[38;5;241;43m2\u001b[39;49m\u001b[43m)\u001b[49m\n",
      "File \u001b[0;32m/opt/homebrew/Caskroom/miniconda/base/envs/clase/lib/python3.9/site-packages/numpy/core/_methods.py:48\u001b[0m, in \u001b[0;36m_sum\u001b[0;34m(a, axis, dtype, out, keepdims, initial, where)\u001b[0m\n\u001b[1;32m     46\u001b[0m \u001b[38;5;28;01mdef\u001b[39;00m \u001b[38;5;21m_sum\u001b[39m(a, axis\u001b[38;5;241m=\u001b[39m\u001b[38;5;28;01mNone\u001b[39;00m, dtype\u001b[38;5;241m=\u001b[39m\u001b[38;5;28;01mNone\u001b[39;00m, out\u001b[38;5;241m=\u001b[39m\u001b[38;5;28;01mNone\u001b[39;00m, keepdims\u001b[38;5;241m=\u001b[39m\u001b[38;5;28;01mFalse\u001b[39;00m,\n\u001b[1;32m     47\u001b[0m          initial\u001b[38;5;241m=\u001b[39m_NoValue, where\u001b[38;5;241m=\u001b[39m\u001b[38;5;28;01mTrue\u001b[39;00m):\n\u001b[0;32m---> 48\u001b[0m     \u001b[38;5;28;01mreturn\u001b[39;00m \u001b[43mumr_sum\u001b[49m\u001b[43m(\u001b[49m\u001b[43ma\u001b[49m\u001b[43m,\u001b[49m\u001b[43m \u001b[49m\u001b[43maxis\u001b[49m\u001b[43m,\u001b[49m\u001b[43m \u001b[49m\u001b[43mdtype\u001b[49m\u001b[43m,\u001b[49m\u001b[43m \u001b[49m\u001b[43mout\u001b[49m\u001b[43m,\u001b[49m\u001b[43m \u001b[49m\u001b[43mkeepdims\u001b[49m\u001b[43m,\u001b[49m\u001b[43m \u001b[49m\u001b[43minitial\u001b[49m\u001b[43m,\u001b[49m\u001b[43m \u001b[49m\u001b[43mwhere\u001b[49m\u001b[43m)\u001b[49m\n",
      "\u001b[0;31mAxisError\u001b[0m: axis 2 is out of bounds for array of dimension 2"
     ]
    }
   ],
   "source": [
    "matriz.sum(axis=2)"
   ]
  },
  {
   "cell_type": "code",
   "execution_count": 34,
   "metadata": {},
   "outputs": [
    {
     "data": {
      "text/plain": [
       "array([[1.05852796, 0.90583656, 1.32742381],\n",
       "       [0.62974464, 0.76402935, 0.35176937],\n",
       "       [1.49435228, 0.94947449, 1.07039729]])"
      ]
     },
     "execution_count": 34,
     "metadata": {},
     "output_type": "execute_result"
    }
   ],
   "source": [
    "cubo.sum(axis=2)"
   ]
  },
  {
   "cell_type": "code",
   "execution_count": 35,
   "metadata": {},
   "outputs": [
    {
     "data": {
      "text/plain": [
       "5.43210996827078"
      ]
     },
     "execution_count": 35,
     "metadata": {},
     "output_type": "execute_result"
    }
   ],
   "source": [
    "matriz[:, 2].sum()"
   ]
  },
  {
   "cell_type": "code",
   "execution_count": 36,
   "metadata": {},
   "outputs": [
    {
     "data": {
      "text/plain": [
       "5.43210996827078"
      ]
     },
     "execution_count": 36,
     "metadata": {},
     "output_type": "execute_result"
    }
   ],
   "source": [
    "sum(matriz[:, 2])"
   ]
  },
  {
   "cell_type": "code",
   "execution_count": 37,
   "metadata": {},
   "outputs": [
    {
     "data": {
      "text/plain": [
       "2.7618558162907973"
      ]
     },
     "execution_count": 37,
     "metadata": {},
     "output_type": "execute_result"
    }
   ],
   "source": [
    "matriz[0].sum()"
   ]
  },
  {
   "cell_type": "code",
   "execution_count": 38,
   "metadata": {},
   "outputs": [
    {
     "data": {
      "text/plain": [
       "(2, 3, 4, 5)"
      ]
     },
     "execution_count": 38,
     "metadata": {},
     "output_type": "execute_result"
    }
   ],
   "source": [
    "tensor.shape"
   ]
  },
  {
   "cell_type": "code",
   "execution_count": 39,
   "metadata": {},
   "outputs": [
    {
     "data": {
      "text/plain": [
       "(3, 4, 5)"
      ]
     },
     "execution_count": 39,
     "metadata": {},
     "output_type": "execute_result"
    }
   ],
   "source": [
    "tensor.sum(axis=0).shape     # suma por cubos"
   ]
  },
  {
   "cell_type": "code",
   "execution_count": 40,
   "metadata": {},
   "outputs": [
    {
     "data": {
      "text/plain": [
       "(2, 4, 5)"
      ]
     },
     "execution_count": 40,
     "metadata": {},
     "output_type": "execute_result"
    }
   ],
   "source": [
    "tensor.sum(axis=1).shape     # suma por capas del cubo"
   ]
  },
  {
   "cell_type": "code",
   "execution_count": 41,
   "metadata": {},
   "outputs": [
    {
     "data": {
      "text/plain": [
       "(2, 3, 5)"
      ]
     },
     "execution_count": 41,
     "metadata": {},
     "output_type": "execute_result"
    }
   ],
   "source": [
    "tensor.sum(axis=2).shape     # suma por filas"
   ]
  },
  {
   "cell_type": "code",
   "execution_count": 42,
   "metadata": {},
   "outputs": [
    {
     "data": {
      "text/plain": [
       "(2, 3, 4)"
      ]
     },
     "execution_count": 42,
     "metadata": {},
     "output_type": "execute_result"
    }
   ],
   "source": [
    "tensor.sum(axis=3).shape     # suma por columnas"
   ]
  },
  {
   "cell_type": "code",
   "execution_count": 43,
   "metadata": {},
   "outputs": [
    {
     "data": {
      "text/plain": [
       "0.07529196826080709"
      ]
     },
     "execution_count": 43,
     "metadata": {},
     "output_type": "execute_result"
    }
   ],
   "source": [
    "matriz.min()"
   ]
  },
  {
   "cell_type": "code",
   "execution_count": 44,
   "metadata": {},
   "outputs": [
    {
     "data": {
      "text/plain": [
       "0.9969257929714879"
      ]
     },
     "execution_count": 44,
     "metadata": {},
     "output_type": "execute_result"
    }
   ],
   "source": [
    "matriz.max()"
   ]
  },
  {
   "cell_type": "code",
   "execution_count": 45,
   "metadata": {},
   "outputs": [
    {
     "data": {
      "text/plain": [
       "0.8012845131147897"
      ]
     },
     "execution_count": 45,
     "metadata": {},
     "output_type": "execute_result"
    }
   ],
   "source": [
    "matriz[0:2, 0:2].max()"
   ]
  },
  {
   "cell_type": "code",
   "execution_count": 46,
   "metadata": {},
   "outputs": [
    {
     "data": {
      "text/plain": [
       "array([0.95011864, 0.66157438, 0.85280935, 0.99692579, 0.91610893,\n",
       "       0.94017594, 0.74059127, 0.71594224, 0.77586621, 0.70146522])"
      ]
     },
     "execution_count": 46,
     "metadata": {},
     "output_type": "execute_result"
    }
   ],
   "source": [
    "matriz.max(axis=1)"
   ]
  },
  {
   "cell_type": "code",
   "execution_count": 47,
   "metadata": {},
   "outputs": [
    {
     "data": {
      "text/plain": [
       "1"
      ]
     },
     "execution_count": 47,
     "metadata": {},
     "output_type": "execute_result"
    }
   ],
   "source": [
    "lst.index(2)"
   ]
  },
  {
   "cell_type": "code",
   "execution_count": 48,
   "metadata": {},
   "outputs": [],
   "source": [
    "#help(np.where)"
   ]
  },
  {
   "cell_type": "code",
   "execution_count": 49,
   "metadata": {},
   "outputs": [
    {
     "data": {
      "text/plain": [
       "0.5295914298592408"
      ]
     },
     "execution_count": 49,
     "metadata": {},
     "output_type": "execute_result"
    }
   ],
   "source": [
    "matriz.mean()"
   ]
  },
  {
   "cell_type": "code",
   "execution_count": 50,
   "metadata": {},
   "outputs": [
    {
     "data": {
      "text/plain": [
       "array([0.54328532, 0.48350147, 0.543211  , 0.54836793])"
      ]
     },
     "execution_count": 50,
     "metadata": {},
     "output_type": "execute_result"
    }
   ],
   "source": [
    "matriz.mean(axis=0)"
   ]
  },
  {
   "cell_type": "code",
   "execution_count": 51,
   "metadata": {},
   "outputs": [
    {
     "data": {
      "text/plain": [
       "array([0.2237525 , 0.11483537, 0.27665692, 0.33833895, 0.29732633,\n",
       "       0.33016323, 0.2492981 , 0.13006931, 0.32866209, 0.14011959])"
      ]
     },
     "execution_count": 51,
     "metadata": {},
     "output_type": "execute_result"
    }
   ],
   "source": [
    "matriz.std(axis=1)"
   ]
  },
  {
   "cell_type": "code",
   "execution_count": 52,
   "metadata": {},
   "outputs": [
    {
     "data": {
      "text/plain": [
       "0.26758045457707563"
      ]
     },
     "execution_count": 52,
     "metadata": {},
     "output_type": "execute_result"
    }
   ],
   "source": [
    "matriz.std()"
   ]
  },
  {
   "cell_type": "code",
   "execution_count": 53,
   "metadata": {},
   "outputs": [
    {
     "data": {
      "text/plain": [
       "0.26758045457707563"
      ]
     },
     "execution_count": 53,
     "metadata": {},
     "output_type": "execute_result"
    }
   ],
   "source": [
    "matriz.var() ** 0.5"
   ]
  },
  {
   "cell_type": "code",
   "execution_count": 54,
   "metadata": {},
   "outputs": [
    {
     "data": {
      "text/plain": [
       "0.07159929967167444"
      ]
     },
     "execution_count": 54,
     "metadata": {},
     "output_type": "execute_result"
    }
   ],
   "source": [
    "matriz.var()"
   ]
  },
  {
   "cell_type": "code",
   "execution_count": 55,
   "metadata": {},
   "outputs": [
    {
     "data": {
      "text/plain": [
       "array([[0.34408505, 0.80128451],\n",
       "       [0.40008157, 0.15418789],\n",
       "       [0.91610893, 0.59346241]])"
      ]
     },
     "execution_count": 55,
     "metadata": {},
     "output_type": "execute_result"
    }
   ],
   "source": [
    "matriz[0:5:2, 0:2]"
   ]
  },
  {
   "cell_type": "code",
   "execution_count": 56,
   "metadata": {},
   "outputs": [
    {
     "data": {
      "text/plain": [
       "array([0.91545061, 1.16069682, 1.27570018, 1.61169302])"
      ]
     },
     "execution_count": 56,
     "metadata": {},
     "output_type": "execute_result"
    }
   ],
   "source": [
    "np.add(matriz[0], matriz[1])  # suma de vectores"
   ]
  },
  {
   "cell_type": "code",
   "execution_count": 57,
   "metadata": {},
   "outputs": [
    {
     "data": {
      "text/plain": [
       "array([-0.22728051,  0.44187221,  0.05703504,  0.28854425])"
      ]
     },
     "execution_count": 57,
     "metadata": {},
     "output_type": "execute_result"
    }
   ],
   "source": [
    "np.subtract(matriz[0], matriz[1])  # restar de vectores"
   ]
  },
  {
   "cell_type": "code",
   "execution_count": 58,
   "metadata": {},
   "outputs": [
    {
     "data": {
      "text/plain": [
       "2.511501392189067e-15"
      ]
     },
     "execution_count": 58,
     "metadata": {},
     "output_type": "execute_result"
    }
   ],
   "source": [
    "np.prod(matriz)   # productorio"
   ]
  },
  {
   "cell_type": "code",
   "execution_count": 59,
   "metadata": {},
   "outputs": [
    {
     "data": {
      "text/plain": [
       "100.0"
      ]
     },
     "execution_count": 59,
     "metadata": {},
     "output_type": "execute_result"
    }
   ],
   "source": [
    "1e2   # notacion cientifica"
   ]
  },
  {
   "cell_type": "code",
   "execution_count": 60,
   "metadata": {},
   "outputs": [
    {
     "data": {
      "text/plain": [
       "0.001"
      ]
     },
     "execution_count": 60,
     "metadata": {},
     "output_type": "execute_result"
    }
   ],
   "source": [
    "1e-3"
   ]
  },
  {
   "cell_type": "code",
   "execution_count": 61,
   "metadata": {},
   "outputs": [
    {
     "data": {
      "text/plain": [
       "array([0.19659835, 0.28799151, 0.40603949, 0.62857415])"
      ]
     },
     "execution_count": 61,
     "metadata": {},
     "output_type": "execute_result"
    }
   ],
   "source": [
    "np.multiply(matriz[0], matriz[1])  # producto elemento a elemento"
   ]
  },
  {
   "cell_type": "code",
   "execution_count": 62,
   "metadata": {},
   "outputs": [
    {
     "data": {
      "text/plain": [
       "array([0.34408505, 0.80128451, 0.66636761, 0.95011864])"
      ]
     },
     "execution_count": 62,
     "metadata": {},
     "output_type": "execute_result"
    }
   ],
   "source": [
    "matriz[0]"
   ]
  },
  {
   "cell_type": "code",
   "execution_count": 63,
   "metadata": {},
   "outputs": [
    {
     "data": {
      "text/plain": [
       "array([0.57136556, 0.3594123 , 0.60933257, 0.66157438])"
      ]
     },
     "execution_count": 63,
     "metadata": {},
     "output_type": "execute_result"
    }
   ],
   "source": [
    "matriz[1]"
   ]
  },
  {
   "cell_type": "code",
   "execution_count": 64,
   "metadata": {},
   "outputs": [
    {
     "data": {
      "text/plain": [
       "1.5192035039846112"
      ]
     },
     "execution_count": 64,
     "metadata": {},
     "output_type": "execute_result"
    }
   ],
   "source": [
    "np.dot(matriz[0], matriz[1])  # producto escalar"
   ]
  },
  {
   "cell_type": "code",
   "execution_count": 65,
   "metadata": {},
   "outputs": [
    {
     "ename": "ValueError",
     "evalue": "shapes (10,4) and (10,4) not aligned: 4 (dim 1) != 10 (dim 0)",
     "output_type": "error",
     "traceback": [
      "\u001b[0;31m---------------------------------------------------------------------------\u001b[0m",
      "\u001b[0;31mValueError\u001b[0m                                Traceback (most recent call last)",
      "Cell \u001b[0;32mIn[65], line 1\u001b[0m\n\u001b[0;32m----> 1\u001b[0m \u001b[43mnp\u001b[49m\u001b[38;5;241;43m.\u001b[39;49m\u001b[43mdot\u001b[49m\u001b[43m(\u001b[49m\u001b[43mmatriz\u001b[49m\u001b[43m,\u001b[49m\u001b[43m \u001b[49m\u001b[43mmatriz\u001b[49m\u001b[43m)\u001b[49m\n",
      "File \u001b[0;32m<__array_function__ internals>:180\u001b[0m, in \u001b[0;36mdot\u001b[0;34m(*args, **kwargs)\u001b[0m\n",
      "\u001b[0;31mValueError\u001b[0m: shapes (10,4) and (10,4) not aligned: 4 (dim 1) != 10 (dim 0)"
     ]
    }
   ],
   "source": [
    "np.dot(matriz, matriz)"
   ]
  },
  {
   "cell_type": "code",
   "execution_count": 66,
   "metadata": {},
   "outputs": [
    {
     "data": {
      "text/plain": [
       "(10, 4)"
      ]
     },
     "execution_count": 66,
     "metadata": {},
     "output_type": "execute_result"
    }
   ],
   "source": [
    "matriz.shape"
   ]
  },
  {
   "cell_type": "code",
   "execution_count": 67,
   "metadata": {},
   "outputs": [
    {
     "data": {
      "text/plain": [
       "(4, 10)"
      ]
     },
     "execution_count": 67,
     "metadata": {},
     "output_type": "execute_result"
    }
   ],
   "source": [
    "matriz.T.shape"
   ]
  },
  {
   "cell_type": "code",
   "execution_count": 68,
   "metadata": {},
   "outputs": [
    {
     "data": {
      "text/plain": [
       "(4, 10)"
      ]
     },
     "execution_count": 68,
     "metadata": {},
     "output_type": "execute_result"
    }
   ],
   "source": [
    "matriz.transpose().shape"
   ]
  },
  {
   "cell_type": "code",
   "execution_count": 69,
   "metadata": {},
   "outputs": [
    {
     "data": {
      "text/plain": [
       "(10, 10)"
      ]
     },
     "execution_count": 69,
     "metadata": {},
     "output_type": "execute_result"
    }
   ],
   "source": [
    "np.dot(matriz, matriz.T).shape"
   ]
  },
  {
   "cell_type": "code",
   "execution_count": 70,
   "metadata": {},
   "outputs": [
    {
     "data": {
      "text/plain": [
       "(4, 4)"
      ]
     },
     "execution_count": 70,
     "metadata": {},
     "output_type": "execute_result"
    }
   ],
   "source": [
    "np.matmul(matriz.T, matriz).shape"
   ]
  },
  {
   "cell_type": "code",
   "execution_count": 71,
   "metadata": {},
   "outputs": [
    {
     "data": {
      "text/plain": [
       "1.5192035039846112"
      ]
     },
     "execution_count": 71,
     "metadata": {},
     "output_type": "execute_result"
    }
   ],
   "source": [
    "np.matmul(matriz[0], matriz[1])"
   ]
  },
  {
   "cell_type": "code",
   "execution_count": 72,
   "metadata": {},
   "outputs": [
    {
     "data": {
      "text/plain": [
       "array([ 0.24874803,  0.17107727, -0.33415797])"
      ]
     },
     "execution_count": 72,
     "metadata": {},
     "output_type": "execute_result"
    }
   ],
   "source": [
    "np.cross(matriz[0][:3], matriz[1][:3])  # producto vectorial"
   ]
  },
  {
   "cell_type": "code",
   "execution_count": 73,
   "metadata": {},
   "outputs": [
    {
     "data": {
      "text/plain": [
       "array([0.34408505, 0.80128451, 0.66636761])"
      ]
     },
     "execution_count": 73,
     "metadata": {},
     "output_type": "execute_result"
    }
   ],
   "source": [
    "matriz[0][:3]"
   ]
  },
  {
   "cell_type": "code",
   "execution_count": 74,
   "metadata": {},
   "outputs": [
    {
     "data": {
      "text/plain": [
       "array([ 0.34408505,  1.14536957,  1.81173718,  2.76185582,  3.33322138,\n",
       "        3.69263368,  4.30196625,  4.96354063,  5.36362221,  5.5178101 ,\n",
       "        6.37061944,  7.1104228 ,  7.5292621 ,  7.78095165,  8.77787744,\n",
       "        8.88342222,  9.79953115, 10.39299356, 10.5052506 , 11.23323746,\n",
       "       11.40483782, 11.99259148, 12.12705226, 13.06722821, 13.80781948,\n",
       "       14.49682415, 15.04538235, 15.15238579, 15.68918626, 16.03902395,\n",
       "       16.75496618, 17.25981944, 18.03568565, 18.73953287, 18.83352403,\n",
       "       18.908816  , 19.46633048, 19.81086527, 20.51233049, 21.18365719])"
      ]
     },
     "execution_count": 74,
     "metadata": {},
     "output_type": "execute_result"
    }
   ],
   "source": [
    "matriz.cumsum()"
   ]
  },
  {
   "cell_type": "code",
   "execution_count": 75,
   "metadata": {},
   "outputs": [
    {
     "data": {
      "text/plain": [
       "array(14.08265529)"
      ]
     },
     "execution_count": 75,
     "metadata": {},
     "output_type": "execute_result"
    }
   ],
   "source": [
    "np.tensordot(matriz, matriz)"
   ]
  },
  {
   "cell_type": "code",
   "execution_count": 76,
   "metadata": {},
   "outputs": [
    {
     "data": {
      "text/plain": [
       "array([3.44085053e-01, 2.75710024e-01, 1.83724231e-01, 1.74559816e-01,\n",
       "       9.97374669e-02, 3.58468727e-02, 2.18426671e-02, 1.44505490e-02,\n",
       "       5.78139838e-03, 8.91421610e-04, 7.60212682e-04, 5.62407894e-04,\n",
       "       2.35558526e-04, 5.92876202e-05, 5.91053578e-05, 6.23826207e-06,\n",
       "       5.71492757e-06, 3.39159468e-06, 3.80730387e-07, 2.77166720e-07,\n",
       "       4.75619083e-08, 2.79546857e-08, 3.75880888e-09, 3.53394168e-09,\n",
       "       2.61720636e-09, 1.80326741e-09, 9.89197127e-10, 1.05847498e-10,\n",
       "       5.68189865e-11, 1.98774228e-11, 1.42310865e-11, 7.18461041e-12,\n",
       "       5.57429644e-12, 3.92345303e-12, 3.68769907e-13, 2.77654122e-14,\n",
       "       1.54796195e-14, 5.33326737e-15, 3.74110158e-15, 2.51150139e-15])"
      ]
     },
     "execution_count": 76,
     "metadata": {},
     "output_type": "execute_result"
    }
   ],
   "source": [
    "matriz.cumprod()"
   ]
  },
  {
   "cell_type": "code",
   "execution_count": 77,
   "metadata": {},
   "outputs": [
    {
     "data": {
      "text/plain": [
       "nan"
      ]
     },
     "execution_count": 77,
     "metadata": {},
     "output_type": "execute_result"
    }
   ],
   "source": [
    "np.nan"
   ]
  },
  {
   "cell_type": "code",
   "execution_count": 78,
   "metadata": {},
   "outputs": [
    {
     "data": {
      "text/plain": [
       "float"
      ]
     },
     "execution_count": 78,
     "metadata": {},
     "output_type": "execute_result"
    }
   ],
   "source": [
    "type(np.nan)"
   ]
  },
  {
   "cell_type": "code",
   "execution_count": 79,
   "metadata": {},
   "outputs": [
    {
     "data": {
      "text/plain": [
       "NoneType"
      ]
     },
     "execution_count": 79,
     "metadata": {},
     "output_type": "execute_result"
    }
   ],
   "source": [
    "type(None)"
   ]
  },
  {
   "cell_type": "code",
   "execution_count": 80,
   "metadata": {},
   "outputs": [
    {
     "data": {
      "text/plain": [
       "inf"
      ]
     },
     "execution_count": 80,
     "metadata": {},
     "output_type": "execute_result"
    }
   ],
   "source": [
    "np.inf"
   ]
  },
  {
   "cell_type": "code",
   "execution_count": 81,
   "metadata": {},
   "outputs": [
    {
     "data": {
      "text/plain": [
       "float"
      ]
     },
     "execution_count": 81,
     "metadata": {},
     "output_type": "execute_result"
    }
   ],
   "source": [
    "type(np.inf)"
   ]
  },
  {
   "cell_type": "code",
   "execution_count": 82,
   "metadata": {},
   "outputs": [
    {
     "data": {
      "text/plain": [
       "3.141592653589793"
      ]
     },
     "execution_count": 82,
     "metadata": {},
     "output_type": "execute_result"
    }
   ],
   "source": [
    "np.pi"
   ]
  },
  {
   "cell_type": "markdown",
   "metadata": {},
   "source": [
    "**Dimensiones**"
   ]
  },
  {
   "cell_type": "code",
   "execution_count": 83,
   "metadata": {},
   "outputs": [
    {
     "data": {
      "text/plain": [
       "(10, 4)"
      ]
     },
     "execution_count": 83,
     "metadata": {},
     "output_type": "execute_result"
    }
   ],
   "source": [
    "matriz.shape"
   ]
  },
  {
   "cell_type": "code",
   "execution_count": 84,
   "metadata": {},
   "outputs": [
    {
     "data": {
      "text/plain": [
       "array([[0.34408505, 0.80128451, 0.66636761, 0.95011864],\n",
       "       [0.57136556, 0.3594123 , 0.60933257, 0.66157438],\n",
       "       [0.40008157, 0.15418789, 0.85280935, 0.73980336],\n",
       "       [0.41883929, 0.25168955, 0.99692579, 0.10554478],\n",
       "       [0.91610893, 0.59346241, 0.11225704, 0.72798686],\n",
       "       [0.17160036, 0.58775366, 0.13446078, 0.94017594],\n",
       "       [0.74059127, 0.68900467, 0.5485582 , 0.10700344],\n",
       "       [0.53680047, 0.34983769, 0.71594224, 0.50485326],\n",
       "       [0.77586621, 0.70384722, 0.09399116, 0.07529197],\n",
       "       [0.55751449, 0.34453479, 0.70146522, 0.6713267 ]])"
      ]
     },
     "execution_count": 84,
     "metadata": {},
     "output_type": "execute_result"
    }
   ],
   "source": [
    "matriz"
   ]
  },
  {
   "cell_type": "code",
   "execution_count": 85,
   "metadata": {},
   "outputs": [
    {
     "data": {
      "text/plain": [
       "array([[0.34408505, 0.80128451, 0.66636761, 0.95011864, 0.57136556,\n",
       "        0.3594123 , 0.60933257, 0.66157438],\n",
       "       [0.40008157, 0.15418789, 0.85280935, 0.73980336, 0.41883929,\n",
       "        0.25168955, 0.99692579, 0.10554478],\n",
       "       [0.91610893, 0.59346241, 0.11225704, 0.72798686, 0.17160036,\n",
       "        0.58775366, 0.13446078, 0.94017594],\n",
       "       [0.74059127, 0.68900467, 0.5485582 , 0.10700344, 0.53680047,\n",
       "        0.34983769, 0.71594224, 0.50485326],\n",
       "       [0.77586621, 0.70384722, 0.09399116, 0.07529197, 0.55751449,\n",
       "        0.34453479, 0.70146522, 0.6713267 ]])"
      ]
     },
     "execution_count": 85,
     "metadata": {},
     "output_type": "execute_result"
    }
   ],
   "source": [
    "matriz.reshape((5, 8))"
   ]
  },
  {
   "cell_type": "code",
   "execution_count": 86,
   "metadata": {},
   "outputs": [
    {
     "data": {
      "text/plain": [
       "(40,)"
      ]
     },
     "execution_count": 86,
     "metadata": {},
     "output_type": "execute_result"
    }
   ],
   "source": [
    "matriz.flatten().shape"
   ]
  },
  {
   "cell_type": "code",
   "execution_count": 87,
   "metadata": {},
   "outputs": [
    {
     "data": {
      "text/plain": [
       "array([[0.34408505, 0.80128451, 0.66636761, 0.95011864],\n",
       "       [0.57136556, 0.3594123 , 0.60933257, 0.66157438],\n",
       "       [0.40008157, 0.15418789, 0.85280935, 0.73980336],\n",
       "       [0.41883929, 0.25168955, 0.99692579, 0.10554478],\n",
       "       [0.91610893, 0.59346241, 0.11225704, 0.72798686],\n",
       "       [0.17160036, 0.58775366, 0.13446078, 0.94017594],\n",
       "       [0.74059127, 0.68900467, 0.5485582 , 0.10700344],\n",
       "       [0.53680047, 0.34983769, 0.71594224, 0.50485326],\n",
       "       [0.77586621, 0.70384722, 0.09399116, 0.07529197],\n",
       "       [0.55751449, 0.34453479, 0.70146522, 0.6713267 ]])"
      ]
     },
     "execution_count": 87,
     "metadata": {},
     "output_type": "execute_result"
    }
   ],
   "source": [
    "matriz"
   ]
  },
  {
   "cell_type": "code",
   "execution_count": 88,
   "metadata": {},
   "outputs": [
    {
     "data": {
      "text/plain": [
       "array([[1.34408505, 2.80128451, 3.66636761, 4.95011864],\n",
       "       [1.57136556, 2.3594123 , 3.60933257, 4.66157438],\n",
       "       [1.40008157, 2.15418789, 3.85280935, 4.73980336],\n",
       "       [1.41883929, 2.25168955, 3.99692579, 4.10554478],\n",
       "       [1.91610893, 2.59346241, 3.11225704, 4.72798686],\n",
       "       [1.17160036, 2.58775366, 3.13446078, 4.94017594],\n",
       "       [1.74059127, 2.68900467, 3.5485582 , 4.10700344],\n",
       "       [1.53680047, 2.34983769, 3.71594224, 4.50485326],\n",
       "       [1.77586621, 2.70384722, 3.09399116, 4.07529197],\n",
       "       [1.55751449, 2.34453479, 3.70146522, 4.6713267 ]])"
      ]
     },
     "execution_count": 88,
     "metadata": {},
     "output_type": "execute_result"
    }
   ],
   "source": [
    "matriz + np.array([1, 2, 3, 4])"
   ]
  },
  {
   "cell_type": "code",
   "execution_count": 89,
   "metadata": {},
   "outputs": [
    {
     "data": {
      "text/plain": [
       "array([[1.34408505, 2.80128451, 3.66636761, 4.95011864],\n",
       "       [1.57136556, 2.3594123 , 3.60933257, 4.66157438],\n",
       "       [1.40008157, 2.15418789, 3.85280935, 4.73980336],\n",
       "       [1.41883929, 2.25168955, 3.99692579, 4.10554478],\n",
       "       [1.91610893, 2.59346241, 3.11225704, 4.72798686],\n",
       "       [1.17160036, 2.58775366, 3.13446078, 4.94017594],\n",
       "       [1.74059127, 2.68900467, 3.5485582 , 4.10700344],\n",
       "       [1.53680047, 2.34983769, 3.71594224, 4.50485326],\n",
       "       [1.77586621, 2.70384722, 3.09399116, 4.07529197],\n",
       "       [1.55751449, 2.34453479, 3.70146522, 4.6713267 ]])"
      ]
     },
     "execution_count": 89,
     "metadata": {},
     "output_type": "execute_result"
    }
   ],
   "source": [
    "matriz + [1, 2, 3, 4]"
   ]
  },
  {
   "cell_type": "code",
   "execution_count": 90,
   "metadata": {},
   "outputs": [
    {
     "data": {
      "text/plain": [
       "array([10.59881097, 10.89122354, 10.91414188, 10.39283257, 10.32230589])"
      ]
     },
     "execution_count": 90,
     "metadata": {},
     "output_type": "execute_result"
    }
   ],
   "source": [
    "vector + 10"
   ]
  },
  {
   "cell_type": "code",
   "execution_count": 91,
   "metadata": {},
   "outputs": [
    {
     "data": {
      "text/plain": [
       "array([0.59881097, 0.89122354, 0.91414188, 0.39283257, 0.32230589])"
      ]
     },
     "execution_count": 91,
     "metadata": {},
     "output_type": "execute_result"
    }
   ],
   "source": [
    "vector"
   ]
  },
  {
   "cell_type": "code",
   "execution_count": 92,
   "metadata": {},
   "outputs": [
    {
     "data": {
      "text/plain": [
       "array([[0, 1, 1, 1],\n",
       "       [1, 0, 1, 1],\n",
       "       [0, 0, 1, 1],\n",
       "       [0, 0, 1, 0],\n",
       "       [1, 1, 0, 1],\n",
       "       [0, 1, 0, 1],\n",
       "       [1, 1, 1, 0],\n",
       "       [1, 0, 1, 1],\n",
       "       [1, 1, 0, 0],\n",
       "       [1, 0, 1, 1]])"
      ]
     },
     "execution_count": 92,
     "metadata": {},
     "output_type": "execute_result"
    }
   ],
   "source": [
    "np.where(matriz > 0.5, 1, 0)"
   ]
  },
  {
   "cell_type": "code",
   "execution_count": 93,
   "metadata": {},
   "outputs": [
    {
     "data": {
      "text/plain": [
       "dtype('float64')"
      ]
     },
     "execution_count": 93,
     "metadata": {},
     "output_type": "execute_result"
    }
   ],
   "source": [
    "vector.dtype"
   ]
  },
  {
   "cell_type": "code",
   "execution_count": 94,
   "metadata": {},
   "outputs": [
    {
     "data": {
      "text/plain": [
       "dtype('<U21')"
      ]
     },
     "execution_count": 94,
     "metadata": {},
     "output_type": "execute_result"
    }
   ],
   "source": [
    "a=np.where(matriz > 0.5, 'hola', 0)\n",
    "\n",
    "a.dtype"
   ]
  },
  {
   "cell_type": "code",
   "execution_count": 95,
   "metadata": {},
   "outputs": [
    {
     "data": {
      "text/plain": [
       "dtype('<U5')"
      ]
     },
     "execution_count": 95,
     "metadata": {},
     "output_type": "execute_result"
    }
   ],
   "source": [
    "np.array(['hola', 'adios']).dtype"
   ]
  },
  {
   "cell_type": "code",
   "execution_count": 96,
   "metadata": {},
   "outputs": [
    {
     "data": {
      "text/plain": [
       "array([[1., 1., 1.],\n",
       "       [1., 1., 1.],\n",
       "       [1., 1., 1.]])"
      ]
     },
     "execution_count": 96,
     "metadata": {},
     "output_type": "execute_result"
    }
   ],
   "source": [
    "np.ones((3, 3))"
   ]
  },
  {
   "cell_type": "code",
   "execution_count": 97,
   "metadata": {},
   "outputs": [
    {
     "data": {
      "text/plain": [
       "array([[0., 0., 0.],\n",
       "       [0., 0., 0.],\n",
       "       [0., 0., 0.]])"
      ]
     },
     "execution_count": 97,
     "metadata": {},
     "output_type": "execute_result"
    }
   ],
   "source": [
    "np.zeros((3, 3))"
   ]
  },
  {
   "cell_type": "code",
   "execution_count": null,
   "metadata": {},
   "outputs": [],
   "source": []
  }
 ],
 "metadata": {
  "kernelspec": {
   "display_name": "clase",
   "language": "python",
   "name": "clase"
  },
  "language_info": {
   "codemirror_mode": {
    "name": "ipython",
    "version": 3
   },
   "file_extension": ".py",
   "mimetype": "text/x-python",
   "name": "python",
   "nbconvert_exporter": "python",
   "pygments_lexer": "ipython3",
   "version": "3.9.12"
  },
  "varInspector": {
   "cols": {
    "lenName": 16,
    "lenType": 16,
    "lenVar": 40
   },
   "kernels_config": {
    "python": {
     "delete_cmd_postfix": "",
     "delete_cmd_prefix": "del ",
     "library": "var_list.py",
     "varRefreshCmd": "print(var_dic_list())"
    },
    "r": {
     "delete_cmd_postfix": ") ",
     "delete_cmd_prefix": "rm(",
     "library": "var_list.r",
     "varRefreshCmd": "cat(var_dic_list()) "
    }
   },
   "types_to_exclude": [
    "module",
    "function",
    "builtin_function_or_method",
    "instance",
    "_Feature"
   ],
   "window_display": false
  }
 },
 "nbformat": 4,
 "nbformat_minor": 4
}
