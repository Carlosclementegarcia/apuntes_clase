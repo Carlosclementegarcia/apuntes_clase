{
 "cells": [
  {
   "cell_type": "markdown",
   "metadata": {},
   "source": [
    "# 1.1 - Numpy  (Numerical Python)\n",
    "\n",
    "**[Documentación](https://numpy.org/doc/stable/)**\n",
    "\n",
    "**[Código fuente](https://github.com/numpy/numpy)**\n",
    "\n",
    "\n",
    "![numpy](images/numpy.png)"
   ]
  },
  {
   "cell_type": "markdown",
   "metadata": {},
   "source": [
    "NumPy es el paquete fundamental para computación cientifíca en python. Es una librería de python nos permite manejar vectores, matrices, [tensores](https://es.wikipedia.org/wiki/C%C3%A1lculo_tensorial) (arrays multidimensionales) y además realizar todas las operaciones matemáticas y lógicas de los mismos, como la manipulación de la dimensión, ordenado, selección, I/O, operaciones estadísticas, transformadas de Fourier, simulación aleatoria y un largo etcétera. Constituye la herramienta de álgebra lineal."
   ]
  },
  {
   "cell_type": "markdown",
   "metadata": {},
   "source": [
    "## Recordatorio de álgebra\n",
    "\n",
    "+ Contenidos:\n",
    "\n",
    "    + Concepto de tensor\n",
    "    + Operaciones con vectores\n",
    "        + Concepto de espacio vectorial y base\n",
    "        + Suma de vectores\n",
    "        + Producto escalar\n",
    "        + Producto vectorial\n",
    "    + Operaciones con matrices\n",
    "        + Suma de matrices\n",
    "        + Producto matricial\n",
    "        + Matriz Identidad\n",
    "        + Matriz Traspuesta (Hermítica)\n",
    "        + Matriz Inversa \n",
    "        + Determinate"
   ]
  },
  {
   "cell_type": "markdown",
   "metadata": {},
   "source": [
    "### Tensor\n",
    "\n",
    "La palabra ['tensor'](https://es.wikipedia.org/wiki/C%C3%A1lculo_tensorial) se utiliza a menudo como abreviatura de campo tensorial, que es un valor tensorial definido en cada punto en una variedad. El primero en utilizar esta palabra fue William Rowan Hamilton en 1846, empleándola para lo que actualmente se conoce como módulo y fue Woldemar Voigt en 1899 quien la empleó en su acepción actual. La palabra tensor proviene del latín tensus, participio pasado de tendere 'estirar, extender'. El nombre se extendió porque la teoría de la elasticidad fue una de las primeras aplicaciones físicas donde se usaron tensores. Gregorio Ricci-Curbastro en 1890 desarrolló la notación actual con el nombre de geometría diferencial absoluta, y se popularizó con la publicación de Cálculo Diferencial Absoluto de Tullio Levi-Civita en 1900. Con la introducción de la teoría de la relatividad general por parte de Albert Einstein alrededor de 1915 se encontró su aplicación más pragmática. La Relatividad General es netamente tensorial. Einstein había aprendido del mismo Levi-Civita el uso de tensores con gran dificultad.\n",
    "\n",
    "Podemos pensar en un tensor como la generalización del ente algebraico. Con un ejemplo se verá más claro.\n",
    "\n",
    "Un **número**, cualquier número, $2$, $3.6$, $\\pi$, $\\phi$, $\\sqrt{2}$, es un **tensor de rango $0$**.\n",
    "\n",
    "Un **vector**, cualquier vector, sea como sea su longitud, $(1, 2, 3)$, $(0, 5, 2, 1, 5)$, $(9,2)$, es un **tensor de rango $1$**.\n",
    "\n",
    "Una **matriz**, cualquier matriz, sean cuales sean sus dimensiones, es un **tensor de rango $2$**.\n",
    "\n",
    "Un **cubo de Rubik** por ejemplo es un **tensor de rango $3$**.\n",
    "\n",
    "Pensar en dimensiones superiores es complicado por no decir imposible, pero se pueden interpretar a través del contenido. Una **bolsa llena de cubos de Rubik** es un **tensor de rango $4$**.\n",
    "\n",
    "Una **caja llena de bolsas que están llenas de cubos de Rubik es un tensor de rango $5$**.\n",
    "\n",
    "Y así sucesivamente."
   ]
  },
  {
   "cell_type": "markdown",
   "metadata": {},
   "source": [
    "### Operaciones con vectores\n",
    "\n",
    "**Espacio vectorial**\n",
    "\n",
    "La definición matemática de [espacio vectorial](https://es.wikipedia.org/wiki/Espacio_vectorial) implica los conceptos de conjunto, ley de composición(operación) interna y ley de composición externa, definida sobre un segundo conjunto. Resumiendo, un espacio vectorial es una estructura creada sobre un conjunto no vacío con ambas leyes de composición. A los elementos de un espacio vectorial se les llama vectores.\n",
    "\n",
    "Veamos un ejemplo:\n",
    "\n",
    "Un espacio vectorial es el espacio tridimensional ${\\Bbb R}^{3}$. Los elementos de ${\\Bbb R}^{3}$ son vectores, por lo que la ley de composición interna es la suma de vectores. Para la ley de composición externa se necesita otro conjunto, que en esta caso son los números reales ${\\Bbb R}$, y queda definida como el producto por escalares, multiplicar un vector por un número.\n",
    "\n",
    "\n",
    "\n",
    "**Base vectorial**\n",
    "\n",
    "Una [base](https://es.wikipedia.org/wiki/Base_(%C3%A1lgebra)) es un conjunto de vectores {$v_{1}, v_{2}, v_{3}, ... ,v_{n}$} que cumplen las siguientes propiedades:\n",
    "\n",
    "+ Todos los elementos de la base pertenecen al mismo espacio vectorial.\n",
    "+ Los elementos de la base forman un sistema linealmente independiente (ninguno es combinación lineal de los demás).\n",
    "+ Cualquier elemento del espacio vectorial se puede escribir como combinación lineal de los elementos de la base (es lo que se llama sistema generador del espacio vectorial).\n",
    "\n",
    "Ejemplo:\n",
    "\n",
    "En ${\\Bbb R}^{3}$, la base principal (llamada canónica) es {$(1,0,0), (0,1,0), (0,0,1)$}. Todos esos vectores pertenecen a ${\\Bbb R}^{3}$, son linealmente independientes(ninguno puede ser una suma de los otros) y cualquier otro vector en ${\\Bbb R}^{3}$ se puede representar como una suma de esos tres, una combinación lineal. No es única, otra base de ${\\Bbb R}^{3}$ podría ser {$(1,1,1), (1,1,0), (1,0,0)$}\n",
    "\n",
    "\n",
    "\n",
    "**Suma de vectores**\n",
    "\n",
    "Los vectores se suman por componentes, lo que implica que ambos tienen la misma longitud. Por ejemplo en ${\\Bbb R}^{3}$:\n",
    "\n",
    "$$\\vec{A}=A_{x}\\vec{i}+A_{y}\\vec{j}+A_{z}\\vec{k}$$\n",
    "\n",
    "$$\\vec{B}=B_{x}\\vec{i}+B_{y}\\vec{j}+B_{z}\\vec{k}$$\n",
    "\n",
    "$$\\vec{A}+\\vec{B}=(B_{x}+A_{x})\\vec{i}+(B_{y}+A_{y})\\vec{j}+(B_{z}+A_{z})\\vec{k}$$\n",
    "\n",
    "$$$$\n",
    "\n",
    "$$\\vec{A}=(1,8,9)$$\n",
    "\n",
    "$$\\vec{B}=(4,3,0)$$\n",
    "\n",
    "$$\\vec{A}+\\vec{B}=(5,11,9)$$\n",
    "\n",
    "\n",
    "\n",
    "**Producto escalar**\n",
    "\n",
    "Hay que diferenciar entre producto por escalares, un número por un vector resultando un vector, y el productor escalar donde se multiplican dos vectores resultando un número, un escalar.\n",
    "\n",
    "+ Producto por escalares:\n",
    "\n",
    "Se realiza elemento a elemento la multiplicación por el número:\n",
    "\n",
    "$$\\vec{A}=(1,8,9)$$\n",
    "\n",
    "$$2*\\vec{A}=(2,16,18)$$\n",
    "\n",
    "+ Productos escalar:\n",
    "\n",
    "Se realiza multiplicando elemento un vector fila por un vector columna y sumando los resultados. Hay que tener en cuenta, igual que en la suma, que ambos vectores tienen el mismo número de elementos. También se le llama producto punto (dot product) o producto interno (inner product).\n",
    "\n",
    "$$\\vec{A}\\cdot\\vec{B}=(1, 8, 9)\\cdot\\begin{pmatrix}4\\\\3\\\\0\\end{pmatrix} = 1·4+8·3+9·0 = 4+24+0 = 28$$\n",
    "\n",
    "\n",
    "\n",
    "**Producto vectorial**\n",
    "\n",
    "En este caso, se multiplican dos vectores resultando otro vector. La manera más fácil de hacerlo es a través de un determinante:\n",
    "\n",
    "\n",
    "$$\\vec{A}\\times \\vec{B} = \\begin{vmatrix}\n",
    "\\hat{\\imath}&\\hat{\\jmath}&\\hat{k}\\\\\n",
    "1 & 8 & 9 \\\\\n",
    "4 & 3 & 0\n",
    "\\end{vmatrix} = \\begin{vmatrix}\n",
    "8 & 9 \\\\\n",
    "3 & 0\n",
    "\\end{vmatrix}·\\hat{\\imath} - \n",
    "\\begin{vmatrix}\n",
    "1 & 9 \\\\\n",
    "4 & 0\n",
    "\\end{vmatrix}·\\hat{\\jmath} +\n",
    "\\begin{vmatrix}\n",
    "1 & 8 \\\\\n",
    "4 & 3\n",
    "\\end{vmatrix}·\\hat{k} = (8·0-9·3)·\\hat{\\imath}-(1·0-9·4)·\\hat{\\jmath}+(1·3-8·4)·\\hat{k}$$\n",
    "\n",
    "$$\\vec{A}\\times \\vec{B} = (-27, 36, -29)$$"
   ]
  },
  {
   "cell_type": "markdown",
   "metadata": {},
   "source": [
    "### Operaciones con matrices\n",
    "\n",
    "\n",
    "**Suma de matrices**\n",
    "\n",
    "Las matrices tienen definidas sus dimensiones sugún el número de filas($m$) y de columnas($n$), y se representan como $A_{mxn}$. Para sumar matrices las dimensiones tienen que ser las mismas, igual que ocurría con los vectores, y se realiza elemento a elemento (element wise):\n",
    "\n",
    "\n",
    "$$\\begin{pmatrix}\n",
    "5 & 7 & 1 \\\\\n",
    "4 & 0 & 2 \n",
    "\\end{pmatrix}+\\begin{pmatrix}\n",
    "0 & 0 & 3 \\\\\n",
    "2 & 2 & 7 \n",
    "\\end{pmatrix}=\\begin{pmatrix}\n",
    "5 & 7 & 4 \\\\\n",
    "6 & 2 & 9 \n",
    "\\end{pmatrix}$$\n",
    "\n",
    "\n",
    "\n",
    "**Producto matricial**\n",
    "\n",
    "Para multiplicar matrices tenemos que tener en cuenta las dimensiones, porque el producto matricial no es conmutativo e incluso a veces no se puede realizar. El número de columnas de la primera matriz tiene que ser igual que el número de filas de la segunda y el resultado tendrá el número de filas de la primera y el número de columnas de la segunda. Es decir:\n",
    "\n",
    "$$A_{rxn}\\cdot B_{nxq} = C_{rxq}$$\n",
    "\n",
    "\n",
    "$$\\begin{pmatrix}\n",
    "5 & 7 & 1 \\\\\n",
    "4 & 0 & 2 \n",
    "\\end{pmatrix}\\cdot\\begin{pmatrix}\n",
    "0 & 0 \\\\\n",
    "2 & 3 \\\\\n",
    "2 & 7 \n",
    "\\end{pmatrix}=\\begin{pmatrix}\n",
    "5·0+7·2+1·2 & 5·0+7·3+1·7 \\\\\n",
    "4·0+0·2+2·2 & 4·0+0·3+2·7\n",
    "\\end{pmatrix}=\\begin{pmatrix}\n",
    "18 & 28 \\\\\n",
    "4 & 14\n",
    "\\end{pmatrix}$$\n",
    "\n",
    "\n",
    "\n",
    "**Matriz Identidad**\n",
    "\n",
    "Elemento neutro de la multiplicación, solo $1_s$ en la diagonal:\n",
    "\n",
    "$$I = \\begin{pmatrix}\n",
    "1&0&\\cdots&0&0\\\\\n",
    "0&1&\\cdots&0&0\\\\\n",
    "\\vdots&\\vdots&\\ddots&\\vdots&\\vdots\\\\\n",
    "0&\\cdots&\\cdots&\\cdots&0\\\\\n",
    "0&0&\\cdots&1&0\\\\\n",
    "0&0&\\cdots&0&1\\\\\n",
    "\\end{pmatrix}$$\n",
    "\n",
    "\n",
    "\n",
    "**Matriz traspuesta  (hermítica)**\n",
    "\n",
    "La traspuesta $A^{T}$ de una matriz $A$ puede ser obtenida reflejando los elementos a lo largo de su diagonal.\n",
    "\n",
    "$$A=\\begin{pmatrix}\n",
    "5 & 7 & 9 \\\\\n",
    "4 & 0 & 7 \\\\\n",
    "1 & 2 & 2\n",
    "\\end{pmatrix}$$\n",
    "\n",
    "$$A^{T}=\\begin{pmatrix}\n",
    "5 & 4 & 1 \\\\\n",
    "7 & 0 & 2 \\\\\n",
    "9 & 7 & 2\n",
    "\\end{pmatrix}$$\n",
    "\n",
    "\n",
    "Se le dice hermítica si los elementos son números complejos, es la traspuesta conjugada (el conjugado de $x+iy$ es $x-iy$).\n",
    "\n",
    "\n",
    "**Matriz Inversa**\n",
    "\n",
    "¿Como se dividen las matrices? Se multiplica por la inversa. El cálculo de la matriz inversa es:\n",
    "\n",
    "$$A= \\begin{pmatrix}\n",
    "       a_{11} & a_{12} \\\\ \n",
    "       a_{21} & a_{22}\n",
    "    \\end{pmatrix}$$\n",
    "    \n",
    "    \n",
    "$$A^{-1}=\\begin{pmatrix}\n",
    "a_{11} & a_{12} \\\\ \n",
    "a_{21} & a_{22}\n",
    "\\end{pmatrix}^{-1}\n",
    "=\\frac{1}{\\lvert A\\rvert}\n",
    "\\begin{pmatrix}\n",
    "a_{22} & -a_{12} \\\\ \n",
    "-a_{21} &  a_{11}\n",
    "\\end{pmatrix}$$\n",
    "\n",
    "\n",
    "**Determinante**\n",
    "\n",
    "$$A=\\begin{pmatrix}\n",
    "    1 & 3 & 2 & -6 \\\\ \n",
    "    0 & -1 & -4 & 1 \\\\ \n",
    "    0 & -2 & -6 & 3 \\\\ \n",
    "    0 & -2 & -10 & 3\n",
    "  \\end{pmatrix}$$\n",
    "  \n",
    "\n",
    "$$$$\n",
    "\n",
    "\n",
    "$$det(A)=\\begin{vmatrix}\n",
    "    1 & 3 & 2 & -6 \\\\ \n",
    "    0 & -1 & -4 & 1 \\\\ \n",
    "    0 & -2 & -6 & 3 \\\\ \n",
    "    0 & -2 & -10 & 3\n",
    "  \\end{vmatrix}=\\begin{vmatrix}\n",
    "    1 & 0 & 0 \\\\ \n",
    "    -2 & 1 & 0 \\\\ \n",
    "    -2 & 0 & 1\n",
    "  \\end{vmatrix}\\cdot\n",
    "  \\begin{vmatrix}\n",
    "    1 & 4 & 1 \\\\ \n",
    "    2 & 6 & 3 \\\\ \n",
    "    2 & 10 & 3\n",
    "  \\end{vmatrix}=\\begin{vmatrix}\n",
    "    1 & 4 & 1 \\\\ \n",
    "    0 & -2 & 1 \\\\ \n",
    "    0 & 2 & 1\n",
    "  \\end{vmatrix}\n",
    "  =\n",
    "  \\begin{vmatrix}\n",
    "    -2 & 1 \\\\ \n",
    "    2 & 1\n",
    "  \\end{vmatrix}\n",
    "  =-4$$\n",
    "  \n",
    "  "
   ]
  },
  {
   "cell_type": "markdown",
   "metadata": {},
   "source": [
    "**Veamos algo de todo esto en python:**\n",
    "\n",
    "\n",
    "**Arrays**"
   ]
  },
  {
   "cell_type": "code",
   "execution_count": null,
   "metadata": {},
   "outputs": [],
   "source": [
    "%pip install numpy"
   ]
  },
  {
   "cell_type": "code",
   "execution_count": 1,
   "metadata": {},
   "outputs": [],
   "source": [
    "import numpy as np"
   ]
  },
  {
   "cell_type": "code",
   "execution_count": 2,
   "metadata": {},
   "outputs": [
    {
     "data": {
      "text/plain": [
       "array([0.93072446])"
      ]
     },
     "execution_count": 2,
     "metadata": {},
     "output_type": "execute_result"
    }
   ],
   "source": [
    "# nº aleatorio\n",
    "\n",
    "np.random.random(1)"
   ]
  },
  {
   "cell_type": "code",
   "execution_count": 3,
   "metadata": {},
   "outputs": [
    {
     "data": {
      "text/plain": [
       "numpy.ndarray"
      ]
     },
     "execution_count": 3,
     "metadata": {},
     "output_type": "execute_result"
    }
   ],
   "source": [
    "type(np.random.random(1))"
   ]
  },
  {
   "cell_type": "code",
   "execution_count": 4,
   "metadata": {},
   "outputs": [
    {
     "data": {
      "text/plain": [
       "numpy.float64"
      ]
     },
     "execution_count": 4,
     "metadata": {},
     "output_type": "execute_result"
    }
   ],
   "source": [
    "type(np.random.random(1)[0])    # el 1 es el nº de elemento, el [0] es el indice"
   ]
  },
  {
   "cell_type": "code",
   "execution_count": 6,
   "metadata": {},
   "outputs": [
    {
     "data": {
      "text/plain": [
       "array([0.56546863, 0.72142186, 0.13907581, 0.70750284, 0.188638  ])"
      ]
     },
     "execution_count": 6,
     "metadata": {},
     "output_type": "execute_result"
    }
   ],
   "source": [
    "# vector\n",
    "\n",
    "vector=np.random.random(5)   # nº alea uniformente distribuidos\n",
    "\n",
    "vector"
   ]
  },
  {
   "cell_type": "code",
   "execution_count": 10,
   "metadata": {},
   "outputs": [
    {
     "data": {
      "text/plain": [
       "array([0.56546863, 0.13907581])"
      ]
     },
     "execution_count": 10,
     "metadata": {},
     "output_type": "execute_result"
    }
   ],
   "source": [
    "vector[0:4:2]"
   ]
  },
  {
   "cell_type": "code",
   "execution_count": 11,
   "metadata": {},
   "outputs": [
    {
     "data": {
      "text/plain": [
       "numpy.ndarray"
      ]
     },
     "execution_count": 11,
     "metadata": {},
     "output_type": "execute_result"
    }
   ],
   "source": [
    "type(vector)"
   ]
  },
  {
   "cell_type": "code",
   "execution_count": 18,
   "metadata": {},
   "outputs": [
    {
     "data": {
      "text/plain": [
       "[1, 2, 3, 4, 1, 2, 3, 4]"
      ]
     },
     "execution_count": 18,
     "metadata": {},
     "output_type": "execute_result"
    }
   ],
   "source": [
    "2 * [1, 2, 3, 4]"
   ]
  },
  {
   "cell_type": "code",
   "execution_count": 16,
   "metadata": {},
   "outputs": [
    {
     "data": {
      "text/plain": [
       "array([1.13093727, 1.44284372, 0.27815162, 1.41500569, 0.37727599])"
      ]
     },
     "execution_count": 16,
     "metadata": {},
     "output_type": "execute_result"
    }
   ],
   "source": [
    "2 * vector"
   ]
  },
  {
   "cell_type": "code",
   "execution_count": 12,
   "metadata": {},
   "outputs": [
    {
     "data": {
      "text/plain": [
       "array([[0.76194458, 0.78118869, 0.32893507, 0.58926284],\n",
       "       [0.11074041, 0.62375908, 0.85245624, 0.40610545],\n",
       "       [0.75757027, 0.97471327, 0.54492976, 0.6779765 ],\n",
       "       [0.13608565, 0.98603311, 0.95408438, 0.9894456 ],\n",
       "       [0.81870302, 0.66739322, 0.25075876, 0.82012009],\n",
       "       [0.99328767, 0.35937732, 0.11062417, 0.9917948 ],\n",
       "       [0.95779892, 0.69405325, 0.23284119, 0.34810679],\n",
       "       [0.95274683, 0.04631362, 0.33358902, 0.05570918],\n",
       "       [0.60233803, 0.72614128, 0.66145389, 0.73474724],\n",
       "       [0.4966902 , 0.43747629, 0.12946408, 0.00155187]])"
      ]
     },
     "execution_count": 12,
     "metadata": {},
     "output_type": "execute_result"
    }
   ],
   "source": [
    "# matriz \n",
    "\n",
    "matriz = np.random.random((10, 4))\n",
    "\n",
    "matriz"
   ]
  },
  {
   "cell_type": "code",
   "execution_count": 13,
   "metadata": {},
   "outputs": [
    {
     "data": {
      "text/plain": [
       "numpy.ndarray"
      ]
     },
     "execution_count": 13,
     "metadata": {},
     "output_type": "execute_result"
    }
   ],
   "source": [
    "type(matriz)"
   ]
  },
  {
   "cell_type": "code",
   "execution_count": 19,
   "metadata": {},
   "outputs": [
    {
     "data": {
      "text/plain": [
       "(10, 4)"
      ]
     },
     "execution_count": 19,
     "metadata": {},
     "output_type": "execute_result"
    }
   ],
   "source": [
    "matriz.shape"
   ]
  },
  {
   "cell_type": "code",
   "execution_count": 20,
   "metadata": {},
   "outputs": [
    {
     "data": {
      "text/plain": [
       "40"
      ]
     },
     "execution_count": 20,
     "metadata": {},
     "output_type": "execute_result"
    }
   ],
   "source": [
    "matriz.size"
   ]
  },
  {
   "cell_type": "code",
   "execution_count": 21,
   "metadata": {},
   "outputs": [
    {
     "data": {
      "text/plain": [
       "10"
      ]
     },
     "execution_count": 21,
     "metadata": {},
     "output_type": "execute_result"
    }
   ],
   "source": [
    "len(matriz)"
   ]
  },
  {
   "cell_type": "code",
   "execution_count": 22,
   "metadata": {},
   "outputs": [
    {
     "data": {
      "text/plain": [
       "array([0.76194458, 0.78118869, 0.32893507, 0.58926284])"
      ]
     },
     "execution_count": 22,
     "metadata": {},
     "output_type": "execute_result"
    }
   ],
   "source": [
    "matriz[0]    # la primera fila"
   ]
  },
  {
   "cell_type": "code",
   "execution_count": 23,
   "metadata": {},
   "outputs": [
    {
     "data": {
      "text/plain": [
       "0.5892628358604853"
      ]
     },
     "execution_count": 23,
     "metadata": {},
     "output_type": "execute_result"
    }
   ],
   "source": [
    "matriz[0][-1]"
   ]
  },
  {
   "cell_type": "code",
   "execution_count": 24,
   "metadata": {},
   "outputs": [
    {
     "ename": "AttributeError",
     "evalue": "'list' object has no attribute 'shape'",
     "output_type": "error",
     "traceback": [
      "\u001b[0;31m---------------------------------------------------------------------------\u001b[0m",
      "\u001b[0;31mAttributeError\u001b[0m                            Traceback (most recent call last)",
      "Cell \u001b[0;32mIn[24], line 1\u001b[0m\n\u001b[0;32m----> 1\u001b[0m \u001b[43m[\u001b[49m\u001b[38;5;241;43m1\u001b[39;49m\u001b[43m,\u001b[49m\u001b[38;5;241;43m2\u001b[39;49m\u001b[43m,\u001b[49m\u001b[38;5;241;43m3\u001b[39;49m\u001b[43m,\u001b[49m\u001b[38;5;241;43m5\u001b[39;49m\u001b[43m]\u001b[49m\u001b[38;5;241;43m.\u001b[39;49m\u001b[43mshape\u001b[49m\n",
      "\u001b[0;31mAttributeError\u001b[0m: 'list' object has no attribute 'shape'"
     ]
    }
   ],
   "source": [
    "[1,2,3,5].shape"
   ]
  },
  {
   "cell_type": "code",
   "execution_count": 25,
   "metadata": {},
   "outputs": [
    {
     "ename": "AttributeError",
     "evalue": "'list' object has no attribute 'size'",
     "output_type": "error",
     "traceback": [
      "\u001b[0;31m---------------------------------------------------------------------------\u001b[0m",
      "\u001b[0;31mAttributeError\u001b[0m                            Traceback (most recent call last)",
      "Cell \u001b[0;32mIn[25], line 1\u001b[0m\n\u001b[0;32m----> 1\u001b[0m \u001b[43m[\u001b[49m\u001b[38;5;241;43m1\u001b[39;49m\u001b[43m,\u001b[49m\u001b[38;5;241;43m2\u001b[39;49m\u001b[43m,\u001b[49m\u001b[38;5;241;43m3\u001b[39;49m\u001b[43m,\u001b[49m\u001b[38;5;241;43m5\u001b[39;49m\u001b[43m]\u001b[49m\u001b[38;5;241;43m.\u001b[39;49m\u001b[43msize\u001b[49m\n",
      "\u001b[0;31mAttributeError\u001b[0m: 'list' object has no attribute 'size'"
     ]
    }
   ],
   "source": [
    "[1,2,3,5].size"
   ]
  },
  {
   "cell_type": "markdown",
   "metadata": {},
   "source": [
    "**slicing**\n",
    "\n",
    "los `:` signican todo, es decir, todas las filas. Luego, separado por coma, el 0, primer elemento de cada fila, es decir, la primera columna"
   ]
  },
  {
   "cell_type": "code",
   "execution_count": 26,
   "metadata": {},
   "outputs": [
    {
     "data": {
      "text/plain": [
       "array([[0.76194458, 0.78118869, 0.32893507, 0.58926284],\n",
       "       [0.11074041, 0.62375908, 0.85245624, 0.40610545],\n",
       "       [0.75757027, 0.97471327, 0.54492976, 0.6779765 ],\n",
       "       [0.13608565, 0.98603311, 0.95408438, 0.9894456 ],\n",
       "       [0.81870302, 0.66739322, 0.25075876, 0.82012009],\n",
       "       [0.99328767, 0.35937732, 0.11062417, 0.9917948 ],\n",
       "       [0.95779892, 0.69405325, 0.23284119, 0.34810679],\n",
       "       [0.95274683, 0.04631362, 0.33358902, 0.05570918],\n",
       "       [0.60233803, 0.72614128, 0.66145389, 0.73474724],\n",
       "       [0.4966902 , 0.43747629, 0.12946408, 0.00155187]])"
      ]
     },
     "execution_count": 26,
     "metadata": {},
     "output_type": "execute_result"
    }
   ],
   "source": [
    "matriz"
   ]
  },
  {
   "cell_type": "code",
   "execution_count": 27,
   "metadata": {},
   "outputs": [
    {
     "data": {
      "text/plain": [
       "0.7619445777845075"
      ]
     },
     "execution_count": 27,
     "metadata": {},
     "output_type": "execute_result"
    }
   ],
   "source": [
    "matriz[0, 0]"
   ]
  },
  {
   "cell_type": "code",
   "execution_count": 28,
   "metadata": {},
   "outputs": [
    {
     "data": {
      "text/plain": [
       "array([0.76194458, 0.11074041, 0.75757027, 0.13608565, 0.81870302,\n",
       "       0.99328767, 0.95779892, 0.95274683, 0.60233803, 0.4966902 ])"
      ]
     },
     "execution_count": 28,
     "metadata": {},
     "output_type": "execute_result"
    }
   ],
   "source": [
    "matriz[:, 0]    # primera columna"
   ]
  },
  {
   "cell_type": "code",
   "execution_count": 29,
   "metadata": {
    "scrolled": false
   },
   "outputs": [
    {
     "data": {
      "text/plain": [
       "list"
      ]
     },
     "execution_count": 29,
     "metadata": {},
     "output_type": "execute_result"
    }
   ],
   "source": [
    "lst=[1, 2, 3]\n",
    "\n",
    "type(lst)"
   ]
  },
  {
   "cell_type": "code",
   "execution_count": 31,
   "metadata": {},
   "outputs": [
    {
     "data": {
      "text/plain": [
       "numpy.ndarray"
      ]
     },
     "execution_count": 31,
     "metadata": {},
     "output_type": "execute_result"
    }
   ],
   "source": [
    "array = np.array(lst)\n",
    "\n",
    "type(array)"
   ]
  },
  {
   "cell_type": "code",
   "execution_count": 32,
   "metadata": {},
   "outputs": [
    {
     "data": {
      "text/plain": [
       "list"
      ]
     },
     "execution_count": 32,
     "metadata": {},
     "output_type": "execute_result"
    }
   ],
   "source": [
    "type(list(array))"
   ]
  },
  {
   "cell_type": "code",
   "execution_count": 33,
   "metadata": {},
   "outputs": [
    {
     "data": {
      "text/plain": [
       "array([[[0.55226929, 0.39123834],\n",
       "        [0.74614239, 0.11218057],\n",
       "        [0.32746833, 0.15782186]],\n",
       "\n",
       "       [[0.94388162, 0.80497951],\n",
       "        [0.70809007, 0.38121272],\n",
       "        [0.56482665, 0.08954916]],\n",
       "\n",
       "       [[0.1710629 , 0.56928256],\n",
       "        [0.64285165, 0.7288599 ],\n",
       "        [0.88534532, 0.42147569]]])"
      ]
     },
     "execution_count": 33,
     "metadata": {},
     "output_type": "execute_result"
    }
   ],
   "source": [
    "# cubo, tensor rango 3\n",
    "\n",
    "cubo=np.random.random((3, 3, 2))\n",
    "\n",
    "cubo"
   ]
  },
  {
   "cell_type": "code",
   "execution_count": 34,
   "metadata": {},
   "outputs": [
    {
     "data": {
      "text/plain": [
       "array([[[[0.14762904, 0.01845928, 0.01534712, 0.38059966, 0.69789821],\n",
       "         [0.70632863, 0.85760119, 0.10626338, 0.75228127, 0.90244421],\n",
       "         [0.43764525, 0.81536713, 0.46992093, 0.4930867 , 0.89578294],\n",
       "         [0.36382602, 0.85639137, 0.98248589, 0.44896536, 0.88328205]],\n",
       "\n",
       "        [[0.15183433, 0.24350616, 0.53024486, 0.74876276, 0.93425667],\n",
       "         [0.40933939, 0.04189789, 0.17627002, 0.32850806, 0.91886722],\n",
       "         [0.23075533, 0.4715276 , 0.33424321, 0.97518707, 0.60185183],\n",
       "         [0.23923236, 0.89835427, 0.57092085, 0.58536423, 0.06608185]],\n",
       "\n",
       "        [[0.96217552, 0.18734123, 0.36009581, 0.67151073, 0.53076456],\n",
       "         [0.32589932, 0.30358479, 0.36181557, 0.59371509, 0.70986893],\n",
       "         [0.73495288, 0.72755521, 0.99766426, 0.12224844, 0.55177433],\n",
       "         [0.9852476 , 0.52184333, 0.3215314 , 0.86492069, 0.30626395]]],\n",
       "\n",
       "\n",
       "       [[[0.00629346, 0.8498713 , 0.83175185, 0.6666336 , 0.27522725],\n",
       "         [0.61159417, 0.70930466, 0.52585978, 0.68000286, 0.06916735],\n",
       "         [0.23069788, 0.0444242 , 0.58508649, 0.24490746, 0.44407212],\n",
       "         [0.46676853, 0.50993712, 0.91149013, 0.0200878 , 0.35876383]],\n",
       "\n",
       "        [[0.28745471, 0.60883756, 0.53818031, 0.87360419, 0.58876534],\n",
       "         [0.97307667, 0.98888298, 0.8876288 , 0.72994741, 0.27492466],\n",
       "         [0.12516589, 0.81006387, 0.29224309, 0.38012228, 0.03821647],\n",
       "         [0.14175906, 0.80824865, 0.35591731, 0.96675609, 0.17358299]],\n",
       "\n",
       "        [[0.92306628, 0.87198388, 0.4693501 , 0.52610398, 0.72860427],\n",
       "         [0.26397285, 0.68912144, 0.8910316 , 0.47706243, 0.36523115],\n",
       "         [0.55592013, 0.36272571, 0.04541715, 0.20942566, 0.757775  ],\n",
       "         [0.96728229, 0.29552326, 0.26836656, 0.18869376, 0.42027236]]]])"
      ]
     },
     "execution_count": 34,
     "metadata": {},
     "output_type": "execute_result"
    }
   ],
   "source": [
    "# tensor rango 4\n",
    "\n",
    "tensor=np.random.random((2, 3, 4, 5))\n",
    "\n",
    "tensor"
   ]
  },
  {
   "cell_type": "code",
   "execution_count": 35,
   "metadata": {},
   "outputs": [
    {
     "data": {
      "text/plain": [
       "(2, 3, 4, 5)"
      ]
     },
     "execution_count": 35,
     "metadata": {},
     "output_type": "execute_result"
    }
   ],
   "source": [
    "tensor.shape"
   ]
  },
  {
   "cell_type": "code",
   "execution_count": 40,
   "metadata": {},
   "outputs": [
    {
     "data": {
      "text/plain": [
       "0.36382602073217163"
      ]
     },
     "execution_count": 40,
     "metadata": {},
     "output_type": "execute_result"
    }
   ],
   "source": [
    "tensor[0][0][:, 0][-1]"
   ]
  },
  {
   "cell_type": "markdown",
   "metadata": {},
   "source": [
    "**Operaciones matemáticas**"
   ]
  },
  {
   "cell_type": "code",
   "execution_count": 42,
   "metadata": {},
   "outputs": [
    {
     "data": {
      "text/plain": [
       "array([[0.76194458, 0.78118869, 0.32893507, 0.58926284],\n",
       "       [0.11074041, 0.62375908, 0.85245624, 0.40610545],\n",
       "       [0.75757027, 0.97471327, 0.54492976, 0.6779765 ],\n",
       "       [0.13608565, 0.98603311, 0.95408438, 0.9894456 ],\n",
       "       [0.81870302, 0.66739322, 0.25075876, 0.82012009],\n",
       "       [0.99328767, 0.35937732, 0.11062417, 0.9917948 ],\n",
       "       [0.95779892, 0.69405325, 0.23284119, 0.34810679],\n",
       "       [0.95274683, 0.04631362, 0.33358902, 0.05570918],\n",
       "       [0.60233803, 0.72614128, 0.66145389, 0.73474724],\n",
       "       [0.4966902 , 0.43747629, 0.12946408, 0.00155187]])"
      ]
     },
     "execution_count": 42,
     "metadata": {},
     "output_type": "execute_result"
    }
   ],
   "source": [
    "matriz"
   ]
  },
  {
   "cell_type": "code",
   "execution_count": 43,
   "metadata": {},
   "outputs": [
    {
     "data": {
      "text/plain": [
       "22.89831162623916"
      ]
     },
     "execution_count": 43,
     "metadata": {},
     "output_type": "execute_result"
    }
   ],
   "source": [
    "matriz.sum()"
   ]
  },
  {
   "cell_type": "code",
   "execution_count": 44,
   "metadata": {},
   "outputs": [
    {
     "data": {
      "text/plain": [
       "array([6.58790559, 6.29644912, 4.39913656, 5.61482035])"
      ]
     },
     "execution_count": 44,
     "metadata": {},
     "output_type": "execute_result"
    }
   ],
   "source": [
    "sum(matriz)"
   ]
  },
  {
   "cell_type": "code",
   "execution_count": 45,
   "metadata": {},
   "outputs": [
    {
     "data": {
      "text/plain": [
       "array([6.58790559, 6.29644912, 4.39913656, 5.61482035])"
      ]
     },
     "execution_count": 45,
     "metadata": {},
     "output_type": "execute_result"
    }
   ],
   "source": [
    "matriz.sum(axis=0)   # sumar por columns"
   ]
  },
  {
   "cell_type": "code",
   "execution_count": 46,
   "metadata": {},
   "outputs": [
    {
     "data": {
      "text/plain": [
       "array([2.46133117, 1.99306117, 2.95518981, 3.06564874, 2.5569751 ,\n",
       "       2.45508396, 2.23280015, 1.38835867, 2.72468045, 1.06518243])"
      ]
     },
     "execution_count": 46,
     "metadata": {},
     "output_type": "execute_result"
    }
   ],
   "source": [
    "matriz.sum(axis=1)   # sumar por filas"
   ]
  },
  {
   "cell_type": "code",
   "execution_count": 47,
   "metadata": {},
   "outputs": [
    {
     "ename": "AxisError",
     "evalue": "axis 2 is out of bounds for array of dimension 2",
     "output_type": "error",
     "traceback": [
      "\u001b[0;31m---------------------------------------------------------------------------\u001b[0m",
      "\u001b[0;31mAxisError\u001b[0m                                 Traceback (most recent call last)",
      "Cell \u001b[0;32mIn[47], line 1\u001b[0m\n\u001b[0;32m----> 1\u001b[0m \u001b[43mmatriz\u001b[49m\u001b[38;5;241;43m.\u001b[39;49m\u001b[43msum\u001b[49m\u001b[43m(\u001b[49m\u001b[43maxis\u001b[49m\u001b[38;5;241;43m=\u001b[39;49m\u001b[38;5;241;43m2\u001b[39;49m\u001b[43m)\u001b[49m   \n",
      "File \u001b[0;32m/opt/homebrew/Caskroom/miniconda/base/envs/clase/lib/python3.9/site-packages/numpy/core/_methods.py:48\u001b[0m, in \u001b[0;36m_sum\u001b[0;34m(a, axis, dtype, out, keepdims, initial, where)\u001b[0m\n\u001b[1;32m     46\u001b[0m \u001b[38;5;28;01mdef\u001b[39;00m \u001b[38;5;21m_sum\u001b[39m(a, axis\u001b[38;5;241m=\u001b[39m\u001b[38;5;28;01mNone\u001b[39;00m, dtype\u001b[38;5;241m=\u001b[39m\u001b[38;5;28;01mNone\u001b[39;00m, out\u001b[38;5;241m=\u001b[39m\u001b[38;5;28;01mNone\u001b[39;00m, keepdims\u001b[38;5;241m=\u001b[39m\u001b[38;5;28;01mFalse\u001b[39;00m,\n\u001b[1;32m     47\u001b[0m          initial\u001b[38;5;241m=\u001b[39m_NoValue, where\u001b[38;5;241m=\u001b[39m\u001b[38;5;28;01mTrue\u001b[39;00m):\n\u001b[0;32m---> 48\u001b[0m     \u001b[38;5;28;01mreturn\u001b[39;00m \u001b[43mumr_sum\u001b[49m\u001b[43m(\u001b[49m\u001b[43ma\u001b[49m\u001b[43m,\u001b[49m\u001b[43m \u001b[49m\u001b[43maxis\u001b[49m\u001b[43m,\u001b[49m\u001b[43m \u001b[49m\u001b[43mdtype\u001b[49m\u001b[43m,\u001b[49m\u001b[43m \u001b[49m\u001b[43mout\u001b[49m\u001b[43m,\u001b[49m\u001b[43m \u001b[49m\u001b[43mkeepdims\u001b[49m\u001b[43m,\u001b[49m\u001b[43m \u001b[49m\u001b[43minitial\u001b[49m\u001b[43m,\u001b[49m\u001b[43m \u001b[49m\u001b[43mwhere\u001b[49m\u001b[43m)\u001b[49m\n",
      "\u001b[0;31mAxisError\u001b[0m: axis 2 is out of bounds for array of dimension 2"
     ]
    }
   ],
   "source": [
    "matriz.sum(axis=2)   "
   ]
  },
  {
   "cell_type": "code",
   "execution_count": 48,
   "metadata": {},
   "outputs": [
    {
     "data": {
      "text/plain": [
       "array([[0.94350763, 0.85832296, 0.48529019],\n",
       "       [1.74886113, 1.08930279, 0.65437581],\n",
       "       [0.74034546, 1.37171155, 1.30682101]])"
      ]
     },
     "execution_count": 48,
     "metadata": {},
     "output_type": "execute_result"
    }
   ],
   "source": [
    "cubo.sum(axis=2)"
   ]
  },
  {
   "cell_type": "code",
   "execution_count": 50,
   "metadata": {},
   "outputs": [
    {
     "data": {
      "text/plain": [
       "4.399136559531436"
      ]
     },
     "execution_count": 50,
     "metadata": {},
     "output_type": "execute_result"
    }
   ],
   "source": [
    "matriz[:, 2].sum()"
   ]
  },
  {
   "cell_type": "code",
   "execution_count": 52,
   "metadata": {},
   "outputs": [
    {
     "data": {
      "text/plain": [
       "2.4613311707903507"
      ]
     },
     "execution_count": 52,
     "metadata": {},
     "output_type": "execute_result"
    }
   ],
   "source": [
    "matriz[0].sum()"
   ]
  },
  {
   "cell_type": "code",
   "execution_count": 53,
   "metadata": {},
   "outputs": [
    {
     "data": {
      "text/plain": [
       "(2, 3, 4, 5)"
      ]
     },
     "execution_count": 53,
     "metadata": {},
     "output_type": "execute_result"
    }
   ],
   "source": [
    "tensor.shape"
   ]
  },
  {
   "cell_type": "code",
   "execution_count": 54,
   "metadata": {},
   "outputs": [
    {
     "data": {
      "text/plain": [
       "(3, 4, 5)"
      ]
     },
     "execution_count": 54,
     "metadata": {},
     "output_type": "execute_result"
    }
   ],
   "source": [
    "tensor.sum(axis=0).shape     # suma por cubos"
   ]
  },
  {
   "cell_type": "code",
   "execution_count": 55,
   "metadata": {},
   "outputs": [
    {
     "data": {
      "text/plain": [
       "(2, 4, 5)"
      ]
     },
     "execution_count": 55,
     "metadata": {},
     "output_type": "execute_result"
    }
   ],
   "source": [
    "tensor.sum(axis=1).shape     # suma por capas del cubo"
   ]
  },
  {
   "cell_type": "code",
   "execution_count": 56,
   "metadata": {},
   "outputs": [
    {
     "data": {
      "text/plain": [
       "(2, 3, 5)"
      ]
     },
     "execution_count": 56,
     "metadata": {},
     "output_type": "execute_result"
    }
   ],
   "source": [
    "tensor.sum(axis=2).shape     # suma por filas"
   ]
  },
  {
   "cell_type": "code",
   "execution_count": 57,
   "metadata": {},
   "outputs": [
    {
     "data": {
      "text/plain": [
       "(2, 3, 4)"
      ]
     },
     "execution_count": 57,
     "metadata": {},
     "output_type": "execute_result"
    }
   ],
   "source": [
    "tensor.sum(axis=3).shape     # suma por columnas"
   ]
  },
  {
   "cell_type": "code",
   "execution_count": 58,
   "metadata": {},
   "outputs": [
    {
     "data": {
      "text/plain": [
       "0.001551866939713098"
      ]
     },
     "execution_count": 58,
     "metadata": {},
     "output_type": "execute_result"
    }
   ],
   "source": [
    "matriz.min()"
   ]
  },
  {
   "cell_type": "code",
   "execution_count": 59,
   "metadata": {},
   "outputs": [
    {
     "data": {
      "text/plain": [
       "0.9932876743860171"
      ]
     },
     "execution_count": 59,
     "metadata": {},
     "output_type": "execute_result"
    }
   ],
   "source": [
    "matriz.max()"
   ]
  },
  {
   "cell_type": "code",
   "execution_count": 64,
   "metadata": {},
   "outputs": [
    {
     "data": {
      "text/plain": [
       "0.7811886866797922"
      ]
     },
     "execution_count": 64,
     "metadata": {},
     "output_type": "execute_result"
    }
   ],
   "source": [
    "matriz[0:2, 0:2].max()"
   ]
  },
  {
   "cell_type": "code",
   "execution_count": 69,
   "metadata": {},
   "outputs": [
    {
     "data": {
      "text/plain": [
       "array([[0.76194458, 0.78118869],\n",
       "       [0.11074041, 0.62375908]])"
      ]
     },
     "execution_count": 69,
     "metadata": {},
     "output_type": "execute_result"
    }
   ],
   "source": [
    "matriz[0:2, 0:2]   # Aij : matriz[filas, columnas]"
   ]
  },
  {
   "cell_type": "code",
   "execution_count": 70,
   "metadata": {},
   "outputs": [
    {
     "data": {
      "text/plain": [
       "0.9932876743860171"
      ]
     },
     "execution_count": 70,
     "metadata": {},
     "output_type": "execute_result"
    }
   ],
   "source": [
    "matriz.max()"
   ]
  },
  {
   "cell_type": "code",
   "execution_count": 72,
   "metadata": {},
   "outputs": [
    {
     "data": {
      "text/plain": [
       "array([0.99328767, 0.98603311, 0.95408438, 0.9917948 ])"
      ]
     },
     "execution_count": 72,
     "metadata": {},
     "output_type": "execute_result"
    }
   ],
   "source": [
    "matriz.max(axis=0)"
   ]
  },
  {
   "cell_type": "code",
   "execution_count": 73,
   "metadata": {},
   "outputs": [
    {
     "data": {
      "text/plain": [
       "array([0.78118869, 0.85245624, 0.97471327, 0.9894456 , 0.82012009,\n",
       "       0.99328767, 0.95779892, 0.95274683, 0.73474724, 0.4966902 ])"
      ]
     },
     "execution_count": 73,
     "metadata": {},
     "output_type": "execute_result"
    }
   ],
   "source": [
    "matriz.max(axis=1)"
   ]
  },
  {
   "cell_type": "code",
   "execution_count": 74,
   "metadata": {},
   "outputs": [
    {
     "data": {
      "text/plain": [
       "0.572457790655979"
      ]
     },
     "execution_count": 74,
     "metadata": {},
     "output_type": "execute_result"
    }
   ],
   "source": [
    "matriz.mean()"
   ]
  },
  {
   "cell_type": "code",
   "execution_count": 75,
   "metadata": {},
   "outputs": [
    {
     "data": {
      "text/plain": [
       "array([0.65879056, 0.62964491, 0.43991366, 0.56148204])"
      ]
     },
     "execution_count": 75,
     "metadata": {},
     "output_type": "execute_result"
    }
   ],
   "source": [
    "matriz.mean(axis=0)"
   ]
  },
  {
   "cell_type": "code",
   "execution_count": 76,
   "metadata": {},
   "outputs": [
    {
     "data": {
      "text/plain": [
       "0.3112634332931567"
      ]
     },
     "execution_count": 76,
     "metadata": {},
     "output_type": "execute_result"
    }
   ],
   "source": [
    "matriz.std()"
   ]
  },
  {
   "cell_type": "code",
   "execution_count": 77,
   "metadata": {},
   "outputs": [
    {
     "data": {
      "text/plain": [
       "array([0.30605842, 0.27096467, 0.28315396, 0.33445148])"
      ]
     },
     "execution_count": 77,
     "metadata": {},
     "output_type": "execute_result"
    }
   ],
   "source": [
    "matriz.std(axis=0)"
   ]
  },
  {
   "cell_type": "code",
   "execution_count": 78,
   "metadata": {},
   "outputs": [
    {
     "data": {
      "text/plain": [
       "0.09688492490544343"
      ]
     },
     "execution_count": 78,
     "metadata": {},
     "output_type": "execute_result"
    }
   ],
   "source": [
    "matriz.var()"
   ]
  },
  {
   "cell_type": "code",
   "execution_count": 79,
   "metadata": {},
   "outputs": [
    {
     "data": {
      "text/plain": [
       "0.3112634332931567"
      ]
     },
     "execution_count": 79,
     "metadata": {},
     "output_type": "execute_result"
    }
   ],
   "source": [
    "matriz.var() ** 0.5"
   ]
  },
  {
   "cell_type": "code",
   "execution_count": 80,
   "metadata": {},
   "outputs": [
    {
     "data": {
      "text/plain": [
       "array([[0.76194458, 0.78118869],\n",
       "       [0.75757027, 0.97471327],\n",
       "       [0.81870302, 0.66739322],\n",
       "       [0.95779892, 0.69405325]])"
      ]
     },
     "execution_count": 80,
     "metadata": {},
     "output_type": "execute_result"
    }
   ],
   "source": [
    "matriz[0:8:2, 0:2]   # matriz[filas_ini:filas_final:filas_step, columnas...]"
   ]
  },
  {
   "cell_type": "code",
   "execution_count": 83,
   "metadata": {},
   "outputs": [
    {
     "data": {
      "text/plain": [
       "array([0.87268499, 1.40494776, 1.18139131, 0.99536828])"
      ]
     },
     "execution_count": 83,
     "metadata": {},
     "output_type": "execute_result"
    }
   ],
   "source": [
    "np.add(matriz[0], matriz[1])    # suma de vectores"
   ]
  },
  {
   "cell_type": "code",
   "execution_count": 84,
   "metadata": {},
   "outputs": [
    {
     "data": {
      "text/plain": [
       "array([ 0.65120417,  0.15742961, -0.52352117,  0.18315739])"
      ]
     },
     "execution_count": 84,
     "metadata": {},
     "output_type": "execute_result"
    }
   ],
   "source": [
    "np.subtract(matriz[0], matriz[1])    # resta de vectores"
   ]
  },
  {
   "cell_type": "code",
   "execution_count": 85,
   "metadata": {},
   "outputs": [
    {
     "data": {
      "text/plain": [
       "1.7203483250624258e-16"
      ]
     },
     "execution_count": 85,
     "metadata": {},
     "output_type": "execute_result"
    }
   ],
   "source": [
    "np.prod(matriz)      # productorio"
   ]
  },
  {
   "cell_type": "code",
   "execution_count": 86,
   "metadata": {},
   "outputs": [
    {
     "data": {
      "text/plain": [
       "1e-16"
      ]
     },
     "execution_count": 86,
     "metadata": {},
     "output_type": "execute_result"
    }
   ],
   "source": [
    "1e-16   # notacion cientifica"
   ]
  },
  {
   "cell_type": "code",
   "execution_count": 87,
   "metadata": {},
   "outputs": [
    {
     "data": {
      "text/plain": [
       "array([0.08437806, 0.48727353, 0.28040275, 0.23930285])"
      ]
     },
     "execution_count": 87,
     "metadata": {},
     "output_type": "execute_result"
    }
   ],
   "source": [
    "np.multiply(matriz[0], matriz[1])    # producto elemento a elemento (element wise)"
   ]
  },
  {
   "cell_type": "code",
   "execution_count": 88,
   "metadata": {},
   "outputs": [
    {
     "data": {
      "text/plain": [
       "0.08437805613273662"
      ]
     },
     "execution_count": 88,
     "metadata": {},
     "output_type": "execute_result"
    }
   ],
   "source": [
    "matriz[0][0] * matriz[1][0]"
   ]
  },
  {
   "cell_type": "code",
   "execution_count": 89,
   "metadata": {},
   "outputs": [
    {
     "data": {
      "text/plain": [
       "1.0913571893707077"
      ]
     },
     "execution_count": 89,
     "metadata": {},
     "output_type": "execute_result"
    }
   ],
   "source": [
    "np.dot(matriz[0], matriz[1])   # producto escalar, producto interno inner"
   ]
  },
  {
   "cell_type": "code",
   "execution_count": 91,
   "metadata": {},
   "outputs": [
    {
     "ename": "ValueError",
     "evalue": "shapes (10,4) and (10,4) not aligned: 4 (dim 1) != 10 (dim 0)",
     "output_type": "error",
     "traceback": [
      "\u001b[0;31m---------------------------------------------------------------------------\u001b[0m",
      "\u001b[0;31mValueError\u001b[0m                                Traceback (most recent call last)",
      "Cell \u001b[0;32mIn[91], line 1\u001b[0m\n\u001b[0;32m----> 1\u001b[0m \u001b[43mnp\u001b[49m\u001b[38;5;241;43m.\u001b[39;49m\u001b[43mdot\u001b[49m\u001b[43m(\u001b[49m\u001b[43mmatriz\u001b[49m\u001b[43m,\u001b[49m\u001b[43m \u001b[49m\u001b[43mmatriz\u001b[49m\u001b[43m)\u001b[49m\n",
      "File \u001b[0;32m<__array_function__ internals>:180\u001b[0m, in \u001b[0;36mdot\u001b[0;34m(*args, **kwargs)\u001b[0m\n",
      "\u001b[0;31mValueError\u001b[0m: shapes (10,4) and (10,4) not aligned: 4 (dim 1) != 10 (dim 0)"
     ]
    }
   ],
   "source": [
    "np.dot(matriz, matriz)"
   ]
  },
  {
   "cell_type": "code",
   "execution_count": 92,
   "metadata": {},
   "outputs": [
    {
     "data": {
      "text/plain": [
       "(10, 4)"
      ]
     },
     "execution_count": 92,
     "metadata": {},
     "output_type": "execute_result"
    }
   ],
   "source": [
    "matriz.shape"
   ]
  },
  {
   "cell_type": "code",
   "execution_count": 94,
   "metadata": {},
   "outputs": [
    {
     "data": {
      "text/plain": [
       "(4, 10)"
      ]
     },
     "execution_count": 94,
     "metadata": {},
     "output_type": "execute_result"
    }
   ],
   "source": [
    "matriz.T.shape"
   ]
  },
  {
   "cell_type": "code",
   "execution_count": 95,
   "metadata": {},
   "outputs": [
    {
     "data": {
      "text/plain": [
       "(4, 10)"
      ]
     },
     "execution_count": 95,
     "metadata": {},
     "output_type": "execute_result"
    }
   ],
   "source": [
    "matriz.transpose().shape"
   ]
  },
  {
   "cell_type": "code",
   "execution_count": 97,
   "metadata": {},
   "outputs": [
    {
     "data": {
      "text/plain": [
       "(10, 10)"
      ]
     },
     "execution_count": 97,
     "metadata": {},
     "output_type": "execute_result"
    }
   ],
   "source": [
    "np.dot(matriz, matriz.T).shape"
   ]
  },
  {
   "cell_type": "code",
   "execution_count": 98,
   "metadata": {},
   "outputs": [
    {
     "data": {
      "text/plain": [
       "(4, 4)"
      ]
     },
     "execution_count": 98,
     "metadata": {},
     "output_type": "execute_result"
    }
   ],
   "source": [
    "np.dot(matriz.T, matriz).shape"
   ]
  },
  {
   "cell_type": "code",
   "execution_count": 99,
   "metadata": {},
   "outputs": [
    {
     "data": {
      "text/plain": [
       "(4, 4)"
      ]
     },
     "execution_count": 99,
     "metadata": {},
     "output_type": "execute_result"
    }
   ],
   "source": [
    "np.matmul(matriz.T, matriz).shape"
   ]
  },
  {
   "cell_type": "code",
   "execution_count": 105,
   "metadata": {},
   "outputs": [
    {
     "data": {
      "text/plain": [
       "array([ 0.46075293, -0.613098  ,  0.38876069])"
      ]
     },
     "execution_count": 105,
     "metadata": {},
     "output_type": "execute_result"
    }
   ],
   "source": [
    "np.cross(matriz[0][:3], matriz[1][:3])"
   ]
  },
  {
   "cell_type": "code",
   "execution_count": 107,
   "metadata": {},
   "outputs": [
    {
     "data": {
      "text/plain": [
       "array(16.98371388)"
      ]
     },
     "execution_count": 107,
     "metadata": {},
     "output_type": "execute_result"
    }
   ],
   "source": [
    "np.tensordot(matriz, matriz)"
   ]
  },
  {
   "cell_type": "code",
   "execution_count": 108,
   "metadata": {},
   "outputs": [
    {
     "data": {
      "text/plain": [
       "array([ 0.76194458,  1.54313326,  1.87206833,  2.46133117,  2.57207158,\n",
       "        3.19583066,  4.0482869 ,  4.45439234,  5.21196261,  6.18667588,\n",
       "        6.73160565,  7.40958215,  7.5456678 ,  8.53170091,  9.48578528,\n",
       "       10.47523088, 11.29393391, 11.96132713, 12.21208589, 13.03220598,\n",
       "       14.02549365, 14.38487097, 14.49549514, 15.48728994, 16.44508886,\n",
       "       17.13914211, 17.3719833 , 17.72009008, 18.67283692, 18.71915054,\n",
       "       19.05273957, 19.10844875, 19.71078679, 20.43692807, 21.09838196,\n",
       "       21.8331292 , 22.3298194 , 22.76729568, 22.89675976, 22.89831163])"
      ]
     },
     "execution_count": 108,
     "metadata": {},
     "output_type": "execute_result"
    }
   ],
   "source": [
    "matriz.cumsum()"
   ]
  },
  {
   "cell_type": "code",
   "execution_count": 109,
   "metadata": {},
   "outputs": [
    {
     "data": {
      "text/plain": [
       "array([7.61944578e-01, 5.95222484e-01, 1.95789550e-01, 1.15371505e-01,\n",
       "       1.27762880e-02, 7.96932560e-03, 6.79350130e-03, 2.75887788e-03,\n",
       "       2.09004386e-03, 2.03719349e-03, 1.11012737e-03, 7.52640267e-04,\n",
       "       1.02423540e-04, 1.00993002e-04, 9.63558451e-05, 9.53388670e-05,\n",
       "       7.80542187e-05, 5.20928562e-05, 1.30627401e-05, 1.07130156e-05,\n",
       "       1.06411064e-05, 3.82417224e-06, 4.23045874e-07, 4.19574698e-07,\n",
       "       4.01868191e-07, 2.78917925e-07, 6.49435816e-08, 2.26073016e-08,\n",
       "       2.15390350e-08, 9.97550776e-10, 3.32771990e-10, 1.85384563e-11,\n",
       "       1.11664173e-11, 8.10839657e-12, 5.36333047e-12, 3.94069226e-12,\n",
       "       1.95730322e-12, 8.56273742e-13, 1.10856690e-13, 1.72034833e-16])"
      ]
     },
     "execution_count": 109,
     "metadata": {},
     "output_type": "execute_result"
    }
   ],
   "source": [
    "matriz.cumprod()"
   ]
  },
  {
   "cell_type": "code",
   "execution_count": 112,
   "metadata": {},
   "outputs": [
    {
     "data": {
      "text/plain": [
       "array([[7.61944578e-01, 5.95222484e-01, 1.95789550e-01, 1.15371505e-01],\n",
       "       [1.10740412e-01, 6.90753369e-02, 5.88837017e-02, 2.39129920e-02],\n",
       "       [7.57570271e-01, 7.38413797e-01, 4.02383655e-01, 2.72806663e-01],\n",
       "       [1.36085650e-01, 1.34184957e-01, 1.28023771e-01, 1.26672557e-01],\n",
       "       [8.18703024e-01, 5.46396846e-01, 1.37013796e-01, 1.12367767e-01],\n",
       "       [9.93287674e-01, 3.56965058e-01, 3.94889627e-02, 3.91649479e-02],\n",
       "       [9.57798917e-01, 6.64763453e-01, 1.54784314e-01, 5.38814701e-02],\n",
       "       [9.52746834e-01, 4.41251590e-02, 1.47196687e-02, 8.20020746e-04],\n",
       "       [6.02338034e-01, 4.37382511e-01, 2.89308365e-01, 2.12568522e-01],\n",
       "       [4.96690198e-01, 2.17290183e-01, 2.81312731e-02, 4.36559927e-05]])"
      ]
     },
     "execution_count": 112,
     "metadata": {},
     "output_type": "execute_result"
    }
   ],
   "source": [
    "matriz.cumprod(axis=1)"
   ]
  },
  {
   "cell_type": "code",
   "execution_count": 113,
   "metadata": {},
   "outputs": [
    {
     "data": {
      "text/plain": [
       "inf"
      ]
     },
     "execution_count": 113,
     "metadata": {},
     "output_type": "execute_result"
    }
   ],
   "source": [
    "np.inf"
   ]
  },
  {
   "cell_type": "code",
   "execution_count": 114,
   "metadata": {},
   "outputs": [
    {
     "data": {
      "text/plain": [
       "float"
      ]
     },
     "execution_count": 114,
     "metadata": {},
     "output_type": "execute_result"
    }
   ],
   "source": [
    "type(np.inf)"
   ]
  },
  {
   "cell_type": "code",
   "execution_count": 115,
   "metadata": {},
   "outputs": [
    {
     "data": {
      "text/plain": [
       "nan"
      ]
     },
     "execution_count": 115,
     "metadata": {},
     "output_type": "execute_result"
    }
   ],
   "source": [
    "np.nan"
   ]
  },
  {
   "cell_type": "code",
   "execution_count": 116,
   "metadata": {},
   "outputs": [
    {
     "data": {
      "text/plain": [
       "float"
      ]
     },
     "execution_count": 116,
     "metadata": {},
     "output_type": "execute_result"
    }
   ],
   "source": [
    "type(np.nan)"
   ]
  },
  {
   "cell_type": "code",
   "execution_count": 117,
   "metadata": {},
   "outputs": [
    {
     "data": {
      "text/plain": [
       "NoneType"
      ]
     },
     "execution_count": 117,
     "metadata": {},
     "output_type": "execute_result"
    }
   ],
   "source": [
    "type(None)"
   ]
  },
  {
   "cell_type": "code",
   "execution_count": 118,
   "metadata": {},
   "outputs": [
    {
     "data": {
      "text/plain": [
       "3.141592653589793"
      ]
     },
     "execution_count": 118,
     "metadata": {},
     "output_type": "execute_result"
    }
   ],
   "source": [
    "np.pi"
   ]
  },
  {
   "cell_type": "code",
   "execution_count": 120,
   "metadata": {},
   "outputs": [
    {
     "data": {
      "text/plain": [
       "<ufunc 'exp'>"
      ]
     },
     "execution_count": 120,
     "metadata": {},
     "output_type": "execute_result"
    }
   ],
   "source": [
    "np.exp"
   ]
  },
  {
   "cell_type": "code",
   "execution_count": 121,
   "metadata": {},
   "outputs": [
    {
     "data": {
      "text/plain": [
       "<ufunc 'log'>"
      ]
     },
     "execution_count": 121,
     "metadata": {},
     "output_type": "execute_result"
    }
   ],
   "source": [
    "np.log"
   ]
  },
  {
   "cell_type": "markdown",
   "metadata": {},
   "source": [
    "**Dimensiones**"
   ]
  },
  {
   "cell_type": "code",
   "execution_count": 122,
   "metadata": {},
   "outputs": [
    {
     "data": {
      "text/plain": [
       "(10, 4)"
      ]
     },
     "execution_count": 122,
     "metadata": {},
     "output_type": "execute_result"
    }
   ],
   "source": [
    "matriz.shape"
   ]
  },
  {
   "cell_type": "code",
   "execution_count": 123,
   "metadata": {},
   "outputs": [
    {
     "data": {
      "text/plain": [
       "array([[0.76194458, 0.78118869, 0.32893507, 0.58926284],\n",
       "       [0.11074041, 0.62375908, 0.85245624, 0.40610545],\n",
       "       [0.75757027, 0.97471327, 0.54492976, 0.6779765 ],\n",
       "       [0.13608565, 0.98603311, 0.95408438, 0.9894456 ],\n",
       "       [0.81870302, 0.66739322, 0.25075876, 0.82012009],\n",
       "       [0.99328767, 0.35937732, 0.11062417, 0.9917948 ],\n",
       "       [0.95779892, 0.69405325, 0.23284119, 0.34810679],\n",
       "       [0.95274683, 0.04631362, 0.33358902, 0.05570918],\n",
       "       [0.60233803, 0.72614128, 0.66145389, 0.73474724],\n",
       "       [0.4966902 , 0.43747629, 0.12946408, 0.00155187]])"
      ]
     },
     "execution_count": 123,
     "metadata": {},
     "output_type": "execute_result"
    }
   ],
   "source": [
    "matriz"
   ]
  },
  {
   "cell_type": "code",
   "execution_count": 126,
   "metadata": {},
   "outputs": [
    {
     "data": {
      "text/plain": [
       "array([[0.76194458, 0.78118869, 0.32893507, 0.58926284, 0.11074041,\n",
       "        0.62375908, 0.85245624, 0.40610545],\n",
       "       [0.75757027, 0.97471327, 0.54492976, 0.6779765 , 0.13608565,\n",
       "        0.98603311, 0.95408438, 0.9894456 ],\n",
       "       [0.81870302, 0.66739322, 0.25075876, 0.82012009, 0.99328767,\n",
       "        0.35937732, 0.11062417, 0.9917948 ],\n",
       "       [0.95779892, 0.69405325, 0.23284119, 0.34810679, 0.95274683,\n",
       "        0.04631362, 0.33358902, 0.05570918],\n",
       "       [0.60233803, 0.72614128, 0.66145389, 0.73474724, 0.4966902 ,\n",
       "        0.43747629, 0.12946408, 0.00155187]])"
      ]
     },
     "execution_count": 126,
     "metadata": {},
     "output_type": "execute_result"
    }
   ],
   "source": [
    "matriz.reshape((5, 8))"
   ]
  },
  {
   "cell_type": "code",
   "execution_count": 134,
   "metadata": {},
   "outputs": [
    {
     "data": {
      "text/plain": [
       "(40,)"
      ]
     },
     "execution_count": 134,
     "metadata": {},
     "output_type": "execute_result"
    }
   ],
   "source": [
    "matriz.flatten().shape"
   ]
  },
  {
   "cell_type": "code",
   "execution_count": 129,
   "metadata": {},
   "outputs": [
    {
     "data": {
      "text/plain": [
       "array([[0.76194458, 0.78118869, 0.32893507, 0.58926284],\n",
       "       [0.11074041, 0.62375908, 0.85245624, 0.40610545],\n",
       "       [0.75757027, 0.97471327, 0.54492976, 0.6779765 ],\n",
       "       [0.13608565, 0.98603311, 0.95408438, 0.9894456 ],\n",
       "       [0.81870302, 0.66739322, 0.25075876, 0.82012009],\n",
       "       [0.99328767, 0.35937732, 0.11062417, 0.9917948 ],\n",
       "       [0.95779892, 0.69405325, 0.23284119, 0.34810679],\n",
       "       [0.95274683, 0.04631362, 0.33358902, 0.05570918],\n",
       "       [0.60233803, 0.72614128, 0.66145389, 0.73474724],\n",
       "       [0.4966902 , 0.43747629, 0.12946408, 0.00155187]])"
      ]
     },
     "execution_count": 129,
     "metadata": {},
     "output_type": "execute_result"
    }
   ],
   "source": [
    "matriz"
   ]
  },
  {
   "cell_type": "code",
   "execution_count": 131,
   "metadata": {},
   "outputs": [
    {
     "data": {
      "text/plain": [
       "int"
      ]
     },
     "execution_count": 131,
     "metadata": {},
     "output_type": "execute_result"
    }
   ],
   "source": [
    "type((80))"
   ]
  },
  {
   "cell_type": "code",
   "execution_count": 132,
   "metadata": {},
   "outputs": [
    {
     "data": {
      "text/plain": [
       "tuple"
      ]
     },
     "execution_count": 132,
     "metadata": {},
     "output_type": "execute_result"
    }
   ],
   "source": [
    "type((80,))"
   ]
  },
  {
   "cell_type": "code",
   "execution_count": 135,
   "metadata": {},
   "outputs": [
    {
     "data": {
      "text/plain": [
       "array([[0.76194458, 0.78118869, 0.32893507, 0.58926284],\n",
       "       [0.11074041, 0.62375908, 0.85245624, 0.40610545],\n",
       "       [0.75757027, 0.97471327, 0.54492976, 0.6779765 ],\n",
       "       [0.13608565, 0.98603311, 0.95408438, 0.9894456 ],\n",
       "       [0.81870302, 0.66739322, 0.25075876, 0.82012009],\n",
       "       [0.99328767, 0.35937732, 0.11062417, 0.9917948 ],\n",
       "       [0.95779892, 0.69405325, 0.23284119, 0.34810679],\n",
       "       [0.95274683, 0.04631362, 0.33358902, 0.05570918],\n",
       "       [0.60233803, 0.72614128, 0.66145389, 0.73474724],\n",
       "       [0.4966902 , 0.43747629, 0.12946408, 0.00155187]])"
      ]
     },
     "execution_count": 135,
     "metadata": {},
     "output_type": "execute_result"
    }
   ],
   "source": [
    "matriz"
   ]
  },
  {
   "cell_type": "code",
   "execution_count": 136,
   "metadata": {},
   "outputs": [
    {
     "data": {
      "text/plain": [
       "array([[1.76194458, 2.78118869, 3.32893507, 4.58926284],\n",
       "       [1.11074041, 2.62375908, 3.85245624, 4.40610545],\n",
       "       [1.75757027, 2.97471327, 3.54492976, 4.6779765 ],\n",
       "       [1.13608565, 2.98603311, 3.95408438, 4.9894456 ],\n",
       "       [1.81870302, 2.66739322, 3.25075876, 4.82012009],\n",
       "       [1.99328767, 2.35937732, 3.11062417, 4.9917948 ],\n",
       "       [1.95779892, 2.69405325, 3.23284119, 4.34810679],\n",
       "       [1.95274683, 2.04631362, 3.33358902, 4.05570918],\n",
       "       [1.60233803, 2.72614128, 3.66145389, 4.73474724],\n",
       "       [1.4966902 , 2.43747629, 3.12946408, 4.00155187]])"
      ]
     },
     "execution_count": 136,
     "metadata": {},
     "output_type": "execute_result"
    }
   ],
   "source": [
    "matriz + np.array([1, 2, 3, 4])"
   ]
  },
  {
   "cell_type": "code",
   "execution_count": 137,
   "metadata": {},
   "outputs": [
    {
     "data": {
      "text/plain": [
       "array([[1.76194458, 2.78118869, 3.32893507, 4.58926284],\n",
       "       [1.11074041, 2.62375908, 3.85245624, 4.40610545],\n",
       "       [1.75757027, 2.97471327, 3.54492976, 4.6779765 ],\n",
       "       [1.13608565, 2.98603311, 3.95408438, 4.9894456 ],\n",
       "       [1.81870302, 2.66739322, 3.25075876, 4.82012009],\n",
       "       [1.99328767, 2.35937732, 3.11062417, 4.9917948 ],\n",
       "       [1.95779892, 2.69405325, 3.23284119, 4.34810679],\n",
       "       [1.95274683, 2.04631362, 3.33358902, 4.05570918],\n",
       "       [1.60233803, 2.72614128, 3.66145389, 4.73474724],\n",
       "       [1.4966902 , 2.43747629, 3.12946408, 4.00155187]])"
      ]
     },
     "execution_count": 137,
     "metadata": {},
     "output_type": "execute_result"
    }
   ],
   "source": [
    "matriz + [1, 2, 3, 4]"
   ]
  },
  {
   "cell_type": "code",
   "execution_count": 138,
   "metadata": {},
   "outputs": [
    {
     "data": {
      "text/plain": [
       "array([0.56546863, 0.72142186, 0.13907581, 0.70750284, 0.188638  ])"
      ]
     },
     "execution_count": 138,
     "metadata": {},
     "output_type": "execute_result"
    }
   ],
   "source": [
    "vector"
   ]
  },
  {
   "cell_type": "code",
   "execution_count": 139,
   "metadata": {},
   "outputs": [
    {
     "data": {
      "text/plain": [
       "array([10.56546863, 10.72142186, 10.13907581, 10.70750284, 10.188638  ])"
      ]
     },
     "execution_count": 139,
     "metadata": {},
     "output_type": "execute_result"
    }
   ],
   "source": [
    "vector + 10"
   ]
  },
  {
   "cell_type": "code",
   "execution_count": 140,
   "metadata": {},
   "outputs": [
    {
     "data": {
      "text/plain": [
       "array([[1., 1., 1.],\n",
       "       [1., 1., 1.],\n",
       "       [1., 1., 1.]])"
      ]
     },
     "execution_count": 140,
     "metadata": {},
     "output_type": "execute_result"
    }
   ],
   "source": [
    "np.ones((3, 3))"
   ]
  },
  {
   "cell_type": "code",
   "execution_count": 141,
   "metadata": {},
   "outputs": [
    {
     "data": {
      "text/plain": [
       "array([[0., 0., 0.],\n",
       "       [0., 0., 0.],\n",
       "       [0., 0., 0.]])"
      ]
     },
     "execution_count": 141,
     "metadata": {},
     "output_type": "execute_result"
    }
   ],
   "source": [
    "np.zeros((3, 3))"
   ]
  },
  {
   "cell_type": "code",
   "execution_count": 143,
   "metadata": {},
   "outputs": [
    {
     "data": {
      "text/plain": [
       "array([[1., 0., 0.],\n",
       "       [0., 1., 0.],\n",
       "       [0., 0., 1.]])"
      ]
     },
     "execution_count": 143,
     "metadata": {},
     "output_type": "execute_result"
    }
   ],
   "source": [
    "np.eye(3)"
   ]
  },
  {
   "cell_type": "code",
   "execution_count": 144,
   "metadata": {},
   "outputs": [
    {
     "data": {
      "text/plain": [
       "<function numpy.where>"
      ]
     },
     "execution_count": 144,
     "metadata": {},
     "output_type": "execute_result"
    }
   ],
   "source": [
    "np.where"
   ]
  },
  {
   "cell_type": "code",
   "execution_count": 145,
   "metadata": {},
   "outputs": [
    {
     "data": {
      "text/plain": [
       "array([[1, 1, 0, 1],\n",
       "       [0, 1, 1, 0],\n",
       "       [1, 1, 1, 1],\n",
       "       [0, 1, 1, 1],\n",
       "       [1, 1, 0, 1],\n",
       "       [1, 0, 0, 1],\n",
       "       [1, 1, 0, 0],\n",
       "       [1, 0, 0, 0],\n",
       "       [1, 1, 1, 1],\n",
       "       [0, 0, 0, 0]])"
      ]
     },
     "execution_count": 145,
     "metadata": {},
     "output_type": "execute_result"
    }
   ],
   "source": [
    "np.where(matriz > 0.5, 1, 0)   # condicion, me das uno else 0"
   ]
  },
  {
   "cell_type": "code",
   "execution_count": 146,
   "metadata": {},
   "outputs": [
    {
     "data": {
      "text/plain": [
       "array([[1, 1, 2, 1],\n",
       "       [2, 1, 1, 2],\n",
       "       [1, 1, 1, 1],\n",
       "       [2, 1, 1, 1],\n",
       "       [1, 1, 2, 1],\n",
       "       [1, 2, 2, 1],\n",
       "       [1, 1, 2, 2],\n",
       "       [1, 2, 2, 2],\n",
       "       [1, 1, 1, 1],\n",
       "       [2, 2, 2, 2]])"
      ]
     },
     "execution_count": 146,
     "metadata": {},
     "output_type": "execute_result"
    }
   ],
   "source": [
    "np.where(matriz > 0.5, 1, np.where(matriz < 0.5, 2, 0)) "
   ]
  },
  {
   "cell_type": "code",
   "execution_count": null,
   "metadata": {},
   "outputs": [],
   "source": []
  }
 ],
 "metadata": {
  "kernelspec": {
   "display_name": "clase",
   "language": "python",
   "name": "clase"
  },
  "language_info": {
   "codemirror_mode": {
    "name": "ipython",
    "version": 3
   },
   "file_extension": ".py",
   "mimetype": "text/x-python",
   "name": "python",
   "nbconvert_exporter": "python",
   "pygments_lexer": "ipython3",
   "version": "3.9.12"
  },
  "varInspector": {
   "cols": {
    "lenName": 16,
    "lenType": 16,
    "lenVar": 40
   },
   "kernels_config": {
    "python": {
     "delete_cmd_postfix": "",
     "delete_cmd_prefix": "del ",
     "library": "var_list.py",
     "varRefreshCmd": "print(var_dic_list())"
    },
    "r": {
     "delete_cmd_postfix": ") ",
     "delete_cmd_prefix": "rm(",
     "library": "var_list.r",
     "varRefreshCmd": "cat(var_dic_list()) "
    }
   },
   "types_to_exclude": [
    "module",
    "function",
    "builtin_function_or_method",
    "instance",
    "_Feature"
   ],
   "window_display": false
  }
 },
 "nbformat": 4,
 "nbformat_minor": 4
}
