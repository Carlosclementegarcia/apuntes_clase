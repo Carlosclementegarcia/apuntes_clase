{
 "cells": [
  {
   "cell_type": "markdown",
   "id": "296c3fa2",
   "metadata": {},
   "source": [
    "# 4.1 - MongoDB\n",
    "\n",
    "![mongo](images/mongodb.jpeg)\n",
    "\n",
    "https://docs.mongodb.com/manual/administration/install-community/\n",
    "\n",
    "https://docs.mongodb.com/compass/current/install/\n",
    "\n",
    "MongoDB es una base de datos orientada a documentos. Esto quiere decir que en lugar de guardar los datos en registros, guarda los datos en documentos. Estos documentos son almacenados en BSON, que es una representación binaria de JSON.\n",
    "\n",
    "Una de las diferencias más importantes con respecto a las bases de datos relacionales, es que no es necesario seguir un esquema. Los documentos de una misma colección, concepto similar a una tabla de una base de datos relacional, pueden tener esquemas diferentes.\n"
   ]
  },
  {
   "cell_type": "code",
   "execution_count": null,
   "id": "d686b82b",
   "metadata": {},
   "outputs": [],
   "source": [
    "%pip install pymongo"
   ]
  },
  {
   "cell_type": "code",
   "execution_count": 1,
   "id": "b53f90eb",
   "metadata": {},
   "outputs": [],
   "source": [
    "from pymongo import MongoClient"
   ]
  },
  {
   "cell_type": "code",
   "execution_count": 2,
   "id": "87c2662e",
   "metadata": {},
   "outputs": [
    {
     "data": {
      "text/plain": [
       "MongoClient(host=['localhost:27017'], document_class=dict, tz_aware=False, connect=True)"
      ]
     },
     "execution_count": 2,
     "metadata": {},
     "output_type": "execute_result"
    }
   ],
   "source": [
    "cursor=MongoClient()\n",
    "\n",
    "cursor"
   ]
  },
  {
   "cell_type": "code",
   "execution_count": 3,
   "id": "0eff5667",
   "metadata": {},
   "outputs": [
    {
     "data": {
      "text/plain": [
       "MongoClient(host=['localhost:27017'], document_class=dict, tz_aware=False, connect=True)"
      ]
     },
     "execution_count": 3,
     "metadata": {},
     "output_type": "execute_result"
    }
   ],
   "source": [
    "str_conn='mongodb://localhost:27017'\n",
    "\n",
    "cursor=MongoClient(str_conn)\n",
    "\n",
    "cursor"
   ]
  },
  {
   "cell_type": "code",
   "execution_count": 4,
   "id": "882a8427",
   "metadata": {},
   "outputs": [
    {
     "data": {
      "text/plain": [
       "['admin', 'companies', 'config', 'ironcomes', 'local', 'quizzes']"
      ]
     },
     "execution_count": 4,
     "metadata": {},
     "output_type": "execute_result"
    }
   ],
   "source": [
    "cursor.list_database_names()"
   ]
  },
  {
   "cell_type": "code",
   "execution_count": 5,
   "id": "ae026dc9",
   "metadata": {},
   "outputs": [],
   "source": [
    "db=cursor.nueva_db   # crea base de datos vacia"
   ]
  },
  {
   "cell_type": "code",
   "execution_count": 6,
   "id": "af4151db",
   "metadata": {},
   "outputs": [
    {
     "data": {
      "text/plain": [
       "['admin', 'companies', 'config', 'ironcomes', 'local', 'quizzes']"
      ]
     },
     "execution_count": 6,
     "metadata": {},
     "output_type": "execute_result"
    }
   ],
   "source": [
    "cursor.list_database_names()"
   ]
  },
  {
   "cell_type": "code",
   "execution_count": 7,
   "id": "bc989056",
   "metadata": {},
   "outputs": [],
   "source": [
    "colec = db.n_colec   # nueva coleccion"
   ]
  },
  {
   "cell_type": "code",
   "execution_count": 8,
   "id": "85c8002d",
   "metadata": {},
   "outputs": [
    {
     "data": {
      "text/plain": [
       "[]"
      ]
     },
     "execution_count": 8,
     "metadata": {},
     "output_type": "execute_result"
    }
   ],
   "source": [
    "db.list_collection_names()"
   ]
  },
  {
   "cell_type": "code",
   "execution_count": 10,
   "id": "6afb0b69",
   "metadata": {},
   "outputs": [
    {
     "data": {
      "text/plain": [
       "<pymongo.results.InsertOneResult at 0x107bea550>"
      ]
     },
     "execution_count": 10,
     "metadata": {},
     "output_type": "execute_result"
    }
   ],
   "source": [
    "dictio = {'nombre': 'Manolo', 'edad': 39, '4': [1,2,3,4]}\n",
    "\n",
    "colec.insert_one(dictio)"
   ]
  },
  {
   "cell_type": "code",
   "execution_count": 11,
   "id": "f4320811",
   "metadata": {},
   "outputs": [
    {
     "data": {
      "text/plain": [
       "['admin', 'companies', 'config', 'ironcomes', 'local', 'nueva_db', 'quizzes']"
      ]
     },
     "execution_count": 11,
     "metadata": {},
     "output_type": "execute_result"
    }
   ],
   "source": [
    "cursor.list_database_names()"
   ]
  },
  {
   "cell_type": "code",
   "execution_count": 12,
   "id": "812407c3",
   "metadata": {},
   "outputs": [
    {
     "data": {
      "text/plain": [
       "['n_colec']"
      ]
     },
     "execution_count": 12,
     "metadata": {},
     "output_type": "execute_result"
    }
   ],
   "source": [
    "db.list_collection_names()"
   ]
  },
  {
   "cell_type": "code",
   "execution_count": 15,
   "id": "e54fc648",
   "metadata": {},
   "outputs": [
    {
     "data": {
      "text/plain": [
       "<pymongo.results.InsertOneResult at 0x107caa0d0>"
      ]
     },
     "execution_count": 15,
     "metadata": {},
     "output_type": "execute_result"
    }
   ],
   "source": [
    "dictio = {'_id': 0, 'hola': 'carahuevo', 'altura': 0.39,'que te pasa':0}\n",
    "\n",
    "colec.insert_one(dictio)"
   ]
  },
  {
   "cell_type": "code",
   "execution_count": 16,
   "id": "0dcf515f",
   "metadata": {},
   "outputs": [
    {
     "data": {
      "text/plain": [
       "<pymongo.results.InsertManyResult at 0x107bea4c0>"
      ]
     },
     "execution_count": 16,
     "metadata": {},
     "output_type": "execute_result"
    }
   ],
   "source": [
    "# insertar varios\n",
    "\n",
    "# Equivalente SQL\n",
    "\n",
    "# insert into colec (columnas) values (valores);\n",
    "\n",
    "json=[{'nombre': 'yo', 'edad': 38},\n",
    "      {'_id': 1, 'actividad': 'natacion', 'lugar': 'aqui'}]\n",
    "\n",
    "\n",
    "colec.insert_many(json)"
   ]
  },
  {
   "cell_type": "code",
   "execution_count": 17,
   "id": "51f1daf9",
   "metadata": {},
   "outputs": [
    {
     "data": {
      "text/plain": [
       "<pymongo.cursor.Cursor at 0x108d59f40>"
      ]
     },
     "execution_count": 17,
     "metadata": {},
     "output_type": "execute_result"
    }
   ],
   "source": [
    "# select * from colec;\n",
    "\n",
    "colec.find()"
   ]
  },
  {
   "cell_type": "code",
   "execution_count": 18,
   "id": "45b50423",
   "metadata": {},
   "outputs": [
    {
     "data": {
      "text/plain": [
       "[{'_id': ObjectId('644a2662b9f7330a8c99202a'),\n",
       "  'nombre': 'Manolo',\n",
       "  'edad': 39,\n",
       "  '4': [1, 2, 3, 4]},\n",
       " {'_id': ObjectId('644a26a4b9f7330a8c99202b'),\n",
       "  'hola': 'carahuevo',\n",
       "  'altura': 0.39,\n",
       "  '5': [1, 2, 3, 4],\n",
       "  'que te pasa': 0},\n",
       " {'_id': ObjectId('644a26f1b9f7330a8c99202c'),\n",
       "  'id': 0,\n",
       "  'hola': 'carahuevo',\n",
       "  'altura': 0.39,\n",
       "  '5': [1, 2, 3, 4],\n",
       "  'que te pasa': 0},\n",
       " {'_id': 0, 'hola': 'carahuevo', 'altura': 0.39, 'que te pasa': 0},\n",
       " {'_id': ObjectId('644a272cb9f7330a8c99202d'), 'nombre': 'yo', 'edad': 38},\n",
       " {'_id': 1, 'actividad': 'natacion', 'lugar': 'aqui'}]"
      ]
     },
     "execution_count": 18,
     "metadata": {},
     "output_type": "execute_result"
    }
   ],
   "source": [
    "list(colec.find())"
   ]
  },
  {
   "cell_type": "code",
   "execution_count": 19,
   "id": "20e41237",
   "metadata": {},
   "outputs": [],
   "source": [
    "res=list(colec.find())"
   ]
  },
  {
   "cell_type": "code",
   "execution_count": 20,
   "id": "db7dc826",
   "metadata": {},
   "outputs": [
    {
     "data": {
      "text/plain": [
       "{'_id': ObjectId('644a2662b9f7330a8c99202a'),\n",
       " 'nombre': 'Manolo',\n",
       " 'edad': 39,\n",
       " '4': [1, 2, 3, 4]}"
      ]
     },
     "execution_count": 20,
     "metadata": {},
     "output_type": "execute_result"
    }
   ],
   "source": [
    "res[0]"
   ]
  },
  {
   "cell_type": "code",
   "execution_count": 21,
   "id": "ea05c168",
   "metadata": {},
   "outputs": [
    {
     "data": {
      "text/html": [
       "<div>\n",
       "<style scoped>\n",
       "    .dataframe tbody tr th:only-of-type {\n",
       "        vertical-align: middle;\n",
       "    }\n",
       "\n",
       "    .dataframe tbody tr th {\n",
       "        vertical-align: top;\n",
       "    }\n",
       "\n",
       "    .dataframe thead th {\n",
       "        text-align: right;\n",
       "    }\n",
       "</style>\n",
       "<table border=\"1\" class=\"dataframe\">\n",
       "  <thead>\n",
       "    <tr style=\"text-align: right;\">\n",
       "      <th></th>\n",
       "      <th>_id</th>\n",
       "      <th>nombre</th>\n",
       "      <th>edad</th>\n",
       "      <th>4</th>\n",
       "      <th>hola</th>\n",
       "      <th>altura</th>\n",
       "      <th>5</th>\n",
       "      <th>que te pasa</th>\n",
       "      <th>id</th>\n",
       "      <th>actividad</th>\n",
       "      <th>lugar</th>\n",
       "    </tr>\n",
       "  </thead>\n",
       "  <tbody>\n",
       "    <tr>\n",
       "      <th>0</th>\n",
       "      <td>644a2662b9f7330a8c99202a</td>\n",
       "      <td>Manolo</td>\n",
       "      <td>39.0</td>\n",
       "      <td>[1, 2, 3, 4]</td>\n",
       "      <td>NaN</td>\n",
       "      <td>NaN</td>\n",
       "      <td>NaN</td>\n",
       "      <td>NaN</td>\n",
       "      <td>NaN</td>\n",
       "      <td>NaN</td>\n",
       "      <td>NaN</td>\n",
       "    </tr>\n",
       "    <tr>\n",
       "      <th>1</th>\n",
       "      <td>644a26a4b9f7330a8c99202b</td>\n",
       "      <td>NaN</td>\n",
       "      <td>NaN</td>\n",
       "      <td>NaN</td>\n",
       "      <td>carahuevo</td>\n",
       "      <td>0.39</td>\n",
       "      <td>[1, 2, 3, 4]</td>\n",
       "      <td>0.0</td>\n",
       "      <td>NaN</td>\n",
       "      <td>NaN</td>\n",
       "      <td>NaN</td>\n",
       "    </tr>\n",
       "    <tr>\n",
       "      <th>2</th>\n",
       "      <td>644a26f1b9f7330a8c99202c</td>\n",
       "      <td>NaN</td>\n",
       "      <td>NaN</td>\n",
       "      <td>NaN</td>\n",
       "      <td>carahuevo</td>\n",
       "      <td>0.39</td>\n",
       "      <td>[1, 2, 3, 4]</td>\n",
       "      <td>0.0</td>\n",
       "      <td>0.0</td>\n",
       "      <td>NaN</td>\n",
       "      <td>NaN</td>\n",
       "    </tr>\n",
       "    <tr>\n",
       "      <th>3</th>\n",
       "      <td>0</td>\n",
       "      <td>NaN</td>\n",
       "      <td>NaN</td>\n",
       "      <td>NaN</td>\n",
       "      <td>carahuevo</td>\n",
       "      <td>0.39</td>\n",
       "      <td>NaN</td>\n",
       "      <td>0.0</td>\n",
       "      <td>NaN</td>\n",
       "      <td>NaN</td>\n",
       "      <td>NaN</td>\n",
       "    </tr>\n",
       "    <tr>\n",
       "      <th>4</th>\n",
       "      <td>644a272cb9f7330a8c99202d</td>\n",
       "      <td>yo</td>\n",
       "      <td>38.0</td>\n",
       "      <td>NaN</td>\n",
       "      <td>NaN</td>\n",
       "      <td>NaN</td>\n",
       "      <td>NaN</td>\n",
       "      <td>NaN</td>\n",
       "      <td>NaN</td>\n",
       "      <td>NaN</td>\n",
       "      <td>NaN</td>\n",
       "    </tr>\n",
       "    <tr>\n",
       "      <th>5</th>\n",
       "      <td>1</td>\n",
       "      <td>NaN</td>\n",
       "      <td>NaN</td>\n",
       "      <td>NaN</td>\n",
       "      <td>NaN</td>\n",
       "      <td>NaN</td>\n",
       "      <td>NaN</td>\n",
       "      <td>NaN</td>\n",
       "      <td>NaN</td>\n",
       "      <td>natacion</td>\n",
       "      <td>aqui</td>\n",
       "    </tr>\n",
       "  </tbody>\n",
       "</table>\n",
       "</div>"
      ],
      "text/plain": [
       "                        _id  nombre  edad             4       hola  altura  \\\n",
       "0  644a2662b9f7330a8c99202a  Manolo  39.0  [1, 2, 3, 4]        NaN     NaN   \n",
       "1  644a26a4b9f7330a8c99202b     NaN   NaN           NaN  carahuevo    0.39   \n",
       "2  644a26f1b9f7330a8c99202c     NaN   NaN           NaN  carahuevo    0.39   \n",
       "3                         0     NaN   NaN           NaN  carahuevo    0.39   \n",
       "4  644a272cb9f7330a8c99202d      yo  38.0           NaN        NaN     NaN   \n",
       "5                         1     NaN   NaN           NaN        NaN     NaN   \n",
       "\n",
       "              5  que te pasa   id actividad lugar  \n",
       "0           NaN          NaN  NaN       NaN   NaN  \n",
       "1  [1, 2, 3, 4]          0.0  NaN       NaN   NaN  \n",
       "2  [1, 2, 3, 4]          0.0  0.0       NaN   NaN  \n",
       "3           NaN          0.0  NaN       NaN   NaN  \n",
       "4           NaN          NaN  NaN       NaN   NaN  \n",
       "5           NaN          NaN  NaN  natacion  aqui  "
      ]
     },
     "execution_count": 21,
     "metadata": {},
     "output_type": "execute_result"
    }
   ],
   "source": [
    "import pandas as pd\n",
    "\n",
    "pd.DataFrame(res)"
   ]
  },
  {
   "cell_type": "code",
   "execution_count": 24,
   "id": "0a7e9748",
   "metadata": {},
   "outputs": [
    {
     "data": {
      "text/plain": [
       "list"
      ]
     },
     "execution_count": 24,
     "metadata": {},
     "output_type": "execute_result"
    }
   ],
   "source": [
    "type(res[0]['4'])"
   ]
  },
  {
   "cell_type": "markdown",
   "id": "5cec891a",
   "metadata": {},
   "source": [
    "### Queries"
   ]
  },
  {
   "cell_type": "code",
   "execution_count": 25,
   "id": "308bdc0f",
   "metadata": {},
   "outputs": [
    {
     "data": {
      "text/plain": [
       "[{'_id': ObjectId('644a2662b9f7330a8c99202a'),\n",
       "  'nombre': 'Manolo',\n",
       "  'edad': 39,\n",
       "  '4': [1, 2, 3, 4]},\n",
       " {'_id': ObjectId('644a26a4b9f7330a8c99202b'),\n",
       "  'hola': 'carahuevo',\n",
       "  'altura': 0.39,\n",
       "  '5': [1, 2, 3, 4],\n",
       "  'que te pasa': 0},\n",
       " {'_id': ObjectId('644a26f1b9f7330a8c99202c'),\n",
       "  'id': 0,\n",
       "  'hola': 'carahuevo',\n",
       "  'altura': 0.39,\n",
       "  '5': [1, 2, 3, 4],\n",
       "  'que te pasa': 0},\n",
       " {'_id': 0, 'hola': 'carahuevo', 'altura': 0.39, 'que te pasa': 0},\n",
       " {'_id': ObjectId('644a272cb9f7330a8c99202d'), 'nombre': 'yo', 'edad': 38},\n",
       " {'_id': 1, 'actividad': 'natacion', 'lugar': 'aqui'}]"
      ]
     },
     "execution_count": 25,
     "metadata": {},
     "output_type": "execute_result"
    }
   ],
   "source": [
    "# select * from colec;\n",
    "\n",
    "list(colec.find())"
   ]
  },
  {
   "cell_type": "code",
   "execution_count": 26,
   "id": "52107153",
   "metadata": {},
   "outputs": [
    {
     "data": {
      "text/plain": [
       "[{'_id': ObjectId('644a2662b9f7330a8c99202a'),\n",
       "  'nombre': 'Manolo',\n",
       "  'edad': 39,\n",
       "  '4': [1, 2, 3, 4]}]"
      ]
     },
     "execution_count": 26,
     "metadata": {},
     "output_type": "execute_result"
    }
   ],
   "source": [
    "# select * from colec where edad=39;\n",
    "\n",
    "query={'edad': 39}\n",
    "\n",
    "list(colec.find(query))"
   ]
  },
  {
   "cell_type": "code",
   "execution_count": 27,
   "id": "dbfc33db",
   "metadata": {},
   "outputs": [
    {
     "data": {
      "text/plain": [
       "[{'_id': ObjectId('644a26a4b9f7330a8c99202b'),\n",
       "  'hola': 'carahuevo',\n",
       "  'altura': 0.39,\n",
       "  '5': [1, 2, 3, 4],\n",
       "  'que te pasa': 0},\n",
       " {'_id': ObjectId('644a26f1b9f7330a8c99202c'),\n",
       "  'id': 0,\n",
       "  'hola': 'carahuevo',\n",
       "  'altura': 0.39,\n",
       "  '5': [1, 2, 3, 4],\n",
       "  'que te pasa': 0},\n",
       " {'_id': 0, 'hola': 'carahuevo', 'altura': 0.39, 'que te pasa': 0}]"
      ]
     },
     "execution_count": 27,
     "metadata": {},
     "output_type": "execute_result"
    }
   ],
   "source": [
    "# select * from colec where hola=carahuevo;\n",
    "\n",
    "query={'hola': 'carahuevo'}\n",
    "\n",
    "list(colec.find(query))"
   ]
  },
  {
   "cell_type": "code",
   "execution_count": 28,
   "id": "b2294eb5",
   "metadata": {},
   "outputs": [
    {
     "data": {
      "text/plain": [
       "[{'_id': ObjectId('644a2662b9f7330a8c99202a'),\n",
       "  'nombre': 'Manolo',\n",
       "  'edad': 39,\n",
       "  '4': [1, 2, 3, 4]}]"
      ]
     },
     "execution_count": 28,
     "metadata": {},
     "output_type": "execute_result"
    }
   ],
   "source": [
    "# select * from colec where edad>=39;\n",
    "\n",
    "query={'edad': {'$gte': 39}}\n",
    "\n",
    "list(colec.find(query))"
   ]
  },
  {
   "cell_type": "code",
   "execution_count": 29,
   "id": "347ac0ff",
   "metadata": {},
   "outputs": [
    {
     "data": {
      "text/plain": [
       "[{'_id': ObjectId('644a2662b9f7330a8c99202a'),\n",
       "  'nombre': 'Manolo',\n",
       "  'edad': 39,\n",
       "  '4': [1, 2, 3, 4]},\n",
       " {'_id': ObjectId('644a272cb9f7330a8c99202d'), 'nombre': 'yo', 'edad': 38}]"
      ]
     },
     "execution_count": 29,
     "metadata": {},
     "output_type": "execute_result"
    }
   ],
   "source": [
    "# select * from colec where edad<=39;\n",
    "\n",
    "query={'edad': {'$lte': 39}}\n",
    "\n",
    "list(colec.find(query))"
   ]
  },
  {
   "cell_type": "code",
   "execution_count": 30,
   "id": "18f2b6d7",
   "metadata": {},
   "outputs": [
    {
     "data": {
      "text/plain": [
       "[{'_id': ObjectId('644a26a4b9f7330a8c99202b'),\n",
       "  'hola': 'carahuevo',\n",
       "  'altura': 0.39,\n",
       "  '5': [1, 2, 3, 4],\n",
       "  'que te pasa': 0},\n",
       " {'_id': ObjectId('644a26f1b9f7330a8c99202c'),\n",
       "  'id': 0,\n",
       "  'hola': 'carahuevo',\n",
       "  'altura': 0.39,\n",
       "  '5': [1, 2, 3, 4],\n",
       "  'que te pasa': 0},\n",
       " {'_id': 0, 'hola': 'carahuevo', 'altura': 0.39, 'que te pasa': 0},\n",
       " {'_id': ObjectId('644a272cb9f7330a8c99202d'), 'nombre': 'yo', 'edad': 38},\n",
       " {'_id': 1, 'actividad': 'natacion', 'lugar': 'aqui'}]"
      ]
     },
     "execution_count": 30,
     "metadata": {},
     "output_type": "execute_result"
    }
   ],
   "source": [
    "# select * from colec where edad!=39;\n",
    "\n",
    "query={'edad': {'$ne': 39}}\n",
    "\n",
    "list(colec.find(query))"
   ]
  },
  {
   "cell_type": "code",
   "execution_count": 31,
   "id": "834043b6",
   "metadata": {},
   "outputs": [
    {
     "data": {
      "text/plain": [
       "[{'_id': ObjectId('644a2662b9f7330a8c99202a'),\n",
       "  'nombre': 'Manolo',\n",
       "  'edad': 39,\n",
       "  '4': [1, 2, 3, 4]},\n",
       " {'_id': ObjectId('644a272cb9f7330a8c99202d'), 'nombre': 'yo', 'edad': 38}]"
      ]
     },
     "execution_count": 31,
     "metadata": {},
     "output_type": "execute_result"
    }
   ],
   "source": [
    "# select * from colec where edad<40 and edad>24;\n",
    "# select * from colec where edad between (40, 24);\n",
    "\n",
    "query={'$and': [{'edad': {'$lt': 40}},\n",
    "                {'edad': {'$gt': 24}}]}\n",
    "\n",
    "list(colec.find(query))"
   ]
  },
  {
   "cell_type": "code",
   "execution_count": 32,
   "id": "27846ebb",
   "metadata": {},
   "outputs": [
    {
     "data": {
      "text/plain": [
       "[{'_id': ObjectId('644a2662b9f7330a8c99202a'),\n",
       "  'nombre': 'Manolo',\n",
       "  'edad': 39,\n",
       "  '4': [1, 2, 3, 4]},\n",
       " {'_id': ObjectId('644a272cb9f7330a8c99202d'), 'nombre': 'yo', 'edad': 38}]"
      ]
     },
     "execution_count": 32,
     "metadata": {},
     "output_type": "execute_result"
    }
   ],
   "source": [
    "# select * from colec where edad<40 or edad>24;\n",
    "\n",
    "query={'$or': [{'edad': {'$lt': 40}},\n",
    "                {'edad': {'$gt': 24}}]}\n",
    "\n",
    "list(colec.find(query))"
   ]
  },
  {
   "cell_type": "code",
   "execution_count": 33,
   "id": "0442338a",
   "metadata": {},
   "outputs": [
    {
     "data": {
      "text/plain": [
       "{'$or': [{'edad': {'$lt': 40}}, {'edad': {'$gt': 24}}]}"
      ]
     },
     "execution_count": 33,
     "metadata": {},
     "output_type": "execute_result"
    }
   ],
   "source": [
    "query"
   ]
  },
  {
   "cell_type": "code",
   "execution_count": 34,
   "id": "dce6127a",
   "metadata": {},
   "outputs": [
    {
     "data": {
      "text/plain": [
       "[{'_id': ObjectId('644a2662b9f7330a8c99202a'),\n",
       "  'nombre': 'Manolo',\n",
       "  'edad': 39,\n",
       "  '4': [1, 2, 3, 4]},\n",
       " {'_id': ObjectId('644a26a4b9f7330a8c99202b'),\n",
       "  'hola': 'carahuevo',\n",
       "  'altura': 0.39,\n",
       "  '5': [1, 2, 3, 4],\n",
       "  'que te pasa': 0}]"
      ]
     },
     "execution_count": 34,
     "metadata": {},
     "output_type": "execute_result"
    }
   ],
   "source": [
    "# select * from colec where edad!=38 limit 2;\n",
    "\n",
    "query={'edad': {'$ne': 38}}\n",
    "\n",
    "list(colec.find(query).limit(2))"
   ]
  },
  {
   "cell_type": "code",
   "execution_count": 35,
   "id": "cb1b6794",
   "metadata": {},
   "outputs": [
    {
     "data": {
      "text/plain": [
       "[{'_id': ObjectId('644a2662b9f7330a8c99202a'),\n",
       "  'nombre': 'Manolo',\n",
       "  'edad': 39,\n",
       "  '4': [1, 2, 3, 4]},\n",
       " {'_id': ObjectId('644a272cb9f7330a8c99202d'), 'nombre': 'yo', 'edad': 38},\n",
       " {'_id': 1, 'actividad': 'natacion', 'lugar': 'aqui'}]"
      ]
     },
     "execution_count": 35,
     "metadata": {},
     "output_type": "execute_result"
    }
   ],
   "source": [
    "# select * from colec where edad<40 or hola!=carahuevo;\n",
    "\n",
    "query={'$or': [{'edad': {'$lt': 40}},\n",
    "                {'hola': {'$ne': 'carahuevo'}}]}\n",
    "\n",
    "list(colec.find(query))"
   ]
  },
  {
   "cell_type": "code",
   "execution_count": 38,
   "id": "bd5b3f2d",
   "metadata": {},
   "outputs": [
    {
     "data": {
      "text/plain": [
       "[{'_id': 0, 'hola': 'carahuevo', 'altura': 0.39, 'que te pasa': 0},\n",
       " {'_id': ObjectId('644a26f1b9f7330a8c99202c'),\n",
       "  'id': 0,\n",
       "  'hola': 'carahuevo',\n",
       "  'altura': 0.39,\n",
       "  '5': [1, 2, 3, 4],\n",
       "  'que te pasa': 0},\n",
       " {'_id': ObjectId('644a26a4b9f7330a8c99202b'),\n",
       "  'hola': 'carahuevo',\n",
       "  'altura': 0.39,\n",
       "  '5': [1, 2, 3, 4],\n",
       "  'que te pasa': 0}]"
      ]
     },
     "execution_count": 38,
     "metadata": {},
     "output_type": "execute_result"
    }
   ],
   "source": [
    "# select * from colec where edad!=38 order by edad desc limit 3;\n",
    "\n",
    "query={'edad': {'$ne': 38}}\n",
    "\n",
    "res=colec.find(query).sort('edad', 1).limit(3)\n",
    "\n",
    "list(res)   # sort 1 asc, sort -1 desc"
   ]
  },
  {
   "cell_type": "code",
   "execution_count": 44,
   "id": "509215c5",
   "metadata": {},
   "outputs": [
    {
     "data": {
      "text/plain": [
       "<pymongo.results.UpdateResult at 0x1404637c0>"
      ]
     },
     "execution_count": 44,
     "metadata": {},
     "output_type": "execute_result"
    }
   ],
   "source": [
    "# actualizar registro\n",
    "\n",
    "colec.update_one({'_id': 1}, {'$set': {'lugar2': 'Madrid'}})"
   ]
  },
  {
   "cell_type": "code",
   "execution_count": 45,
   "id": "e1e5d4a9",
   "metadata": {},
   "outputs": [
    {
     "data": {
      "text/plain": [
       "[{'_id': 1, 'actividad': 'natacion', 'lugar': 'Barna', 'lugar2': 'Madrid'}]"
      ]
     },
     "execution_count": 45,
     "metadata": {},
     "output_type": "execute_result"
    }
   ],
   "source": [
    "list(colec.find({'_id': 1}))"
   ]
  },
  {
   "cell_type": "code",
   "execution_count": 46,
   "id": "3596c61e",
   "metadata": {},
   "outputs": [
    {
     "data": {
      "text/plain": [
       "<pymongo.results.UpdateResult at 0x1402ce910>"
      ]
     },
     "execution_count": 46,
     "metadata": {},
     "output_type": "execute_result"
    }
   ],
   "source": [
    "colec.update_many({'edad': 39}, {'$set': {'nombre': 42}})"
   ]
  },
  {
   "cell_type": "code",
   "execution_count": 47,
   "id": "d3462603",
   "metadata": {},
   "outputs": [
    {
     "data": {
      "text/plain": [
       "[{'_id': ObjectId('644a2662b9f7330a8c99202a'),\n",
       "  'nombre': 42,\n",
       "  'edad': 39,\n",
       "  '4': [1, 2, 3, 4]}]"
      ]
     },
     "execution_count": 47,
     "metadata": {},
     "output_type": "execute_result"
    }
   ],
   "source": [
    "list(colec.find({'edad': 39}))"
   ]
  },
  {
   "cell_type": "code",
   "execution_count": 62,
   "id": "bb1ec1ca",
   "metadata": {
    "scrolled": false
   },
   "outputs": [
    {
     "data": {
      "text/plain": [
       "[]"
      ]
     },
     "execution_count": 62,
     "metadata": {},
     "output_type": "execute_result"
    }
   ],
   "source": [
    "# select nombre from colec where edad=39;\n",
    "\n",
    "query={'edad': 39}\n",
    "\n",
    "select = {'_id': 0, 'nombre': 1} # 0 es que no venga, 1 es que venga, es para columnas\n",
    "\n",
    "res=colec.find(query, select)\n",
    "\n",
    "list(res)"
   ]
  },
  {
   "cell_type": "code",
   "execution_count": 53,
   "id": "5acb8754",
   "metadata": {},
   "outputs": [
    {
     "data": {
      "text/plain": [
       "<pymongo.results.DeleteResult at 0x1404df580>"
      ]
     },
     "execution_count": 53,
     "metadata": {},
     "output_type": "execute_result"
    }
   ],
   "source": [
    "# delete from colec where _id=0;\n",
    "\n",
    "colec.delete_one({'_id': 0})"
   ]
  },
  {
   "cell_type": "code",
   "execution_count": 54,
   "id": "5e8b0e07",
   "metadata": {},
   "outputs": [
    {
     "data": {
      "text/plain": [
       "[]"
      ]
     },
     "execution_count": 54,
     "metadata": {},
     "output_type": "execute_result"
    }
   ],
   "source": [
    "list(colec.find({'_id': 0}))"
   ]
  },
  {
   "cell_type": "code",
   "execution_count": 55,
   "id": "0d184896",
   "metadata": {},
   "outputs": [
    {
     "data": {
      "text/plain": [
       "<pymongo.results.DeleteResult at 0x14054b580>"
      ]
     },
     "execution_count": 55,
     "metadata": {},
     "output_type": "execute_result"
    }
   ],
   "source": [
    "# delete from colec where nombre=42;\n",
    "\n",
    "colec.delete_one({'nombre': 42})"
   ]
  },
  {
   "cell_type": "code",
   "execution_count": 56,
   "id": "d2e6184f",
   "metadata": {},
   "outputs": [
    {
     "data": {
      "text/plain": [
       "[]"
      ]
     },
     "execution_count": 56,
     "metadata": {},
     "output_type": "execute_result"
    }
   ],
   "source": [
    "list(colec.find({'nombre': 42}))"
   ]
  },
  {
   "cell_type": "code",
   "execution_count": 57,
   "id": "0993fa7f",
   "metadata": {},
   "outputs": [
    {
     "data": {
      "text/plain": [
       "[{'_id': '', 'count': 4}]"
      ]
     },
     "execution_count": 57,
     "metadata": {},
     "output_type": "execute_result"
    }
   ],
   "source": [
    "# select count(*) from colec group by _id;     #por cada id suma 1\n",
    "\n",
    "list(colec.aggregate([{'$group': {'_id': '', \n",
    "                                  'count': {'$sum': \n",
    "                                            1}}}]))"
   ]
  },
  {
   "cell_type": "code",
   "execution_count": 61,
   "id": "c1af28f0",
   "metadata": {},
   "outputs": [
    {
     "data": {
      "text/plain": [
       "[{'_id': ObjectId('644a26a4b9f7330a8c99202b'),\n",
       "  'hola': 'carahuevo',\n",
       "  'altura': 0.39,\n",
       "  '5': [1, 2, 3, 4],\n",
       "  'que te pasa': 0},\n",
       " {'_id': ObjectId('644a26f1b9f7330a8c99202c'),\n",
       "  'id': 0,\n",
       "  'hola': 'carahuevo',\n",
       "  'altura': 0.39,\n",
       "  '5': [1, 2, 3, 4],\n",
       "  'que te pasa': 0}]"
      ]
     },
     "execution_count": 61,
     "metadata": {},
     "output_type": "execute_result"
    }
   ],
   "source": [
    "list(colec.find({'hola': 'carahuevo'}))"
   ]
  },
  {
   "cell_type": "code",
   "execution_count": 63,
   "id": "15718481",
   "metadata": {},
   "outputs": [],
   "source": [
    "colec.drop()   # borra coleccion"
   ]
  },
  {
   "cell_type": "code",
   "execution_count": 64,
   "id": "35374c44",
   "metadata": {},
   "outputs": [
    {
     "data": {
      "text/plain": [
       "[]"
      ]
     },
     "execution_count": 64,
     "metadata": {},
     "output_type": "execute_result"
    }
   ],
   "source": [
    "db.list_collection_names()"
   ]
  },
  {
   "cell_type": "code",
   "execution_count": 65,
   "id": "5a4da47d",
   "metadata": {},
   "outputs": [
    {
     "data": {
      "text/plain": [
       "['admin', 'config', 'ironcomes', 'local', 'quizzes']"
      ]
     },
     "execution_count": 65,
     "metadata": {},
     "output_type": "execute_result"
    }
   ],
   "source": [
    "cursor.list_database_names()"
   ]
  },
  {
   "cell_type": "markdown",
   "id": "be3cedee",
   "metadata": {},
   "source": [
    "### DB Companies"
   ]
  },
  {
   "cell_type": "code",
   "execution_count": 66,
   "id": "501d1ab6",
   "metadata": {},
   "outputs": [
    {
     "data": {
      "text/plain": [
       "MongoClient(host=['localhost:27017'], document_class=dict, tz_aware=False, connect=True)"
      ]
     },
     "execution_count": 66,
     "metadata": {},
     "output_type": "execute_result"
    }
   ],
   "source": [
    "cursor"
   ]
  },
  {
   "cell_type": "code",
   "execution_count": 67,
   "id": "03fe7510",
   "metadata": {},
   "outputs": [],
   "source": [
    "db=cursor.companies"
   ]
  },
  {
   "cell_type": "code",
   "execution_count": 68,
   "id": "96a82439",
   "metadata": {
    "scrolled": false
   },
   "outputs": [],
   "source": [
    "colec=db.companies"
   ]
  },
  {
   "cell_type": "code",
   "execution_count": 71,
   "id": "d163257f",
   "metadata": {},
   "outputs": [
    {
     "data": {
      "text/plain": [
       "dict_keys(['_id', 'name', 'permalink', 'crunchbase_url', 'homepage_url', 'blog_url', 'blog_feed_url', 'twitter_username', 'category_code', 'number_of_employees', 'founded_year', 'founded_month', 'founded_day', 'deadpooled_year', 'tag_list', 'alias_list', 'email_address', 'phone_number', 'description', 'created_at', 'updated_at', 'overview', 'image', 'products', 'relationships', 'competitions', 'providerships', 'total_money_raised', 'funding_rounds', 'investments', 'acquisition', 'acquisitions', 'offices', 'milestones', 'video_embeds', 'screenshots', 'external_links', 'partners'])"
      ]
     },
     "execution_count": 71,
     "metadata": {},
     "output_type": "execute_result"
    }
   ],
   "source": [
    "res=colec.find().limit(1)\n",
    "\n",
    "list(res)[0].keys()"
   ]
  },
  {
   "cell_type": "code",
   "execution_count": 72,
   "id": "39053424",
   "metadata": {},
   "outputs": [
    {
     "data": {
      "text/plain": [
       "[{'name': 'Wetpaint', 'category_code': 'web'},\n",
       " {'name': 'Postini', 'category_code': 'web'},\n",
       " {'name': 'Geni', 'category_code': 'web'},\n",
       " {'name': 'Fox Interactive Media', 'category_code': 'web'},\n",
       " {'name': 'StumbleUpon', 'category_code': 'web'},\n",
       " {'name': 'Gizmoz', 'category_code': 'web'},\n",
       " {'name': 'eBay', 'category_code': 'web'},\n",
       " {'name': 'Viacom', 'category_code': 'web'},\n",
       " {'name': 'Plaxo', 'category_code': 'web'},\n",
       " {'name': 'Yahoo!', 'category_code': 'web'}]"
      ]
     },
     "execution_count": 72,
     "metadata": {},
     "output_type": "execute_result"
    }
   ],
   "source": [
    "# select name, category_code from colec where category_code in ('web', 'ecommerce') limit 10;\n",
    "\n",
    "# por \"filas\", dame los registros con estos category_code\n",
    "query={'$or': [{'category_code': 'web'},\n",
    "               {'category_code': 'ecommerce'}]}\n",
    "\n",
    "\n",
    "\n",
    "# por columnas, dame solo las dos columnas\n",
    "select={'name': True, 'category_code': True, '_id': False}\n",
    "\n",
    "\n",
    "\n",
    "res=colec.find(query, select).limit(10)\n",
    "\n",
    "\n",
    "list(res)\n",
    "\n"
   ]
  },
  {
   "cell_type": "code",
   "execution_count": 73,
   "id": "2e4f4e5c",
   "metadata": {},
   "outputs": [
    {
     "data": {
      "text/plain": [
       "[{'name': 'Postini', 'category_code': 'web', 'founded_year': 1999},\n",
       " {'name': 'Fox Interactive Media',\n",
       "  'category_code': 'web',\n",
       "  'founded_year': 1979},\n",
       " {'name': 'StumbleUpon', 'category_code': 'web', 'founded_year': 2002},\n",
       " {'name': 'eBay', 'category_code': 'web', 'founded_year': 1995},\n",
       " {'name': 'Viacom', 'category_code': 'web', 'founded_year': 1971},\n",
       " {'name': 'Plaxo', 'category_code': 'web', 'founded_year': 2002},\n",
       " {'name': 'Yahoo!', 'category_code': 'web', 'founded_year': 1994},\n",
       " {'name': 'Meetup', 'category_code': 'web', 'founded_year': 2002},\n",
       " {'name': 'Topix', 'category_code': 'web', 'founded_year': 2002},\n",
       " {'name': 'Steorn', 'category_code': 'web', 'founded_year': 2000}]"
      ]
     },
     "execution_count": 73,
     "metadata": {},
     "output_type": "execute_result"
    }
   ],
   "source": [
    "# select founded_year, name \n",
    "# from colec where category_code=web and founded_year<=2002 limit 10;\n",
    "\n",
    "# por \"filas\", dame los registros category_code\n",
    "query={'$and': [{'category_code': 'web'},\n",
    "                {'founded_year': {'$lte': 2002}}]}\n",
    "\n",
    "\n",
    "# por columnas, dame solo las dos columnas\n",
    "select={'name': True, 'founded_year': True, 'category_code': True, '_id': False}\n",
    "\n",
    "\n",
    "\n",
    "list(colec.find(query, select).limit(10))\n"
   ]
  },
  {
   "cell_type": "code",
   "execution_count": 75,
   "id": "fabc68ba",
   "metadata": {},
   "outputs": [
    {
     "data": {
      "text/html": [
       "<div>\n",
       "<style scoped>\n",
       "    .dataframe tbody tr th:only-of-type {\n",
       "        vertical-align: middle;\n",
       "    }\n",
       "\n",
       "    .dataframe tbody tr th {\n",
       "        vertical-align: top;\n",
       "    }\n",
       "\n",
       "    .dataframe thead th {\n",
       "        text-align: right;\n",
       "    }\n",
       "</style>\n",
       "<table border=\"1\" class=\"dataframe\">\n",
       "  <thead>\n",
       "    <tr style=\"text-align: right;\">\n",
       "      <th></th>\n",
       "      <th>name</th>\n",
       "      <th>category_code</th>\n",
       "      <th>founded_year</th>\n",
       "    </tr>\n",
       "  </thead>\n",
       "  <tbody>\n",
       "    <tr>\n",
       "      <th>0</th>\n",
       "      <td>Postini</td>\n",
       "      <td>web</td>\n",
       "      <td>1999</td>\n",
       "    </tr>\n",
       "    <tr>\n",
       "      <th>1</th>\n",
       "      <td>Fox Interactive Media</td>\n",
       "      <td>web</td>\n",
       "      <td>1979</td>\n",
       "    </tr>\n",
       "    <tr>\n",
       "      <th>2</th>\n",
       "      <td>StumbleUpon</td>\n",
       "      <td>web</td>\n",
       "      <td>2002</td>\n",
       "    </tr>\n",
       "    <tr>\n",
       "      <th>3</th>\n",
       "      <td>eBay</td>\n",
       "      <td>web</td>\n",
       "      <td>1995</td>\n",
       "    </tr>\n",
       "    <tr>\n",
       "      <th>4</th>\n",
       "      <td>Viacom</td>\n",
       "      <td>web</td>\n",
       "      <td>1971</td>\n",
       "    </tr>\n",
       "  </tbody>\n",
       "</table>\n",
       "</div>"
      ],
      "text/plain": [
       "                    name category_code  founded_year\n",
       "0                Postini           web          1999\n",
       "1  Fox Interactive Media           web          1979\n",
       "2            StumbleUpon           web          2002\n",
       "3                   eBay           web          1995\n",
       "4                 Viacom           web          1971"
      ]
     },
     "execution_count": 75,
     "metadata": {},
     "output_type": "execute_result"
    }
   ],
   "source": [
    "import pandas as pd\n",
    "\n",
    "df=pd.DataFrame(colec.find(query, select))\n",
    "\n",
    "df.head()"
   ]
  },
  {
   "cell_type": "code",
   "execution_count": 76,
   "id": "e457d14d",
   "metadata": {},
   "outputs": [
    {
     "name": "stdout",
     "output_type": "stream",
     "text": [
      "<class 'pandas.core.frame.DataFrame'>\n",
      "RangeIndex: 457 entries, 0 to 456\n",
      "Data columns (total 3 columns):\n",
      " #   Column         Non-Null Count  Dtype \n",
      "---  ------         --------------  ----- \n",
      " 0   name           457 non-null    object\n",
      " 1   category_code  457 non-null    object\n",
      " 2   founded_year   457 non-null    int64 \n",
      "dtypes: int64(1), object(2)\n",
      "memory usage: 10.8+ KB\n"
     ]
    }
   ],
   "source": [
    "df.info()"
   ]
  },
  {
   "cell_type": "code",
   "execution_count": 77,
   "id": "1a1c4741",
   "metadata": {},
   "outputs": [
    {
     "data": {
      "text/plain": [
       "(457, 3)"
      ]
     },
     "execution_count": 77,
     "metadata": {},
     "output_type": "execute_result"
    }
   ],
   "source": [
    "df.shape"
   ]
  },
  {
   "cell_type": "code",
   "execution_count": 79,
   "id": "7af1ecd7",
   "metadata": {},
   "outputs": [
    {
     "data": {
      "text/plain": [
       "[{'name': 'Facebook', 'category_code': 'social', 'founded_year': 2004},\n",
       " {'name': 'WeGame', 'category_code': 'web', 'founded_year': 1840}]"
      ]
     },
     "execution_count": 79,
     "metadata": {},
     "output_type": "execute_result"
    }
   ],
   "source": [
    "# select name, category_code, founded_year \n",
    "# from colec where name in ('WeGame', 'Facebook');\n",
    "\n",
    "query = {'name': {'$in': ['WeGame', 'Facebook']}}\n",
    "\n",
    "# por columnas, dame solo lass dos columnas\n",
    "filtro={'name': True, 'founded_year': True, 'category_code': True, '_id': False}\n",
    "\n",
    "\n",
    "\n",
    "list(colec.find(query, filtro).limit(10))"
   ]
  },
  {
   "cell_type": "code",
   "execution_count": 80,
   "id": "05ce38fe",
   "metadata": {},
   "outputs": [
    {
     "data": {
      "text/plain": [
       "[{'name': 'Facebook', 'category_code': 'social', 'founded_year': 2004},\n",
       " {'name': 'FaceTec', 'category_code': 'software', 'founded_year': 2002},\n",
       " {'name': 'Face Your Manga', 'category_code': 'web', 'founded_year': None},\n",
       " {'name': 'Facebookster',\n",
       "  'category_code': 'public_relations',\n",
       "  'founded_year': 2003},\n",
       " {'name': 'Facebook Causes Application',\n",
       "  'category_code': None,\n",
       "  'founded_year': None},\n",
       " {'name': 'FaceKoo', 'category_code': 'network_hosting', 'founded_year': 2008},\n",
       " {'name': 'FacebookLicious!',\n",
       "  'category_code': 'games_video',\n",
       "  'founded_year': 2007},\n",
       " {'name': 'FaceTime Strategy',\n",
       "  'category_code': 'public_relations',\n",
       "  'founded_year': None}]"
      ]
     },
     "execution_count": 80,
     "metadata": {},
     "output_type": "execute_result"
    }
   ],
   "source": [
    "# select name, category_code, founded_year from colec where name like 'Face%'; \n",
    "\n",
    "\n",
    "query = {'name': {'$regex': '^Face'}}\n",
    "\n",
    "# por columnas, dame solo lass dos columnas\n",
    "filtro={'name': True, 'founded_year': True, 'category_code': True, '_id': False}\n",
    "\n",
    "\n",
    "\n",
    "list(colec.find(query, filtro).limit(10))"
   ]
  },
  {
   "cell_type": "markdown",
   "id": "3a5a081e",
   "metadata": {},
   "source": [
    "### Geoqueries"
   ]
  },
  {
   "cell_type": "code",
   "execution_count": null,
   "id": "fc1ac2f4",
   "metadata": {},
   "outputs": [],
   "source": []
  },
  {
   "cell_type": "code",
   "execution_count": null,
   "id": "fda7a05e",
   "metadata": {},
   "outputs": [],
   "source": []
  },
  {
   "cell_type": "code",
   "execution_count": null,
   "id": "4b6ea2d9",
   "metadata": {},
   "outputs": [],
   "source": []
  },
  {
   "cell_type": "code",
   "execution_count": null,
   "id": "ca153d3d",
   "metadata": {},
   "outputs": [],
   "source": []
  },
  {
   "cell_type": "code",
   "execution_count": null,
   "id": "79428353",
   "metadata": {},
   "outputs": [],
   "source": []
  },
  {
   "cell_type": "code",
   "execution_count": null,
   "id": "ba9dd4bc",
   "metadata": {},
   "outputs": [],
   "source": []
  },
  {
   "cell_type": "code",
   "execution_count": null,
   "id": "479d9e52",
   "metadata": {},
   "outputs": [],
   "source": []
  },
  {
   "cell_type": "code",
   "execution_count": null,
   "id": "06e2a013",
   "metadata": {},
   "outputs": [],
   "source": []
  },
  {
   "cell_type": "code",
   "execution_count": null,
   "id": "7908dfad",
   "metadata": {},
   "outputs": [],
   "source": []
  },
  {
   "cell_type": "code",
   "execution_count": null,
   "id": "958eb501",
   "metadata": {},
   "outputs": [],
   "source": []
  },
  {
   "cell_type": "code",
   "execution_count": null,
   "id": "00edaa2c",
   "metadata": {},
   "outputs": [],
   "source": []
  },
  {
   "cell_type": "code",
   "execution_count": null,
   "id": "0f5f4495",
   "metadata": {},
   "outputs": [],
   "source": []
  },
  {
   "cell_type": "code",
   "execution_count": null,
   "id": "5f12b4ea",
   "metadata": {},
   "outputs": [],
   "source": []
  },
  {
   "cell_type": "code",
   "execution_count": null,
   "id": "f92ce8fc",
   "metadata": {},
   "outputs": [],
   "source": []
  },
  {
   "cell_type": "code",
   "execution_count": null,
   "id": "0ffffeb3",
   "metadata": {},
   "outputs": [],
   "source": []
  },
  {
   "cell_type": "code",
   "execution_count": null,
   "id": "9dbd8672",
   "metadata": {},
   "outputs": [],
   "source": []
  }
 ],
 "metadata": {
  "kernelspec": {
   "display_name": "clase",
   "language": "python",
   "name": "clase"
  },
  "language_info": {
   "codemirror_mode": {
    "name": "ipython",
    "version": 3
   },
   "file_extension": ".py",
   "mimetype": "text/x-python",
   "name": "python",
   "nbconvert_exporter": "python",
   "pygments_lexer": "ipython3",
   "version": "3.9.12"
  },
  "varInspector": {
   "cols": {
    "lenName": 16,
    "lenType": 16,
    "lenVar": 40
   },
   "kernels_config": {
    "python": {
     "delete_cmd_postfix": "",
     "delete_cmd_prefix": "del ",
     "library": "var_list.py",
     "varRefreshCmd": "print(var_dic_list())"
    },
    "r": {
     "delete_cmd_postfix": ") ",
     "delete_cmd_prefix": "rm(",
     "library": "var_list.r",
     "varRefreshCmd": "cat(var_dic_list()) "
    }
   },
   "types_to_exclude": [
    "module",
    "function",
    "builtin_function_or_method",
    "instance",
    "_Feature"
   ],
   "window_display": false
  }
 },
 "nbformat": 4,
 "nbformat_minor": 5
}
