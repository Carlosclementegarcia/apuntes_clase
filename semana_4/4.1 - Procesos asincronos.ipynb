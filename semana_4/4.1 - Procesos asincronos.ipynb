{
 "cells": [
  {
   "cell_type": "markdown",
   "metadata": {},
   "source": [
    "# 4.1 - Procesos asíncronos\n",
    "\n",
    "\n",
    "![async](images/async.png)\n",
    "\n",
    "\n",
    "\n",
    "\n",
    "**[Documentación](https://docs.python.org/3/library/asyncio.html)**\n",
    "\n",
    "\n",
    "**asyncio** es una biblioteca para escribir código [concurrente](https://es.wikipedia.org/wiki/Concurrencia_(inform%C3%A1tica)) utilizando la sintaxis async/await. Se utiliza como base en múltiples frameworks asíncronos de Python y provee un alto rendimiento en redes y servidores web, bibliotecas de conexión de base de datos, colas de tareas distribuidas, etc.\n",
    "\n",
    "Suele encajar perfectamente para operaciones con límite de E/S y código de red estructurado de alto nivel. Además provee un conjunto de APIs de alto nivel para:\n",
    "\n",
    "+ ejecutar corutinas de Python de manera concurrente y tener control total sobre su ejecución\n",
    "\n",
    "+ realizar redes E/S y comunicación entre procesos(IPC)\n",
    "\n",
    "+ controlar subprocesos\n",
    "\n",
    "+ distribuir tareas a través de colas\n",
    "\n",
    "+ sincronizar código concurrente\n",
    "\n",
    "Adicionalmente, existen APIs de bajo nivel para desarrolladores de bibliotecas y frameworks para:\n",
    "\n",
    "+ crear y administrar bucles de eventos, los cuales proveen APIs asíncronas para redes, ejecutando subprocesos, gestionando señales del sistema operativo, etc..\n",
    "\n",
    "+ implementar protocolos eficientes utilizando transportes\n",
    "\n",
    "+ bibliotecas puente basadas en retrollamadas y código con sintaxis async/wait\n",
    "\n",
    "$$$$\n",
    "\n",
    "Nosotros nos enfocaremos en el uso de bucles de eventos para la extracción de datos de la web.\n"
   ]
  },
  {
   "cell_type": "markdown",
   "metadata": {},
   "source": [
    "### Hola Mundo"
   ]
  },
  {
   "cell_type": "code",
   "execution_count": 1,
   "metadata": {},
   "outputs": [
    {
     "name": "stdout",
     "output_type": "stream",
     "text": [
      "Holaaaa..\n",
      "pero que te pashaaa\n"
     ]
    }
   ],
   "source": [
    "import asyncio\n",
    "\n",
    "\n",
    "# funcion asincrona\n",
    "async def saludar():\n",
    "    \n",
    "    print('Holaaaa..')\n",
    "    \n",
    "    await asyncio.sleep(3)\n",
    "    \n",
    "    print('pero que te pashaaa')\n",
    "    \n",
    "    \n",
    "await saludar()            # en jupyter\n",
    "#asyncio.run(saludar())    # en un .py"
   ]
  },
  {
   "cell_type": "markdown",
   "metadata": {},
   "source": [
    "### Ejemplo response\n",
    "\n",
    "Comprobando la respuesta de tres urls."
   ]
  },
  {
   "cell_type": "code",
   "execution_count": 2,
   "metadata": {},
   "outputs": [],
   "source": [
    "import requests as req"
   ]
  },
  {
   "cell_type": "code",
   "execution_count": 3,
   "metadata": {},
   "outputs": [
    {
     "data": {
      "text/plain": [
       "<Response [200]>"
      ]
     },
     "execution_count": 3,
     "metadata": {},
     "output_type": "execute_result"
    }
   ],
   "source": [
    "url='https://s3-eu-west-1.amazonaws.com/'\n",
    "\n",
    "req.get(url)"
   ]
  },
  {
   "cell_type": "code",
   "execution_count": 4,
   "metadata": {},
   "outputs": [],
   "source": [
    "urls=[\n",
    "    'https://s3-eu-west-1.amazonaws.com/ih-materials/uploads/data-static/documents/breakfast.jpg',\n",
    "    'https://s3-eu-west-1.amazonaws.com/ih-materials/uploads/data-static/documents/forbidden',\n",
    "    'https://s3-eu-west-1.amazonaws.com/ih-materials/uploads/data-static/documents/the-html5-breakfast-site.html'\n",
    "]"
   ]
  },
  {
   "cell_type": "code",
   "execution_count": 5,
   "metadata": {},
   "outputs": [
    {
     "name": "stdout",
     "output_type": "stream",
     "text": [
      "<Response [200]>\n",
      "<Response [403]>\n",
      "<Response [200]>\n"
     ]
    }
   ],
   "source": [
    "for e in urls:\n",
    "    print(req.get(e))"
   ]
  },
  {
   "cell_type": "code",
   "execution_count": 6,
   "metadata": {},
   "outputs": [
    {
     "data": {
      "text/plain": [
       "200"
      ]
     },
     "execution_count": 6,
     "metadata": {},
     "output_type": "execute_result"
    }
   ],
   "source": [
    "req.get(e).status_code"
   ]
  },
  {
   "cell_type": "code",
   "execution_count": 7,
   "metadata": {},
   "outputs": [
    {
     "name": "stdout",
     "output_type": "stream",
     "text": [
      "200\n",
      "403\n",
      "200\n"
     ]
    }
   ],
   "source": [
    "# de manera asincrona\n",
    "\n",
    "async def comprobar():\n",
    "    \n",
    "    bucle = asyncio.get_event_loop()   # bucle asincrono\n",
    "    \n",
    "    futuros=[]\n",
    "    \n",
    "    for e in urls:\n",
    "        \n",
    "        promesa=bucle.run_in_executor(None, req.get, e)\n",
    "        \n",
    "        futuros.append(promesa)\n",
    "        \n",
    "    for res in await asyncio.gather(*futuros): # aqui se los pido, dame los response\n",
    "        print(res.status_code)\n",
    "        \n",
    "        \n",
    "await comprobar()"
   ]
  },
  {
   "cell_type": "markdown",
   "metadata": {},
   "source": [
    "### Ejemplo ESPN\n",
    "\n",
    "Volvamos al ejemplo de scrapeo de la págine de ESPN. Vamos a realizar múltiples requests para obtener los datos de todos los equipos.\n",
    "\n",
    "\n",
    "https://www.espn.com/soccer/competitions"
   ]
  },
  {
   "cell_type": "code",
   "execution_count": 8,
   "metadata": {},
   "outputs": [],
   "source": [
    "from selenium import webdriver\n",
    "from selenium.webdriver.common.by import By\n",
    "\n",
    "import time\n",
    "\n",
    "import pandas as pd\n",
    "\n",
    "from webdriver_manager.chrome import ChromeDriverManager\n",
    "\n",
    "PATH=ChromeDriverManager().install()\n",
    "\n",
    "import warnings\n",
    "warnings.filterwarnings('ignore')"
   ]
  },
  {
   "cell_type": "code",
   "execution_count": 9,
   "metadata": {},
   "outputs": [],
   "source": [
    "url='https://www.espn.com/soccer/competitions'"
   ]
  },
  {
   "cell_type": "code",
   "execution_count": 10,
   "metadata": {},
   "outputs": [],
   "source": [
    "driver=webdriver.Chrome(PATH)\n",
    "\n",
    "driver.get(url)\n",
    "\n",
    "# cookies\n",
    "aceptar=driver.find_element(By.XPATH, '//*[@id=\"onetrust-accept-btn-handler\"]')\n",
    "aceptar.click()\n",
    "\n",
    "time.sleep(4)"
   ]
  },
  {
   "cell_type": "code",
   "execution_count": 11,
   "metadata": {},
   "outputs": [],
   "source": [
    "# selecciona equipos laliga\n",
    "equipos=driver.find_element(By.XPATH, '//*[@id=\"fittPageContainer\"]/div[3]/div/div[1]/div/div[2]/div[2]/div/div[4]/div/section/div/div/span[2]/a')\n",
    "equipos.click()\n",
    "\n",
    "time.sleep(2)"
   ]
  },
  {
   "cell_type": "code",
   "execution_count": 12,
   "metadata": {},
   "outputs": [
    {
     "data": {
      "text/plain": [
       "'http://www.espn.com/watch/'"
      ]
     },
     "execution_count": 12,
     "metadata": {},
     "output_type": "execute_result"
    }
   ],
   "source": [
    "stats = driver.find_elements(By.CSS_SELECTOR, 'a.AnchorLink')\n",
    "\n",
    "stats[12].get_attribute('href')"
   ]
  },
  {
   "cell_type": "code",
   "execution_count": 13,
   "metadata": {},
   "outputs": [
    {
     "data": {
      "text/plain": [
       "'0'"
      ]
     },
     "execution_count": 13,
     "metadata": {},
     "output_type": "execute_result"
    }
   ],
   "source": [
    "stats[12].get_attribute('tabindex')"
   ]
  },
  {
   "cell_type": "code",
   "execution_count": 14,
   "metadata": {},
   "outputs": [
    {
     "data": {
      "text/plain": [
       "['https://www.espn.com/soccer/team/stats/_/id/349/afc-bournemouth',\n",
       " 'https://www.espn.com/soccer/team/stats/_/id/13884/afc-fylde',\n",
       " 'https://www.espn.com/soccer/team/stats/_/id/3802/afc-wimbledon',\n",
       " 'https://www.espn.com/soccer/team/stats/_/id/2731/accrington-stanley',\n",
       " 'https://www.espn.com/soccer/team/stats/_/id/21711/alvechurch',\n",
       " 'https://www.espn.com/soccer/team/stats/_/id/359/arsenal',\n",
       " 'https://www.espn.com/soccer/team/stats/_/id/362/aston-villa',\n",
       " 'https://www.espn.com/soccer/team/stats/_/id/280/barnet',\n",
       " 'https://www.espn.com/soccer/team/stats/_/id/397/barnsley',\n",
       " 'https://www.espn.com/soccer/team/stats/_/id/642/barrow',\n",
       " 'https://www.espn.com/soccer/team/stats/_/id/392/birmingham-city',\n",
       " 'https://www.espn.com/soccer/team/stats/_/id/365/blackburn-rovers',\n",
       " 'https://www.espn.com/soccer/team/stats/_/id/346/blackpool',\n",
       " 'https://www.espn.com/soccer/team/stats/_/id/358/bolton-wanderers',\n",
       " 'https://www.espn.com/soccer/team/stats/_/id/2595/boreham-wood',\n",
       " 'https://www.espn.com/soccer/team/stats/_/id/21708/bracknell-town',\n",
       " 'https://www.espn.com/soccer/team/stats/_/id/387/bradford-city',\n",
       " 'https://www.espn.com/soccer/team/stats/_/id/337/brentford',\n",
       " 'https://www.espn.com/soccer/team/stats/_/id/331/brighton-hove-albion',\n",
       " 'https://www.espn.com/soccer/team/stats/_/id/333/bristol-city',\n",
       " 'https://www.espn.com/soccer/team/stats/_/id/308/bristol-rovers',\n",
       " 'https://www.espn.com/soccer/team/stats/_/id/379/burnley',\n",
       " 'https://www.espn.com/soccer/team/stats/_/id/2567/burton-albion',\n",
       " 'https://www.espn.com/soccer/team/stats/_/id/5767/buxton',\n",
       " 'https://www.espn.com/soccer/team/stats/_/id/351/cambridge-united',\n",
       " 'https://www.espn.com/soccer/team/stats/_/id/347/cardiff-city',\n",
       " 'https://www.espn.com/soccer/team/stats/_/id/322/carlisle-united',\n",
       " 'https://www.espn.com/soccer/team/stats/_/id/372/charlton-athletic',\n",
       " 'https://www.espn.com/soccer/team/stats/_/id/7155/chelmsford',\n",
       " 'https://www.espn.com/soccer/team/stats/_/id/363/chelsea',\n",
       " 'https://www.espn.com/soccer/team/stats/_/id/320/cheltenham-town',\n",
       " 'https://www.espn.com/soccer/team/stats/_/id/343/chesterfield',\n",
       " 'https://www.espn.com/soccer/team/stats/_/id/3921/chippenham-town',\n",
       " 'https://www.espn.com/soccer/team/stats/_/id/3809/coalville-town',\n",
       " 'https://www.espn.com/soccer/team/stats/_/id/339/colchester-united',\n",
       " 'https://www.espn.com/soccer/team/stats/_/id/388/coventry-city',\n",
       " 'https://www.espn.com/soccer/team/stats/_/id/2594/crawley-town',\n",
       " 'https://www.espn.com/soccer/team/stats/_/id/396/crewe-alexandra',\n",
       " 'https://www.espn.com/soccer/team/stats/_/id/384/crystal-palace',\n",
       " 'https://www.espn.com/soccer/team/stats/_/id/10182/curzon-ashton',\n",
       " 'https://www.espn.com/soccer/team/stats/_/id/275/dagenham-redbridge',\n",
       " 'https://www.espn.com/soccer/team/stats/_/id/374/derby-county',\n",
       " 'https://www.espn.com/soccer/team/stats/_/id/279/doncaster-rovers',\n",
       " 'https://www.espn.com/soccer/team/stats/_/id/3897/eastleigh',\n",
       " 'https://www.espn.com/soccer/team/stats/_/id/640/ebbsfleet-united',\n",
       " 'https://www.espn.com/soccer/team/stats/_/id/368/everton',\n",
       " 'https://www.espn.com/soccer/team/stats/_/id/324/exeter-city',\n",
       " 'https://www.espn.com/soccer/team/stats/_/id/312/fc-halifax-town',\n",
       " 'https://www.espn.com/soccer/team/stats/_/id/281/farnborough',\n",
       " 'https://www.espn.com/soccer/team/stats/_/id/3891/fleetwood-town',\n",
       " 'https://www.espn.com/soccer/team/stats/_/id/282/forest-green-rovers',\n",
       " 'https://www.espn.com/soccer/team/stats/_/id/370/fulham',\n",
       " 'https://www.espn.com/soccer/team/stats/_/id/3138/gateshead',\n",
       " 'https://www.espn.com/soccer/team/stats/_/id/389/gillingham',\n",
       " 'https://www.espn.com/soccer/team/stats/_/id/386/grimsby-town',\n",
       " 'https://www.espn.com/soccer/team/stats/_/id/19262/harrogate-town',\n",
       " 'https://www.espn.com/soccer/team/stats/_/id/323/hartlepool-united',\n",
       " 'https://www.espn.com/soccer/team/stats/_/id/18885/hereford-fc',\n",
       " 'https://www.espn.com/soccer/team/stats/_/id/335/huddersfield-town',\n",
       " 'https://www.espn.com/soccer/team/stats/_/id/306/hull-city',\n",
       " 'https://www.espn.com/soccer/team/stats/_/id/373/ipswich-town',\n",
       " 'https://www.espn.com/soccer/team/stats/_/id/20747/kings-lynn-town',\n",
       " 'https://www.espn.com/soccer/team/stats/_/id/357/leeds-united',\n",
       " 'https://www.espn.com/soccer/team/stats/_/id/375/leicester-city',\n",
       " 'https://www.espn.com/soccer/team/stats/_/id/309/leyton-orient',\n",
       " 'https://www.espn.com/soccer/team/stats/_/id/314/lincoln-city',\n",
       " 'https://www.espn.com/soccer/team/stats/_/id/364/liverpool',\n",
       " 'https://www.espn.com/soccer/team/stats/_/id/301/luton-town',\n",
       " 'https://www.espn.com/soccer/team/stats/_/id/7156/maidenhead-united',\n",
       " 'https://www.espn.com/soccer/team/stats/_/id/382/manchester-city',\n",
       " 'https://www.espn.com/soccer/team/stats/_/id/360/manchester-united',\n",
       " 'https://www.espn.com/soccer/team/stats/_/id/304/mansfield-town',\n",
       " 'https://www.espn.com/soccer/team/stats/_/id/21710/merthyr-town',\n",
       " 'https://www.espn.com/soccer/team/stats/_/id/369/middlesbrough',\n",
       " 'https://www.espn.com/soccer/team/stats/_/id/391/millwall',\n",
       " 'https://www.espn.com/soccer/team/stats/_/id/390/milton-keynes-dons',\n",
       " 'https://www.espn.com/soccer/team/stats/_/id/278/morecambe',\n",
       " 'https://www.espn.com/soccer/team/stats/_/id/21709/needham-market',\n",
       " 'https://www.espn.com/soccer/team/stats/_/id/361/newcastle-united',\n",
       " 'https://www.espn.com/soccer/team/stats/_/id/635/newport-county',\n",
       " 'https://www.espn.com/soccer/team/stats/_/id/353/northampton-town',\n",
       " 'https://www.espn.com/soccer/team/stats/_/id/381/norwich-city',\n",
       " 'https://www.espn.com/soccer/team/stats/_/id/393/nottingham-forest',\n",
       " 'https://www.espn.com/soccer/team/stats/_/id/332/oldham-athletic',\n",
       " 'https://www.espn.com/soccer/team/stats/_/id/4489/oxford-city',\n",
       " 'https://www.espn.com/soccer/team/stats/_/id/311/oxford-united',\n",
       " 'https://www.espn.com/soccer/team/stats/_/id/342/peterborough-united',\n",
       " 'https://www.espn.com/soccer/team/stats/_/id/307/plymouth-argyle',\n",
       " 'https://www.espn.com/soccer/team/stats/_/id/348/port-vale',\n",
       " 'https://www.espn.com/soccer/team/stats/_/id/385/portsmouth',\n",
       " 'https://www.espn.com/soccer/team/stats/_/id/394/preston-north-end',\n",
       " 'https://www.espn.com/soccer/team/stats/_/id/334/queens-park-rangers',\n",
       " 'https://www.espn.com/soccer/team/stats/_/id/338/reading',\n",
       " 'https://www.espn.com/soccer/team/stats/_/id/303/rochdale',\n",
       " 'https://www.espn.com/soccer/team/stats/_/id/402/rotherham-united',\n",
       " 'https://www.espn.com/soccer/team/stats/_/id/4703/salford-city',\n",
       " 'https://www.espn.com/soccer/team/stats/_/id/398/sheffield-united',\n",
       " 'https://www.espn.com/soccer/team/stats/_/id/399/sheffield-wednesday',\n",
       " 'https://www.espn.com/soccer/team/stats/_/id/302/shrewsbury-town',\n",
       " 'https://www.espn.com/soccer/team/stats/_/id/13061/solihull-moors',\n",
       " 'https://www.espn.com/soccer/team/stats/_/id/18312/south-shields',\n",
       " 'https://www.espn.com/soccer/team/stats/_/id/376/southampton',\n",
       " 'https://www.espn.com/soccer/team/stats/_/id/285/stevenage',\n",
       " 'https://www.espn.com/soccer/team/stats/_/id/400/stockport-county',\n",
       " 'https://www.espn.com/soccer/team/stats/_/id/336/stoke-city',\n",
       " 'https://www.espn.com/soccer/team/stats/_/id/366/sunderland',\n",
       " 'https://www.espn.com/soccer/team/stats/_/id/3231/sutton-united',\n",
       " 'https://www.espn.com/soccer/team/stats/_/id/318/swansea-city',\n",
       " 'https://www.espn.com/soccer/team/stats/_/id/341/swindon-town',\n",
       " 'https://www.espn.com/soccer/team/stats/_/id/4248/taunton-town',\n",
       " 'https://www.espn.com/soccer/team/stats/_/id/321/torquay-united',\n",
       " 'https://www.espn.com/soccer/team/stats/_/id/367/tottenham-hotspur',\n",
       " 'https://www.espn.com/soccer/team/stats/_/id/345/tranmere-rovers',\n",
       " 'https://www.espn.com/soccer/team/stats/_/id/401/walsall',\n",
       " 'https://www.espn.com/soccer/team/stats/_/id/395/watford',\n",
       " 'https://www.espn.com/soccer/team/stats/_/id/383/west-bromwich-albion',\n",
       " 'https://www.espn.com/soccer/team/stats/_/id/371/west-ham-united',\n",
       " 'https://www.espn.com/soccer/team/stats/_/id/3226/weymouth',\n",
       " 'https://www.espn.com/soccer/team/stats/_/id/350/wigan-athletic',\n",
       " 'https://www.espn.com/soccer/team/stats/_/id/290/woking',\n",
       " 'https://www.espn.com/soccer/team/stats/_/id/380/wolverhampton-wanderers',\n",
       " 'https://www.espn.com/soccer/team/stats/_/id/352/wrexham',\n",
       " 'https://www.espn.com/soccer/team/stats/_/id/344/wycombe-wanderers',\n",
       " 'https://www.espn.com/soccer/team/stats/_/id/315/york-city']"
      ]
     },
     "execution_count": 14,
     "metadata": {},
     "output_type": "execute_result"
    }
   ],
   "source": [
    "team_stats = []\n",
    "\n",
    "for e in stats:\n",
    "    \n",
    "    try:\n",
    "        link = e.get_attribute('href')\n",
    "\n",
    "        if 'soccer/team/stats' in link:\n",
    "            team_stats.append(link)\n",
    "        else:\n",
    "            continue\n",
    "    except:\n",
    "        continue\n",
    "        \n",
    "driver.quit()\n",
    "\n",
    "team_stats"
   ]
  },
  {
   "cell_type": "code",
   "execution_count": 15,
   "metadata": {},
   "outputs": [
    {
     "data": {
      "text/plain": [
       "124"
      ]
     },
     "execution_count": 15,
     "metadata": {},
     "output_type": "execute_result"
    }
   ],
   "source": [
    "len(team_stats)"
   ]
  },
  {
   "cell_type": "markdown",
   "metadata": {},
   "source": [
    "**Extracción asincrónica**"
   ]
  },
  {
   "cell_type": "code",
   "execution_count": 16,
   "metadata": {},
   "outputs": [
    {
     "name": "stdout",
     "output_type": "stream",
     "text": [
      "Help on method run_in_executor in module asyncio.base_events:\n",
      "\n",
      "run_in_executor(executor, func, *args) method of asyncio.unix_events._UnixSelectorEventLoop instance\n",
      "\n"
     ]
    }
   ],
   "source": [
    "help(asyncio.get_event_loop().run_in_executor)"
   ]
  },
  {
   "cell_type": "code",
   "execution_count": 17,
   "metadata": {},
   "outputs": [],
   "source": [
    "def asincrono(funcion):\n",
    "    \n",
    "    def eventos(*args, **kwargs):\n",
    "        return asyncio.get_event_loop().run_in_executor(None, funcion, *args, **kwargs)\n",
    "    \n",
    "    return eventos"
   ]
  },
  {
   "cell_type": "code",
   "execution_count": 18,
   "metadata": {},
   "outputs": [],
   "source": [
    "DATOS=[]\n",
    "\n",
    "CABECERAS=[]"
   ]
  },
  {
   "cell_type": "code",
   "execution_count": 19,
   "metadata": {},
   "outputs": [],
   "source": [
    "@asincrono\n",
    "def extraer(url):\n",
    "    \n",
    "    global DATOS, CABECERAS\n",
    "    \n",
    "    # inicia el driver\n",
    "    driver=webdriver.Chrome(PATH)\n",
    "    driver.get(url)\n",
    "\n",
    "    time.sleep(2)\n",
    "\n",
    "    # acepta cookies\n",
    "    try:\n",
    "        aceptar=driver.find_element(By.XPATH, '//*[@id=\"onetrust-accept-btn-handler\"]')\n",
    "        aceptar.click()\n",
    "\n",
    "        time.sleep(2)\n",
    "    except:\n",
    "        time.sleep(1)\n",
    "\n",
    "\n",
    "\n",
    "    # disciplina\n",
    "    dis=driver.find_element(By.XPATH,'//*[@id=\"fittPageContainer\"]/div[2]/div[5]/div/div[1]/section/div/div[2]/nav/ul/li[2]/a')\n",
    "    dis.click()\n",
    "\n",
    "    time.sleep(2)\n",
    "\n",
    "    tabla=driver.find_element(By.TAG_NAME,'tbody')\n",
    "\n",
    "    filas=tabla.find_elements(By.TAG_NAME, 'tr')\n",
    "\n",
    "    data=[]\n",
    "\n",
    "    for f in filas:\n",
    "\n",
    "        elementos=f.find_elements(By.TAG_NAME, 'td') \n",
    "\n",
    "        tmp=[]\n",
    "\n",
    "        for e in elementos:\n",
    "\n",
    "            tmp.append(e.text)\n",
    "\n",
    "        tmp.append(url.split('/')[-1])  # añade el nombre del equipo\n",
    "        data.append(tmp)\n",
    "\n",
    "\n",
    "    cabeceras=driver.find_element(By.TAG_NAME, 'thead')\n",
    "\n",
    "    cabeceras=[c.text for c in cabeceras.find_elements(By.TAG_NAME, 'th')]+['TEAM']\n",
    "\n",
    "\n",
    "    DATOS+=data\n",
    "\n",
    "    CABECERAS=cabeceras\n"
   ]
  },
  {
   "cell_type": "code",
   "execution_count": 25,
   "metadata": {},
   "outputs": [
    {
     "data": {
      "text/plain": [
       "<Future pending cb=[_chain_future.<locals>._call_check_cancel() at /opt/homebrew/Caskroom/miniconda/base/envs/clase/lib/python3.9/asyncio/futures.py:384]>"
      ]
     },
     "metadata": {},
     "output_type": "display_data"
    },
    {
     "data": {
      "text/plain": [
       "<Future pending cb=[_chain_future.<locals>._call_check_cancel() at /opt/homebrew/Caskroom/miniconda/base/envs/clase/lib/python3.9/asyncio/futures.py:384]>"
      ]
     },
     "metadata": {},
     "output_type": "display_data"
    },
    {
     "data": {
      "text/plain": [
       "<Future pending cb=[_chain_future.<locals>._call_check_cancel() at /opt/homebrew/Caskroom/miniconda/base/envs/clase/lib/python3.9/asyncio/futures.py:384]>"
      ]
     },
     "metadata": {},
     "output_type": "display_data"
    },
    {
     "data": {
      "text/plain": [
       "<Future pending cb=[_chain_future.<locals>._call_check_cancel() at /opt/homebrew/Caskroom/miniconda/base/envs/clase/lib/python3.9/asyncio/futures.py:384]>"
      ]
     },
     "metadata": {},
     "output_type": "display_data"
    },
    {
     "data": {
      "text/plain": [
       "<Future pending cb=[_chain_future.<locals>._call_check_cancel() at /opt/homebrew/Caskroom/miniconda/base/envs/clase/lib/python3.9/asyncio/futures.py:384]>"
      ]
     },
     "metadata": {},
     "output_type": "display_data"
    },
    {
     "data": {
      "text/plain": [
       "<Future pending cb=[_chain_future.<locals>._call_check_cancel() at /opt/homebrew/Caskroom/miniconda/base/envs/clase/lib/python3.9/asyncio/futures.py:384]>"
      ]
     },
     "metadata": {},
     "output_type": "display_data"
    },
    {
     "data": {
      "text/plain": [
       "<Future pending cb=[_chain_future.<locals>._call_check_cancel() at /opt/homebrew/Caskroom/miniconda/base/envs/clase/lib/python3.9/asyncio/futures.py:384]>"
      ]
     },
     "metadata": {},
     "output_type": "display_data"
    },
    {
     "data": {
      "text/plain": [
       "<Future pending cb=[_chain_future.<locals>._call_check_cancel() at /opt/homebrew/Caskroom/miniconda/base/envs/clase/lib/python3.9/asyncio/futures.py:384]>"
      ]
     },
     "metadata": {},
     "output_type": "display_data"
    },
    {
     "data": {
      "text/plain": [
       "<Future pending cb=[_chain_future.<locals>._call_check_cancel() at /opt/homebrew/Caskroom/miniconda/base/envs/clase/lib/python3.9/asyncio/futures.py:384]>"
      ]
     },
     "metadata": {},
     "output_type": "display_data"
    },
    {
     "data": {
      "text/plain": [
       "<Future pending cb=[_chain_future.<locals>._call_check_cancel() at /opt/homebrew/Caskroom/miniconda/base/envs/clase/lib/python3.9/asyncio/futures.py:384]>"
      ]
     },
     "metadata": {},
     "output_type": "display_data"
    },
    {
     "name": "stdout",
     "output_type": "stream",
     "text": [
      "CPU times: user 22.8 ms, sys: 61.3 ms, total: 84.2 ms\n",
      "Wall time: 83.4 ms\n"
     ]
    },
    {
     "name": "stderr",
     "output_type": "stream",
     "text": [
      "Future exception was never retrieved\n",
      "future: <Future finished exception=NoSuchElementException()>\n",
      "Traceback (most recent call last):\n",
      "  File \"/opt/homebrew/Caskroom/miniconda/base/envs/clase/lib/python3.9/concurrent/futures/thread.py\", line 58, in run\n",
      "    result = self.fn(*self.args, **self.kwargs)\n",
      "  File \"/var/folders/95/ms6dwls51ls1jq0t456d3r200000gn/T/ipykernel_34554/889091157.py\", line 29, in extraer\n",
      "    tabla=driver.find_element(By.TAG_NAME,'tbody')\n",
      "  File \"/opt/homebrew/Caskroom/miniconda/base/envs/clase/lib/python3.9/site-packages/selenium/webdriver/remote/webdriver.py\", line 830, in find_element\n",
      "    return self.execute(Command.FIND_ELEMENT, {\"using\": by, \"value\": value})[\"value\"]\n",
      "  File \"/opt/homebrew/Caskroom/miniconda/base/envs/clase/lib/python3.9/site-packages/selenium/webdriver/remote/webdriver.py\", line 440, in execute\n",
      "    self.error_handler.check_response(response)\n",
      "  File \"/opt/homebrew/Caskroom/miniconda/base/envs/clase/lib/python3.9/site-packages/selenium/webdriver/remote/errorhandler.py\", line 245, in check_response\n",
      "    raise exception_class(message, screen, stacktrace)\n",
      "selenium.common.exceptions.NoSuchElementException: Message: no such element: Unable to locate element: {\"method\":\"tag name\",\"selector\":\"tbody\"}\n",
      "  (Session info: chrome=112.0.5615.137)\n",
      "Stacktrace:\n",
      "0   chromedriver                        0x00000001007b5670 chromedriver + 4298352\n",
      "1   chromedriver                        0x00000001007adbbc chromedriver + 4266940\n",
      "2   chromedriver                        0x00000001003e0758 chromedriver + 280408\n",
      "3   chromedriver                        0x000000010041bb38 chromedriver + 523064\n",
      "4   chromedriver                        0x0000000100454080 chromedriver + 753792\n",
      "5   chromedriver                        0x000000010040e2d0 chromedriver + 467664\n",
      "6   chromedriver                        0x000000010040f354 chromedriver + 471892\n",
      "7   chromedriver                        0x00000001007756c4 chromedriver + 4036292\n",
      "8   chromedriver                        0x0000000100779c64 chromedriver + 4054116\n",
      "9   chromedriver                        0x00000001007802d8 chromedriver + 4080344\n",
      "10  chromedriver                        0x000000010077a970 chromedriver + 4057456\n",
      "11  chromedriver                        0x00000001007518dc chromedriver + 3889372\n",
      "12  chromedriver                        0x000000010079925c chromedriver + 4182620\n",
      "13  chromedriver                        0x00000001007993b4 chromedriver + 4182964\n",
      "14  chromedriver                        0x00000001007a80f4 chromedriver + 4243700\n",
      "15  libsystem_pthread.dylib             0x0000000196e5bfa8 _pthread_start + 148\n",
      "16  libsystem_pthread.dylib             0x0000000196e56da0 thread_start + 8\n",
      "\n"
     ]
    }
   ],
   "source": [
    "%%time\n",
    "\n",
    "for url in team_stats[:10]:\n",
    "    \n",
    "    res=extraer(url)\n",
    "    display(res)"
   ]
  },
  {
   "cell_type": "code",
   "execution_count": 26,
   "metadata": {},
   "outputs": [
    {
     "data": {
      "text/plain": [
       "(288, 7)"
      ]
     },
     "execution_count": 26,
     "metadata": {},
     "output_type": "execute_result"
    }
   ],
   "source": [
    "df=pd.DataFrame(DATOS, columns=CABECERAS)\n",
    "\n",
    "df.shape"
   ]
  },
  {
   "cell_type": "code",
   "execution_count": 27,
   "metadata": {},
   "outputs": [
    {
     "data": {
      "text/html": [
       "<div>\n",
       "<style scoped>\n",
       "    .dataframe tbody tr th:only-of-type {\n",
       "        vertical-align: middle;\n",
       "    }\n",
       "\n",
       "    .dataframe tbody tr th {\n",
       "        vertical-align: top;\n",
       "    }\n",
       "\n",
       "    .dataframe thead th {\n",
       "        text-align: right;\n",
       "    }\n",
       "</style>\n",
       "<table border=\"1\" class=\"dataframe\">\n",
       "  <thead>\n",
       "    <tr style=\"text-align: right;\">\n",
       "      <th></th>\n",
       "      <th>RK</th>\n",
       "      <th>NAME</th>\n",
       "      <th>P</th>\n",
       "      <th>YC</th>\n",
       "      <th>RC</th>\n",
       "      <th>PTS</th>\n",
       "      <th>TEAM</th>\n",
       "    </tr>\n",
       "  </thead>\n",
       "  <tbody>\n",
       "    <tr>\n",
       "      <th>0</th>\n",
       "      <td>1</td>\n",
       "      <td>Danny Waldron</td>\n",
       "      <td>2</td>\n",
       "      <td>1</td>\n",
       "      <td>0</td>\n",
       "      <td>1</td>\n",
       "      <td>alvechurch</td>\n",
       "    </tr>\n",
       "    <tr>\n",
       "      <th>1</th>\n",
       "      <td></td>\n",
       "      <td>Jediael Abbey</td>\n",
       "      <td>2</td>\n",
       "      <td>1</td>\n",
       "      <td>0</td>\n",
       "      <td>1</td>\n",
       "      <td>alvechurch</td>\n",
       "    </tr>\n",
       "    <tr>\n",
       "      <th>2</th>\n",
       "      <td></td>\n",
       "      <td>Jamie Willets</td>\n",
       "      <td>2</td>\n",
       "      <td>1</td>\n",
       "      <td>0</td>\n",
       "      <td>1</td>\n",
       "      <td>alvechurch</td>\n",
       "    </tr>\n",
       "    <tr>\n",
       "      <th>3</th>\n",
       "      <td>4</td>\n",
       "      <td>Tyrell Hamilton</td>\n",
       "      <td>2</td>\n",
       "      <td>0</td>\n",
       "      <td>0</td>\n",
       "      <td>0</td>\n",
       "      <td>alvechurch</td>\n",
       "    </tr>\n",
       "    <tr>\n",
       "      <th>4</th>\n",
       "      <td></td>\n",
       "      <td>Leo Brown</td>\n",
       "      <td>1</td>\n",
       "      <td>0</td>\n",
       "      <td>0</td>\n",
       "      <td>0</td>\n",
       "      <td>alvechurch</td>\n",
       "    </tr>\n",
       "  </tbody>\n",
       "</table>\n",
       "</div>"
      ],
      "text/plain": [
       "  RK             NAME  P YC RC PTS        TEAM\n",
       "0  1    Danny Waldron  2  1  0   1  alvechurch\n",
       "1       Jediael Abbey  2  1  0   1  alvechurch\n",
       "2       Jamie Willets  2  1  0   1  alvechurch\n",
       "3  4  Tyrell Hamilton  2  0  0   0  alvechurch\n",
       "4           Leo Brown  1  0  0   0  alvechurch"
      ]
     },
     "execution_count": 27,
     "metadata": {},
     "output_type": "execute_result"
    }
   ],
   "source": [
    "df.head()"
   ]
  },
  {
   "cell_type": "code",
   "execution_count": 28,
   "metadata": {},
   "outputs": [
    {
     "data": {
      "text/plain": [
       "array(['alvechurch', 'afc-wimbledon', 'afc-bournemouth',\n",
       "       'accrington-stanley', 'arsenal', 'aston-villa', 'barrow',\n",
       "       'barnsley', 'barnet'], dtype=object)"
      ]
     },
     "execution_count": 28,
     "metadata": {},
     "output_type": "execute_result"
    }
   ],
   "source": [
    "df.TEAM.unique()"
   ]
  },
  {
   "cell_type": "code",
   "execution_count": null,
   "metadata": {},
   "outputs": [],
   "source": []
  },
  {
   "cell_type": "code",
   "execution_count": null,
   "metadata": {},
   "outputs": [],
   "source": []
  }
 ],
 "metadata": {
  "kernelspec": {
   "display_name": "clase",
   "language": "python",
   "name": "clase"
  },
  "language_info": {
   "codemirror_mode": {
    "name": "ipython",
    "version": 3
   },
   "file_extension": ".py",
   "mimetype": "text/x-python",
   "name": "python",
   "nbconvert_exporter": "python",
   "pygments_lexer": "ipython3",
   "version": "3.9.12"
  },
  "varInspector": {
   "cols": {
    "lenName": 16,
    "lenType": 16,
    "lenVar": 40
   },
   "kernels_config": {
    "python": {
     "delete_cmd_postfix": "",
     "delete_cmd_prefix": "del ",
     "library": "var_list.py",
     "varRefreshCmd": "print(var_dic_list())"
    },
    "r": {
     "delete_cmd_postfix": ") ",
     "delete_cmd_prefix": "rm(",
     "library": "var_list.r",
     "varRefreshCmd": "cat(var_dic_list()) "
    }
   },
   "types_to_exclude": [
    "module",
    "function",
    "builtin_function_or_method",
    "instance",
    "_Feature"
   ],
   "window_display": false
  }
 },
 "nbformat": 4,
 "nbformat_minor": 4
}
