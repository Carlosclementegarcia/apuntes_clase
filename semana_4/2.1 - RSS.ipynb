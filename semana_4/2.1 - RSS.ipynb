{
 "cells": [
  {
   "cell_type": "markdown",
   "metadata": {},
   "source": [
    "# 2.1 - RSS\n",
    "\n",
    "$$$$\n",
    "\n",
    "![rss](images/rss.png)\n",
    "\n"
   ]
  },
  {
   "cell_type": "markdown",
   "metadata": {},
   "source": [
    "RSS son las siglas de **Really Simple Syndication**, un formato XML para distribuir contenido en la web. Se utiliza para difundir información actualizada frecuentemente a usuarios que se han suscrito a la fuente de contenidos. El formato permite distribuir contenidos sin necesidad de un navegador, utilizando programas llamados agregadores de noticias, diseñados para leer contenidos RSS. A pesar de eso, es posible utilizar el mismo navegador para ver los contenidos RSS. Las últimas versiones de los principales navegadores permiten leer los RSS sin necesidad de programas adicionales. RSS es parte de la familia de los formatos XML, desarrollado específicamente para todo tipo de sitios que se actualicen con frecuencia y por medio del cual se puede compartir la información y usarla en otros sitios web o programas. A esto se le conoce como redifusión web o sindicación web .\n",
    "\n",
    "\n",
    "En el archivo RSS simplemente están los datos de las novedades del sitio, como el título, fecha de publicación o la descripción. El programa que lea el RSS será encargado de darle estilo o apariencia a los datos que se incluyan en el archivo y presentarlos de una manera atractiva al usuario y de fácil lectura.\n",
    "\n",
    "Que RSS sea un formato basado en XML significa que el archivo RSS se compone por una serie de etiquetas definidas que tendrán un formato dado, y que respetará las reglas generales de XML. Este archivo normalmente es nombrado index.xml y se encuentra ubicado en la página principal.\n",
    "\n",
    "Vale aclarar que RSS no es un protocolo, dado que no contempla parámetros de ningún tipo. No es posible definir mediante una consulta un criterio de búsqueda. \n"
   ]
  },
  {
   "cell_type": "markdown",
   "metadata": {},
   "source": [
    "## Trabajando con RSS\n",
    "\n",
    "Normalmente, el feed del RSS corresponde a un archivo con la extensión .rss. Tenemos una herramienta perfecta para manejar ese tipo de feed."
   ]
  },
  {
   "cell_type": "code",
   "execution_count": null,
   "metadata": {},
   "outputs": [],
   "source": [
    "%pip install feedparser"
   ]
  },
  {
   "cell_type": "code",
   "execution_count": 1,
   "metadata": {},
   "outputs": [],
   "source": [
    "import feedparser"
   ]
  },
  {
   "cell_type": "markdown",
   "metadata": {},
   "source": [
    "### Reddit RSS\n",
    "\n",
    "Para extraer el contenido, tan solo pasamos la url del RSS al feedparser."
   ]
  },
  {
   "cell_type": "code",
   "execution_count": 2,
   "metadata": {},
   "outputs": [],
   "source": [
    "reddit = feedparser.parse('https://www.reddit.com/r/news/.rss')"
   ]
  },
  {
   "cell_type": "code",
   "execution_count": 4,
   "metadata": {},
   "outputs": [
    {
     "data": {
      "text/plain": [
       "feedparser.util.FeedParserDict"
      ]
     },
     "execution_count": 4,
     "metadata": {},
     "output_type": "execute_result"
    }
   ],
   "source": [
    "type(reddit)"
   ]
  },
  {
   "cell_type": "code",
   "execution_count": 6,
   "metadata": {},
   "outputs": [
    {
     "data": {
      "text/plain": [
       "dict_keys(['bozo', 'entries', 'feed', 'headers', 'href', 'status', 'encoding', 'version', 'namespaces'])"
      ]
     },
     "execution_count": 6,
     "metadata": {},
     "output_type": "execute_result"
    }
   ],
   "source": [
    "reddit.keys()"
   ]
  },
  {
   "cell_type": "code",
   "execution_count": 8,
   "metadata": {},
   "outputs": [
    {
     "data": {
      "text/plain": [
       "dict_keys(['tags', 'updated', 'updated_parsed', 'icon', 'id', 'guidislink', 'link', 'links', 'logo', 'subtitle', 'subtitle_detail', 'title', 'title_detail'])"
      ]
     },
     "execution_count": 8,
     "metadata": {},
     "output_type": "execute_result"
    }
   ],
   "source": [
    "reddit['feed'].keys()"
   ]
  },
  {
   "cell_type": "code",
   "execution_count": 11,
   "metadata": {},
   "outputs": [
    {
     "data": {
      "text/plain": [
       "dict_keys(['authors', 'author_detail', 'href', 'author', 'tags', 'content', 'summary', 'id', 'guidislink', 'link', 'links', 'updated', 'updated_parsed', 'published', 'published_parsed', 'title', 'title_detail'])"
      ]
     },
     "execution_count": 11,
     "metadata": {},
     "output_type": "execute_result"
    }
   ],
   "source": [
    "reddit['entries'][0].keys()"
   ]
  },
  {
   "cell_type": "code",
   "execution_count": 12,
   "metadata": {},
   "outputs": [
    {
     "data": {
      "text/plain": [
       "[{'type': 'text/html',\n",
       "  'language': None,\n",
       "  'base': 'https://www.reddit.com/r/news/.rss',\n",
       "  'value': '&#32; submitted by &#32; <a href=\"https://www.reddit.com/user/Artbytimsmith\"> /u/Artbytimsmith </a> <br /> <span><a href=\"https://www.nbcmiami.com/news/local/central-florida-principal-resigns-after-sending-100k-to-scammer-posing-as-elon-musk/3005471/\">[link]</a></span> &#32; <span><a href=\"https://www.reddit.com/r/news/comments/1355cds/florida_principal_resigns_after_sending_100k_to/\">[comments]</a></span>'}]"
      ]
     },
     "execution_count": 12,
     "metadata": {},
     "output_type": "execute_result"
    }
   ],
   "source": [
    "reddit['entries'][0]['content']"
   ]
  },
  {
   "cell_type": "markdown",
   "metadata": {},
   "source": [
    "### [Nasa](https://www.nasa.gov/content/nasa-rss-feeds) RSS"
   ]
  },
  {
   "cell_type": "code",
   "execution_count": 13,
   "metadata": {},
   "outputs": [],
   "source": [
    "nasa = feedparser.parse('https://www.nasa.gov/rss/dyn/mission_pages/kepler/news/kepler-newsandfeatures-RSS.rss')"
   ]
  },
  {
   "cell_type": "code",
   "execution_count": 14,
   "metadata": {},
   "outputs": [
    {
     "data": {
      "text/plain": [
       "dict_keys(['bozo', 'entries', 'feed', 'headers', 'href', 'status', 'encoding', 'version', 'namespaces'])"
      ]
     },
     "execution_count": 14,
     "metadata": {},
     "output_type": "execute_result"
    }
   ],
   "source": [
    "nasa.keys()"
   ]
  },
  {
   "cell_type": "code",
   "execution_count": 15,
   "metadata": {},
   "outputs": [
    {
     "data": {
      "text/plain": [
       "{'title': \"New Deep Learning Method Adds 301 Planets to Kepler's Total Count\",\n",
       " 'title_detail': {'type': 'text/plain',\n",
       "  'language': 'en',\n",
       "  'base': 'http://www.nasa.gov/',\n",
       "  'value': \"New Deep Learning Method Adds 301 Planets to Kepler's Total Count\"},\n",
       " 'links': [{'rel': 'alternate',\n",
       "   'type': 'text/html',\n",
       "   'href': 'http://www.nasa.gov/feature/ames/new-deep-learning-method-adds-301-planets-to-keplers-total-count'},\n",
       "  {'length': '7380534',\n",
       "   'type': 'image/gif',\n",
       "   'href': 'http://www.nasa.gov/sites/default/files/styles/1x1_cardfeed/public/thumbnails/image/exoplanet_banner_1.gif?itok=L3rCP01p',\n",
       "   'rel': 'enclosure'}],\n",
       " 'link': 'http://www.nasa.gov/feature/ames/new-deep-learning-method-adds-301-planets-to-keplers-total-count',\n",
       " 'summary': 'Scientists recently added a whopping 301 newly confirmed exoplanets to the total exoplanet tally.',\n",
       " 'summary_detail': {'type': 'text/html',\n",
       "  'language': 'en',\n",
       "  'base': 'http://www.nasa.gov/',\n",
       "  'value': 'Scientists recently added a whopping 301 newly confirmed exoplanets to the total exoplanet tally.'},\n",
       " 'id': 'http://www.nasa.gov/feature/ames/new-deep-learning-method-adds-301-planets-to-keplers-total-count',\n",
       " 'guidislink': False,\n",
       " 'published': 'Mon, 22 Nov 2021 20:36 EST',\n",
       " 'published_parsed': time.struct_time(tm_year=2021, tm_mon=11, tm_mday=23, tm_hour=1, tm_min=36, tm_sec=0, tm_wday=1, tm_yday=327, tm_isdst=0),\n",
       " 'source': {'href': 'http://www.nasa.gov/rss/dyn/mission_pages/kepler/news/kepler-newsandfeatures-RSS.rss',\n",
       "  'title': 'Kepler News and Features'}}"
      ]
     },
     "execution_count": 15,
     "metadata": {},
     "output_type": "execute_result"
    }
   ],
   "source": [
    "nasa['entries'][0]"
   ]
  },
  {
   "cell_type": "code",
   "execution_count": 19,
   "metadata": {},
   "outputs": [
    {
     "data": {
      "text/html": [
       "<img src=\"http://www.nasa.gov/sites/default/files/styles/1x1_cardfeed/public/thumbnails/image/exoplanet_banner_1.gif?itok=L3rCP01p\"/>"
      ],
      "text/plain": [
       "<IPython.core.display.Image object>"
      ]
     },
     "metadata": {},
     "output_type": "display_data"
    }
   ],
   "source": [
    "url = nasa['entries'][0]['links'][-1]['href']\n",
    "\n",
    "from IPython.display import Image\n",
    "\n",
    "display(Image(url=url))"
   ]
  },
  {
   "cell_type": "markdown",
   "metadata": {},
   "source": [
    "### [ForexLive](https://www.forexlive.com/rss) RSS"
   ]
  },
  {
   "cell_type": "code",
   "execution_count": 20,
   "metadata": {},
   "outputs": [],
   "source": [
    "crypto=feedparser.parse('https://www.forexlive.com/feed/cryptocurrency')"
   ]
  },
  {
   "cell_type": "code",
   "execution_count": 21,
   "metadata": {},
   "outputs": [
    {
     "data": {
      "text/plain": [
       "dict_keys(['bozo', 'entries', 'feed', 'headers', 'etag', 'href', 'status', 'encoding', 'version', 'namespaces'])"
      ]
     },
     "execution_count": 21,
     "metadata": {},
     "output_type": "execute_result"
    }
   ],
   "source": [
    "crypto.keys()"
   ]
  },
  {
   "cell_type": "code",
   "execution_count": 22,
   "metadata": {
    "scrolled": false
   },
   "outputs": [
    {
     "data": {
      "text/plain": [
       "{'title': \"It's feast-or-famine in the bitcoin market\",\n",
       " 'title_detail': {'type': 'text/plain',\n",
       "  'language': None,\n",
       "  'base': 'https://www.forexlive.com/feed/cryptocurrency',\n",
       "  'value': \"It's feast-or-famine in the bitcoin market\"},\n",
       " 'comments': 'https://www.forexlive.com/Cryptocurrency/its-feast-or-famine-in-the-bitcoin-market-20230428/#respond',\n",
       " 'published': 'Fri, 28 Apr 2023 13:47:49 GMT',\n",
       " 'published_parsed': time.struct_time(tm_year=2023, tm_mon=4, tm_mday=28, tm_hour=13, tm_min=47, tm_sec=49, tm_wday=4, tm_yday=118, tm_isdst=0),\n",
       " 'authors': [{'name': 'Adam Button'}, {'name': 'www.forexlive.com'}],\n",
       " 'author': 'www.forexlive.com',\n",
       " 'author_detail': {'name': 'Adam Button'},\n",
       " 'tags': [{'term': 'Cryptocurrency', 'scheme': None, 'label': None}],\n",
       " 'id': 'https://www.forexlive.com/Cryptocurrency/its-feast-or-famine-in-the-bitcoin-market-20230428/',\n",
       " 'guidislink': True,\n",
       " 'link': 'https://www.forexlive.com/Cryptocurrency/its-feast-or-famine-in-the-bitcoin-market-20230428/',\n",
       " 'links': [{'rel': 'alternate',\n",
       "   'type': 'text/html',\n",
       "   'href': 'https://www.forexlive.com/Cryptocurrency/its-feast-or-famine-in-the-bitcoin-market-20230428/'},\n",
       "  {'rel': 'canonical',\n",
       "   'type': 'text/html',\n",
       "   'href': 'https://www.forexlive.com/Cryptocurrency/its-feast-or-famine-in-the-bitcoin-market-20230428/'}],\n",
       " 'summary': \"<p>Bitcoin this week is an extremely sloppy market with big ups and downs seemingly for no reason.</p><p>A fresh move is underway with BTC falling $300 in moments. The hourly chart shows the huge moves earlier this week in both directions.</p><p>Ultimately, no market participant likes extreme volatility especially when it's not tied to news. </p><p>Technically, the latest high failed to break Wednesday's high and that's also bearish. Still, it's a market that demands caution.</p>\\n\\n                This article was written by Adam Button at www.forexlive.com.\",\n",
       " 'summary_detail': {'type': 'text/html',\n",
       "  'language': None,\n",
       "  'base': 'https://www.forexlive.com/feed/cryptocurrency',\n",
       "  'value': \"<p>Bitcoin this week is an extremely sloppy market with big ups and downs seemingly for no reason.</p><p>A fresh move is underway with BTC falling $300 in moments. The hourly chart shows the huge moves earlier this week in both directions.</p><p>Ultimately, no market participant likes extreme volatility especially when it's not tied to news. </p><p>Technically, the latest high failed to break Wednesday's high and that's also bearish. Still, it's a market that demands caution.</p>\\n\\n                This article was written by Adam Button at www.forexlive.com.\"}}"
      ]
     },
     "execution_count": 22,
     "metadata": {},
     "output_type": "execute_result"
    }
   ],
   "source": [
    "crypto['entries'][0]"
   ]
  },
  {
   "cell_type": "markdown",
   "metadata": {},
   "source": [
    "### [Unam](http://www.ssn.unam.mx) RSS\n",
    "\n",
    "A veces el RSS viene directamente en formato .xml\n",
    "\n",
    "Veremos como tratarlo."
   ]
  },
  {
   "cell_type": "code",
   "execution_count": null,
   "metadata": {},
   "outputs": [],
   "source": [
    "%pip install xmltodict"
   ]
  },
  {
   "cell_type": "code",
   "execution_count": 23,
   "metadata": {},
   "outputs": [],
   "source": [
    "import requests as req\n",
    "import xmltodict"
   ]
  },
  {
   "cell_type": "code",
   "execution_count": 24,
   "metadata": {},
   "outputs": [],
   "source": [
    "url='http://www.ssn.unam.mx/rss/ultimos-sismos.xml'"
   ]
  },
  {
   "cell_type": "code",
   "execution_count": 28,
   "metadata": {},
   "outputs": [
    {
     "data": {
      "text/plain": [
       "dict_keys(['rss'])"
      ]
     },
     "execution_count": 28,
     "metadata": {},
     "output_type": "execute_result"
    }
   ],
   "source": [
    "data = req.get(url).text\n",
    "\n",
    "unam = xmltodict.parse(data)\n",
    "\n",
    "unam.keys()"
   ]
  },
  {
   "cell_type": "code",
   "execution_count": 29,
   "metadata": {},
   "outputs": [
    {
     "data": {
      "text/plain": [
       "dict_keys(['@version', '@xmlns:geo', 'channel'])"
      ]
     },
     "execution_count": 29,
     "metadata": {},
     "output_type": "execute_result"
    }
   ],
   "source": [
    "unam['rss'].keys()"
   ]
  },
  {
   "cell_type": "code",
   "execution_count": 32,
   "metadata": {},
   "outputs": [
    {
     "data": {
      "text/plain": [
       "{'title': '4.0, 5 km al NORTE de  S PEDRO POCHUTLA, OAX',\n",
       " 'description': '<p>Fecha:2023-05-01 21:13:22 (Hora de M&eacute;xico)<br/>Lat/Lon: 15.79/-96.47<br/>Profundidad: 23.4 km </p>',\n",
       " 'link': 'http://www2.ssn.unam.mx:8080/jsp/localizacion-de-sismo.jsp?latitud=15.79&longitud=-96.47&prf=23.4 km&ma=4.0&fecha=2023-05-01&hora=21:13:22&loc=5 km al NORTE de  S PEDRO POCHUTLA, OAX &evento=1',\n",
       " 'geo:lat': '15.79',\n",
       " 'geo:long': '-96.47'}"
      ]
     },
     "execution_count": 32,
     "metadata": {},
     "output_type": "execute_result"
    }
   ],
   "source": [
    "unam['rss']['channel']['item'][0]"
   ]
  },
  {
   "cell_type": "code",
   "execution_count": 33,
   "metadata": {},
   "outputs": [
    {
     "data": {
      "text/plain": [
       "15"
      ]
     },
     "execution_count": 33,
     "metadata": {},
     "output_type": "execute_result"
    }
   ],
   "source": [
    "len(unam['rss']['channel']['item'])"
   ]
  },
  {
   "cell_type": "markdown",
   "metadata": {},
   "source": [
    "También podemos pasar los datos a un dataframe:"
   ]
  },
  {
   "cell_type": "code",
   "execution_count": 34,
   "metadata": {},
   "outputs": [],
   "source": [
    "import pandas as pd"
   ]
  },
  {
   "cell_type": "code",
   "execution_count": 36,
   "metadata": {},
   "outputs": [
    {
     "data": {
      "text/html": [
       "<div>\n",
       "<style scoped>\n",
       "    .dataframe tbody tr th:only-of-type {\n",
       "        vertical-align: middle;\n",
       "    }\n",
       "\n",
       "    .dataframe tbody tr th {\n",
       "        vertical-align: top;\n",
       "    }\n",
       "\n",
       "    .dataframe thead th {\n",
       "        text-align: right;\n",
       "    }\n",
       "</style>\n",
       "<table border=\"1\" class=\"dataframe\">\n",
       "  <thead>\n",
       "    <tr style=\"text-align: right;\">\n",
       "      <th></th>\n",
       "      <th>title</th>\n",
       "      <th>description</th>\n",
       "      <th>link</th>\n",
       "      <th>geo:lat</th>\n",
       "      <th>geo:long</th>\n",
       "    </tr>\n",
       "  </thead>\n",
       "  <tbody>\n",
       "    <tr>\n",
       "      <th>0</th>\n",
       "      <td>4.0, 5 km al NORTE de  S PEDRO POCHUTLA, OAX</td>\n",
       "      <td>&lt;p&gt;Fecha:2023-05-01 21:13:22 (Hora de M&amp;eacute...</td>\n",
       "      <td>http://www2.ssn.unam.mx:8080/jsp/localizacion-...</td>\n",
       "      <td>15.79</td>\n",
       "      <td>-96.47</td>\n",
       "    </tr>\n",
       "    <tr>\n",
       "      <th>1</th>\n",
       "      <td>4.0, 65 km al SUROESTE de  HUETAMO, MICH</td>\n",
       "      <td>&lt;p&gt;Fecha:2023-05-01 19:29:46 (Hora de M&amp;eacute...</td>\n",
       "      <td>http://www2.ssn.unam.mx:8080/jsp/localizacion-...</td>\n",
       "      <td>18.44</td>\n",
       "      <td>-101.48</td>\n",
       "    </tr>\n",
       "    <tr>\n",
       "      <th>2</th>\n",
       "      <td>3.0, 17 km al NOROESTE de  COQUIMATLAN, COL</td>\n",
       "      <td>&lt;p&gt;Fecha:2023-05-01 16:50:31 (Hora de M&amp;eacute...</td>\n",
       "      <td>http://www2.ssn.unam.mx:8080/jsp/localizacion-...</td>\n",
       "      <td>19.34</td>\n",
       "      <td>-103.88</td>\n",
       "    </tr>\n",
       "    <tr>\n",
       "      <th>3</th>\n",
       "      <td>3.6, 15 km al SURESTE de  CRUCECITA, OAX</td>\n",
       "      <td>&lt;p&gt;Fecha:2023-05-01 15:52:28 (Hora de M&amp;eacute...</td>\n",
       "      <td>http://www2.ssn.unam.mx:8080/jsp/localizacion-...</td>\n",
       "      <td>15.65</td>\n",
       "      <td>-96.07</td>\n",
       "    </tr>\n",
       "    <tr>\n",
       "      <th>4</th>\n",
       "      <td>3.5, 51 km al NOROESTE de  OMETEPEC, GRO</td>\n",
       "      <td>&lt;p&gt;Fecha:2023-05-01 15:40:52 (Hora de M&amp;eacute...</td>\n",
       "      <td>http://www2.ssn.unam.mx:8080/jsp/localizacion-...</td>\n",
       "      <td>16.87</td>\n",
       "      <td>-98.84</td>\n",
       "    </tr>\n",
       "    <tr>\n",
       "      <th>5</th>\n",
       "      <td>3.7, 75 km al SUROESTE de  COALCOMAN, MICH</td>\n",
       "      <td>&lt;p&gt;Fecha:2023-05-01 14:15:47 (Hora de M&amp;eacute...</td>\n",
       "      <td>http://www2.ssn.unam.mx:8080/jsp/localizacion-...</td>\n",
       "      <td>18.16</td>\n",
       "      <td>-103.45</td>\n",
       "    </tr>\n",
       "    <tr>\n",
       "      <th>6</th>\n",
       "      <td>3.8, 183 km al SUROESTE de  PIJIJIAPAN, CHIS</td>\n",
       "      <td>&lt;p&gt;Fecha:2023-05-01 12:23:49 (Hora de M&amp;eacute...</td>\n",
       "      <td>http://www2.ssn.unam.mx:8080/jsp/localizacion-...</td>\n",
       "      <td>14.45</td>\n",
       "      <td>-94.34</td>\n",
       "    </tr>\n",
       "    <tr>\n",
       "      <th>7</th>\n",
       "      <td>3.6, 33 km al NOROESTE de  COQUIMATLAN, COL</td>\n",
       "      <td>&lt;p&gt;Fecha:2023-05-01 12:05:01 (Hora de M&amp;eacute...</td>\n",
       "      <td>http://www2.ssn.unam.mx:8080/jsp/localizacion-...</td>\n",
       "      <td>19.38</td>\n",
       "      <td>-104.07</td>\n",
       "    </tr>\n",
       "    <tr>\n",
       "      <th>8</th>\n",
       "      <td>3.9, 32 km al SURESTE de  PUERTO ESCONDIDO, OAX</td>\n",
       "      <td>&lt;p&gt;Fecha:2023-05-01 11:03:41 (Hora de M&amp;eacute...</td>\n",
       "      <td>http://www2.ssn.unam.mx:8080/jsp/localizacion-...</td>\n",
       "      <td>15.65</td>\n",
       "      <td>-96.86</td>\n",
       "    </tr>\n",
       "    <tr>\n",
       "      <th>9</th>\n",
       "      <td>3.8, 15 km al SUR de  CRUCECITA, OAX</td>\n",
       "      <td>&lt;p&gt;Fecha:2023-05-01 10:58:04 (Hora de M&amp;eacute...</td>\n",
       "      <td>http://www2.ssn.unam.mx:8080/jsp/localizacion-...</td>\n",
       "      <td>15.64</td>\n",
       "      <td>-96.11</td>\n",
       "    </tr>\n",
       "    <tr>\n",
       "      <th>10</th>\n",
       "      <td>3.9, 47 km al SUR de  SAYULA DE ALEMAN, VER</td>\n",
       "      <td>&lt;p&gt;Fecha:2023-05-01 10:32:06 (Hora de M&amp;eacute...</td>\n",
       "      <td>http://www2.ssn.unam.mx:8080/jsp/localizacion-...</td>\n",
       "      <td>17.46</td>\n",
       "      <td>-94.93</td>\n",
       "    </tr>\n",
       "    <tr>\n",
       "      <th>11</th>\n",
       "      <td>3.7, 71 km al SUR de  TUXTEPEC, OAX</td>\n",
       "      <td>&lt;p&gt;Fecha:2023-05-01 10:14:15 (Hora de M&amp;eacute...</td>\n",
       "      <td>http://www2.ssn.unam.mx:8080/jsp/localizacion-...</td>\n",
       "      <td>17.45</td>\n",
       "      <td>-96.0</td>\n",
       "    </tr>\n",
       "    <tr>\n",
       "      <th>12</th>\n",
       "      <td>3.4, 13 km al NOROESTE de  COQUIMATLAN, COL</td>\n",
       "      <td>&lt;p&gt;Fecha:2023-05-01 10:07:22 (Hora de M&amp;eacute...</td>\n",
       "      <td>http://www2.ssn.unam.mx:8080/jsp/localizacion-...</td>\n",
       "      <td>19.24</td>\n",
       "      <td>-103.93</td>\n",
       "    </tr>\n",
       "    <tr>\n",
       "      <th>13</th>\n",
       "      <td>3.3, 41 km al SURESTE de  PINOTEPA NACIONAL, OAX</td>\n",
       "      <td>&lt;p&gt;Fecha:2023-05-01 09:57:38 (Hora de M&amp;eacute...</td>\n",
       "      <td>http://www2.ssn.unam.mx:8080/jsp/localizacion-...</td>\n",
       "      <td>16.01</td>\n",
       "      <td>-97.89</td>\n",
       "    </tr>\n",
       "    <tr>\n",
       "      <th>14</th>\n",
       "      <td>3.3, 20 km al SUROESTE de  COALCOMAN, MICH</td>\n",
       "      <td>&lt;p&gt;Fecha:2023-05-01 08:59:49 (Hora de M&amp;eacute...</td>\n",
       "      <td>http://www2.ssn.unam.mx:8080/jsp/localizacion-...</td>\n",
       "      <td>18.61</td>\n",
       "      <td>-103.23</td>\n",
       "    </tr>\n",
       "  </tbody>\n",
       "</table>\n",
       "</div>"
      ],
      "text/plain": [
       "                                               title  \\\n",
       "0       4.0, 5 km al NORTE de  S PEDRO POCHUTLA, OAX   \n",
       "1           4.0, 65 km al SUROESTE de  HUETAMO, MICH   \n",
       "2        3.0, 17 km al NOROESTE de  COQUIMATLAN, COL   \n",
       "3           3.6, 15 km al SURESTE de  CRUCECITA, OAX   \n",
       "4           3.5, 51 km al NOROESTE de  OMETEPEC, GRO   \n",
       "5         3.7, 75 km al SUROESTE de  COALCOMAN, MICH   \n",
       "6       3.8, 183 km al SUROESTE de  PIJIJIAPAN, CHIS   \n",
       "7        3.6, 33 km al NOROESTE de  COQUIMATLAN, COL   \n",
       "8    3.9, 32 km al SURESTE de  PUERTO ESCONDIDO, OAX   \n",
       "9               3.8, 15 km al SUR de  CRUCECITA, OAX   \n",
       "10       3.9, 47 km al SUR de  SAYULA DE ALEMAN, VER   \n",
       "11               3.7, 71 km al SUR de  TUXTEPEC, OAX   \n",
       "12       3.4, 13 km al NOROESTE de  COQUIMATLAN, COL   \n",
       "13  3.3, 41 km al SURESTE de  PINOTEPA NACIONAL, OAX   \n",
       "14        3.3, 20 km al SUROESTE de  COALCOMAN, MICH   \n",
       "\n",
       "                                          description  \\\n",
       "0   <p>Fecha:2023-05-01 21:13:22 (Hora de M&eacute...   \n",
       "1   <p>Fecha:2023-05-01 19:29:46 (Hora de M&eacute...   \n",
       "2   <p>Fecha:2023-05-01 16:50:31 (Hora de M&eacute...   \n",
       "3   <p>Fecha:2023-05-01 15:52:28 (Hora de M&eacute...   \n",
       "4   <p>Fecha:2023-05-01 15:40:52 (Hora de M&eacute...   \n",
       "5   <p>Fecha:2023-05-01 14:15:47 (Hora de M&eacute...   \n",
       "6   <p>Fecha:2023-05-01 12:23:49 (Hora de M&eacute...   \n",
       "7   <p>Fecha:2023-05-01 12:05:01 (Hora de M&eacute...   \n",
       "8   <p>Fecha:2023-05-01 11:03:41 (Hora de M&eacute...   \n",
       "9   <p>Fecha:2023-05-01 10:58:04 (Hora de M&eacute...   \n",
       "10  <p>Fecha:2023-05-01 10:32:06 (Hora de M&eacute...   \n",
       "11  <p>Fecha:2023-05-01 10:14:15 (Hora de M&eacute...   \n",
       "12  <p>Fecha:2023-05-01 10:07:22 (Hora de M&eacute...   \n",
       "13  <p>Fecha:2023-05-01 09:57:38 (Hora de M&eacute...   \n",
       "14  <p>Fecha:2023-05-01 08:59:49 (Hora de M&eacute...   \n",
       "\n",
       "                                                 link geo:lat geo:long  \n",
       "0   http://www2.ssn.unam.mx:8080/jsp/localizacion-...   15.79   -96.47  \n",
       "1   http://www2.ssn.unam.mx:8080/jsp/localizacion-...   18.44  -101.48  \n",
       "2   http://www2.ssn.unam.mx:8080/jsp/localizacion-...   19.34  -103.88  \n",
       "3   http://www2.ssn.unam.mx:8080/jsp/localizacion-...   15.65   -96.07  \n",
       "4   http://www2.ssn.unam.mx:8080/jsp/localizacion-...   16.87   -98.84  \n",
       "5   http://www2.ssn.unam.mx:8080/jsp/localizacion-...   18.16  -103.45  \n",
       "6   http://www2.ssn.unam.mx:8080/jsp/localizacion-...   14.45   -94.34  \n",
       "7   http://www2.ssn.unam.mx:8080/jsp/localizacion-...   19.38  -104.07  \n",
       "8   http://www2.ssn.unam.mx:8080/jsp/localizacion-...   15.65   -96.86  \n",
       "9   http://www2.ssn.unam.mx:8080/jsp/localizacion-...   15.64   -96.11  \n",
       "10  http://www2.ssn.unam.mx:8080/jsp/localizacion-...   17.46   -94.93  \n",
       "11  http://www2.ssn.unam.mx:8080/jsp/localizacion-...   17.45    -96.0  \n",
       "12  http://www2.ssn.unam.mx:8080/jsp/localizacion-...   19.24  -103.93  \n",
       "13  http://www2.ssn.unam.mx:8080/jsp/localizacion-...   16.01   -97.89  \n",
       "14  http://www2.ssn.unam.mx:8080/jsp/localizacion-...   18.61  -103.23  "
      ]
     },
     "execution_count": 36,
     "metadata": {},
     "output_type": "execute_result"
    }
   ],
   "source": [
    "pd.DataFrame(unam['rss']['channel']['item'])"
   ]
  },
  {
   "cell_type": "markdown",
   "metadata": {},
   "source": [
    "Como vemos, los datos no están organizados como nos gustaría. Procedemos a un ejemplo de transformación de los datos.\n",
    "\n"
   ]
  },
  {
   "cell_type": "markdown",
   "metadata": {},
   "source": [
    "**Ejemplo Extraer-Transformar de manera funcional:**"
   ]
  },
  {
   "cell_type": "code",
   "execution_count": 37,
   "metadata": {},
   "outputs": [],
   "source": [
    "# funcion para extraer el dictio del xml\n",
    "\n",
    "\n",
    "def get_xml():\n",
    "    \n",
    "    url='http://www.ssn.unam.mx/rss/ultimos-sismos.xml'\n",
    "    \n",
    "    data=req.get(url).text\n",
    "\n",
    "    unam=xmltodict.parse(data)\n",
    "    \n",
    "    return unam"
   ]
  },
  {
   "cell_type": "code",
   "execution_count": 39,
   "metadata": {},
   "outputs": [
    {
     "data": {
      "text/plain": [
       "dict_keys(['rss'])"
      ]
     },
     "execution_count": 39,
     "metadata": {},
     "output_type": "execute_result"
    }
   ],
   "source": [
    "get_xml().keys()"
   ]
  },
  {
   "cell_type": "code",
   "execution_count": 45,
   "metadata": {},
   "outputs": [],
   "source": [
    "def get_clean_data():\n",
    "\n",
    "    dictio = get_xml()\n",
    "\n",
    "    res=[]\n",
    "\n",
    "    for item in dictio['rss']['channel']['item']:\n",
    "\n",
    "        link = item['link']\n",
    "\n",
    "        # link roto por el simbolo ? y por &\n",
    "        raw_data = link.split('?')[1].split('&')[:-1]\n",
    "\n",
    "        # queda una lista de listas con k,v\n",
    "        raw_data = [e.split('=') for e in raw_data]\n",
    "\n",
    "        data = {k:v for k,v in raw_data}\n",
    "\n",
    "        res.append(data)\n",
    "\n",
    "    return res"
   ]
  },
  {
   "cell_type": "code",
   "execution_count": 46,
   "metadata": {},
   "outputs": [],
   "source": [
    "sismo = pd.DataFrame(get_clean_data())"
   ]
  },
  {
   "cell_type": "code",
   "execution_count": 47,
   "metadata": {},
   "outputs": [
    {
     "data": {
      "text/html": [
       "<div>\n",
       "<style scoped>\n",
       "    .dataframe tbody tr th:only-of-type {\n",
       "        vertical-align: middle;\n",
       "    }\n",
       "\n",
       "    .dataframe tbody tr th {\n",
       "        vertical-align: top;\n",
       "    }\n",
       "\n",
       "    .dataframe thead th {\n",
       "        text-align: right;\n",
       "    }\n",
       "</style>\n",
       "<table border=\"1\" class=\"dataframe\">\n",
       "  <thead>\n",
       "    <tr style=\"text-align: right;\">\n",
       "      <th></th>\n",
       "      <th>latitud</th>\n",
       "      <th>longitud</th>\n",
       "      <th>prf</th>\n",
       "      <th>ma</th>\n",
       "      <th>fecha</th>\n",
       "      <th>hora</th>\n",
       "      <th>loc</th>\n",
       "    </tr>\n",
       "  </thead>\n",
       "  <tbody>\n",
       "    <tr>\n",
       "      <th>0</th>\n",
       "      <td>15.79</td>\n",
       "      <td>-96.47</td>\n",
       "      <td>23.4 km</td>\n",
       "      <td>4.0</td>\n",
       "      <td>2023-05-01</td>\n",
       "      <td>21:13:22</td>\n",
       "      <td>5 km al NORTE de  S PEDRO POCHUTLA, OAX</td>\n",
       "    </tr>\n",
       "    <tr>\n",
       "      <th>1</th>\n",
       "      <td>18.44</td>\n",
       "      <td>-101.48</td>\n",
       "      <td>49.2 km</td>\n",
       "      <td>4.0</td>\n",
       "      <td>2023-05-01</td>\n",
       "      <td>19:29:46</td>\n",
       "      <td>65 km al SUROESTE de  HUETAMO, MICH</td>\n",
       "    </tr>\n",
       "    <tr>\n",
       "      <th>2</th>\n",
       "      <td>19.34</td>\n",
       "      <td>-103.88</td>\n",
       "      <td>43.3 km</td>\n",
       "      <td>3.0</td>\n",
       "      <td>2023-05-01</td>\n",
       "      <td>16:50:31</td>\n",
       "      <td>17 km al NOROESTE de  COQUIMATLAN, COL</td>\n",
       "    </tr>\n",
       "    <tr>\n",
       "      <th>3</th>\n",
       "      <td>15.65</td>\n",
       "      <td>-96.07</td>\n",
       "      <td>5.0 km</td>\n",
       "      <td>3.6</td>\n",
       "      <td>2023-05-01</td>\n",
       "      <td>15:52:28</td>\n",
       "      <td>15 km al SURESTE de  CRUCECITA, OAX</td>\n",
       "    </tr>\n",
       "    <tr>\n",
       "      <th>4</th>\n",
       "      <td>16.87</td>\n",
       "      <td>-98.84</td>\n",
       "      <td>10.3 km</td>\n",
       "      <td>3.5</td>\n",
       "      <td>2023-05-01</td>\n",
       "      <td>15:40:52</td>\n",
       "      <td>51 km al NOROESTE de  OMETEPEC, GRO</td>\n",
       "    </tr>\n",
       "    <tr>\n",
       "      <th>5</th>\n",
       "      <td>18.16</td>\n",
       "      <td>-103.45</td>\n",
       "      <td>14.1 km</td>\n",
       "      <td>3.7</td>\n",
       "      <td>2023-05-01</td>\n",
       "      <td>14:15:47</td>\n",
       "      <td>75 km al SUROESTE de  COALCOMAN, MICH</td>\n",
       "    </tr>\n",
       "    <tr>\n",
       "      <th>6</th>\n",
       "      <td>14.45</td>\n",
       "      <td>-94.34</td>\n",
       "      <td>15.0 km</td>\n",
       "      <td>3.8</td>\n",
       "      <td>2023-05-01</td>\n",
       "      <td>12:23:49</td>\n",
       "      <td>183 km al SUROESTE de  PIJIJIAPAN, CHIS</td>\n",
       "    </tr>\n",
       "    <tr>\n",
       "      <th>7</th>\n",
       "      <td>19.38</td>\n",
       "      <td>-104.07</td>\n",
       "      <td>5.0 km</td>\n",
       "      <td>3.6</td>\n",
       "      <td>2023-05-01</td>\n",
       "      <td>12:05:01</td>\n",
       "      <td>33 km al NOROESTE de  COQUIMATLAN, COL</td>\n",
       "    </tr>\n",
       "    <tr>\n",
       "      <th>8</th>\n",
       "      <td>15.65</td>\n",
       "      <td>-96.86</td>\n",
       "      <td>4.3 km</td>\n",
       "      <td>3.9</td>\n",
       "      <td>2023-05-01</td>\n",
       "      <td>11:03:41</td>\n",
       "      <td>32 km al SURESTE de  PUERTO ESCONDIDO, OAX</td>\n",
       "    </tr>\n",
       "    <tr>\n",
       "      <th>9</th>\n",
       "      <td>15.64</td>\n",
       "      <td>-96.11</td>\n",
       "      <td>8.5 km</td>\n",
       "      <td>3.8</td>\n",
       "      <td>2023-05-01</td>\n",
       "      <td>10:58:04</td>\n",
       "      <td>15 km al SUR de  CRUCECITA, OAX</td>\n",
       "    </tr>\n",
       "    <tr>\n",
       "      <th>10</th>\n",
       "      <td>17.46</td>\n",
       "      <td>-94.93</td>\n",
       "      <td>137.6 km</td>\n",
       "      <td>3.9</td>\n",
       "      <td>2023-05-01</td>\n",
       "      <td>10:32:06</td>\n",
       "      <td>47 km al SUR de  SAYULA DE ALEMAN, VER</td>\n",
       "    </tr>\n",
       "    <tr>\n",
       "      <th>11</th>\n",
       "      <td>17.45</td>\n",
       "      <td>-96.0</td>\n",
       "      <td>92.9 km</td>\n",
       "      <td>3.7</td>\n",
       "      <td>2023-05-01</td>\n",
       "      <td>10:14:15</td>\n",
       "      <td>71 km al SUR de  TUXTEPEC, OAX</td>\n",
       "    </tr>\n",
       "    <tr>\n",
       "      <th>12</th>\n",
       "      <td>19.24</td>\n",
       "      <td>-103.93</td>\n",
       "      <td>79.8 km</td>\n",
       "      <td>3.4</td>\n",
       "      <td>2023-05-01</td>\n",
       "      <td>10:07:22</td>\n",
       "      <td>13 km al NOROESTE de  COQUIMATLAN, COL</td>\n",
       "    </tr>\n",
       "    <tr>\n",
       "      <th>13</th>\n",
       "      <td>16.01</td>\n",
       "      <td>-97.89</td>\n",
       "      <td>16.0 km</td>\n",
       "      <td>3.3</td>\n",
       "      <td>2023-05-01</td>\n",
       "      <td>09:57:38</td>\n",
       "      <td>41 km al SURESTE de  PINOTEPA NACIONAL, OAX</td>\n",
       "    </tr>\n",
       "    <tr>\n",
       "      <th>14</th>\n",
       "      <td>18.61</td>\n",
       "      <td>-103.23</td>\n",
       "      <td>7.1 km</td>\n",
       "      <td>3.3</td>\n",
       "      <td>2023-05-01</td>\n",
       "      <td>08:59:49</td>\n",
       "      <td>20 km al SUROESTE de  COALCOMAN, MICH</td>\n",
       "    </tr>\n",
       "  </tbody>\n",
       "</table>\n",
       "</div>"
      ],
      "text/plain": [
       "   latitud longitud       prf   ma       fecha      hora  \\\n",
       "0    15.79   -96.47   23.4 km  4.0  2023-05-01  21:13:22   \n",
       "1    18.44  -101.48   49.2 km  4.0  2023-05-01  19:29:46   \n",
       "2    19.34  -103.88   43.3 km  3.0  2023-05-01  16:50:31   \n",
       "3    15.65   -96.07    5.0 km  3.6  2023-05-01  15:52:28   \n",
       "4    16.87   -98.84   10.3 km  3.5  2023-05-01  15:40:52   \n",
       "5    18.16  -103.45   14.1 km  3.7  2023-05-01  14:15:47   \n",
       "6    14.45   -94.34   15.0 km  3.8  2023-05-01  12:23:49   \n",
       "7    19.38  -104.07    5.0 km  3.6  2023-05-01  12:05:01   \n",
       "8    15.65   -96.86    4.3 km  3.9  2023-05-01  11:03:41   \n",
       "9    15.64   -96.11    8.5 km  3.8  2023-05-01  10:58:04   \n",
       "10   17.46   -94.93  137.6 km  3.9  2023-05-01  10:32:06   \n",
       "11   17.45    -96.0   92.9 km  3.7  2023-05-01  10:14:15   \n",
       "12   19.24  -103.93   79.8 km  3.4  2023-05-01  10:07:22   \n",
       "13   16.01   -97.89   16.0 km  3.3  2023-05-01  09:57:38   \n",
       "14   18.61  -103.23    7.1 km  3.3  2023-05-01  08:59:49   \n",
       "\n",
       "                                             loc  \n",
       "0       5 km al NORTE de  S PEDRO POCHUTLA, OAX   \n",
       "1           65 km al SUROESTE de  HUETAMO, MICH   \n",
       "2        17 km al NOROESTE de  COQUIMATLAN, COL   \n",
       "3           15 km al SURESTE de  CRUCECITA, OAX   \n",
       "4           51 km al NOROESTE de  OMETEPEC, GRO   \n",
       "5         75 km al SUROESTE de  COALCOMAN, MICH   \n",
       "6       183 km al SUROESTE de  PIJIJIAPAN, CHIS   \n",
       "7        33 km al NOROESTE de  COQUIMATLAN, COL   \n",
       "8    32 km al SURESTE de  PUERTO ESCONDIDO, OAX   \n",
       "9               15 km al SUR de  CRUCECITA, OAX   \n",
       "10       47 km al SUR de  SAYULA DE ALEMAN, VER   \n",
       "11               71 km al SUR de  TUXTEPEC, OAX   \n",
       "12       13 km al NOROESTE de  COQUIMATLAN, COL   \n",
       "13  41 km al SURESTE de  PINOTEPA NACIONAL, OAX   \n",
       "14        20 km al SUROESTE de  COALCOMAN, MICH   "
      ]
     },
     "execution_count": 47,
     "metadata": {},
     "output_type": "execute_result"
    }
   ],
   "source": [
    "sismo"
   ]
  },
  {
   "cell_type": "code",
   "execution_count": 49,
   "metadata": {},
   "outputs": [
    {
     "name": "stdout",
     "output_type": "stream",
     "text": [
      "<class 'pandas.core.frame.DataFrame'>\n",
      "RangeIndex: 15 entries, 0 to 14\n",
      "Data columns (total 7 columns):\n",
      " #   Column    Non-Null Count  Dtype \n",
      "---  ------    --------------  ----- \n",
      " 0   latitud   15 non-null     object\n",
      " 1   longitud  15 non-null     object\n",
      " 2   prf       15 non-null     object\n",
      " 3   ma        15 non-null     object\n",
      " 4   fecha     15 non-null     object\n",
      " 5   hora      15 non-null     object\n",
      " 6   loc       15 non-null     object\n",
      "dtypes: object(7)\n",
      "memory usage: 968.0+ bytes\n"
     ]
    }
   ],
   "source": [
    "sismo.info()"
   ]
  },
  {
   "cell_type": "code",
   "execution_count": null,
   "metadata": {},
   "outputs": [],
   "source": []
  }
 ],
 "metadata": {
  "kernelspec": {
   "display_name": "clase",
   "language": "python",
   "name": "clase"
  },
  "language_info": {
   "codemirror_mode": {
    "name": "ipython",
    "version": 3
   },
   "file_extension": ".py",
   "mimetype": "text/x-python",
   "name": "python",
   "nbconvert_exporter": "python",
   "pygments_lexer": "ipython3",
   "version": "3.9.12"
  }
 },
 "nbformat": 4,
 "nbformat_minor": 4
}
